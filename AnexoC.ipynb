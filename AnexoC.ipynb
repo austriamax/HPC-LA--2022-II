{
 "cells": [
  {
   "cell_type": "markdown",
   "id": "3d54146e",
   "metadata": {},
   "source": [
    "# Anexo C: Construcción de sistemas de ecuaciones lineales implementados en Julia"
   ]
  },
  {
   "cell_type": "markdown",
   "id": "6c88655a",
   "metadata": {},
   "source": [
    "## Paquetes"
   ]
  },
  {
   "cell_type": "code",
   "execution_count": 1,
   "id": "43ed5be7",
   "metadata": {},
   "outputs": [],
   "source": [
    "using LinearAlgebra"
   ]
  },
  {
   "cell_type": "markdown",
   "id": "92d33146",
   "metadata": {},
   "source": [
    "## Métodos"
   ]
  },
  {
   "cell_type": "markdown",
   "id": "6274495f",
   "metadata": {},
   "source": [
    "Implementación del método de Jacobi."
   ]
  },
  {
   "cell_type": "code",
   "execution_count": 2,
   "id": "9542ca75",
   "metadata": {},
   "outputs": [],
   "source": [
    "function SistEQ(tam::Int64, x::Array{Float64,1})\n",
    "    \n",
    "    #tam:= tamanio del sistema de EQ\n",
    "    #x:= solucion del sistema\n",
    "    \n",
    "    #Matriz de coeficientes (A)\n",
    "    A::Array{Float64,2} = diagm(1 => -ones(tam-1),\n",
    "                                0 => 3*ones(tam),\n",
    "                               -1 => -ones(tam-1))\n",
    "    \n",
    "    for i in 1:tam\n",
    "        if A[i,tam-i+1] == 0.0 \n",
    "            A[i,tam-i+1] = 0.5\n",
    "        end\n",
    "    end\n",
    "    \n",
    "    #Vector de constantes (b)\n",
    "    b::Array{Float64,1} = A*x\n",
    "    \n",
    "    return A,b\n",
    "end;"
   ]
  },
  {
   "cell_type": "markdown",
   "id": "d543fd6d",
   "metadata": {},
   "source": [
    "## Ejemplo: "
   ]
  },
  {
   "cell_type": "markdown",
   "id": "77d697d3",
   "metadata": {},
   "source": [
    "#### Tamaño de la entrada (tam)"
   ]
  },
  {
   "cell_type": "code",
   "execution_count": 3,
   "id": "e286fea0",
   "metadata": {},
   "outputs": [],
   "source": [
    "tam = 5;"
   ]
  },
  {
   "cell_type": "markdown",
   "id": "7440d05c",
   "metadata": {},
   "source": [
    "#### Matriz de coeficientes (A)"
   ]
  },
  {
   "cell_type": "code",
   "execution_count": 4,
   "id": "681af054",
   "metadata": {},
   "outputs": [
    {
     "data": {
      "text/plain": [
       "5×5 Array{Float64,2}:\n",
       "  3.0  -1.0   0.0   0.0   0.5\n",
       " -1.0   3.0  -1.0   0.5   0.0\n",
       "  0.0  -1.0   3.0  -1.0   0.0\n",
       "  0.0   0.5  -1.0   3.0  -1.0\n",
       "  0.5   0.0   0.0  -1.0   3.0"
      ]
     },
     "execution_count": 4,
     "metadata": {},
     "output_type": "execute_result"
    }
   ],
   "source": [
    "A,b = SistEQ(tam,ones(tam))\n",
    "A"
   ]
  },
  {
   "cell_type": "markdown",
   "id": "c398797f",
   "metadata": {},
   "source": [
    "#### Vector de constantes (b)"
   ]
  },
  {
   "cell_type": "code",
   "execution_count": 5,
   "id": "137f5ce3",
   "metadata": {},
   "outputs": [
    {
     "data": {
      "text/plain": [
       "5-element Array{Float64,1}:\n",
       " 2.5\n",
       " 1.5\n",
       " 1.0\n",
       " 1.5\n",
       " 2.5"
      ]
     },
     "execution_count": 5,
     "metadata": {},
     "output_type": "execute_result"
    }
   ],
   "source": [
    "b"
   ]
  },
  {
   "cell_type": "markdown",
   "id": "a8c035f8",
   "metadata": {},
   "source": [
    "#### Tamaño de la entrada (tam)"
   ]
  },
  {
   "cell_type": "code",
   "execution_count": 6,
   "id": "4d003869",
   "metadata": {},
   "outputs": [],
   "source": [
    "tam = 6;"
   ]
  },
  {
   "cell_type": "markdown",
   "id": "3f5a3fe6",
   "metadata": {},
   "source": [
    "#### Matriz de coeficientes (A)"
   ]
  },
  {
   "cell_type": "code",
   "execution_count": 7,
   "id": "346bd10d",
   "metadata": {},
   "outputs": [
    {
     "data": {
      "text/plain": [
       "6×6 Array{Float64,2}:\n",
       "  3.0  -1.0   0.0   0.0   0.0   0.5\n",
       " -1.0   3.0  -1.0   0.0   0.5   0.0\n",
       "  0.0  -1.0   3.0  -1.0   0.0   0.0\n",
       "  0.0   0.0  -1.0   3.0  -1.0   0.0\n",
       "  0.0   0.5   0.0  -1.0   3.0  -1.0\n",
       "  0.5   0.0   0.0   0.0  -1.0   3.0"
      ]
     },
     "execution_count": 7,
     "metadata": {},
     "output_type": "execute_result"
    }
   ],
   "source": [
    "A,b = SistEQ(tam,ones(tam))\n",
    "A"
   ]
  },
  {
   "cell_type": "markdown",
   "id": "b6f0b970",
   "metadata": {},
   "source": [
    "#### Vector de constantes (b)"
   ]
  },
  {
   "cell_type": "code",
   "execution_count": 8,
   "id": "28660186",
   "metadata": {},
   "outputs": [
    {
     "data": {
      "text/plain": [
       "6-element Array{Float64,1}:\n",
       " 2.5\n",
       " 1.5\n",
       " 1.0\n",
       " 1.0\n",
       " 1.5\n",
       " 2.5"
      ]
     },
     "execution_count": 8,
     "metadata": {},
     "output_type": "execute_result"
    }
   ],
   "source": [
    "b"
   ]
  },
  {
   "cell_type": "markdown",
   "id": "344e9cb5",
   "metadata": {},
   "source": [
    "#### Tamaño de la entrada (tam)"
   ]
  },
  {
   "cell_type": "code",
   "execution_count": 9,
   "id": "dd22e1d3",
   "metadata": {},
   "outputs": [],
   "source": [
    "tam = 10;"
   ]
  },
  {
   "cell_type": "markdown",
   "id": "a9538427",
   "metadata": {},
   "source": [
    "#### Matriz de coeficientes (A)"
   ]
  },
  {
   "cell_type": "code",
   "execution_count": 10,
   "id": "eba637ec",
   "metadata": {},
   "outputs": [
    {
     "data": {
      "text/plain": [
       "10×10 Array{Float64,2}:\n",
       "  3.0  -1.0   0.0   0.0   0.0   0.0   0.0   0.0   0.0   0.5\n",
       " -1.0   3.0  -1.0   0.0   0.0   0.0   0.0   0.0   0.5   0.0\n",
       "  0.0  -1.0   3.0  -1.0   0.0   0.0   0.0   0.5   0.0   0.0\n",
       "  0.0   0.0  -1.0   3.0  -1.0   0.0   0.5   0.0   0.0   0.0\n",
       "  0.0   0.0   0.0  -1.0   3.0  -1.0   0.0   0.0   0.0   0.0\n",
       "  0.0   0.0   0.0   0.0  -1.0   3.0  -1.0   0.0   0.0   0.0\n",
       "  0.0   0.0   0.0   0.5   0.0  -1.0   3.0  -1.0   0.0   0.0\n",
       "  0.0   0.0   0.5   0.0   0.0   0.0  -1.0   3.0  -1.0   0.0\n",
       "  0.0   0.5   0.0   0.0   0.0   0.0   0.0  -1.0   3.0  -1.0\n",
       "  0.5   0.0   0.0   0.0   0.0   0.0   0.0   0.0  -1.0   3.0"
      ]
     },
     "execution_count": 10,
     "metadata": {},
     "output_type": "execute_result"
    }
   ],
   "source": [
    "A,b = SistEQ(tam,ones(tam))\n",
    "A"
   ]
  },
  {
   "cell_type": "markdown",
   "id": "a433e93a",
   "metadata": {},
   "source": [
    "#### Vector de constantes (b)"
   ]
  },
  {
   "cell_type": "code",
   "execution_count": 11,
   "id": "4456cea9",
   "metadata": {},
   "outputs": [
    {
     "data": {
      "text/plain": [
       "10-element Array{Float64,1}:\n",
       " 2.5\n",
       " 1.5\n",
       " 1.5\n",
       " 1.5\n",
       " 1.0\n",
       " 1.0\n",
       " 1.5\n",
       " 1.5\n",
       " 1.5\n",
       " 2.5"
      ]
     },
     "execution_count": 11,
     "metadata": {},
     "output_type": "execute_result"
    }
   ],
   "source": [
    "b"
   ]
  }
 ],
 "metadata": {
  "kernelspec": {
   "display_name": "Julia 1.4.1",
   "language": "julia",
   "name": "julia-1.4"
  },
  "language_info": {
   "file_extension": ".jl",
   "mimetype": "application/julia",
   "name": "julia",
   "version": "1.4.1"
  }
 },
 "nbformat": 4,
 "nbformat_minor": 5
}
