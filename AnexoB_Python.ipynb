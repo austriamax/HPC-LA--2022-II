{
 "cells": [
  {
   "cell_type": "markdown",
   "id": "4f412819",
   "metadata": {},
   "source": [
    "# Anexo B: Algoritmos para resolver sistemas de ecuaciones lineales implementados en Python"
   ]
  },
  {
   "cell_type": "markdown",
   "id": "fb7d1919",
   "metadata": {},
   "source": [
    "## Paquetes"
   ]
  },
  {
   "cell_type": "code",
   "execution_count": 1,
   "id": "b228aaa8",
   "metadata": {},
   "outputs": [],
   "source": [
    "import numpy as np\n",
    "import matplotlib.pyplot as plt"
   ]
  },
  {
   "cell_type": "markdown",
   "id": "b5a46da8",
   "metadata": {},
   "source": [
    "## Métodos"
   ]
  },
  {
   "cell_type": "markdown",
   "id": "e450c5fb",
   "metadata": {},
   "source": [
    "Implementación del método de Jacobi."
   ]
  },
  {
   "cell_type": "code",
   "execution_count": 2,
   "id": "56d25ea0",
   "metadata": {},
   "outputs": [],
   "source": [
    "def JacPy(A,b,x0,e,itermax):\n",
    "    \n",
    "    #A:= Matriz de coeficientes\n",
    "    #b:= vector de constantes\n",
    "    #x0:= inicialización\n",
    "    #e:= presicion\n",
    "    #itermax:= iteración maxima\n",
    "    \n",
    "    #Iteración\n",
    "    it = 1\n",
    "    \n",
    "    #Matriz diagonal\n",
    "    D = np.diag(np.diag(A))\n",
    "    \n",
    "    #Inversa de la matriz diagonal\n",
    "    Dinv = np.linalg.inv(D)\n",
    "    \n",
    "    #Matriz triangular superior\n",
    "    U = np.triu(A, k=1)\n",
    "    \n",
    "    #Matriz triangular inferior\n",
    "    L = np.tril(A, k=-1)\n",
    "    \n",
    "    #Iterando la solucion\n",
    "    x = Dinv.dot(b - (L+U).dot(x0))\n",
    "    \n",
    "    #Calculando el residuo\n",
    "    r = A.dot(x)- b\n",
    "    \n",
    "    #Normas de los residuos\n",
    "    normresJAC = [np.linalg.norm(r,1)]\n",
    "    \n",
    "    #Repetir hasta el maximo numero de \n",
    "    #iteraciones o alcanzar la precision\n",
    "    while ((normresJAC[it-1] > e) and (it <= itermax)):  \n",
    "        \n",
    "        #Iterando la solucion\n",
    "        x = Dinv.dot(b - (L+U).dot(x))\n",
    "    \n",
    "        #Calculando la diferencia\n",
    "        r = A.dot(x)- b\n",
    "        \n",
    "        #Normas de los residuos\n",
    "        normresJAC = np.concatenate((normresJAC,\n",
    "                                     np.linalg.norm(r,1)),\n",
    "                                    axis = None)\n",
    "        \n",
    "        #Aumentando la iteracion\n",
    "        it = it + 1\n",
    "        \n",
    "    return x, normresJAC"
   ]
  },
  {
   "cell_type": "markdown",
   "id": "ae00f4ed",
   "metadata": {},
   "source": [
    "Implementación de método de Sobre Relajación Sucesiva."
   ]
  },
  {
   "cell_type": "code",
   "execution_count": 3,
   "id": "0981564f",
   "metadata": {},
   "outputs": [],
   "source": [
    "def SRSPy(A,b,x0,w,e,itermax):\n",
    "    \n",
    "    #A:= Matriz\n",
    "    #b:= vector\n",
    "    #w:= ponderador\n",
    "    #e:= presicion\n",
    "    #itermax:= iteración máxima\n",
    "    #x0:= inicialización\n",
    "    \n",
    "    #Iteración\n",
    "    it = 1\n",
    "    \n",
    "    #Matriz diagonal\n",
    "    D = np.diag(np.diag(A))\n",
    "    \n",
    "    #Matriz triangular superior\n",
    "    U = np.triu(A, k=1)\n",
    "    \n",
    "    #Matriz triangular inferior\n",
    "    L = np.tril(A, k=-1)\n",
    "    \n",
    "    #alfa es una matriz auxiliar\n",
    "    alfa = np.linalg.inv(w*L+D)\n",
    "    \n",
    "    #gama es un vector auxiliar\n",
    "    gama = w*np.linalg.inv(D+w*L).dot(b)\n",
    "    \n",
    "    #Iterando la solucion\n",
    "    x = alfa.dot((1-w)*D.dot(x0)-w*U.dot(x0)) + gama\n",
    "    \n",
    "    #Calculando el residuo\n",
    "    r = A.dot(x)-b\n",
    "    \n",
    "    #Normas de los residuos\n",
    "    normresSCS = [np.linalg.norm(r,1)]\n",
    "    \n",
    "    #Repetir hasta el maximo numero de \n",
    "    #iteraciones o alcanzar la precision\n",
    "    while ((normresSCS[it-1] > e) and (it <= itermax)): \n",
    "        \n",
    "        #Multiplicando\n",
    "        x = alfa.dot((1-w)*D.dot(x)-w*U.dot(x)) + gama\n",
    "    \n",
    "        #Calculando la diferencia\n",
    "        r = A.dot(x)-b\n",
    "        \n",
    "        #Normas de los residuos\n",
    "        normresSCS = np.concatenate((normresSCS,\n",
    "                                     np.linalg.norm(r,1)),\n",
    "                                    axis = None)\n",
    "        \n",
    "        #Aumentando la iteracion\n",
    "        it = it + 1\n",
    "        \n",
    "                 \n",
    "    return x, normresSCS"
   ]
  },
  {
   "cell_type": "markdown",
   "id": "d8852bef",
   "metadata": {},
   "source": [
    "Implementación de método de Gauss - Seidel."
   ]
  },
  {
   "cell_type": "code",
   "execution_count": 4,
   "id": "15f48798",
   "metadata": {},
   "outputs": [],
   "source": [
    "def GSPy(A,b,x0,e,itermax):\n",
    "    \n",
    "    #A:= Matriz de coeficientes\n",
    "    #b:= vector de constantes\n",
    "    #x0:= inicialización\n",
    "    #e:= presicion\n",
    "    #itermax:= iteración maxima\n",
    "    \n",
    "    #Iteración\n",
    "    it = 1\n",
    "    \n",
    "    #Matriz triangular inferior\n",
    "    U = np.triu(A, k=1)\n",
    "    \n",
    "    #Matriz triangular superior\n",
    "    L = np.tril(A)\n",
    "    \n",
    "    #Iterando la solución\n",
    "    x = np.linalg.inv(L).dot(b-U.dot(x0));\n",
    "    \n",
    "    #Calculando el residuo\n",
    "    r = b-A.dot(x)\n",
    "    \n",
    "    #Respaldando la norma\n",
    "    normresGS = [np.linalg.norm(r,1)]\n",
    "    \n",
    "    #Repetir hasta el maximo numero de \n",
    "    #iteraciones o alcanzar la precision\n",
    "    while ((normresGS[it-1] > e) and (it <= itermax)):\n",
    "        \n",
    "        #Iterando la solucion\n",
    "        x = np.linalg.inv(L).dot(b-U.dot(x));\n",
    "        \n",
    "        #Calculando el residuo\n",
    "        r = b-A.dot(x)\n",
    "        \n",
    "        #Normas de los residuos\n",
    "        normresGS = np.concatenate((normresGS,\n",
    "                                np.linalg.norm(r,1)),\n",
    "                               axis = None);\n",
    "        \n",
    "        #Aumentando la iteracion\n",
    "        it = it + 1\n",
    "    \n",
    "    return x, normresGS"
   ]
  },
  {
   "cell_type": "markdown",
   "id": "535a2505",
   "metadata": {},
   "source": [
    "Implementación de método de gradiente conjugado."
   ]
  },
  {
   "cell_type": "code",
   "execution_count": 5,
   "id": "e068709f",
   "metadata": {},
   "outputs": [],
   "source": [
    "def GCPy(A,b,x0,e):\n",
    "    \n",
    "    #A:= Matriz de coeficientes\n",
    "    #b:= vector de constantes\n",
    "    #x0:= inicialización\n",
    "    #e:= presicion    \n",
    "    \n",
    "    #Iteración\n",
    "    it = 1\n",
    "    \n",
    "    #numeq := numero de ecuaciones\n",
    "    numeq = A.shape[1]\n",
    "    \n",
    "    #Iterando la solucion\n",
    "    x = x0;\n",
    "    \n",
    "    #Calculando el residuo\n",
    "    r = b - A.dot(x)\n",
    "    \n",
    "    #Vectores auxiliares\n",
    "    d = r;\n",
    "    \n",
    "    #Vector para guardar las convergencias\n",
    "    normresGC = [np.linalg.norm(r,1)]\n",
    "    \n",
    "    #Por cada ecuacion, hacer lo siguiente:\n",
    "    for k in range(numeq):\n",
    "       \n",
    "        #Si la norma del vector es mayor a \n",
    "        #la presicion entonces\n",
    "        if normresGC[it-1] > e:\n",
    "           \n",
    "            #a:= constante auxiliar\n",
    "            a = np.transpose(r).dot(r)[0][0]/np.transpose(d).dot(A.dot(d))[0][0]\n",
    "            \n",
    "            #Iterando la solucion\n",
    "            x = x + a*d\n",
    "            \n",
    "            #s:= vector auxiliar\n",
    "            s = r - a*A.dot(d)\n",
    "            \n",
    "            #beta:= constante auxiliar\n",
    "            beta = np.transpose(s).dot(s)[0][0]/np.transpose(r).dot(r)[0][0]\n",
    "            \n",
    "            #d:= vector auxiliar\n",
    "            d = s + beta*d\n",
    "            \n",
    "            #actualizando los residuos\n",
    "            r = s\n",
    "            \n",
    "            #Normas de los residuos\n",
    "            normresGC = np.concatenate((normresGC,\n",
    "                                np.linalg.norm(r,1)),\n",
    "                               axis = None);\n",
    "            \n",
    "            it = it + 1\n",
    "\n",
    "        else:\n",
    "            \n",
    "            return  x, normresGC\n",
    "        \n",
    "    \n",
    "    return x, normresGC"
   ]
  },
  {
   "cell_type": "markdown",
   "id": "6e0c944d",
   "metadata": {},
   "source": [
    "## Ejemplo:"
   ]
  },
  {
   "cell_type": "markdown",
   "id": "d00707f8",
   "metadata": {},
   "source": [
    "#### Matriz de coeficientes (A)"
   ]
  },
  {
   "cell_type": "code",
   "execution_count": 6,
   "id": "a602d46c",
   "metadata": {},
   "outputs": [
    {
     "data": {
      "text/plain": [
       "array([[ 3. , -1. ,  0. ,  0. ,  0. ,  0.5],\n",
       "       [-1. ,  3. , -1. ,  0. ,  0.5,  0. ],\n",
       "       [ 0. , -1. ,  3. , -1. ,  0. ,  0. ],\n",
       "       [ 0. ,  0. , -1. ,  3. , -1. ,  0. ],\n",
       "       [ 0. ,  0.5,  0. , -1. ,  3. , -1. ],\n",
       "       [ 0.5,  0. ,  0. ,  0. , -1. ,  3. ]])"
      ]
     },
     "execution_count": 6,
     "metadata": {},
     "output_type": "execute_result"
    }
   ],
   "source": [
    "A = np.array([[ 3.0, -1.0,  0.0,  0.0,  0.0,  0.5],\n",
    "              [-1.0,  3.0, -1.0,  0.0,  0.5,  0.0],\n",
    "              [ 0.0, -1.0,  3.0, -1.0,  0.0,  0.0],\n",
    "              [ 0.0,  0.0, -1.0,  3.0, -1.0,  0.0],\n",
    "              [ 0.0,  0.5,  0.0, -1.0,  3.0, -1.0],\n",
    "              [ 0.5,  0.0,  0.0,  0.0, -1.0,  3.0]])\n",
    "A"
   ]
  },
  {
   "cell_type": "markdown",
   "id": "204068a6",
   "metadata": {},
   "source": [
    "#### Vector de constantes (b)"
   ]
  },
  {
   "cell_type": "code",
   "execution_count": 7,
   "id": "f65e361c",
   "metadata": {},
   "outputs": [
    {
     "data": {
      "text/plain": [
       "array([[2.5],\n",
       "       [1.5],\n",
       "       [1. ],\n",
       "       [1. ],\n",
       "       [1.5],\n",
       "       [2.5]])"
      ]
     },
     "execution_count": 7,
     "metadata": {},
     "output_type": "execute_result"
    }
   ],
   "source": [
    "b = np.array([[2.5], [1.5], [1], [1], [1.5], [2.5]])\n",
    "b"
   ]
  },
  {
   "cell_type": "markdown",
   "id": "2852b4e9",
   "metadata": {},
   "source": [
    "#### Inicialización de la solución ($x_0$) "
   ]
  },
  {
   "cell_type": "code",
   "execution_count": 8,
   "id": "71dd8469",
   "metadata": {},
   "outputs": [
    {
     "data": {
      "text/plain": [
       "array([[0.],\n",
       "       [0.],\n",
       "       [0.],\n",
       "       [0.],\n",
       "       [0.],\n",
       "       [0.]])"
      ]
     },
     "execution_count": 8,
     "metadata": {},
     "output_type": "execute_result"
    }
   ],
   "source": [
    "x0 = np.zeros((A.shape[1], 1))\n",
    "x0"
   ]
  },
  {
   "cell_type": "markdown",
   "id": "c45056cb",
   "metadata": {},
   "source": [
    "#### Error máximo (e)"
   ]
  },
  {
   "cell_type": "code",
   "execution_count": 9,
   "id": "4de0321d",
   "metadata": {},
   "outputs": [],
   "source": [
    "e = 0.000001"
   ]
  },
  {
   "cell_type": "markdown",
   "id": "c1d64e4e",
   "metadata": {},
   "source": [
    "#### Número máximo de iteraciones (itermax)"
   ]
  },
  {
   "cell_type": "code",
   "execution_count": 10,
   "id": "f6e2285b",
   "metadata": {},
   "outputs": [],
   "source": [
    "itermax  = 100"
   ]
  },
  {
   "cell_type": "markdown",
   "id": "90b65f1c",
   "metadata": {},
   "source": [
    "#### Solución"
   ]
  },
  {
   "cell_type": "code",
   "execution_count": 11,
   "id": "e6d2010c",
   "metadata": {},
   "outputs": [
    {
     "data": {
      "text/plain": [
       "array([[1.],\n",
       "       [1.],\n",
       "       [1.],\n",
       "       [1.],\n",
       "       [1.],\n",
       "       [1.]])"
      ]
     },
     "execution_count": 11,
     "metadata": {},
     "output_type": "execute_result"
    }
   ],
   "source": [
    "np.linalg.solve(A, b)"
   ]
  },
  {
   "cell_type": "markdown",
   "id": "7e4c79b9",
   "metadata": {},
   "source": [
    "### ****** Algoritmo de Jacobi ******"
   ]
  },
  {
   "cell_type": "code",
   "execution_count": 12,
   "id": "c3f388d4",
   "metadata": {},
   "outputs": [],
   "source": [
    "SolJac,histJac = JacPy(A,b,x0,e,itermax)"
   ]
  },
  {
   "cell_type": "markdown",
   "id": "18074dcc",
   "metadata": {},
   "source": [
    "#### Solución"
   ]
  },
  {
   "cell_type": "code",
   "execution_count": 13,
   "id": "24d02db9",
   "metadata": {},
   "outputs": [
    {
     "data": {
      "text/plain": [
       "array([[1.        ],\n",
       "       [0.99999993],\n",
       "       [0.99999994],\n",
       "       [0.99999994],\n",
       "       [0.99999993],\n",
       "       [1.        ]])"
      ]
     },
     "execution_count": 13,
     "metadata": {},
     "output_type": "execute_result"
    }
   ],
   "source": [
    "SolJac"
   ]
  },
  {
   "cell_type": "markdown",
   "id": "45c24d7b",
   "metadata": {},
   "source": [
    "#### Precisión vs Iteraciones"
   ]
  },
  {
   "cell_type": "code",
   "execution_count": 14,
   "id": "47f46588",
   "metadata": {},
   "outputs": [
    {
     "data": {
      "image/png": "[encoded data removed]",
      "text/plain": [
       "<Figure size 432x288 with 1 Axes>"
      ]
     },
     "metadata": {
      "needs_background": "light"
     },
     "output_type": "display_data"
    }
   ],
   "source": [
    "plt.plot(histJac, color=\"#6b0851\", marker='o')\n",
    "plt.yscale('log')\n",
    "plt.show()"
   ]
  },
  {
   "cell_type": "markdown",
   "id": "bb8c2df2",
   "metadata": {},
   "source": [
    "### ****** Algoritmo de Sobre-Relajación ******"
   ]
  },
  {
   "cell_type": "code",
   "execution_count": 15,
   "id": "93c40b36",
   "metadata": {},
   "outputs": [],
   "source": [
    "#Peso\n",
    "w = 1.1;\n",
    "SolSRS,histSRS = SRSPy(A,b,x0,w,e,itermax);"
   ]
  },
  {
   "cell_type": "markdown",
   "id": "975175f1",
   "metadata": {},
   "source": [
    "#### Solución"
   ]
  },
  {
   "cell_type": "code",
   "execution_count": 16,
   "id": "8381053f",
   "metadata": {},
   "outputs": [
    {
     "data": {
      "text/plain": [
       "array([[0.99999997],\n",
       "       [0.99999992],\n",
       "       [0.99999991],\n",
       "       [0.99999995],\n",
       "       [0.99999999],\n",
       "       [1.00000001]])"
      ]
     },
     "execution_count": 16,
     "metadata": {},
     "output_type": "execute_result"
    }
   ],
   "source": [
    "SolSRS"
   ]
  },
  {
   "cell_type": "markdown",
   "id": "6c4f628c",
   "metadata": {},
   "source": [
    "#### Precisión vs Iteraciones"
   ]
  },
  {
   "cell_type": "code",
   "execution_count": 17,
   "id": "8b893e1a",
   "metadata": {},
   "outputs": [
    {
     "data": {
      "image/png": "[encoded data removed]",
      "text/plain": [
       "<Figure size 432x288 with 1 Axes>"
      ]
     },
     "metadata": {
      "needs_background": "light"
     },
     "output_type": "display_data"
    }
   ],
   "source": [
    "plt.plot(histSRS, color=\"#6b0851\", marker='o')\n",
    "plt.yscale('log')\n",
    "plt.show()"
   ]
  },
  {
   "cell_type": "markdown",
   "id": "e04682b4",
   "metadata": {},
   "source": [
    "### ******** Algoritmo de Gauss - Seidel ********"
   ]
  },
  {
   "cell_type": "code",
   "execution_count": 18,
   "id": "efeccbda",
   "metadata": {},
   "outputs": [],
   "source": [
    "SolGS,histGS = GSPy(A,b,x0,e,itermax)"
   ]
  },
  {
   "cell_type": "markdown",
   "id": "688af447",
   "metadata": {},
   "source": [
    "#### Solución"
   ]
  },
  {
   "cell_type": "code",
   "execution_count": 19,
   "id": "f964d079",
   "metadata": {},
   "outputs": [
    {
     "data": {
      "text/plain": [
       "array([[1.0000001 ],\n",
       "       [1.00000011],\n",
       "       [1.00000006],\n",
       "       [1.00000001],\n",
       "       [0.99999997],\n",
       "       [0.99999997]])"
      ]
     },
     "execution_count": 19,
     "metadata": {},
     "output_type": "execute_result"
    }
   ],
   "source": [
    "SolGS"
   ]
  },
  {
   "cell_type": "markdown",
   "id": "3a89c478",
   "metadata": {},
   "source": [
    "#### Precisión vs Iteraciones"
   ]
  },
  {
   "cell_type": "code",
   "execution_count": 20,
   "id": "2440c156",
   "metadata": {},
   "outputs": [
    {
     "data": {
      "image/png": "[encoded data removed]",
      "text/plain": [
       "<Figure size 432x288 with 1 Axes>"
      ]
     },
     "metadata": {
      "needs_background": "light"
     },
     "output_type": "display_data"
    }
   ],
   "source": [
    "plt.plot(histGS, color=\"#6b0851\", marker='o')\n",
    "plt.yscale('log')\n",
    "plt.show()"
   ]
  },
  {
   "cell_type": "markdown",
   "id": "8447f0ac",
   "metadata": {},
   "source": [
    "### ******** Algoritmo del Gradiente Conjugado ********"
   ]
  },
  {
   "cell_type": "code",
   "execution_count": 21,
   "id": "ef5f5d50",
   "metadata": {},
   "outputs": [],
   "source": [
    "SolGC,histGC = GCPy(A,b,x0,e)"
   ]
  },
  {
   "cell_type": "markdown",
   "id": "68ff510f",
   "metadata": {},
   "source": [
    "#### Solución"
   ]
  },
  {
   "cell_type": "code",
   "execution_count": 22,
   "id": "8fc3a00c",
   "metadata": {},
   "outputs": [
    {
     "data": {
      "text/plain": [
       "array([[1.],\n",
       "       [1.],\n",
       "       [1.],\n",
       "       [1.],\n",
       "       [1.],\n",
       "       [1.]])"
      ]
     },
     "execution_count": 22,
     "metadata": {},
     "output_type": "execute_result"
    }
   ],
   "source": [
    "SolGC"
   ]
  },
  {
   "cell_type": "markdown",
   "id": "ff2725d9",
   "metadata": {},
   "source": [
    "#### Precisión vs Iteraciones"
   ]
  },
  {
   "cell_type": "code",
   "execution_count": 23,
   "id": "a73b89ad",
   "metadata": {},
   "outputs": [
    {
     "data": {
      "image/png": "[encoded data removed]",
      "text/plain": [
       "<Figure size 432x288 with 1 Axes>"
      ]
     },
     "metadata": {
      "needs_background": "light"
     },
     "output_type": "display_data"
    }
   ],
   "source": [
    "plt.plot(histGC, color=\"#6b0851\", marker='o')\n",
    "plt.yscale('log')\n",
    "plt.show()"
   ]
  }
 ],
 "metadata": {
  "kernelspec": {
   "display_name": "Python 3 (ipykernel)",
   "language": "python",
   "name": "python3"
  },
  "language_info": {
   "codemirror_mode": {
    "name": "ipython",
    "version": 3
   },
   "file_extension": ".py",
   "mimetype": "text/x-python",
   "name": "python",
   "nbconvert_exporter": "python",
   "pygments_lexer": "ipython3",
   "version": "3.7.11"
  }
 },
 "nbformat": 4,
 "nbformat_minor": 5
}
