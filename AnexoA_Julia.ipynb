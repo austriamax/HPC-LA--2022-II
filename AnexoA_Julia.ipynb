{
 "cells": [
  {
   "cell_type": "markdown",
   "id": "06ac6945",
   "metadata": {},
   "source": [
    "# Anexo A: Algoritmos para resolver sistemas de ecuaciones lineales implementados en Julia"
   ]
  },
  {
   "cell_type": "markdown",
   "id": "10d51d13",
   "metadata": {},
   "source": [
    "## Paquetes"
   ]
  },
  {
   "cell_type": "code",
   "execution_count": 1,
   "id": "985cbda5",
   "metadata": {},
   "outputs": [],
   "source": [
    "using LinearAlgebra, BenchmarkTools, Plots"
   ]
  },
  {
   "cell_type": "markdown",
   "id": "177e6e9f",
   "metadata": {},
   "source": [
    "## Métodos"
   ]
  },
  {
   "cell_type": "markdown",
   "id": "35b5a400",
   "metadata": {},
   "source": [
    "Implementación del método de Jacobi."
   ]
  },
  {
   "cell_type": "code",
   "execution_count": 2,
   "id": "87da86b9",
   "metadata": {},
   "outputs": [],
   "source": [
    "function JacJul(\n",
    "        A::Array{Float64,2},\n",
    "        b::Array{Float64,1},\n",
    "        x0::Array{Float64,1},\n",
    "        e::Float64,\n",
    "        itermax::Int64)\n",
    "    \n",
    "    #A:= Matriz de coeficientes\n",
    "    #b:= vector de constantes\n",
    "    #x0:= inicialización\n",
    "    #e:= presicion\n",
    "    #itermax:= iteración maxima\n",
    "    \n",
    "    #Iteración\n",
    "    it::Int64 = 1\n",
    "    \n",
    "    #Matriz diagonal\n",
    "    D::Array{Float64,2} = Diagonal(A)\n",
    "    \n",
    "    #Inversa de la matriz diagonal\n",
    "    Dinv::Array{Float64,2} = inv(D)\n",
    "    \n",
    "    #Matriz triangular inferior\n",
    "    L ::Array{Float64,2}= tril(A,-1)\n",
    "    \n",
    "    #Matriz triangular superior\n",
    "    U::Array{Float64,2} = triu(A,1)\n",
    "    \n",
    "    #Iterando la solucion\n",
    "    x::Array{Float64,1} = Dinv*(b- (L+U)*x0)\n",
    "    \n",
    "    #Calculando el residuo\n",
    "    r::Array{Float64,1} = A*x-b\n",
    "    \n",
    "    #Normas de los residuos\n",
    "    normresJAC::Array{Float64,1} = [norm(r)];\n",
    "    \n",
    "    #Repetir hasta el maximo numero de \n",
    "    #iteraciones o alcanzar la precision\n",
    "    while ((normresJAC[it] > e) && (it <= itermax))      \n",
    "        \n",
    "        #Iterando la solucion\n",
    "        x = Dinv*(b- (L+U)*x)\n",
    "    \n",
    "        #Calculando el residuo\n",
    "        r = A*x-b\n",
    "        \n",
    "        #Normas de los residuos\n",
    "        normresJAC = [normresJAC;norm(r)];\n",
    "        \n",
    "        #Aumentando la iteracion\n",
    "        it = it + 1\n",
    "        \n",
    "    end\n",
    "    \n",
    "    return x, normresJAC\n",
    "    \n",
    "end;"
   ]
  },
  {
   "cell_type": "markdown",
   "id": "6da29d63",
   "metadata": {},
   "source": [
    "Implementación de método de Sobre Relajación Sucesiva."
   ]
  },
  {
   "cell_type": "code",
   "execution_count": 3,
   "id": "280af38c",
   "metadata": {},
   "outputs": [],
   "source": [
    "function SRSJul(\n",
    "        A::Array{Float64,2},\n",
    "        b::Array{Float64,1},\n",
    "        x0::Array{Float64,1},\n",
    "        w::Float64,\n",
    "        e::Float64,\n",
    "        itermax::Int64)\n",
    "    \n",
    "    #A:= Matriz de coeficientes\n",
    "    #b:= vector de constantes\n",
    "    #x0:= inicialización\n",
    "    #w:= ponderador\n",
    "    #e:= presicion\n",
    "    #itermax:= iteración maxima\n",
    "    \n",
    "    #Iteración\n",
    "    it::Int64 = 1\n",
    "\n",
    "    #Matriz diagonal\n",
    "    D::Array{Float64,2} = Diagonal(A)\n",
    "    \n",
    "    #Matriz triangular superior\n",
    "    U::Array{Float64,2} = triu(A, 1)  \n",
    "    \n",
    "    #Matriz triangular inferior\n",
    "    L::Array{Float64,2} = tril(A, -1)\n",
    "    \n",
    "    #alfa es una matriz auxiliar\n",
    "    alfa::Array{Float64,2} = inv(w*L+D)\n",
    "    \n",
    "    #gama es un vector auxiliar\n",
    "    gama::Array{Float64,1} = w*inv(D+w*L)*b\n",
    "    \n",
    "    #Iterando la solucion\n",
    "    x::Array{Float64,1} = alfa*((1-w)*D*x0-w*U*x0) + gama\n",
    "    \n",
    "    #Calculando el residuo\n",
    "    r::Array{Float64,1} = A*x-b\n",
    "    \n",
    "    #Normas de los residuos\n",
    "    normresSCS::Array{Float64,1} = [norm(r)];\n",
    "    \n",
    "    #Repetir hasta el maximo numero de \n",
    "    #iteraciones o alcanzar la precision\n",
    "    while ((normresSCS[it] > e) && (it <= itermax))    \n",
    "        \n",
    "        #Multiplicando\n",
    "        x = alfa*((1-w)*D*x-w*U*x) + gama\n",
    "    \n",
    "        #Calculando la diferencia\n",
    "        r = A*x-b\n",
    "        \n",
    "        #Normas de los residuos\n",
    "        normresSCS = [normresSCS; norm(r)];\n",
    "\n",
    "        #Aumentando la iteracion\n",
    "        it = it + 1\n",
    "    end\n",
    "    \n",
    "    return x, normresSCS\n",
    "    \n",
    "end;"
   ]
  },
  {
   "cell_type": "markdown",
   "id": "6ef01d7a",
   "metadata": {},
   "source": [
    "Implementación de método de Gauss - Seidel."
   ]
  },
  {
   "cell_type": "code",
   "execution_count": 4,
   "id": "4b6fced5",
   "metadata": {},
   "outputs": [],
   "source": [
    "function GSJul(\n",
    "        A::Array{Float64,2},\n",
    "        b::Array{Float64,1},\n",
    "        x0::Array{Float64,1},\n",
    "        e::Float64,\n",
    "        itermax::Int64)\n",
    "    \n",
    "    #A:= Matriz de coeficientes\n",
    "    #b:= vector de constantes\n",
    "    #x0:= inicialización\n",
    "    #e:= presicion\n",
    "    #itermax:= iteración maxima\n",
    "    \n",
    "    #Iteración\n",
    "    it::Int64 = 1\n",
    "    \n",
    "    #Matriz triangular inferior\n",
    "    L::Array{Float64,2} = tril(A)\n",
    "    \n",
    "    #Matriz triangular superior\n",
    "    U::Array{Float64,2} = triu(A,1)\n",
    "    \n",
    "    #Iterando la solucion\n",
    "    x::Array{Float64,1} = inv(L)*(b-U*x0);\n",
    "    \n",
    "    #Calculando el residuo\n",
    "    r::Array{Float64,1} = b-A*x\n",
    "    \n",
    "    #Normas de los residuos\n",
    "    normresGAUSS::Array{Float64,1} = [norm(r)];\n",
    "    \n",
    "    #Repetir hasta el maximo numero de \n",
    "    #iteraciones o alcanzar la precision\n",
    "    while ((normresGAUSS[it] > e) && (it <= itermax))      \n",
    "        \n",
    "        #Iterando la solucion\n",
    "        x = inv(L)*(b-U*x);\n",
    "        \n",
    "        #Calculando el residuo\n",
    "        r = b - A*x\n",
    "        \n",
    "        #Normas de los residuos\n",
    "        normresGAUSS = [normresGAUSS;norm(r)];\n",
    "        \n",
    "        #Aumentando la iteracion\n",
    "        it = it + 1\n",
    "        \n",
    "    end\n",
    "\n",
    "    return x, normresGAUSS\n",
    "end;"
   ]
  },
  {
   "cell_type": "markdown",
   "id": "d4067adc",
   "metadata": {},
   "source": [
    "Implementación de método de gradiente conjugado."
   ]
  },
  {
   "cell_type": "code",
   "execution_count": 5,
   "id": "c866607b",
   "metadata": {},
   "outputs": [],
   "source": [
    "function GCJul(\n",
    "        A::Array{Float64,2},\n",
    "        b::Array{Float64,1},\n",
    "        x0::Array{Float64,1},\n",
    "        e::Float64)\n",
    "    \n",
    "    #A:= Matriz de coeficientes\n",
    "    #b:= vector de constantes\n",
    "    #x0:= inicialización\n",
    "    #e:= presicion    \n",
    "    \n",
    "    #Iteración\n",
    "    it::Int64 = 1\n",
    "    \n",
    "    #numeq := numero de ecuaciones\n",
    "    numeq::Int64 = size(A,1)\n",
    "    \n",
    "    #Iterando la solucion\n",
    "    x::Array{Float64,1} = x0;\n",
    "    \n",
    "    #Calculando el residuo\n",
    "    r::Array{Float64,1} = b - A*x\n",
    "    \n",
    "    #Vectores auxiliares\n",
    "    d::Array{Float64,1} = r;\n",
    "    s::Array{Float64,1} = r;\n",
    "    \n",
    "    #Normas de los residuos\n",
    "    normresGC::Array{Float64,1} = [norm(r)];\n",
    "    \n",
    "    #Constantes auxiliares\n",
    "    a::Float64 = 0.0\n",
    "    beta::Float64 = 0.0\n",
    "    \n",
    "    #Por cada ecuacion, hacer lo siguiente:\n",
    "    for k in 1:numeq\n",
    "       \n",
    "        #Si la norma del vector es mayor a \n",
    "        #la presicion entonces\n",
    "        if normresGC[it] > e\n",
    "           \n",
    "            #a:= constante auxiliar\n",
    "            a = r'r/(d'*A*d)\n",
    "            \n",
    "            #Iterando la solucion\n",
    "            x = x + a*d\n",
    "            \n",
    "            #s:= vector auxiliar\n",
    "            s = r - a*A*d\n",
    "            \n",
    "            #beta:= constante auxiliar\n",
    "            beta = s's/r'r\n",
    "            \n",
    "            #d:= vector auxiliar\n",
    "            d = s + beta*d\n",
    "            \n",
    "            #actualizando los residuos\n",
    "            r = s\n",
    "            \n",
    "            #Normas de los residuos\n",
    "            normresGC = [normresGC; norm(r)];\n",
    "\n",
    "        else\n",
    "            return  x, normresGC\n",
    "        end\n",
    "        \n",
    "    end\n",
    "    \n",
    "    return x, normresGC\n",
    "end;"
   ]
  },
  {
   "cell_type": "markdown",
   "id": "0705aa44",
   "metadata": {},
   "source": [
    "## Ejemplo: "
   ]
  },
  {
   "cell_type": "markdown",
   "id": "b7ce62bb",
   "metadata": {},
   "source": [
    "#### Matriz de coeficientes (A)"
   ]
  },
  {
   "cell_type": "code",
   "execution_count": 6,
   "id": "aaf13408",
   "metadata": {},
   "outputs": [
    {
     "data": {
      "text/plain": [
       "6×6 Array{Float64,2}:\n",
       "  3.0  -1.0   0.0   0.0   0.0   0.5\n",
       " -1.0   3.0  -1.0   0.0   0.5   0.0\n",
       "  0.0  -1.0   3.0  -1.0   0.0   0.0\n",
       "  0.0   0.0  -1.0   3.0  -1.0   0.0\n",
       "  0.0   0.5   0.0  -1.0   3.0  -1.0\n",
       "  0.5   0.0   0.0   0.0  -1.0   3.0"
      ]
     },
     "execution_count": 6,
     "metadata": {},
     "output_type": "execute_result"
    }
   ],
   "source": [
    "A = [3.0 -1.0  0.0  0.0  0.0  0.5;\n",
    "    -1.0  3.0 -1.0  0.0  0.5  0.0;\n",
    "     0.0 -1.0  3.0 -1.0  0.0  0.0;\n",
    "     0.0  0.0 -1.0  3.0 -1.0  0.0;\n",
    "     0.0  0.5  0.0 -1.0  3.0 -1.0;\n",
    "     0.5  0.0  0.0  0.0 -1.0  3.0;]"
   ]
  },
  {
   "cell_type": "markdown",
   "id": "85454cb2",
   "metadata": {},
   "source": [
    "#### Vector de constantes (b)"
   ]
  },
  {
   "cell_type": "code",
   "execution_count": 7,
   "id": "22c376c8",
   "metadata": {},
   "outputs": [
    {
     "data": {
      "text/plain": [
       "6-element Array{Float64,1}:\n",
       " 2.5\n",
       " 1.5\n",
       " 1.0\n",
       " 1.0\n",
       " 1.5\n",
       " 2.5"
      ]
     },
     "execution_count": 7,
     "metadata": {},
     "output_type": "execute_result"
    }
   ],
   "source": [
    "b = [5/2 3/2 1 1 3/2 5/2]\n",
    "b = b[1,:]"
   ]
  },
  {
   "cell_type": "markdown",
   "id": "c5f6f943",
   "metadata": {},
   "source": [
    "#### Inicialización de la solución ($x_0$)"
   ]
  },
  {
   "cell_type": "code",
   "execution_count": 8,
   "id": "a19527b8",
   "metadata": {},
   "outputs": [
    {
     "data": {
      "text/plain": [
       "6-element Array{Float64,1}:\n",
       " 0.0\n",
       " 0.0\n",
       " 0.0\n",
       " 0.0\n",
       " 0.0\n",
       " 0.0"
      ]
     },
     "execution_count": 8,
     "metadata": {},
     "output_type": "execute_result"
    }
   ],
   "source": [
    "x0 = zeros(size(b))"
   ]
  },
  {
   "cell_type": "markdown",
   "id": "d9ac35a7",
   "metadata": {},
   "source": [
    "#### Error máximo (e)"
   ]
  },
  {
   "cell_type": "code",
   "execution_count": 9,
   "id": "34200172",
   "metadata": {},
   "outputs": [
    {
     "data": {
      "text/plain": [
       "1.0e-6"
      ]
     },
     "execution_count": 9,
     "metadata": {},
     "output_type": "execute_result"
    }
   ],
   "source": [
    "e = 0.000001"
   ]
  },
  {
   "cell_type": "markdown",
   "id": "de673543",
   "metadata": {},
   "source": [
    "#### Número máximo de iteraciones (itermax)"
   ]
  },
  {
   "cell_type": "code",
   "execution_count": 10,
   "id": "2aecaa89",
   "metadata": {},
   "outputs": [
    {
     "data": {
      "text/plain": [
       "100"
      ]
     },
     "execution_count": 10,
     "metadata": {},
     "output_type": "execute_result"
    }
   ],
   "source": [
    "itermax  = 100"
   ]
  },
  {
   "cell_type": "markdown",
   "id": "7cd059cf",
   "metadata": {},
   "source": [
    "#### Solución"
   ]
  },
  {
   "cell_type": "code",
   "execution_count": 11,
   "id": "37921df5",
   "metadata": {},
   "outputs": [
    {
     "data": {
      "text/plain": [
       "6-element Array{Float64,1}:\n",
       " 1.0\n",
       " 1.0\n",
       " 1.0\n",
       " 1.0\n",
       " 1.0\n",
       " 1.0"
      ]
     },
     "execution_count": 11,
     "metadata": {},
     "output_type": "execute_result"
    }
   ],
   "source": [
    "A\\b"
   ]
  },
  {
   "cell_type": "markdown",
   "id": "dfc636ad",
   "metadata": {},
   "source": [
    "### ****** Algoritmo de Jacobi ******"
   ]
  },
  {
   "cell_type": "code",
   "execution_count": 12,
   "id": "6a2c4de3",
   "metadata": {},
   "outputs": [],
   "source": [
    "SolJac,histJac = JacJul(A,b,x0,e,itermax);"
   ]
  },
  {
   "cell_type": "markdown",
   "id": "3f0ddb17",
   "metadata": {},
   "source": [
    "#### Solución"
   ]
  },
  {
   "cell_type": "code",
   "execution_count": 13,
   "id": "d9552ff2",
   "metadata": {},
   "outputs": [
    {
     "data": {
      "text/plain": [
       "6-element Array{Float64,1}:\n",
       " 0.9999999976171963\n",
       " 0.9999997813867877\n",
       " 0.9999997976579562\n",
       " 0.9999997976579562\n",
       " 0.9999997813867877\n",
       " 0.9999999976171963"
      ]
     },
     "execution_count": 13,
     "metadata": {},
     "output_type": "execute_result"
    }
   ],
   "source": [
    "SolJac"
   ]
  },
  {
   "cell_type": "markdown",
   "id": "2a7abe79",
   "metadata": {},
   "source": [
    "#### Precisión vs Iteraciones"
   ]
  },
  {
   "cell_type": "code",
   "execution_count": 14,
   "id": "f28a5407",
   "metadata": {},
   "outputs": [
    {
     "data": {
      "image/svg+xml": [
       "<?xml version=\"1.0\" encoding=\"utf-8\"?>\n",
       "<svg xmlns=\"http://www.w3.org/2000/svg\" xmlns:xlink=\"http://www.w3.org/1999/xlink\" width=\"600\" height=\"400\" viewBox=\"0 0 2400 1600\">\n",
       "<defs>\n",
       "  <clipPath id=\"clip650\">\n",
       "    <rect x=\"0\" y=\"0\" width=\"2400\" height=\"1600\"/>\n",
       "  </clipPath>\n",
       "</defs>\n",
       "<path clip-path=\"url(#clip650)\" d=\"\n",
       "M0 1600 L2400 1600 L2400 0 L0 0  Z\n",
       "  \" fill=\"#ffffff\" fill-rule=\"evenodd\" fill-opacity=\"1\"/>\n",
       "<defs>\n",
       "  <clipPath id=\"clip651\">\n",
       "    <rect x=\"480\" y=\"0\" width=\"1681\" height=\"1600\"/>\n",
       "  </clipPath>\n",
       "</defs>\n",
       "<path clip-path=\"url(#clip650)\" d=\"\n",
       "M244.308 1423.18 L2352.76 1423.18 L2352.76 123.472 L244.308 123.472  Z\n",
       "  \" fill=\"#ffffff\" fill-rule=\"evenodd\" fill-opacity=\"1\"/>\n",
       "<defs>\n",
       "  <clipPath id=\"clip652\">\n",
       "    <rect x=\"244\" y=\"123\" width=\"2109\" height=\"1301\"/>\n",
       "  </clipPath>\n",
       "</defs>\n",
       "<polyline clip-path=\"url(#clip652)\" style=\"stroke:#000000; stroke-width:2; stroke-opacity:0.1; fill:none\" points=\"\n",
       "  635.498,1423.18 635.498,123.472 \n",
       "  \"/>\n",
       "<polyline clip-path=\"url(#clip652)\" style=\"stroke:#000000; stroke-width:2; stroke-opacity:0.1; fill:none\" points=\"\n",
       "  1049.89,1423.18 1049.89,123.472 \n",
       "  \"/>\n",
       "<polyline clip-path=\"url(#clip652)\" style=\"stroke:#000000; stroke-width:2; stroke-opacity:0.1; fill:none\" points=\"\n",
       "  1464.29,1423.18 1464.29,123.472 \n",
       "  \"/>\n",
       "<polyline clip-path=\"url(#clip652)\" style=\"stroke:#000000; stroke-width:2; stroke-opacity:0.1; fill:none\" points=\"\n",
       "  1878.69,1423.18 1878.69,123.472 \n",
       "  \"/>\n",
       "<polyline clip-path=\"url(#clip652)\" style=\"stroke:#000000; stroke-width:2; stroke-opacity:0.1; fill:none\" points=\"\n",
       "  2293.08,1423.18 2293.08,123.472 \n",
       "  \"/>\n",
       "<polyline clip-path=\"url(#clip650)\" style=\"stroke:#000000; stroke-width:4; stroke-opacity:1; fill:none\" points=\"\n",
       "  244.308,1423.18 2352.76,1423.18 \n",
       "  \"/>\n",
       "<polyline clip-path=\"url(#clip650)\" style=\"stroke:#000000; stroke-width:4; stroke-opacity:1; fill:none\" points=\"\n",
       "  635.498,1423.18 635.498,1407.58 \n",
       "  \"/>\n",
       "<polyline clip-path=\"url(#clip650)\" style=\"stroke:#000000; stroke-width:4; stroke-opacity:1; fill:none\" points=\"\n",
       "  1049.89,1423.18 1049.89,1407.58 \n",
       "  \"/>\n",
       "<polyline clip-path=\"url(#clip650)\" style=\"stroke:#000000; stroke-width:4; stroke-opacity:1; fill:none\" points=\"\n",
       "  1464.29,1423.18 1464.29,1407.58 \n",
       "  \"/>\n",
       "<polyline clip-path=\"url(#clip650)\" style=\"stroke:#000000; stroke-width:4; stroke-opacity:1; fill:none\" points=\"\n",
       "  1878.69,1423.18 1878.69,1407.58 \n",
       "  \"/>\n",
       "<polyline clip-path=\"url(#clip650)\" style=\"stroke:#000000; stroke-width:4; stroke-opacity:1; fill:none\" points=\"\n",
       "  2293.08,1423.18 2293.08,1407.58 \n",
       "  \"/>\n",
       "<path clip-path=\"url(#clip650)\" d=\"M 0 0 M625.776 1449.29 L644.132 1449.29 L644.132 1453.23 L630.058 1453.23 L630.058 1461.7 Q631.076 1461.35 632.095 1461.19 Q633.114 1461 634.132 1461 Q639.919 1461 643.299 1464.18 Q646.678 1467.35 646.678 1472.76 Q646.678 1478.34 643.206 1481.44 Q639.734 1484.52 633.414 1484.52 Q631.239 1484.52 628.97 1484.15 Q626.725 1483.78 624.317 1483.04 L624.317 1478.34 Q626.401 1479.48 628.623 1480.03 Q630.845 1480.59 633.322 1480.59 Q637.326 1480.59 639.664 1478.48 Q642.002 1476.38 642.002 1472.76 Q642.002 1469.15 639.664 1467.05 Q637.326 1464.94 633.322 1464.94 Q631.447 1464.94 629.572 1465.36 Q627.72 1465.77 625.776 1466.65 L625.776 1449.29 Z\" fill=\"#000000\" fill-rule=\"evenodd\" fill-opacity=\"1\" /><path clip-path=\"url(#clip650)\" d=\"M 0 0 M1026.77 1479.92 L1034.41 1479.92 L1034.41 1453.55 L1026.1 1455.22 L1026.1 1450.96 L1034.36 1449.29 L1039.04 1449.29 L1039.04 1479.92 L1046.68 1479.92 L1046.68 1483.85 L1026.77 1483.85 L1026.77 1479.92 Z\" fill=\"#000000\" fill-rule=\"evenodd\" fill-opacity=\"1\" /><path clip-path=\"url(#clip650)\" d=\"M 0 0 M1061.75 1452.37 Q1058.13 1452.37 1056.31 1455.94 Q1054.5 1459.48 1054.5 1466.61 Q1054.5 1473.71 1056.31 1477.28 Q1058.13 1480.82 1061.75 1480.82 Q1065.38 1480.82 1067.19 1477.28 Q1069.01 1473.71 1069.01 1466.61 Q1069.01 1459.48 1067.19 1455.94 Q1065.38 1452.37 1061.75 1452.37 M1061.75 1448.67 Q1067.56 1448.67 1070.61 1453.27 Q1073.69 1457.86 1073.69 1466.61 Q1073.69 1475.33 1070.61 1479.94 Q1067.56 1484.52 1061.75 1484.52 Q1055.94 1484.52 1052.86 1479.94 Q1049.8 1475.33 1049.8 1466.61 Q1049.8 1457.86 1052.86 1453.27 Q1055.94 1448.67 1061.75 1448.67 Z\" fill=\"#000000\" fill-rule=\"evenodd\" fill-opacity=\"1\" /><path clip-path=\"url(#clip650)\" d=\"M 0 0 M1441.66 1479.92 L1449.3 1479.92 L1449.3 1453.55 L1440.99 1455.22 L1440.99 1450.96 L1449.26 1449.29 L1453.93 1449.29 L1453.93 1479.92 L1461.57 1479.92 L1461.57 1483.85 L1441.66 1483.85 L1441.66 1479.92 Z\" fill=\"#000000\" fill-rule=\"evenodd\" fill-opacity=\"1\" /><path clip-path=\"url(#clip650)\" d=\"M 0 0 M1466.69 1449.29 L1485.04 1449.29 L1485.04 1453.23 L1470.97 1453.23 L1470.97 1461.7 Q1471.99 1461.35 1473.01 1461.19 Q1474.02 1461 1475.04 1461 Q1480.83 1461 1484.21 1464.18 Q1487.59 1467.35 1487.59 1472.76 Q1487.59 1478.34 1484.12 1481.44 Q1480.64 1484.52 1474.32 1484.52 Q1472.15 1484.52 1469.88 1484.15 Q1467.64 1483.78 1465.23 1483.04 L1465.23 1478.34 Q1467.31 1479.48 1469.53 1480.03 Q1471.76 1480.59 1474.23 1480.59 Q1478.24 1480.59 1480.57 1478.48 Q1482.91 1476.38 1482.91 1472.76 Q1482.91 1469.15 1480.57 1467.05 Q1478.24 1464.94 1474.23 1464.94 Q1472.36 1464.94 1470.48 1465.36 Q1468.63 1465.77 1466.69 1466.65 L1466.69 1449.29 Z\" fill=\"#000000\" fill-rule=\"evenodd\" fill-opacity=\"1\" /><path clip-path=\"url(#clip650)\" d=\"M 0 0 M1859.83 1479.92 L1876.15 1479.92 L1876.15 1483.85 L1854.21 1483.85 L1854.21 1479.92 Q1856.87 1477.16 1861.45 1472.53 Q1866.06 1467.88 1867.24 1466.54 Q1869.49 1464.01 1870.36 1462.28 Q1871.27 1460.52 1871.27 1458.83 Q1871.27 1456.07 1869.32 1454.34 Q1867.4 1452.6 1864.3 1452.6 Q1862.1 1452.6 1859.65 1453.37 Q1857.22 1454.13 1854.44 1455.68 L1854.44 1450.96 Q1857.26 1449.82 1859.72 1449.25 Q1862.17 1448.67 1864.21 1448.67 Q1869.58 1448.67 1872.77 1451.35 Q1875.97 1454.04 1875.97 1458.53 Q1875.97 1460.66 1875.16 1462.58 Q1874.37 1464.48 1872.26 1467.07 Q1871.68 1467.74 1868.58 1470.96 Q1865.48 1474.15 1859.83 1479.92 Z\" fill=\"#000000\" fill-rule=\"evenodd\" fill-opacity=\"1\" /><path clip-path=\"url(#clip650)\" d=\"M 0 0 M1891.22 1452.37 Q1887.61 1452.37 1885.78 1455.94 Q1883.98 1459.48 1883.98 1466.61 Q1883.98 1473.71 1885.78 1477.28 Q1887.61 1480.82 1891.22 1480.82 Q1894.86 1480.82 1896.66 1477.28 Q1898.49 1473.71 1898.49 1466.61 Q1898.49 1459.48 1896.66 1455.94 Q1894.86 1452.37 1891.22 1452.37 M1891.22 1448.67 Q1897.03 1448.67 1900.09 1453.27 Q1903.17 1457.86 1903.17 1466.61 Q1903.17 1475.33 1900.09 1479.94 Q1897.03 1484.52 1891.22 1484.52 Q1885.41 1484.52 1882.33 1479.94 Q1879.28 1475.33 1879.28 1466.61 Q1879.28 1457.86 1882.33 1453.27 Q1885.41 1448.67 1891.22 1448.67 Z\" fill=\"#000000\" fill-rule=\"evenodd\" fill-opacity=\"1\" /><path clip-path=\"url(#clip650)\" d=\"M 0 0 M2274.73 1479.92 L2291.05 1479.92 L2291.05 1483.85 L2269.1 1483.85 L2269.1 1479.92 Q2271.76 1477.16 2276.35 1472.53 Q2280.95 1467.88 2282.13 1466.54 Q2284.38 1464.01 2285.26 1462.28 Q2286.16 1460.52 2286.16 1458.83 Q2286.16 1456.07 2284.22 1454.34 Q2282.3 1452.6 2279.19 1452.6 Q2276.99 1452.6 2274.54 1453.37 Q2272.11 1454.13 2269.33 1455.68 L2269.33 1450.96 Q2272.16 1449.82 2274.61 1449.25 Q2277.06 1448.67 2279.1 1448.67 Q2284.47 1448.67 2287.67 1451.35 Q2290.86 1454.04 2290.86 1458.53 Q2290.86 1460.66 2290.05 1462.58 Q2289.26 1464.48 2287.16 1467.07 Q2286.58 1467.74 2283.48 1470.96 Q2280.37 1474.15 2274.73 1479.92 Z\" fill=\"#000000\" fill-rule=\"evenodd\" fill-opacity=\"1\" /><path clip-path=\"url(#clip650)\" d=\"M 0 0 M2296.16 1449.29 L2314.52 1449.29 L2314.52 1453.23 L2300.44 1453.23 L2300.44 1461.7 Q2301.46 1461.35 2302.48 1461.19 Q2303.5 1461 2304.52 1461 Q2310.3 1461 2313.68 1464.18 Q2317.06 1467.35 2317.06 1472.76 Q2317.06 1478.34 2313.59 1481.44 Q2310.12 1484.52 2303.8 1484.52 Q2301.62 1484.52 2299.36 1484.15 Q2297.11 1483.78 2294.7 1483.04 L2294.7 1478.34 Q2296.79 1479.48 2299.01 1480.03 Q2301.23 1480.59 2303.71 1480.59 Q2307.71 1480.59 2310.05 1478.48 Q2312.39 1476.38 2312.39 1472.76 Q2312.39 1469.15 2310.05 1467.05 Q2307.71 1464.94 2303.71 1464.94 Q2301.83 1464.94 2299.96 1465.36 Q2298.11 1465.77 2296.16 1466.65 L2296.16 1449.29 Z\" fill=\"#000000\" fill-rule=\"evenodd\" fill-opacity=\"1\" /><path clip-path=\"url(#clip650)\" d=\"M 0 0 M1165.44 1520.4 L1171.3 1520.4 L1171.3 1556.04 L1165.44 1556.04 L1165.44 1520.4 M1165.44 1506.52 L1171.3 1506.52 L1171.3 1513.93 L1165.44 1513.93 L1165.44 1506.52 Z\" fill=\"#000000\" fill-rule=\"evenodd\" fill-opacity=\"1\" /><path clip-path=\"url(#clip650)\" d=\"M 0 0 M1183.23 1510.27 L1183.23 1520.4 L1195.3 1520.4 L1195.3 1524.95 L1183.23 1524.95 L1183.23 1544.3 Q1183.23 1548.66 1184.41 1549.9 Q1185.62 1551.14 1189.28 1551.14 L1195.3 1551.14 L1195.3 1556.04 L1189.28 1556.04 Q1182.5 1556.04 1179.92 1553.53 Q1177.34 1550.98 1177.34 1544.3 L1177.34 1524.95 L1173.05 1524.95 L1173.05 1520.4 L1177.34 1520.4 L1177.34 1510.27 L1183.23 1510.27 Z\" fill=\"#000000\" fill-rule=\"evenodd\" fill-opacity=\"1\" /><path clip-path=\"url(#clip650)\" d=\"M 0 0 M1231.93 1536.76 L1231.93 1539.62 L1205 1539.62 Q1205.39 1545.67 1208.63 1548.85 Q1211.91 1552 1217.74 1552 Q1221.11 1552 1224.26 1551.17 Q1227.44 1550.35 1230.56 1548.69 L1230.56 1554.23 Q1227.41 1555.57 1224.1 1556.27 Q1220.79 1556.97 1217.38 1556.97 Q1208.85 1556.97 1203.86 1552 Q1198.89 1547.04 1198.89 1538.57 Q1198.89 1529.82 1203.6 1524.69 Q1208.35 1519.54 1216.37 1519.54 Q1223.56 1519.54 1227.73 1524.18 Q1231.93 1528.8 1231.93 1536.76 M1226.07 1535.04 Q1226.01 1530.23 1223.37 1527.37 Q1220.76 1524.5 1216.43 1524.5 Q1211.53 1524.5 1208.57 1527.27 Q1205.64 1530.04 1205.19 1535.07 L1226.07 1535.04 Z\" fill=\"#000000\" fill-rule=\"evenodd\" fill-opacity=\"1\" /><path clip-path=\"url(#clip650)\" d=\"M 0 0 M1258.73 1525.87 Q1257.74 1525.3 1256.57 1525.04 Q1255.42 1524.76 1254.02 1524.76 Q1249.05 1524.76 1246.38 1528 Q1243.74 1531.22 1243.74 1537.27 L1243.74 1556.04 L1237.85 1556.04 L1237.85 1520.4 L1243.74 1520.4 L1243.74 1525.93 Q1245.59 1522.69 1248.55 1521.13 Q1251.51 1519.54 1255.74 1519.54 Q1256.34 1519.54 1257.08 1519.63 Q1257.81 1519.7 1258.7 1519.85 L1258.73 1525.87 Z\" fill=\"#000000\" fill-rule=\"evenodd\" fill-opacity=\"1\" /><path clip-path=\"url(#clip650)\" d=\"M 0 0 M1281.07 1538.12 Q1273.98 1538.12 1271.24 1539.75 Q1268.5 1541.37 1268.5 1545.29 Q1268.5 1548.4 1270.54 1550.25 Q1272.61 1552.07 1276.14 1552.07 Q1281.01 1552.07 1283.94 1548.63 Q1286.9 1545.16 1286.9 1539.43 L1286.9 1538.12 L1281.07 1538.12 M1292.75 1535.71 L1292.75 1556.04 L1286.9 1556.04 L1286.9 1550.63 Q1284.89 1553.88 1281.9 1555.44 Q1278.91 1556.97 1274.58 1556.97 Q1269.11 1556.97 1265.86 1553.91 Q1262.65 1550.82 1262.65 1545.67 Q1262.65 1539.65 1266.66 1536.6 Q1270.7 1533.54 1278.69 1533.54 L1286.9 1533.54 L1286.9 1532.97 Q1286.9 1528.93 1284.22 1526.73 Q1281.58 1524.5 1276.78 1524.5 Q1273.72 1524.5 1270.83 1525.23 Q1267.93 1525.97 1265.26 1527.43 L1265.26 1522.02 Q1268.47 1520.78 1271.49 1520.17 Q1274.52 1519.54 1277.38 1519.54 Q1285.12 1519.54 1288.94 1523.55 Q1292.75 1527.56 1292.75 1535.71 Z\" fill=\"#000000\" fill-rule=\"evenodd\" fill-opacity=\"1\" /><path clip-path=\"url(#clip650)\" d=\"M 0 0 M1304.69 1510.27 L1304.69 1520.4 L1316.75 1520.4 L1316.75 1524.95 L1304.69 1524.95 L1304.69 1544.3 Q1304.69 1548.66 1305.87 1549.9 Q1307.08 1551.14 1310.74 1551.14 L1316.75 1551.14 L1316.75 1556.04 L1310.74 1556.04 Q1303.96 1556.04 1301.38 1553.53 Q1298.8 1550.98 1298.8 1544.3 L1298.8 1524.95 L1294.51 1524.95 L1294.51 1520.4 L1298.8 1520.4 L1298.8 1510.27 L1304.69 1510.27 Z\" fill=\"#000000\" fill-rule=\"evenodd\" fill-opacity=\"1\" /><path clip-path=\"url(#clip650)\" d=\"M 0 0 M1322.9 1520.4 L1328.75 1520.4 L1328.75 1556.04 L1322.9 1556.04 L1322.9 1520.4 M1322.9 1506.52 L1328.75 1506.52 L1328.75 1513.93 L1322.9 1513.93 L1322.9 1506.52 Z\" fill=\"#000000\" fill-rule=\"evenodd\" fill-opacity=\"1\" /><path clip-path=\"url(#clip650)\" d=\"M 0 0 M1348.71 1524.5 Q1344 1524.5 1341.26 1528.19 Q1338.52 1531.85 1338.52 1538.25 Q1338.52 1544.65 1341.23 1548.34 Q1343.97 1552 1348.71 1552 Q1353.39 1552 1356.13 1548.31 Q1358.86 1544.62 1358.86 1538.25 Q1358.86 1531.92 1356.13 1528.23 Q1353.39 1524.5 1348.71 1524.5 M1348.71 1519.54 Q1356.35 1519.54 1360.71 1524.5 Q1365.07 1529.47 1365.07 1538.25 Q1365.07 1547 1360.71 1552 Q1356.35 1556.97 1348.71 1556.97 Q1341.04 1556.97 1336.68 1552 Q1332.35 1547 1332.35 1538.25 Q1332.35 1529.47 1336.68 1524.5 Q1341.04 1519.54 1348.71 1519.54 Z\" fill=\"#000000\" fill-rule=\"evenodd\" fill-opacity=\"1\" /><path clip-path=\"url(#clip650)\" d=\"M 0 0 M1400.84 1534.53 L1400.84 1556.04 L1394.99 1556.04 L1394.99 1534.72 Q1394.99 1529.66 1393.01 1527.14 Q1391.04 1524.63 1387.09 1524.63 Q1382.35 1524.63 1379.61 1527.65 Q1376.88 1530.68 1376.88 1535.9 L1376.88 1556.04 L1370.99 1556.04 L1370.99 1520.4 L1376.88 1520.4 L1376.88 1525.93 Q1378.98 1522.72 1381.81 1521.13 Q1384.68 1519.54 1388.4 1519.54 Q1394.54 1519.54 1397.69 1523.36 Q1400.84 1527.14 1400.84 1534.53 Z\" fill=\"#000000\" fill-rule=\"evenodd\" fill-opacity=\"1\" /><path clip-path=\"url(#clip650)\" d=\"M 0 0 M1429.71 1521.45 L1429.71 1526.98 Q1427.23 1525.71 1424.56 1525.07 Q1421.88 1524.44 1419.02 1524.44 Q1414.66 1524.44 1412.46 1525.77 Q1410.3 1527.11 1410.3 1529.79 Q1410.3 1531.82 1411.86 1533 Q1413.42 1534.15 1418.13 1535.2 L1420.13 1535.64 Q1426.37 1536.98 1428.98 1539.43 Q1431.62 1541.85 1431.62 1546.21 Q1431.62 1551.17 1427.68 1554.07 Q1423.76 1556.97 1416.89 1556.97 Q1414.02 1556.97 1410.9 1556.39 Q1407.82 1555.85 1404.38 1554.74 L1404.38 1548.69 Q1407.62 1550.38 1410.78 1551.24 Q1413.93 1552.07 1417.01 1552.07 Q1421.15 1552.07 1423.38 1550.66 Q1425.61 1549.23 1425.61 1546.65 Q1425.61 1544.27 1423.98 1542.99 Q1422.39 1541.72 1416.95 1540.54 L1414.91 1540.07 Q1409.47 1538.92 1407.05 1536.56 Q1404.63 1534.18 1404.63 1530.04 Q1404.63 1525.01 1408.2 1522.27 Q1411.76 1519.54 1418.32 1519.54 Q1421.56 1519.54 1424.43 1520.01 Q1427.29 1520.49 1429.71 1521.45 Z\" fill=\"#000000\" fill-rule=\"evenodd\" fill-opacity=\"1\" /><polyline clip-path=\"url(#clip652)\" style=\"stroke:#000000; stroke-width:2; stroke-opacity:0.1; fill:none\" points=\"\n",
       "  244.308,1376.2 2352.76,1376.2 \n",
       "  \"/>\n",
       "<polyline clip-path=\"url(#clip652)\" style=\"stroke:#000000; stroke-width:2; stroke-opacity:0.1; fill:none\" points=\"\n",
       "  244.308,1181.48 2352.76,1181.48 \n",
       "  \"/>\n",
       "<polyline clip-path=\"url(#clip652)\" style=\"stroke:#000000; stroke-width:2; stroke-opacity:0.1; fill:none\" points=\"\n",
       "  244.308,986.759 2352.76,986.759 \n",
       "  \"/>\n",
       "<polyline clip-path=\"url(#clip652)\" style=\"stroke:#000000; stroke-width:2; stroke-opacity:0.1; fill:none\" points=\"\n",
       "  244.308,792.036 2352.76,792.036 \n",
       "  \"/>\n",
       "<polyline clip-path=\"url(#clip652)\" style=\"stroke:#000000; stroke-width:2; stroke-opacity:0.1; fill:none\" points=\"\n",
       "  244.308,597.313 2352.76,597.313 \n",
       "  \"/>\n",
       "<polyline clip-path=\"url(#clip652)\" style=\"stroke:#000000; stroke-width:2; stroke-opacity:0.1; fill:none\" points=\"\n",
       "  244.308,402.591 2352.76,402.591 \n",
       "  \"/>\n",
       "<polyline clip-path=\"url(#clip652)\" style=\"stroke:#000000; stroke-width:2; stroke-opacity:0.1; fill:none\" points=\"\n",
       "  244.308,207.868 2352.76,207.868 \n",
       "  \"/>\n",
       "<polyline clip-path=\"url(#clip650)\" style=\"stroke:#000000; stroke-width:4; stroke-opacity:1; fill:none\" points=\"\n",
       "  244.308,1423.18 244.308,123.472 \n",
       "  \"/>\n",
       "<polyline clip-path=\"url(#clip650)\" style=\"stroke:#000000; stroke-width:4; stroke-opacity:1; fill:none\" points=\"\n",
       "  244.308,1376.2 269.609,1376.2 \n",
       "  \"/>\n",
       "<polyline clip-path=\"url(#clip650)\" style=\"stroke:#000000; stroke-width:4; stroke-opacity:1; fill:none\" points=\"\n",
       "  244.308,1181.48 269.609,1181.48 \n",
       "  \"/>\n",
       "<polyline clip-path=\"url(#clip650)\" style=\"stroke:#000000; stroke-width:4; stroke-opacity:1; fill:none\" points=\"\n",
       "  244.308,986.759 269.609,986.759 \n",
       "  \"/>\n",
       "<polyline clip-path=\"url(#clip650)\" style=\"stroke:#000000; stroke-width:4; stroke-opacity:1; fill:none\" points=\"\n",
       "  244.308,792.036 269.609,792.036 \n",
       "  \"/>\n",
       "<polyline clip-path=\"url(#clip650)\" style=\"stroke:#000000; stroke-width:4; stroke-opacity:1; fill:none\" points=\"\n",
       "  244.308,597.313 269.609,597.313 \n",
       "  \"/>\n",
       "<polyline clip-path=\"url(#clip650)\" style=\"stroke:#000000; stroke-width:4; stroke-opacity:1; fill:none\" points=\"\n",
       "  244.308,402.591 269.609,402.591 \n",
       "  \"/>\n",
       "<polyline clip-path=\"url(#clip650)\" style=\"stroke:#000000; stroke-width:4; stroke-opacity:1; fill:none\" points=\"\n",
       "  244.308,207.868 269.609,207.868 \n",
       "  \"/>\n",
       "<path clip-path=\"url(#clip650)\" d=\"M 0 0 M115.195 1396 L122.834 1396 L122.834 1369.63 L114.523 1371.3 L114.523 1367.04 L122.787 1365.37 L127.463 1365.37 L127.463 1396 L135.102 1396 L135.102 1399.93 L115.195 1399.93 L115.195 1396 Z\" fill=\"#000000\" fill-rule=\"evenodd\" fill-opacity=\"1\" /><path clip-path=\"url(#clip650)\" d=\"M 0 0 M150.171 1368.45 Q146.56 1368.45 144.732 1372.02 Q142.926 1375.56 142.926 1382.69 Q142.926 1389.79 144.732 1393.36 Q146.56 1396.9 150.171 1396.9 Q153.806 1396.9 155.611 1393.36 Q157.44 1389.79 157.44 1382.69 Q157.44 1375.56 155.611 1372.02 Q153.806 1368.45 150.171 1368.45 M150.171 1364.75 Q155.982 1364.75 159.037 1369.35 Q162.116 1373.94 162.116 1382.69 Q162.116 1391.41 159.037 1396.02 Q155.982 1400.6 150.171 1400.6 Q144.361 1400.6 141.283 1396.02 Q138.227 1391.41 138.227 1382.69 Q138.227 1373.94 141.283 1369.35 Q144.361 1364.75 150.171 1364.75 Z\" fill=\"#000000\" fill-rule=\"evenodd\" fill-opacity=\"1\" /><path clip-path=\"url(#clip650)\" d=\"M 0 0 M162.116 1358.85 L186.227 1358.85 L186.227 1362.05 L162.116 1362.05 L162.116 1358.85 Z\" fill=\"#000000\" fill-rule=\"evenodd\" fill-opacity=\"1\" /><path clip-path=\"url(#clip650)\" d=\"M 0 0 M198.941 1356.97 Q196.384 1356.97 194.879 1358.72 Q193.393 1360.47 193.393 1363.51 Q193.393 1366.54 194.879 1368.31 Q196.384 1370.06 198.941 1370.06 Q201.499 1370.06 202.985 1368.31 Q204.49 1366.54 204.49 1363.51 Q204.49 1360.47 202.985 1358.72 Q201.499 1356.97 198.941 1356.97 M206.483 1345.06 L206.483 1348.52 Q205.054 1347.85 203.587 1347.49 Q202.139 1347.13 200.709 1347.13 Q196.948 1347.13 194.954 1349.67 Q192.979 1352.21 192.697 1357.34 Q193.807 1355.71 195.481 1354.84 Q197.155 1353.96 199.167 1353.96 Q203.399 1353.96 205.844 1356.53 Q208.308 1359.09 208.308 1363.51 Q208.308 1367.84 205.75 1370.45 Q203.192 1373.07 198.941 1373.07 Q194.07 1373.07 191.494 1369.34 Q188.917 1365.6 188.917 1358.51 Q188.917 1351.85 192.077 1347.9 Q195.236 1343.93 200.559 1343.93 Q201.988 1343.93 203.436 1344.22 Q204.903 1344.5 206.483 1345.06 Z\" fill=\"#000000\" fill-rule=\"evenodd\" fill-opacity=\"1\" /><path clip-path=\"url(#clip650)\" d=\"M 0 0 M116.135 1201.27 L123.774 1201.27 L123.774 1174.91 L115.464 1176.57 L115.464 1172.32 L123.728 1170.65 L128.404 1170.65 L128.404 1201.27 L136.042 1201.27 L136.042 1205.21 L116.135 1205.21 L116.135 1201.27 Z\" fill=\"#000000\" fill-rule=\"evenodd\" fill-opacity=\"1\" /><path clip-path=\"url(#clip650)\" d=\"M 0 0 M151.112 1173.73 Q147.501 1173.73 145.672 1177.29 Q143.866 1180.83 143.866 1187.96 Q143.866 1195.07 145.672 1198.63 Q147.501 1202.18 151.112 1202.18 Q154.746 1202.18 156.552 1198.63 Q158.38 1195.07 158.38 1187.96 Q158.38 1180.83 156.552 1177.29 Q154.746 1173.73 151.112 1173.73 M151.112 1170.02 Q156.922 1170.02 159.978 1174.63 Q163.056 1179.21 163.056 1187.96 Q163.056 1196.69 159.978 1201.3 Q156.922 1205.88 151.112 1205.88 Q145.302 1205.88 142.223 1201.3 Q139.167 1196.69 139.167 1187.96 Q139.167 1179.21 142.223 1174.63 Q145.302 1170.02 151.112 1170.02 Z\" fill=\"#000000\" fill-rule=\"evenodd\" fill-opacity=\"1\" /><path clip-path=\"url(#clip650)\" d=\"M 0 0 M163.056 1164.13 L187.168 1164.13 L187.168 1167.32 L163.056 1167.32 L163.056 1164.13 Z\" fill=\"#000000\" fill-rule=\"evenodd\" fill-opacity=\"1\" /><path clip-path=\"url(#clip650)\" d=\"M 0 0 M191.324 1149.72 L206.239 1149.72 L206.239 1152.92 L194.804 1152.92 L194.804 1159.8 Q195.631 1159.52 196.459 1159.39 Q197.286 1159.24 198.114 1159.24 Q202.816 1159.24 205.562 1161.81 Q208.308 1164.39 208.308 1168.79 Q208.308 1173.32 205.487 1175.84 Q202.665 1178.34 197.531 1178.34 Q195.763 1178.34 193.92 1178.04 Q192.095 1177.74 190.139 1177.14 L190.139 1173.32 Q191.832 1174.24 193.638 1174.7 Q195.443 1175.15 197.456 1175.15 Q200.709 1175.15 202.609 1173.44 Q204.509 1171.72 204.509 1168.79 Q204.509 1165.86 202.609 1164.14 Q200.709 1162.43 197.456 1162.43 Q195.932 1162.43 194.409 1162.77 Q192.904 1163.11 191.324 1163.82 L191.324 1149.72 Z\" fill=\"#000000\" fill-rule=\"evenodd\" fill-opacity=\"1\" /><path clip-path=\"url(#clip650)\" d=\"M 0 0 M114.931 1006.55 L122.57 1006.55 L122.57 980.186 L114.26 981.852 L114.26 977.593 L122.524 975.926 L127.2 975.926 L127.2 1006.55 L134.839 1006.55 L134.839 1010.49 L114.931 1010.49 L114.931 1006.55 Z\" fill=\"#000000\" fill-rule=\"evenodd\" fill-opacity=\"1\" /><path clip-path=\"url(#clip650)\" d=\"M 0 0 M149.908 979.005 Q146.297 979.005 144.468 982.57 Q142.663 986.111 142.663 993.241 Q142.663 1000.35 144.468 1003.91 Q146.297 1007.45 149.908 1007.45 Q153.542 1007.45 155.348 1003.91 Q157.177 1000.35 157.177 993.241 Q157.177 986.111 155.348 982.57 Q153.542 979.005 149.908 979.005 M149.908 975.301 Q155.718 975.301 158.774 979.908 Q161.852 984.491 161.852 993.241 Q161.852 1001.97 158.774 1006.57 Q155.718 1011.16 149.908 1011.16 Q144.098 1011.16 141.019 1006.57 Q137.964 1001.97 137.964 993.241 Q137.964 984.491 141.019 979.908 Q144.098 975.301 149.908 975.301 Z\" fill=\"#000000\" fill-rule=\"evenodd\" fill-opacity=\"1\" /><path clip-path=\"url(#clip650)\" d=\"M 0 0 M161.852 969.403 L185.964 969.403 L185.964 972.6 L161.852 972.6 L161.852 969.403 Z\" fill=\"#000000\" fill-rule=\"evenodd\" fill-opacity=\"1\" /><path clip-path=\"url(#clip650)\" d=\"M 0 0 M200.521 958.306 L190.929 973.296 L200.521 973.296 L200.521 958.306 M199.524 954.996 L204.302 954.996 L204.302 973.296 L208.308 973.296 L208.308 976.456 L204.302 976.456 L204.302 983.076 L200.521 983.076 L200.521 976.456 L187.845 976.456 L187.845 972.788 L199.524 954.996 Z\" fill=\"#000000\" fill-rule=\"evenodd\" fill-opacity=\"1\" /><path clip-path=\"url(#clip650)\" d=\"M 0 0 M115.853 811.828 L123.492 811.828 L123.492 785.463 L115.182 787.13 L115.182 782.87 L123.446 781.204 L128.121 781.204 L128.121 811.828 L135.76 811.828 L135.76 815.764 L115.853 815.764 L115.853 811.828 Z\" fill=\"#000000\" fill-rule=\"evenodd\" fill-opacity=\"1\" /><path clip-path=\"url(#clip650)\" d=\"M 0 0 M150.83 784.282 Q147.219 784.282 145.39 787.847 Q143.584 791.389 143.584 798.518 Q143.584 805.625 145.39 809.19 Q147.219 812.731 150.83 812.731 Q154.464 812.731 156.269 809.19 Q158.098 805.625 158.098 798.518 Q158.098 791.389 156.269 787.847 Q154.464 784.282 150.83 784.282 M150.83 780.579 Q156.64 780.579 159.695 785.185 Q162.774 789.768 162.774 798.518 Q162.774 807.245 159.695 811.852 Q156.64 816.435 150.83 816.435 Q145.02 816.435 141.941 811.852 Q138.885 807.245 138.885 798.518 Q138.885 789.768 141.941 785.185 Q145.02 780.579 150.83 780.579 Z\" fill=\"#000000\" fill-rule=\"evenodd\" fill-opacity=\"1\" /><path clip-path=\"url(#clip650)\" d=\"M 0 0 M162.774 774.68 L186.886 774.68 L186.886 777.877 L162.774 777.877 L162.774 774.68 Z\" fill=\"#000000\" fill-rule=\"evenodd\" fill-opacity=\"1\" /><path clip-path=\"url(#clip650)\" d=\"M 0 0 M202.515 773.213 Q205.242 773.796 206.765 775.639 Q208.308 777.482 208.308 780.191 Q208.308 784.347 205.449 786.623 Q202.59 788.899 197.324 788.899 Q195.556 788.899 193.675 788.541 Q191.813 788.203 189.82 787.507 L189.82 783.839 Q191.4 784.761 193.28 785.231 Q195.161 785.701 197.211 785.701 Q200.785 785.701 202.647 784.291 Q204.527 782.88 204.527 780.191 Q204.527 777.708 202.778 776.316 Q201.048 774.906 197.945 774.906 L194.672 774.906 L194.672 771.784 L198.095 771.784 Q200.897 771.784 202.383 770.674 Q203.869 769.545 203.869 767.439 Q203.869 765.276 202.327 764.129 Q200.803 762.963 197.945 762.963 Q196.384 762.963 194.597 763.301 Q192.81 763.64 190.666 764.355 L190.666 760.969 Q192.829 760.367 194.71 760.066 Q196.609 759.765 198.283 759.765 Q202.609 759.765 205.129 761.74 Q207.649 763.696 207.649 767.044 Q207.649 769.376 206.314 770.994 Q204.979 772.592 202.515 773.213 Z\" fill=\"#000000\" fill-rule=\"evenodd\" fill-opacity=\"1\" /><path clip-path=\"url(#clip650)\" d=\"M 0 0 M116.624 617.106 L124.263 617.106 L124.263 590.74 L115.953 592.407 L115.953 588.148 L124.217 586.481 L128.893 586.481 L128.893 617.106 L136.531 617.106 L136.531 621.041 L116.624 621.041 L116.624 617.106 Z\" fill=\"#000000\" fill-rule=\"evenodd\" fill-opacity=\"1\" /><path clip-path=\"url(#clip650)\" d=\"M 0 0 M151.601 589.56 Q147.99 589.56 146.161 593.124 Q144.355 596.666 144.355 603.796 Q144.355 610.902 146.161 614.467 Q147.99 618.009 151.601 618.009 Q155.235 618.009 157.041 614.467 Q158.869 610.902 158.869 603.796 Q158.869 596.666 157.041 593.124 Q155.235 589.56 151.601 589.56 M151.601 585.856 Q157.411 585.856 160.467 590.462 Q163.545 595.046 163.545 603.796 Q163.545 612.522 160.467 617.129 Q157.411 621.712 151.601 621.712 Q145.791 621.712 142.712 617.129 Q139.656 612.522 139.656 603.796 Q139.656 595.046 142.712 590.462 Q145.791 585.856 151.601 585.856 Z\" fill=\"#000000\" fill-rule=\"evenodd\" fill-opacity=\"1\" /><path clip-path=\"url(#clip650)\" d=\"M 0 0 M163.545 579.957 L187.657 579.957 L187.657 583.155 L163.545 583.155 L163.545 579.957 Z\" fill=\"#000000\" fill-rule=\"evenodd\" fill-opacity=\"1\" /><path clip-path=\"url(#clip650)\" d=\"M 0 0 M195.048 590.433 L208.308 590.433 L208.308 593.631 L190.478 593.631 L190.478 590.433 Q192.641 588.195 196.365 584.434 Q200.107 580.653 201.067 579.562 Q202.891 577.512 203.606 576.102 Q204.339 574.672 204.339 573.299 Q204.339 571.061 202.759 569.651 Q201.198 568.24 198.678 568.24 Q196.891 568.24 194.898 568.861 Q192.923 569.481 190.666 570.742 L190.666 566.905 Q192.961 565.983 194.954 565.513 Q196.948 565.043 198.603 565.043 Q202.966 565.043 205.562 567.224 Q208.157 569.406 208.157 573.055 Q208.157 574.785 207.499 576.346 Q206.859 577.888 205.148 579.995 Q204.678 580.54 202.158 583.155 Q199.637 585.75 195.048 590.433 Z\" fill=\"#000000\" fill-rule=\"evenodd\" fill-opacity=\"1\" /><path clip-path=\"url(#clip650)\" d=\"M 0 0 M116.323 422.383 L123.962 422.383 L123.962 396.018 L115.652 397.684 L115.652 393.425 L123.916 391.758 L128.592 391.758 L128.592 422.383 L136.231 422.383 L136.231 426.318 L116.323 426.318 L116.323 422.383 Z\" fill=\"#000000\" fill-rule=\"evenodd\" fill-opacity=\"1\" /><path clip-path=\"url(#clip650)\" d=\"M 0 0 M151.3 394.837 Q147.689 394.837 145.86 398.402 Q144.055 401.943 144.055 409.073 Q144.055 416.179 145.86 419.744 Q147.689 423.286 151.3 423.286 Q154.934 423.286 156.74 419.744 Q158.568 416.179 158.568 409.073 Q158.568 401.943 156.74 398.402 Q154.934 394.837 151.3 394.837 M151.3 391.133 Q157.11 391.133 160.166 395.74 Q163.244 400.323 163.244 409.073 Q163.244 417.8 160.166 422.406 Q157.11 426.99 151.3 426.99 Q145.49 426.99 142.411 422.406 Q139.356 417.8 139.356 409.073 Q139.356 400.323 142.411 395.74 Q145.49 391.133 151.3 391.133 Z\" fill=\"#000000\" fill-rule=\"evenodd\" fill-opacity=\"1\" /><path clip-path=\"url(#clip650)\" d=\"M 0 0 M163.244 385.235 L187.356 385.235 L187.356 388.432 L163.244 388.432 L163.244 385.235 Z\" fill=\"#000000\" fill-rule=\"evenodd\" fill-opacity=\"1\" /><path clip-path=\"url(#clip650)\" d=\"M 0 0 M192.133 395.711 L198.34 395.711 L198.34 374.289 L191.588 375.643 L191.588 372.182 L198.302 370.828 L202.101 370.828 L202.101 395.711 L208.308 395.711 L208.308 398.908 L192.133 398.908 L192.133 395.711 Z\" fill=\"#000000\" fill-rule=\"evenodd\" fill-opacity=\"1\" /><path clip-path=\"url(#clip650)\" d=\"M 0 0 M141.977 227.66 L149.616 227.66 L149.616 201.295 L141.306 202.961 L141.306 198.702 L149.57 197.036 L154.245 197.036 L154.245 227.66 L161.884 227.66 L161.884 231.596 L141.977 231.596 L141.977 227.66 Z\" fill=\"#000000\" fill-rule=\"evenodd\" fill-opacity=\"1\" /><path clip-path=\"url(#clip650)\" d=\"M 0 0 M176.954 200.114 Q173.343 200.114 171.514 203.679 Q169.708 207.221 169.708 214.35 Q169.708 221.457 171.514 225.022 Q173.343 228.563 176.954 228.563 Q180.588 228.563 182.393 225.022 Q184.222 221.457 184.222 214.35 Q184.222 207.221 182.393 203.679 Q180.588 200.114 176.954 200.114 M176.954 196.411 Q182.764 196.411 185.819 201.017 Q188.898 205.6 188.898 214.35 Q188.898 223.077 185.819 227.684 Q182.764 232.267 176.954 232.267 Q171.144 232.267 168.065 227.684 Q165.009 223.077 165.009 214.35 Q165.009 205.6 168.065 201.017 Q171.144 196.411 176.954 196.411 Z\" fill=\"#000000\" fill-rule=\"evenodd\" fill-opacity=\"1\" /><path clip-path=\"url(#clip650)\" d=\"M 0 0 M198.603 178.607 Q195.669 178.607 194.183 181.503 Q192.716 184.381 192.716 190.173 Q192.716 195.947 194.183 198.844 Q195.669 201.721 198.603 201.721 Q201.556 201.721 203.023 198.844 Q204.509 195.947 204.509 190.173 Q204.509 184.381 203.023 181.503 Q201.556 178.607 198.603 178.607 M198.603 175.597 Q203.324 175.597 205.806 179.34 Q208.308 183.064 208.308 190.173 Q208.308 197.264 205.806 201.007 Q203.324 204.731 198.603 204.731 Q193.882 204.731 191.381 201.007 Q188.898 197.264 188.898 190.173 Q188.898 183.064 191.381 179.34 Q193.882 175.597 198.603 175.597 Z\" fill=\"#000000\" fill-rule=\"evenodd\" fill-opacity=\"1\" /><path clip-path=\"url(#clip650)\" d=\"M 0 0 M57.8307 875.702 Q57.2578 876.689 57.0032 877.867 Q56.7167 879.013 56.7167 880.413 Q56.7167 885.378 59.9632 888.052 Q63.1779 890.694 69.2253 890.694 L88.0042 890.694 L88.0042 896.582 L52.3562 896.582 L52.3562 890.694 L57.8944 890.694 Q54.6479 888.848 53.0883 885.888 Q51.4968 882.928 51.4968 878.694 Q51.4968 878.09 51.5923 877.358 Q51.656 876.625 51.8151 875.734 L57.8307 875.702 Z\" fill=\"#000000\" fill-rule=\"evenodd\" fill-opacity=\"1\" /><path clip-path=\"url(#clip650)\" d=\"M 0 0 M68.7161 840.5 L71.5806 840.5 L71.5806 867.427 Q77.6281 867.045 80.8109 863.799 Q83.9619 860.52 83.9619 854.696 Q83.9619 851.322 83.1344 848.171 Q82.3069 844.988 80.6518 841.869 L86.1899 841.869 Q87.5267 845.02 88.227 848.33 Q88.9272 851.64 88.9272 855.046 Q88.9272 863.576 83.9619 868.573 Q78.9967 873.538 70.5303 873.538 Q61.7774 873.538 56.6531 868.827 Q51.4968 864.085 51.4968 856.064 Q51.4968 848.871 56.1438 844.701 Q60.7589 840.5 68.7161 840.5 M66.9973 846.357 Q62.1912 846.42 59.3266 849.062 Q56.4621 851.672 56.4621 856.001 Q56.4621 860.902 59.2312 863.862 Q62.0002 866.79 67.0292 867.236 L66.9973 846.357 Z\" fill=\"#000000\" fill-rule=\"evenodd\" fill-opacity=\"1\" /><path clip-path=\"url(#clip650)\" d=\"M 0 0 M53.4065 811.632 L58.9447 811.632 Q57.6716 814.114 57.035 816.788 Q56.3984 819.461 56.3984 822.326 Q56.3984 826.687 57.7352 828.883 Q59.072 831.047 61.7456 831.047 Q63.7826 831.047 64.9603 829.487 Q66.1061 827.928 67.1565 823.217 L67.6021 821.212 Q68.9389 814.974 71.3897 812.364 Q73.8086 809.722 78.1691 809.722 Q83.1344 809.722 86.0308 813.669 Q88.9272 817.584 88.9272 824.459 Q88.9272 827.323 88.3543 830.442 Q87.8132 833.53 86.6992 836.967 L80.6518 836.967 Q82.3387 833.721 83.198 830.57 Q84.0256 827.419 84.0256 824.331 Q84.0256 820.193 82.6251 817.966 Q81.1929 815.738 78.6147 815.738 Q76.2276 815.738 74.9545 817.361 Q73.6813 818.952 72.5037 824.395 L72.0262 826.432 Q70.8804 831.875 68.5251 834.294 Q66.138 836.713 62.0002 836.713 Q56.9713 836.713 54.2341 833.148 Q51.4968 829.583 51.4968 823.026 Q51.4968 819.78 51.9743 816.915 Q52.4517 814.051 53.4065 811.632 Z\" fill=\"#000000\" fill-rule=\"evenodd\" fill-opacity=\"1\" /><path clip-path=\"url(#clip650)\" d=\"M 0 0 M52.3562 803.579 L52.3562 797.723 L88.0042 797.723 L88.0042 803.579 L52.3562 803.579 M38.479 803.579 L38.479 797.723 L45.895 797.723 L45.895 803.579 L38.479 803.579 Z\" fill=\"#000000\" fill-rule=\"evenodd\" fill-opacity=\"1\" /><path clip-path=\"url(#clip650)\" d=\"M 0 0 M57.7671 768.122 L38.479 768.122 L38.479 762.266 L88.0042 762.266 L88.0042 768.122 L82.657 768.122 Q85.8398 769.968 87.3994 772.801 Q88.9272 775.602 88.9272 779.548 Q88.9272 786.01 83.771 790.084 Q78.6147 794.126 70.212 794.126 Q61.8093 794.126 56.6531 790.084 Q51.4968 786.01 51.4968 779.548 Q51.4968 775.602 53.0564 772.801 Q54.5842 769.968 57.7671 768.122 M70.212 788.079 Q76.6732 788.079 80.3653 785.437 Q84.0256 782.763 84.0256 778.116 Q84.0256 773.469 80.3653 770.796 Q76.6732 768.122 70.212 768.122 Q63.7508 768.122 60.0905 770.796 Q56.3984 773.469 56.3984 778.116 Q56.3984 782.763 60.0905 785.437 Q63.7508 788.079 70.212 788.079 Z\" fill=\"#000000\" fill-rule=\"evenodd\" fill-opacity=\"1\" /><path clip-path=\"url(#clip650)\" d=\"M 0 0 M73.9359 756.727 L52.3562 756.727 L52.3562 750.871 L73.7131 750.871 Q78.7739 750.871 81.3202 748.898 Q83.8346 746.924 83.8346 742.977 Q83.8346 738.235 80.8109 735.498 Q77.7872 732.729 72.5673 732.729 L52.3562 732.729 L52.3562 726.872 L88.0042 726.872 L88.0042 732.729 L82.5296 732.729 Q85.7762 734.861 87.3676 737.694 Q88.9272 740.495 88.9272 744.219 Q88.9272 750.362 85.1078 753.545 Q81.2883 756.727 73.9359 756.727 M51.4968 741.991 L51.4968 741.991 Z\" fill=\"#000000\" fill-rule=\"evenodd\" fill-opacity=\"1\" /><path clip-path=\"url(#clip650)\" d=\"M 0 0 M70.0847 704.529 Q70.0847 711.626 71.7079 714.364 Q73.3312 717.101 77.2461 717.101 Q80.3653 717.101 82.2114 715.064 Q84.0256 712.995 84.0256 709.462 Q84.0256 704.592 80.5881 701.664 Q77.1188 698.704 71.3897 698.704 L70.0847 698.704 L70.0847 704.529 M67.6657 692.848 L88.0042 692.848 L88.0042 698.704 L82.5933 698.704 Q85.8398 700.709 87.3994 703.701 Q88.9272 706.693 88.9272 711.022 Q88.9272 716.496 85.8716 719.743 Q82.7843 722.957 77.6281 722.957 Q71.6125 722.957 68.5569 718.947 Q65.5014 714.905 65.5014 706.916 L65.5014 698.704 L64.9285 698.704 Q60.8862 698.704 58.6901 701.378 Q56.4621 704.019 56.4621 708.825 Q56.4621 711.881 57.1941 714.777 Q57.9262 717.674 59.3903 720.347 L53.9795 720.347 Q52.7381 717.133 52.1334 714.109 Q51.4968 711.085 51.4968 708.221 Q51.4968 700.486 55.5072 696.667 Q59.5176 692.848 67.6657 692.848 Z\" fill=\"#000000\" fill-rule=\"evenodd\" fill-opacity=\"1\" /><path clip-path=\"url(#clip650)\" d=\"M 0 0 M38.479 686.705 L38.479 680.848 L88.0042 680.848 L88.0042 686.705 L38.479 686.705 Z\" fill=\"#000000\" fill-rule=\"evenodd\" fill-opacity=\"1\" /><path clip-path=\"url(#clip650)\" d=\"M 0 0 M53.4065 651.98 L58.9447 651.98 Q57.6716 654.462 57.035 657.136 Q56.3984 659.81 56.3984 662.674 Q56.3984 667.035 57.7352 669.231 Q59.072 671.395 61.7456 671.395 Q63.7826 671.395 64.9603 669.836 Q66.1061 668.276 67.1565 663.565 L67.6021 661.56 Q68.9389 655.322 71.3897 652.712 Q73.8086 650.07 78.1691 650.07 Q83.1344 650.07 86.0308 654.017 Q88.9272 657.932 88.9272 664.807 Q88.9272 667.671 88.3543 670.79 Q87.8132 673.878 86.6992 677.315 L80.6518 677.315 Q82.3387 674.069 83.198 670.918 Q84.0256 667.767 84.0256 664.679 Q84.0256 660.542 82.6251 658.314 Q81.1929 656.086 78.6147 656.086 Q76.2276 656.086 74.9545 657.709 Q73.6813 659.3 72.5037 664.743 L72.0262 666.78 Q70.8804 672.223 68.5251 674.642 Q66.138 677.061 62.0002 677.061 Q56.9713 677.061 54.2341 673.496 Q51.4968 669.931 51.4968 663.374 Q51.4968 660.128 51.9743 657.263 Q52.4517 654.399 53.4065 651.98 Z\" fill=\"#000000\" fill-rule=\"evenodd\" fill-opacity=\"1\" /><path clip-path=\"url(#clip650)\" d=\"M 0 0 M751.741 16.7545 L751.741 25.383 Q747.609 21.5346 742.91 19.6307 Q738.251 17.7268 732.985 17.7268 Q722.615 17.7268 717.106 24.0867 Q711.596 30.4061 711.596 42.3968 Q711.596 54.3469 717.106 60.7069 Q722.615 67.0263 732.985 67.0263 Q738.251 67.0263 742.91 65.1223 Q747.609 63.2184 751.741 59.3701 L751.741 67.9175 Q747.447 70.8341 742.626 72.2924 Q737.846 73.7508 732.499 73.7508 Q718.766 73.7508 710.867 65.3654 Q702.968 56.9395 702.968 42.3968 Q702.968 27.8135 710.867 19.4281 Q718.766 11.0023 732.499 11.0023 Q737.927 11.0023 742.707 12.4606 Q747.528 13.8784 751.741 16.7545 Z\" fill=\"#000000\" fill-rule=\"evenodd\" fill-opacity=\"1\" /><path clip-path=\"url(#clip650)\" d=\"M 0 0 M777.14 32.4315 Q771.145 32.4315 767.661 37.1306 Q764.177 41.7891 764.177 49.9314 Q764.177 58.0738 767.62 62.7728 Q771.104 67.4314 777.14 67.4314 Q783.095 67.4314 786.579 62.7323 Q790.062 58.0333 790.062 49.9314 Q790.062 41.8701 786.579 37.1711 Q783.095 32.4315 777.14 32.4315 M777.14 26.1121 Q786.862 26.1121 792.412 32.4315 Q797.962 38.7509 797.962 49.9314 Q797.962 61.0714 792.412 67.4314 Q786.862 73.7508 777.14 73.7508 Q767.377 73.7508 761.827 67.4314 Q756.318 61.0714 756.318 49.9314 Q756.318 38.7509 761.827 32.4315 Q767.377 26.1121 777.14 26.1121 Z\" fill=\"#000000\" fill-rule=\"evenodd\" fill-opacity=\"1\" /><path clip-path=\"url(#clip650)\" d=\"M 0 0 M843.494 45.1919 L843.494 72.576 L836.04 72.576 L836.04 45.4349 Q836.04 38.994 833.529 35.7938 Q831.017 32.5936 825.994 32.5936 Q819.958 32.5936 816.474 36.4419 Q812.99 40.2903 812.99 46.9338 L812.99 72.576 L805.496 72.576 L805.496 27.2059 L812.99 27.2059 L812.99 34.2544 Q815.664 30.163 819.269 28.1376 Q822.915 26.1121 827.655 26.1121 Q835.473 26.1121 839.483 30.9732 Q843.494 35.7938 843.494 45.1919 Z\" fill=\"#000000\" fill-rule=\"evenodd\" fill-opacity=\"1\" /><path clip-path=\"url(#clip650)\" d=\"M 0 0 M845.965 27.2059 L853.864 27.2059 L868.042 65.2844 L882.22 27.2059 L890.12 27.2059 L873.106 72.576 L862.979 72.576 L845.965 27.2059 Z\" fill=\"#000000\" fill-rule=\"evenodd\" fill-opacity=\"1\" /><path clip-path=\"url(#clip650)\" d=\"M 0 0 M936.746 48.0275 L936.746 51.6733 L902.475 51.6733 Q902.961 59.3701 907.093 63.421 Q911.265 67.4314 918.679 67.4314 Q922.972 67.4314 926.983 66.3781 Q931.034 65.3249 935.004 63.2184 L935.004 70.267 Q930.993 71.9684 926.78 72.8596 Q922.567 73.7508 918.233 73.7508 Q907.376 73.7508 901.017 67.4314 Q894.697 61.1119 894.697 50.3365 Q894.697 39.1965 900.692 32.6746 Q906.728 26.1121 916.937 26.1121 Q926.092 26.1121 931.398 32.0264 Q936.746 37.9003 936.746 48.0275 M929.292 45.84 Q929.211 39.7232 925.849 36.0774 Q922.527 32.4315 917.018 32.4315 Q910.779 32.4315 907.012 35.9558 Q903.285 39.4801 902.718 45.8805 L929.292 45.84 Z\" fill=\"#000000\" fill-rule=\"evenodd\" fill-opacity=\"1\" /><path clip-path=\"url(#clip650)\" d=\"M 0 0 M970.854 34.1734 Q969.598 33.4443 968.1 33.1202 Q966.641 32.7556 964.859 32.7556 Q958.539 32.7556 955.137 36.8875 Q951.774 40.9789 951.774 48.6757 L951.774 72.576 L944.28 72.576 L944.28 27.2059 L951.774 27.2059 L951.774 34.2544 Q954.124 30.1225 957.891 28.1376 Q961.659 26.1121 967.046 26.1121 Q967.816 26.1121 968.748 26.2337 Q969.679 26.3147 970.814 26.5172 L970.854 34.1734 Z\" fill=\"#000000\" fill-rule=\"evenodd\" fill-opacity=\"1\" /><path clip-path=\"url(#clip650)\" d=\"M 0 0 M1007.07 49.3643 Q1007.07 41.2625 1003.71 36.8065 Q1000.39 32.3505 994.349 32.3505 Q988.354 32.3505 984.992 36.8065 Q981.67 41.2625 981.67 49.3643 Q981.67 57.4256 984.992 61.8816 Q988.354 66.3376 994.349 66.3376 Q1000.39 66.3376 1003.71 61.8816 Q1007.07 57.4256 1007.07 49.3643 M1014.52 66.9452 Q1014.52 78.5308 1009.38 84.1616 Q1004.23 89.8329 993.62 89.8329 Q989.691 89.8329 986.207 89.2252 Q982.723 88.6581 979.442 87.4428 L979.442 80.1917 Q982.723 81.9741 985.924 82.8248 Q989.124 83.6755 992.445 83.6755 Q999.778 83.6755 1003.42 79.8271 Q1007.07 76.0193 1007.07 68.282 L1007.07 64.5957 Q1004.76 68.6061 1001.15 70.5911 Q997.55 72.576 992.526 72.576 Q984.182 72.576 979.077 66.2161 Q973.973 59.8562 973.973 49.3643 Q973.973 38.832 979.077 32.472 Q984.182 26.1121 992.526 26.1121 Q997.55 26.1121 1001.15 28.0971 Q1004.76 30.082 1007.07 34.0924 L1007.07 27.2059 L1014.52 27.2059 L1014.52 66.9452 Z\" fill=\"#000000\" fill-rule=\"evenodd\" fill-opacity=\"1\" /><path clip-path=\"url(#clip650)\" d=\"M 0 0 M1061.15 48.0275 L1061.15 51.6733 L1026.88 51.6733 Q1027.36 59.3701 1031.5 63.421 Q1035.67 67.4314 1043.08 67.4314 Q1047.38 67.4314 1051.39 66.3781 Q1055.44 65.3249 1059.41 63.2184 L1059.41 70.267 Q1055.4 71.9684 1051.18 72.8596 Q1046.97 73.7508 1042.64 73.7508 Q1031.78 73.7508 1025.42 67.4314 Q1019.1 61.1119 1019.1 50.3365 Q1019.1 39.1965 1025.1 32.6746 Q1031.13 26.1121 1041.34 26.1121 Q1050.49 26.1121 1055.8 32.0264 Q1061.15 37.9003 1061.15 48.0275 M1053.7 45.84 Q1053.61 39.7232 1050.25 36.0774 Q1046.93 32.4315 1041.42 32.4315 Q1035.18 32.4315 1031.42 35.9558 Q1027.69 39.4801 1027.12 45.8805 L1053.7 45.84 Z\" fill=\"#000000\" fill-rule=\"evenodd\" fill-opacity=\"1\" /><path clip-path=\"url(#clip650)\" d=\"M 0 0 M1106.68 45.1919 L1106.68 72.576 L1099.23 72.576 L1099.23 45.4349 Q1099.23 38.994 1096.72 35.7938 Q1094.2 32.5936 1089.18 32.5936 Q1083.15 32.5936 1079.66 36.4419 Q1076.18 40.2903 1076.18 46.9338 L1076.18 72.576 L1068.68 72.576 L1068.68 27.2059 L1076.18 27.2059 L1076.18 34.2544 Q1078.85 30.163 1082.46 28.1376 Q1086.1 26.1121 1090.84 26.1121 Q1098.66 26.1121 1102.67 30.9732 Q1106.68 35.7938 1106.68 45.1919 Z\" fill=\"#000000\" fill-rule=\"evenodd\" fill-opacity=\"1\" /><path clip-path=\"url(#clip650)\" d=\"M 0 0 M1147.15 28.9478 L1147.15 35.9153 Q1143.99 34.1734 1140.79 33.3227 Q1137.63 32.4315 1134.39 32.4315 Q1127.14 32.4315 1123.13 37.0496 Q1119.12 41.6271 1119.12 49.9314 Q1119.12 58.2358 1123.13 62.8538 Q1127.14 67.4314 1134.39 67.4314 Q1137.63 67.4314 1140.79 66.5807 Q1143.99 65.6895 1147.15 63.9476 L1147.15 70.8341 Q1144.03 72.2924 1140.67 73.0216 Q1137.35 73.7508 1133.58 73.7508 Q1123.33 73.7508 1117.29 67.3098 Q1111.26 60.8689 1111.26 49.9314 Q1111.26 38.832 1117.33 32.472 Q1123.45 26.1121 1134.07 26.1121 Q1137.51 26.1121 1140.79 26.8413 Q1144.07 27.5299 1147.15 28.9478 Z\" fill=\"#000000\" fill-rule=\"evenodd\" fill-opacity=\"1\" /><path clip-path=\"url(#clip650)\" d=\"M 0 0 M1193.78 48.0275 L1193.78 51.6733 L1159.5 51.6733 Q1159.99 59.3701 1164.12 63.421 Q1168.3 67.4314 1175.71 67.4314 Q1180 67.4314 1184.01 66.3781 Q1188.06 65.3249 1192.03 63.2184 L1192.03 70.267 Q1188.02 71.9684 1183.81 72.8596 Q1179.6 73.7508 1175.26 73.7508 Q1164.41 73.7508 1158.05 67.4314 Q1151.73 61.1119 1151.73 50.3365 Q1151.73 39.1965 1157.72 32.6746 Q1163.76 26.1121 1173.97 26.1121 Q1183.12 26.1121 1188.43 32.0264 Q1193.78 37.9003 1193.78 48.0275 M1186.32 45.84 Q1186.24 39.7232 1182.88 36.0774 Q1179.56 32.4315 1174.05 32.4315 Q1167.81 32.4315 1164.04 35.9558 Q1160.31 39.4801 1159.75 45.8805 L1186.32 45.84 Z\" fill=\"#000000\" fill-rule=\"evenodd\" fill-opacity=\"1\" /><path clip-path=\"url(#clip650)\" d=\"M 0 0 M1222.62 27.2059 L1230.52 27.2059 L1244.7 65.2844 L1258.87 27.2059 L1266.77 27.2059 L1249.76 72.576 L1239.63 72.576 L1222.62 27.2059 Z\" fill=\"#000000\" fill-rule=\"evenodd\" fill-opacity=\"1\" /><path clip-path=\"url(#clip650)\" d=\"M 0 0 M1303.51 28.5427 L1303.51 35.5912 Q1300.35 33.9709 1296.95 33.1607 Q1293.55 32.3505 1289.9 32.3505 Q1284.35 32.3505 1281.56 34.0519 Q1278.8 35.7533 1278.8 39.156 Q1278.8 41.7486 1280.79 43.2475 Q1282.77 44.7058 1288.77 46.0426 L1291.32 46.6097 Q1299.26 48.3111 1302.58 51.4303 Q1305.94 54.509 1305.94 60.0587 Q1305.94 66.3781 1300.92 70.0644 Q1295.94 73.7508 1287.19 73.7508 Q1283.54 73.7508 1279.57 73.0216 Q1275.64 72.3329 1271.27 70.9151 L1271.27 63.2184 Q1275.4 65.3654 1279.41 66.4591 Q1283.42 67.5124 1287.35 67.5124 Q1292.62 67.5124 1295.45 65.73 Q1298.29 63.9071 1298.29 60.6258 Q1298.29 57.5877 1296.22 55.9673 Q1294.2 54.3469 1287.27 52.8481 L1284.68 52.2405 Q1277.75 50.7821 1274.67 47.7845 Q1271.59 44.7463 1271.59 39.4801 Q1271.59 33.0797 1276.13 29.5959 Q1280.67 26.1121 1289.01 26.1121 Q1293.14 26.1121 1296.79 26.7198 Q1300.44 27.3274 1303.51 28.5427 Z\" fill=\"#000000\" fill-rule=\"evenodd\" fill-opacity=\"1\" /><path clip-path=\"url(#clip650)\" d=\"M 0 0 M1340.13 27.2059 L1347.59 27.2059 L1347.59 72.576 L1340.13 72.576 L1340.13 27.2059 M1340.13 9.54393 L1347.59 9.54393 L1347.59 18.9825 L1340.13 18.9825 L1340.13 9.54393 Z\" fill=\"#000000\" fill-rule=\"evenodd\" fill-opacity=\"1\" /><path clip-path=\"url(#clip650)\" d=\"M 0 0 M1362.78 14.324 L1362.78 27.2059 L1378.13 27.2059 L1378.13 32.9987 L1362.78 32.9987 L1362.78 57.6282 Q1362.78 63.1779 1364.28 64.7578 Q1365.82 66.3376 1370.48 66.3376 L1378.13 66.3376 L1378.13 72.576 L1370.48 72.576 Q1361.85 72.576 1358.57 69.3758 Q1355.28 66.1351 1355.28 57.6282 L1355.28 32.9987 L1349.82 32.9987 L1349.82 27.2059 L1355.28 27.2059 L1355.28 14.324 L1362.78 14.324 Z\" fill=\"#000000\" fill-rule=\"evenodd\" fill-opacity=\"1\" /><path clip-path=\"url(#clip650)\" d=\"M 0 0 M1424.76 48.0275 L1424.76 51.6733 L1390.49 51.6733 Q1390.97 59.3701 1395.11 63.421 Q1399.28 67.4314 1406.69 67.4314 Q1410.98 67.4314 1415 66.3781 Q1419.05 65.3249 1423.02 63.2184 L1423.02 70.267 Q1419.01 71.9684 1414.79 72.8596 Q1410.58 73.7508 1406.25 73.7508 Q1395.39 73.7508 1389.03 67.4314 Q1382.71 61.1119 1382.71 50.3365 Q1382.71 39.1965 1388.7 32.6746 Q1394.74 26.1121 1404.95 26.1121 Q1414.1 26.1121 1419.41 32.0264 Q1424.76 37.9003 1424.76 48.0275 M1417.3 45.84 Q1417.22 39.7232 1413.86 36.0774 Q1410.54 32.4315 1405.03 32.4315 Q1398.79 32.4315 1395.02 35.9558 Q1391.3 39.4801 1390.73 45.8805 L1417.3 45.84 Z\" fill=\"#000000\" fill-rule=\"evenodd\" fill-opacity=\"1\" /><path clip-path=\"url(#clip650)\" d=\"M 0 0 M1458.87 34.1734 Q1457.61 33.4443 1456.11 33.1202 Q1454.65 32.7556 1452.87 32.7556 Q1446.55 32.7556 1443.15 36.8875 Q1439.79 40.9789 1439.79 48.6757 L1439.79 72.576 L1432.29 72.576 L1432.29 27.2059 L1439.79 27.2059 L1439.79 34.2544 Q1442.14 30.1225 1445.9 28.1376 Q1449.67 26.1121 1455.06 26.1121 Q1455.83 26.1121 1456.76 26.2337 Q1457.69 26.3147 1458.83 26.5172 L1458.87 34.1734 Z\" fill=\"#000000\" fill-rule=\"evenodd\" fill-opacity=\"1\" /><path clip-path=\"url(#clip650)\" d=\"M 0 0 M1487.3 49.7694 Q1478.27 49.7694 1474.79 51.8354 Q1471.3 53.9013 1471.3 58.8839 Q1471.3 62.8538 1473.9 65.2034 Q1476.53 67.5124 1481.03 67.5124 Q1487.22 67.5124 1490.95 63.1374 Q1494.72 58.7219 1494.72 51.4303 L1494.72 49.7694 L1487.3 49.7694 M1502.17 46.6907 L1502.17 72.576 L1494.72 72.576 L1494.72 65.6895 Q1492.17 69.8214 1488.36 71.8063 Q1484.55 73.7508 1479.04 73.7508 Q1472.07 73.7508 1467.94 69.8619 Q1463.85 65.9325 1463.85 59.3701 Q1463.85 51.7138 1468.95 47.825 Q1474.1 43.9361 1484.27 43.9361 L1494.72 43.9361 L1494.72 43.2069 Q1494.72 38.0623 1491.31 35.2672 Q1487.95 32.4315 1481.84 32.4315 Q1477.95 32.4315 1474.26 33.3632 Q1470.57 34.295 1467.17 36.1584 L1467.17 29.2718 Q1471.26 27.692 1475.11 26.9223 Q1478.96 26.1121 1482.6 26.1121 Q1492.45 26.1121 1497.31 31.2163 Q1502.17 36.3204 1502.17 46.6907 Z\" fill=\"#000000\" fill-rule=\"evenodd\" fill-opacity=\"1\" /><path clip-path=\"url(#clip650)\" d=\"M 0 0 M1517.36 14.324 L1517.36 27.2059 L1532.71 27.2059 L1532.71 32.9987 L1517.36 32.9987 L1517.36 57.6282 Q1517.36 63.1779 1518.86 64.7578 Q1520.4 66.3376 1525.06 66.3376 L1532.71 66.3376 L1532.71 72.576 L1525.06 72.576 Q1516.43 72.576 1513.15 69.3758 Q1509.87 66.1351 1509.87 57.6282 L1509.87 32.9987 L1504.4 32.9987 L1504.4 27.2059 L1509.87 27.2059 L1509.87 14.324 L1517.36 14.324 Z\" fill=\"#000000\" fill-rule=\"evenodd\" fill-opacity=\"1\" /><path clip-path=\"url(#clip650)\" d=\"M 0 0 M1540.53 27.2059 L1547.99 27.2059 L1547.99 72.576 L1540.53 72.576 L1540.53 27.2059 M1540.53 9.54393 L1547.99 9.54393 L1547.99 18.9825 L1540.53 18.9825 L1540.53 9.54393 Z\" fill=\"#000000\" fill-rule=\"evenodd\" fill-opacity=\"1\" /><path clip-path=\"url(#clip650)\" d=\"M 0 0 M1573.39 32.4315 Q1567.39 32.4315 1563.91 37.1306 Q1560.42 41.7891 1560.42 49.9314 Q1560.42 58.0738 1563.87 62.7728 Q1567.35 67.4314 1573.39 67.4314 Q1579.34 67.4314 1582.82 62.7323 Q1586.31 58.0333 1586.31 49.9314 Q1586.31 41.8701 1582.82 37.1711 Q1579.34 32.4315 1573.39 32.4315 M1573.39 26.1121 Q1583.11 26.1121 1588.66 32.4315 Q1594.21 38.7509 1594.21 49.9314 Q1594.21 61.0714 1588.66 67.4314 Q1583.11 73.7508 1573.39 73.7508 Q1563.62 73.7508 1558.07 67.4314 Q1552.56 61.0714 1552.56 49.9314 Q1552.56 38.7509 1558.07 32.4315 Q1563.62 26.1121 1573.39 26.1121 Z\" fill=\"#000000\" fill-rule=\"evenodd\" fill-opacity=\"1\" /><path clip-path=\"url(#clip650)\" d=\"M 0 0 M1639.74 45.1919 L1639.74 72.576 L1632.29 72.576 L1632.29 45.4349 Q1632.29 38.994 1629.77 35.7938 Q1627.26 32.5936 1622.24 32.5936 Q1616.2 32.5936 1612.72 36.4419 Q1609.24 40.2903 1609.24 46.9338 L1609.24 72.576 L1601.74 72.576 L1601.74 27.2059 L1609.24 27.2059 L1609.24 34.2544 Q1611.91 30.163 1615.52 28.1376 Q1619.16 26.1121 1623.9 26.1121 Q1631.72 26.1121 1635.73 30.9732 Q1639.74 35.7938 1639.74 45.1919 Z\" fill=\"#000000\" fill-rule=\"evenodd\" fill-opacity=\"1\" /><path clip-path=\"url(#clip650)\" d=\"M 0 0 M1649.46 62.2867 L1658.01 62.2867 L1658.01 72.576 L1649.46 72.576 L1649.46 62.2867 M1649.46 29.6769 L1658.01 29.6769 L1658.01 39.9662 L1649.46 39.9662 L1649.46 29.6769 Z\" fill=\"#000000\" fill-rule=\"evenodd\" fill-opacity=\"1\" /><path clip-path=\"url(#clip650)\" d=\"M 0 0 M1692.52 12.096 L1700.71 12.096 L1700.71 68.3631 Q1700.71 79.3005 1696.53 84.2426 Q1692.4 89.1847 1683.21 89.1847 L1680.09 89.1847 L1680.09 82.2982 L1682.64 82.2982 Q1688.07 82.2982 1690.29 79.26 Q1692.52 76.2218 1692.52 68.3631 L1692.52 12.096 Z\" fill=\"#000000\" fill-rule=\"evenodd\" fill-opacity=\"1\" /><path clip-path=\"url(#clip650)\" d=\"M 0 0 M1729.14 49.7694 Q1720.11 49.7694 1716.63 51.8354 Q1713.14 53.9013 1713.14 58.8839 Q1713.14 62.8538 1715.73 65.2034 Q1718.37 67.5124 1722.86 67.5124 Q1729.06 67.5124 1732.79 63.1374 Q1736.56 58.7219 1736.56 51.4303 L1736.56 49.7694 L1729.14 49.7694 M1744.01 46.6907 L1744.01 72.576 L1736.56 72.576 L1736.56 65.6895 Q1734 69.8214 1730.2 71.8063 Q1726.39 73.7508 1720.88 73.7508 Q1713.91 73.7508 1709.78 69.8619 Q1705.69 65.9325 1705.69 59.3701 Q1705.69 51.7138 1710.79 47.825 Q1715.94 43.9361 1726.1 43.9361 L1736.56 43.9361 L1736.56 43.2069 Q1736.56 38.0623 1733.15 35.2672 Q1729.79 32.4315 1723.67 32.4315 Q1719.79 32.4315 1716.1 33.3632 Q1712.41 34.295 1709.01 36.1584 L1709.01 29.2718 Q1713.1 27.692 1716.95 26.9223 Q1720.8 26.1121 1724.44 26.1121 Q1734.29 26.1121 1739.15 31.2163 Q1744.01 36.3204 1744.01 46.6907 Z\" fill=\"#000000\" fill-rule=\"evenodd\" fill-opacity=\"1\" /><path clip-path=\"url(#clip650)\" d=\"M 0 0 M1784.48 28.9478 L1784.48 35.9153 Q1781.32 34.1734 1778.12 33.3227 Q1774.96 32.4315 1771.72 32.4315 Q1764.47 32.4315 1760.46 37.0496 Q1756.45 41.6271 1756.45 49.9314 Q1756.45 58.2358 1760.46 62.8538 Q1764.47 67.4314 1771.72 67.4314 Q1774.96 67.4314 1778.12 66.5807 Q1781.32 65.6895 1784.48 63.9476 L1784.48 70.8341 Q1781.36 72.2924 1778 73.0216 Q1774.68 73.7508 1770.91 73.7508 Q1760.66 73.7508 1754.62 67.3098 Q1748.59 60.8689 1748.59 49.9314 Q1748.59 38.832 1754.66 32.472 Q1760.78 26.1121 1771.39 26.1121 Q1774.84 26.1121 1778.12 26.8413 Q1781.4 27.5299 1784.48 28.9478 Z\" fill=\"#000000\" fill-rule=\"evenodd\" fill-opacity=\"1\" /><path clip-path=\"url(#clip650)\" d=\"M 0 0 M1809.88 32.4315 Q1803.88 32.4315 1800.4 37.1306 Q1796.91 41.7891 1796.91 49.9314 Q1796.91 58.0738 1800.36 62.7728 Q1803.84 67.4314 1809.88 67.4314 Q1815.83 67.4314 1819.32 62.7323 Q1822.8 58.0333 1822.8 49.9314 Q1822.8 41.8701 1819.32 37.1711 Q1815.83 32.4315 1809.88 32.4315 M1809.88 26.1121 Q1819.6 26.1121 1825.15 32.4315 Q1830.7 38.7509 1830.7 49.9314 Q1830.7 61.0714 1825.15 67.4314 Q1819.6 73.7508 1809.88 73.7508 Q1800.11 73.7508 1794.57 67.4314 Q1789.06 61.0714 1789.06 49.9314 Q1789.06 38.7509 1794.57 32.4315 Q1800.11 26.1121 1809.88 26.1121 Z\" fill=\"#000000\" fill-rule=\"evenodd\" fill-opacity=\"1\" /><path clip-path=\"url(#clip650)\" d=\"M 0 0 M1871.09 49.9314 Q1871.09 41.7081 1867.68 37.0496 Q1864.32 32.3505 1858.41 32.3505 Q1852.49 32.3505 1849.09 37.0496 Q1845.73 41.7081 1845.73 49.9314 Q1845.73 58.1548 1849.09 62.8538 Q1852.49 67.5124 1858.41 67.5124 Q1864.32 67.5124 1867.68 62.8538 Q1871.09 58.1548 1871.09 49.9314 M1845.73 34.0924 Q1848.08 30.0415 1851.64 28.0971 Q1855.25 26.1121 1860.23 26.1121 Q1868.49 26.1121 1873.64 32.6746 Q1878.82 39.2371 1878.82 49.9314 Q1878.82 60.6258 1873.64 67.1883 Q1868.49 73.7508 1860.23 73.7508 Q1855.25 73.7508 1851.64 71.8063 Q1848.08 69.8214 1845.73 65.7705 L1845.73 72.576 L1838.23 72.576 L1838.23 9.54393 L1845.73 9.54393 L1845.73 34.0924 Z\" fill=\"#000000\" fill-rule=\"evenodd\" fill-opacity=\"1\" /><path clip-path=\"url(#clip650)\" d=\"M 0 0 M1886.64 27.2059 L1894.1 27.2059 L1894.1 72.576 L1886.64 72.576 L1886.64 27.2059 M1886.64 9.54393 L1894.1 9.54393 L1894.1 18.9825 L1886.64 18.9825 L1886.64 9.54393 Z\" fill=\"#000000\" fill-rule=\"evenodd\" fill-opacity=\"1\" /><circle clip-path=\"url(#clip652)\" cx=\"303.981\" cy=\"160.256\" r=\"14\" fill=\"#6b0851\" fill-rule=\"evenodd\" fill-opacity=\"1\" stroke=\"#000000\" stroke-opacity=\"1\" stroke-width=\"3.2\"/>\n",
       "<circle clip-path=\"url(#clip652)\" cx=\"386.86\" cy=\"212.446\" r=\"14\" fill=\"#6b0851\" fill-rule=\"evenodd\" fill-opacity=\"1\" stroke=\"#000000\" stroke-opacity=\"1\" stroke-width=\"3.2\"/>\n",
       "<circle clip-path=\"url(#clip652)\" cx=\"469.739\" cy=\"264.478\" r=\"14\" fill=\"#6b0851\" fill-rule=\"evenodd\" fill-opacity=\"1\" stroke=\"#000000\" stroke-opacity=\"1\" stroke-width=\"3.2\"/>\n",
       "<circle clip-path=\"url(#clip652)\" cx=\"552.619\" cy=\"316.454\" r=\"14\" fill=\"#6b0851\" fill-rule=\"evenodd\" fill-opacity=\"1\" stroke=\"#000000\" stroke-opacity=\"1\" stroke-width=\"3.2\"/>\n",
       "<circle clip-path=\"url(#clip652)\" cx=\"635.498\" cy=\"368.368\" r=\"14\" fill=\"#6b0851\" fill-rule=\"evenodd\" fill-opacity=\"1\" stroke=\"#000000\" stroke-opacity=\"1\" stroke-width=\"3.2\"/>\n",
       "<circle clip-path=\"url(#clip652)\" cx=\"718.377\" cy=\"420.216\" r=\"14\" fill=\"#6b0851\" fill-rule=\"evenodd\" fill-opacity=\"1\" stroke=\"#000000\" stroke-opacity=\"1\" stroke-width=\"3.2\"/>\n",
       "<circle clip-path=\"url(#clip652)\" cx=\"801.256\" cy=\"471.993\" r=\"14\" fill=\"#6b0851\" fill-rule=\"evenodd\" fill-opacity=\"1\" stroke=\"#000000\" stroke-opacity=\"1\" stroke-width=\"3.2\"/>\n",
       "<circle clip-path=\"url(#clip652)\" cx=\"884.136\" cy=\"523.693\" r=\"14\" fill=\"#6b0851\" fill-rule=\"evenodd\" fill-opacity=\"1\" stroke=\"#000000\" stroke-opacity=\"1\" stroke-width=\"3.2\"/>\n",
       "<circle clip-path=\"url(#clip652)\" cx=\"967.015\" cy=\"575.312\" r=\"14\" fill=\"#6b0851\" fill-rule=\"evenodd\" fill-opacity=\"1\" stroke=\"#000000\" stroke-opacity=\"1\" stroke-width=\"3.2\"/>\n",
       "<circle clip-path=\"url(#clip652)\" cx=\"1049.89\" cy=\"626.844\" r=\"14\" fill=\"#6b0851\" fill-rule=\"evenodd\" fill-opacity=\"1\" stroke=\"#000000\" stroke-opacity=\"1\" stroke-width=\"3.2\"/>\n",
       "<circle clip-path=\"url(#clip652)\" cx=\"1132.77\" cy=\"678.282\" r=\"14\" fill=\"#6b0851\" fill-rule=\"evenodd\" fill-opacity=\"1\" stroke=\"#000000\" stroke-opacity=\"1\" stroke-width=\"3.2\"/>\n",
       "<circle clip-path=\"url(#clip652)\" cx=\"1215.65\" cy=\"729.623\" r=\"14\" fill=\"#6b0851\" fill-rule=\"evenodd\" fill-opacity=\"1\" stroke=\"#000000\" stroke-opacity=\"1\" stroke-width=\"3.2\"/>\n",
       "<circle clip-path=\"url(#clip652)\" cx=\"1298.53\" cy=\"780.861\" r=\"14\" fill=\"#6b0851\" fill-rule=\"evenodd\" fill-opacity=\"1\" stroke=\"#000000\" stroke-opacity=\"1\" stroke-width=\"3.2\"/>\n",
       "<circle clip-path=\"url(#clip652)\" cx=\"1381.41\" cy=\"831.99\" r=\"14\" fill=\"#6b0851\" fill-rule=\"evenodd\" fill-opacity=\"1\" stroke=\"#000000\" stroke-opacity=\"1\" stroke-width=\"3.2\"/>\n",
       "<circle clip-path=\"url(#clip652)\" cx=\"1464.29\" cy=\"883.008\" r=\"14\" fill=\"#6b0851\" fill-rule=\"evenodd\" fill-opacity=\"1\" stroke=\"#000000\" stroke-opacity=\"1\" stroke-width=\"3.2\"/>\n",
       "<circle clip-path=\"url(#clip652)\" cx=\"1547.17\" cy=\"933.908\" r=\"14\" fill=\"#6b0851\" fill-rule=\"evenodd\" fill-opacity=\"1\" stroke=\"#000000\" stroke-opacity=\"1\" stroke-width=\"3.2\"/>\n",
       "<circle clip-path=\"url(#clip652)\" cx=\"1630.05\" cy=\"984.689\" r=\"14\" fill=\"#6b0851\" fill-rule=\"evenodd\" fill-opacity=\"1\" stroke=\"#000000\" stroke-opacity=\"1\" stroke-width=\"3.2\"/>\n",
       "<circle clip-path=\"url(#clip652)\" cx=\"1712.93\" cy=\"1035.35\" r=\"14\" fill=\"#6b0851\" fill-rule=\"evenodd\" fill-opacity=\"1\" stroke=\"#000000\" stroke-opacity=\"1\" stroke-width=\"3.2\"/>\n",
       "<circle clip-path=\"url(#clip652)\" cx=\"1795.81\" cy=\"1085.88\" r=\"14\" fill=\"#6b0851\" fill-rule=\"evenodd\" fill-opacity=\"1\" stroke=\"#000000\" stroke-opacity=\"1\" stroke-width=\"3.2\"/>\n",
       "<circle clip-path=\"url(#clip652)\" cx=\"1878.69\" cy=\"1136.28\" r=\"14\" fill=\"#6b0851\" fill-rule=\"evenodd\" fill-opacity=\"1\" stroke=\"#000000\" stroke-opacity=\"1\" stroke-width=\"3.2\"/>\n",
       "<circle clip-path=\"url(#clip652)\" cx=\"1961.57\" cy=\"1186.56\" r=\"14\" fill=\"#6b0851\" fill-rule=\"evenodd\" fill-opacity=\"1\" stroke=\"#000000\" stroke-opacity=\"1\" stroke-width=\"3.2\"/>\n",
       "<circle clip-path=\"url(#clip652)\" cx=\"2044.45\" cy=\"1236.71\" r=\"14\" fill=\"#6b0851\" fill-rule=\"evenodd\" fill-opacity=\"1\" stroke=\"#000000\" stroke-opacity=\"1\" stroke-width=\"3.2\"/>\n",
       "<circle clip-path=\"url(#clip652)\" cx=\"2127.32\" cy=\"1286.73\" r=\"14\" fill=\"#6b0851\" fill-rule=\"evenodd\" fill-opacity=\"1\" stroke=\"#000000\" stroke-opacity=\"1\" stroke-width=\"3.2\"/>\n",
       "<circle clip-path=\"url(#clip652)\" cx=\"2210.2\" cy=\"1336.62\" r=\"14\" fill=\"#6b0851\" fill-rule=\"evenodd\" fill-opacity=\"1\" stroke=\"#000000\" stroke-opacity=\"1\" stroke-width=\"3.2\"/>\n",
       "<circle clip-path=\"url(#clip652)\" cx=\"2293.08\" cy=\"1386.4\" r=\"14\" fill=\"#6b0851\" fill-rule=\"evenodd\" fill-opacity=\"1\" stroke=\"#000000\" stroke-opacity=\"1\" stroke-width=\"3.2\"/>\n",
       "<polyline clip-path=\"url(#clip652)\" style=\"stroke:#6b0851; stroke-width:4; stroke-opacity:1; fill:none\" points=\"\n",
       "  303.981,160.256 386.86,212.446 469.739,264.478 552.619,316.454 635.498,368.368 718.377,420.216 801.256,471.993 884.136,523.693 967.015,575.312 1049.89,626.844 \n",
       "  1132.77,678.282 1215.65,729.623 1298.53,780.861 1381.41,831.99 1464.29,883.008 1547.17,933.908 1630.05,984.689 1712.93,1035.35 1795.81,1085.88 1878.69,1136.28 \n",
       "  1961.57,1186.56 2044.45,1236.71 2127.32,1286.73 2210.2,1336.62 2293.08,1386.4 \n",
       "  \"/>\n",
       "</svg>\n"
      ]
     },
     "execution_count": 14,
     "metadata": {},
     "output_type": "execute_result"
    }
   ],
   "source": [
    "scatter(histJac, markersize=4, c=\"#6b0851\", leg=false)\n",
    "plot!(histJac, color=\"#6b0851\", leg=false )\n",
    "plot!(xaxis=(\"iterations\") , yaxis = (\"residuals\", :log))\n",
    "plot!(title=\"Convergence vs iteration: Jacobi\")"
   ]
  },
  {
   "cell_type": "markdown",
   "id": "47863276",
   "metadata": {},
   "source": [
    "### ****** Algoritmo de Sobre-Relajación ******"
   ]
  },
  {
   "cell_type": "code",
   "execution_count": 15,
   "id": "928818f8",
   "metadata": {},
   "outputs": [],
   "source": [
    "#Peso\n",
    "w = 1.1;\n",
    "SolSRS,histSRS = SRSJul(A,b,x0,w,e,itermax);"
   ]
  },
  {
   "cell_type": "markdown",
   "id": "91550e1b",
   "metadata": {},
   "source": [
    "#### Solución"
   ]
  },
  {
   "cell_type": "code",
   "execution_count": 16,
   "id": "b6deb0e2",
   "metadata": {},
   "outputs": [
    {
     "data": {
      "text/plain": [
       "6-element Array{Float64,1}:\n",
       " 1.0000001279675337\n",
       " 0.9999999438723751\n",
       " 0.9999997391036273\n",
       " 0.999999769408286\n",
       " 0.9999998817019154\n",
       " 0.99999996097816"
      ]
     },
     "execution_count": 16,
     "metadata": {},
     "output_type": "execute_result"
    }
   ],
   "source": [
    "SolSRS"
   ]
  },
  {
   "cell_type": "markdown",
   "id": "1ce24513",
   "metadata": {},
   "source": [
    "#### Precisión vs Iteraciones"
   ]
  },
  {
   "cell_type": "code",
   "execution_count": 17,
   "id": "e00cd601",
   "metadata": {},
   "outputs": [
    {
     "data": {
      "image/svg+xml": [
       "<?xml version=\"1.0\" encoding=\"utf-8\"?>\n",
       "<svg xmlns=\"http://www.w3.org/2000/svg\" xmlns:xlink=\"http://www.w3.org/1999/xlink\" width=\"600\" height=\"400\" viewBox=\"0 0 2400 1600\">\n",
       "<defs>\n",
       "  <clipPath id=\"clip690\">\n",
       "    <rect x=\"0\" y=\"0\" width=\"2400\" height=\"1600\"/>\n",
       "  </clipPath>\n",
       "</defs>\n",
       "<path clip-path=\"url(#clip690)\" d=\"\n",
       "M0 1600 L2400 1600 L2400 0 L0 0  Z\n",
       "  \" fill=\"#ffffff\" fill-rule=\"evenodd\" fill-opacity=\"1\"/>\n",
       "<defs>\n",
       "  <clipPath id=\"clip691\">\n",
       "    <rect x=\"480\" y=\"0\" width=\"1681\" height=\"1600\"/>\n",
       "  </clipPath>\n",
       "</defs>\n",
       "<path clip-path=\"url(#clip690)\" d=\"\n",
       "M244.308 1423.18 L2352.76 1423.18 L2352.76 123.472 L244.308 123.472  Z\n",
       "  \" fill=\"#ffffff\" fill-rule=\"evenodd\" fill-opacity=\"1\"/>\n",
       "<defs>\n",
       "  <clipPath id=\"clip692\">\n",
       "    <rect x=\"244\" y=\"123\" width=\"2109\" height=\"1301\"/>\n",
       "  </clipPath>\n",
       "</defs>\n",
       "<polyline clip-path=\"url(#clip692)\" style=\"stroke:#000000; stroke-width:2; stroke-opacity:0.1; fill:none\" points=\"\n",
       "  552.619,1423.18 552.619,123.472 \n",
       "  \"/>\n",
       "<polyline clip-path=\"url(#clip692)\" style=\"stroke:#000000; stroke-width:2; stroke-opacity:0.1; fill:none\" points=\"\n",
       "  967.015,1423.18 967.015,123.472 \n",
       "  \"/>\n",
       "<polyline clip-path=\"url(#clip692)\" style=\"stroke:#000000; stroke-width:2; stroke-opacity:0.1; fill:none\" points=\"\n",
       "  1381.41,1423.18 1381.41,123.472 \n",
       "  \"/>\n",
       "<polyline clip-path=\"url(#clip692)\" style=\"stroke:#000000; stroke-width:2; stroke-opacity:0.1; fill:none\" points=\"\n",
       "  1795.81,1423.18 1795.81,123.472 \n",
       "  \"/>\n",
       "<polyline clip-path=\"url(#clip692)\" style=\"stroke:#000000; stroke-width:2; stroke-opacity:0.1; fill:none\" points=\"\n",
       "  2210.2,1423.18 2210.2,123.472 \n",
       "  \"/>\n",
       "<polyline clip-path=\"url(#clip690)\" style=\"stroke:#000000; stroke-width:4; stroke-opacity:1; fill:none\" points=\"\n",
       "  244.308,1423.18 2352.76,1423.18 \n",
       "  \"/>\n",
       "<polyline clip-path=\"url(#clip690)\" style=\"stroke:#000000; stroke-width:4; stroke-opacity:1; fill:none\" points=\"\n",
       "  552.619,1423.18 552.619,1407.58 \n",
       "  \"/>\n",
       "<polyline clip-path=\"url(#clip690)\" style=\"stroke:#000000; stroke-width:4; stroke-opacity:1; fill:none\" points=\"\n",
       "  967.015,1423.18 967.015,1407.58 \n",
       "  \"/>\n",
       "<polyline clip-path=\"url(#clip690)\" style=\"stroke:#000000; stroke-width:4; stroke-opacity:1; fill:none\" points=\"\n",
       "  1381.41,1423.18 1381.41,1407.58 \n",
       "  \"/>\n",
       "<polyline clip-path=\"url(#clip690)\" style=\"stroke:#000000; stroke-width:4; stroke-opacity:1; fill:none\" points=\"\n",
       "  1795.81,1423.18 1795.81,1407.58 \n",
       "  \"/>\n",
       "<polyline clip-path=\"url(#clip690)\" style=\"stroke:#000000; stroke-width:4; stroke-opacity:1; fill:none\" points=\"\n",
       "  2210.2,1423.18 2210.2,1407.58 \n",
       "  \"/>\n",
       "<path clip-path=\"url(#clip690)\" d=\"M 0 0 M529.285 1479.92 L545.605 1479.92 L545.605 1483.85 L523.66 1483.85 L523.66 1479.92 Q526.322 1477.16 530.906 1472.53 Q535.512 1467.88 536.693 1466.54 Q538.938 1464.01 539.818 1462.28 Q540.72 1460.52 540.72 1458.83 Q540.72 1456.07 538.776 1454.34 Q536.855 1452.6 533.753 1452.6 Q531.554 1452.6 529.1 1453.37 Q526.67 1454.13 523.892 1455.68 L523.892 1450.96 Q526.716 1449.82 529.17 1449.25 Q531.623 1448.67 533.66 1448.67 Q539.031 1448.67 542.225 1451.35 Q545.419 1454.04 545.419 1458.53 Q545.419 1460.66 544.609 1462.58 Q543.822 1464.48 541.716 1467.07 Q541.137 1467.74 538.035 1470.96 Q534.933 1474.15 529.285 1479.92 Z\" fill=\"#000000\" fill-rule=\"evenodd\" fill-opacity=\"1\" /><path clip-path=\"url(#clip690)\" d=\"M 0 0 M550.674 1477.97 L555.558 1477.97 L555.558 1483.85 L550.674 1483.85 L550.674 1477.97 Z\" fill=\"#000000\" fill-rule=\"evenodd\" fill-opacity=\"1\" /><path clip-path=\"url(#clip690)\" d=\"M 0 0 M560.674 1449.29 L579.03 1449.29 L579.03 1453.23 L564.956 1453.23 L564.956 1461.7 Q565.975 1461.35 566.993 1461.19 Q568.012 1461 569.03 1461 Q574.817 1461 578.197 1464.18 Q581.577 1467.35 581.577 1472.76 Q581.577 1478.34 578.104 1481.44 Q574.632 1484.52 568.313 1484.52 Q566.137 1484.52 563.868 1484.15 Q561.623 1483.78 559.216 1483.04 L559.216 1478.34 Q561.299 1479.48 563.521 1480.03 Q565.743 1480.59 568.22 1480.59 Q572.225 1480.59 574.563 1478.48 Q576.901 1476.38 576.901 1472.76 Q576.901 1469.15 574.563 1467.05 Q572.225 1464.94 568.22 1464.94 Q566.345 1464.94 564.47 1465.36 Q562.618 1465.77 560.674 1466.65 L560.674 1449.29 Z\" fill=\"#000000\" fill-rule=\"evenodd\" fill-opacity=\"1\" /><path clip-path=\"url(#clip690)\" d=\"M 0 0 M938.809 1449.29 L957.165 1449.29 L957.165 1453.23 L943.091 1453.23 L943.091 1461.7 Q944.11 1461.35 945.128 1461.19 Q946.147 1461 947.165 1461 Q952.952 1461 956.332 1464.18 Q959.712 1467.35 959.712 1472.76 Q959.712 1478.34 956.239 1481.44 Q952.767 1484.52 946.448 1484.52 Q944.272 1484.52 942.003 1484.15 Q939.758 1483.78 937.351 1483.04 L937.351 1478.34 Q939.434 1479.48 941.656 1480.03 Q943.878 1480.59 946.355 1480.59 Q950.36 1480.59 952.698 1478.48 Q955.036 1476.38 955.036 1472.76 Q955.036 1469.15 952.698 1467.05 Q950.36 1464.94 946.355 1464.94 Q944.48 1464.94 942.605 1465.36 Q940.753 1465.77 938.809 1466.65 L938.809 1449.29 Z\" fill=\"#000000\" fill-rule=\"evenodd\" fill-opacity=\"1\" /><path clip-path=\"url(#clip690)\" d=\"M 0 0 M964.781 1477.97 L969.665 1477.97 L969.665 1483.85 L964.781 1483.85 L964.781 1477.97 Z\" fill=\"#000000\" fill-rule=\"evenodd\" fill-opacity=\"1\" /><path clip-path=\"url(#clip690)\" d=\"M 0 0 M984.735 1452.37 Q981.124 1452.37 979.295 1455.94 Q977.489 1459.48 977.489 1466.61 Q977.489 1473.71 979.295 1477.28 Q981.124 1480.82 984.735 1480.82 Q988.369 1480.82 990.174 1477.28 Q992.003 1473.71 992.003 1466.61 Q992.003 1459.48 990.174 1455.94 Q988.369 1452.37 984.735 1452.37 M984.735 1448.67 Q990.545 1448.67 993.6 1453.27 Q996.679 1457.86 996.679 1466.61 Q996.679 1475.33 993.6 1479.94 Q990.545 1484.52 984.735 1484.52 Q978.924 1484.52 975.846 1479.94 Q972.79 1475.33 972.79 1466.61 Q972.79 1457.86 975.846 1453.27 Q978.924 1448.67 984.735 1448.67 Z\" fill=\"#000000\" fill-rule=\"evenodd\" fill-opacity=\"1\" /><path clip-path=\"url(#clip690)\" d=\"M 0 0 M1352.31 1449.29 L1374.54 1449.29 L1374.54 1451.28 L1361.99 1483.85 L1357.11 1483.85 L1368.91 1453.23 L1352.31 1453.23 L1352.31 1449.29 Z\" fill=\"#000000\" fill-rule=\"evenodd\" fill-opacity=\"1\" /><path clip-path=\"url(#clip690)\" d=\"M 0 0 M1379.61 1477.97 L1384.49 1477.97 L1384.49 1483.85 L1379.61 1483.85 L1379.61 1477.97 Z\" fill=\"#000000\" fill-rule=\"evenodd\" fill-opacity=\"1\" /><path clip-path=\"url(#clip690)\" d=\"M 0 0 M1389.61 1449.29 L1407.96 1449.29 L1407.96 1453.23 L1393.89 1453.23 L1393.89 1461.7 Q1394.91 1461.35 1395.92 1461.19 Q1396.94 1461 1397.96 1461 Q1403.75 1461 1407.13 1464.18 Q1410.51 1467.35 1410.51 1472.76 Q1410.51 1478.34 1407.04 1481.44 Q1403.56 1484.52 1397.24 1484.52 Q1395.07 1484.52 1392.8 1484.15 Q1390.55 1483.78 1388.15 1483.04 L1388.15 1478.34 Q1390.23 1479.48 1392.45 1480.03 Q1394.67 1480.59 1397.15 1480.59 Q1401.16 1480.59 1403.49 1478.48 Q1405.83 1476.38 1405.83 1472.76 Q1405.83 1469.15 1403.49 1467.05 Q1401.16 1464.94 1397.15 1464.94 Q1395.28 1464.94 1393.4 1465.36 Q1391.55 1465.77 1389.61 1466.65 L1389.61 1449.29 Z\" fill=\"#000000\" fill-rule=\"evenodd\" fill-opacity=\"1\" /><path clip-path=\"url(#clip690)\" d=\"M 0 0 M1754.2 1479.92 L1761.84 1479.92 L1761.84 1453.55 L1753.53 1455.22 L1753.53 1450.96 L1761.79 1449.29 L1766.47 1449.29 L1766.47 1479.92 L1774.11 1479.92 L1774.11 1483.85 L1754.2 1483.85 L1754.2 1479.92 Z\" fill=\"#000000\" fill-rule=\"evenodd\" fill-opacity=\"1\" /><path clip-path=\"url(#clip690)\" d=\"M 0 0 M1789.18 1452.37 Q1785.56 1452.37 1783.74 1455.94 Q1781.93 1459.48 1781.93 1466.61 Q1781.93 1473.71 1783.74 1477.28 Q1785.56 1480.82 1789.18 1480.82 Q1792.81 1480.82 1794.62 1477.28 Q1796.44 1473.71 1796.44 1466.61 Q1796.44 1459.48 1794.62 1455.94 Q1792.81 1452.37 1789.18 1452.37 M1789.18 1448.67 Q1794.99 1448.67 1798.04 1453.27 Q1801.12 1457.86 1801.12 1466.61 Q1801.12 1475.33 1798.04 1479.94 Q1794.99 1484.52 1789.18 1484.52 Q1783.37 1484.52 1780.29 1479.94 Q1777.23 1475.33 1777.23 1466.61 Q1777.23 1457.86 1780.29 1453.27 Q1783.37 1448.67 1789.18 1448.67 Z\" fill=\"#000000\" fill-rule=\"evenodd\" fill-opacity=\"1\" /><path clip-path=\"url(#clip690)\" d=\"M 0 0 M1806.19 1477.97 L1811.07 1477.97 L1811.07 1483.85 L1806.19 1483.85 L1806.19 1477.97 Z\" fill=\"#000000\" fill-rule=\"evenodd\" fill-opacity=\"1\" /><path clip-path=\"url(#clip690)\" d=\"M 0 0 M1826.14 1452.37 Q1822.53 1452.37 1820.7 1455.94 Q1818.9 1459.48 1818.9 1466.61 Q1818.9 1473.71 1820.7 1477.28 Q1822.53 1480.82 1826.14 1480.82 Q1829.78 1480.82 1831.58 1477.28 Q1833.41 1473.71 1833.41 1466.61 Q1833.41 1459.48 1831.58 1455.94 Q1829.78 1452.37 1826.14 1452.37 M1826.14 1448.67 Q1831.95 1448.67 1835.01 1453.27 Q1838.09 1457.86 1838.09 1466.61 Q1838.09 1475.33 1835.01 1479.94 Q1831.95 1484.52 1826.14 1484.52 Q1820.33 1484.52 1817.25 1479.94 Q1814.2 1475.33 1814.2 1466.61 Q1814.2 1457.86 1817.25 1453.27 Q1820.33 1448.67 1826.14 1448.67 Z\" fill=\"#000000\" fill-rule=\"evenodd\" fill-opacity=\"1\" /><path clip-path=\"url(#clip690)\" d=\"M 0 0 M2169.89 1479.92 L2177.53 1479.92 L2177.53 1453.55 L2169.22 1455.22 L2169.22 1450.96 L2177.48 1449.29 L2182.16 1449.29 L2182.16 1479.92 L2189.8 1479.92 L2189.8 1483.85 L2169.89 1483.85 L2169.89 1479.92 Z\" fill=\"#000000\" fill-rule=\"evenodd\" fill-opacity=\"1\" /><path clip-path=\"url(#clip690)\" d=\"M 0 0 M2198.9 1479.92 L2215.22 1479.92 L2215.22 1483.85 L2193.27 1483.85 L2193.27 1479.92 Q2195.93 1477.16 2200.52 1472.53 Q2205.12 1467.88 2206.3 1466.54 Q2208.55 1464.01 2209.43 1462.28 Q2210.33 1460.52 2210.33 1458.83 Q2210.33 1456.07 2208.39 1454.34 Q2206.47 1452.6 2203.36 1452.6 Q2201.16 1452.6 2198.71 1453.37 Q2196.28 1454.13 2193.5 1455.68 L2193.5 1450.96 Q2196.33 1449.82 2198.78 1449.25 Q2201.23 1448.67 2203.27 1448.67 Q2208.64 1448.67 2211.84 1451.35 Q2215.03 1454.04 2215.03 1458.53 Q2215.03 1460.66 2214.22 1462.58 Q2213.43 1464.48 2211.33 1467.07 Q2210.75 1467.74 2207.65 1470.96 Q2204.54 1474.15 2198.9 1479.92 Z\" fill=\"#000000\" fill-rule=\"evenodd\" fill-opacity=\"1\" /><path clip-path=\"url(#clip690)\" d=\"M 0 0 M2220.28 1477.97 L2225.17 1477.97 L2225.17 1483.85 L2220.28 1483.85 L2220.28 1477.97 Z\" fill=\"#000000\" fill-rule=\"evenodd\" fill-opacity=\"1\" /><path clip-path=\"url(#clip690)\" d=\"M 0 0 M2230.28 1449.29 L2248.64 1449.29 L2248.64 1453.23 L2234.57 1453.23 L2234.57 1461.7 Q2235.59 1461.35 2236.6 1461.19 Q2237.62 1461 2238.64 1461 Q2244.43 1461 2247.81 1464.18 Q2251.19 1467.35 2251.19 1472.76 Q2251.19 1478.34 2247.71 1481.44 Q2244.24 1484.52 2237.92 1484.52 Q2235.75 1484.52 2233.48 1484.15 Q2231.23 1483.78 2228.83 1483.04 L2228.83 1478.34 Q2230.91 1479.48 2233.13 1480.03 Q2235.35 1480.59 2237.83 1480.59 Q2241.84 1480.59 2244.17 1478.48 Q2246.51 1476.38 2246.51 1472.76 Q2246.51 1469.15 2244.17 1467.05 Q2241.84 1464.94 2237.83 1464.94 Q2235.96 1464.94 2234.08 1465.36 Q2232.23 1465.77 2230.28 1466.65 L2230.28 1449.29 Z\" fill=\"#000000\" fill-rule=\"evenodd\" fill-opacity=\"1\" /><path clip-path=\"url(#clip690)\" d=\"M 0 0 M1165.44 1520.4 L1171.3 1520.4 L1171.3 1556.04 L1165.44 1556.04 L1165.44 1520.4 M1165.44 1506.52 L1171.3 1506.52 L1171.3 1513.93 L1165.44 1513.93 L1165.44 1506.52 Z\" fill=\"#000000\" fill-rule=\"evenodd\" fill-opacity=\"1\" /><path clip-path=\"url(#clip690)\" d=\"M 0 0 M1183.23 1510.27 L1183.23 1520.4 L1195.3 1520.4 L1195.3 1524.95 L1183.23 1524.95 L1183.23 1544.3 Q1183.23 1548.66 1184.41 1549.9 Q1185.62 1551.14 1189.28 1551.14 L1195.3 1551.14 L1195.3 1556.04 L1189.28 1556.04 Q1182.5 1556.04 1179.92 1553.53 Q1177.34 1550.98 1177.34 1544.3 L1177.34 1524.95 L1173.05 1524.95 L1173.05 1520.4 L1177.34 1520.4 L1177.34 1510.27 L1183.23 1510.27 Z\" fill=\"#000000\" fill-rule=\"evenodd\" fill-opacity=\"1\" /><path clip-path=\"url(#clip690)\" d=\"M 0 0 M1231.93 1536.76 L1231.93 1539.62 L1205 1539.62 Q1205.39 1545.67 1208.63 1548.85 Q1211.91 1552 1217.74 1552 Q1221.11 1552 1224.26 1551.17 Q1227.44 1550.35 1230.56 1548.69 L1230.56 1554.23 Q1227.41 1555.57 1224.1 1556.27 Q1220.79 1556.97 1217.38 1556.97 Q1208.85 1556.97 1203.86 1552 Q1198.89 1547.04 1198.89 1538.57 Q1198.89 1529.82 1203.6 1524.69 Q1208.35 1519.54 1216.37 1519.54 Q1223.56 1519.54 1227.73 1524.18 Q1231.93 1528.8 1231.93 1536.76 M1226.07 1535.04 Q1226.01 1530.23 1223.37 1527.37 Q1220.76 1524.5 1216.43 1524.5 Q1211.53 1524.5 1208.57 1527.27 Q1205.64 1530.04 1205.19 1535.07 L1226.07 1535.04 Z\" fill=\"#000000\" fill-rule=\"evenodd\" fill-opacity=\"1\" /><path clip-path=\"url(#clip690)\" d=\"M 0 0 M1258.73 1525.87 Q1257.74 1525.3 1256.57 1525.04 Q1255.42 1524.76 1254.02 1524.76 Q1249.05 1524.76 1246.38 1528 Q1243.74 1531.22 1243.74 1537.27 L1243.74 1556.04 L1237.85 1556.04 L1237.85 1520.4 L1243.74 1520.4 L1243.74 1525.93 Q1245.59 1522.69 1248.55 1521.13 Q1251.51 1519.54 1255.74 1519.54 Q1256.34 1519.54 1257.08 1519.63 Q1257.81 1519.7 1258.7 1519.85 L1258.73 1525.87 Z\" fill=\"#000000\" fill-rule=\"evenodd\" fill-opacity=\"1\" /><path clip-path=\"url(#clip690)\" d=\"M 0 0 M1281.07 1538.12 Q1273.98 1538.12 1271.24 1539.75 Q1268.5 1541.37 1268.5 1545.29 Q1268.5 1548.4 1270.54 1550.25 Q1272.61 1552.07 1276.14 1552.07 Q1281.01 1552.07 1283.94 1548.63 Q1286.9 1545.16 1286.9 1539.43 L1286.9 1538.12 L1281.07 1538.12 M1292.75 1535.71 L1292.75 1556.04 L1286.9 1556.04 L1286.9 1550.63 Q1284.89 1553.88 1281.9 1555.44 Q1278.91 1556.97 1274.58 1556.97 Q1269.11 1556.97 1265.86 1553.91 Q1262.65 1550.82 1262.65 1545.67 Q1262.65 1539.65 1266.66 1536.6 Q1270.7 1533.54 1278.69 1533.54 L1286.9 1533.54 L1286.9 1532.97 Q1286.9 1528.93 1284.22 1526.73 Q1281.58 1524.5 1276.78 1524.5 Q1273.72 1524.5 1270.83 1525.23 Q1267.93 1525.97 1265.26 1527.43 L1265.26 1522.02 Q1268.47 1520.78 1271.49 1520.17 Q1274.52 1519.54 1277.38 1519.54 Q1285.12 1519.54 1288.94 1523.55 Q1292.75 1527.56 1292.75 1535.71 Z\" fill=\"#000000\" fill-rule=\"evenodd\" fill-opacity=\"1\" /><path clip-path=\"url(#clip690)\" d=\"M 0 0 M1304.69 1510.27 L1304.69 1520.4 L1316.75 1520.4 L1316.75 1524.95 L1304.69 1524.95 L1304.69 1544.3 Q1304.69 1548.66 1305.87 1549.9 Q1307.08 1551.14 1310.74 1551.14 L1316.75 1551.14 L1316.75 1556.04 L1310.74 1556.04 Q1303.96 1556.04 1301.38 1553.53 Q1298.8 1550.98 1298.8 1544.3 L1298.8 1524.95 L1294.51 1524.95 L1294.51 1520.4 L1298.8 1520.4 L1298.8 1510.27 L1304.69 1510.27 Z\" fill=\"#000000\" fill-rule=\"evenodd\" fill-opacity=\"1\" /><path clip-path=\"url(#clip690)\" d=\"M 0 0 M1322.9 1520.4 L1328.75 1520.4 L1328.75 1556.04 L1322.9 1556.04 L1322.9 1520.4 M1322.9 1506.52 L1328.75 1506.52 L1328.75 1513.93 L1322.9 1513.93 L1322.9 1506.52 Z\" fill=\"#000000\" fill-rule=\"evenodd\" fill-opacity=\"1\" /><path clip-path=\"url(#clip690)\" d=\"M 0 0 M1348.71 1524.5 Q1344 1524.5 1341.26 1528.19 Q1338.52 1531.85 1338.52 1538.25 Q1338.52 1544.65 1341.23 1548.34 Q1343.97 1552 1348.71 1552 Q1353.39 1552 1356.13 1548.31 Q1358.86 1544.62 1358.86 1538.25 Q1358.86 1531.92 1356.13 1528.23 Q1353.39 1524.5 1348.71 1524.5 M1348.71 1519.54 Q1356.35 1519.54 1360.71 1524.5 Q1365.07 1529.47 1365.07 1538.25 Q1365.07 1547 1360.71 1552 Q1356.35 1556.97 1348.71 1556.97 Q1341.04 1556.97 1336.68 1552 Q1332.35 1547 1332.35 1538.25 Q1332.35 1529.47 1336.68 1524.5 Q1341.04 1519.54 1348.71 1519.54 Z\" fill=\"#000000\" fill-rule=\"evenodd\" fill-opacity=\"1\" /><path clip-path=\"url(#clip690)\" d=\"M 0 0 M1400.84 1534.53 L1400.84 1556.04 L1394.99 1556.04 L1394.99 1534.72 Q1394.99 1529.66 1393.01 1527.14 Q1391.04 1524.63 1387.09 1524.63 Q1382.35 1524.63 1379.61 1527.65 Q1376.88 1530.68 1376.88 1535.9 L1376.88 1556.04 L1370.99 1556.04 L1370.99 1520.4 L1376.88 1520.4 L1376.88 1525.93 Q1378.98 1522.72 1381.81 1521.13 Q1384.68 1519.54 1388.4 1519.54 Q1394.54 1519.54 1397.69 1523.36 Q1400.84 1527.14 1400.84 1534.53 Z\" fill=\"#000000\" fill-rule=\"evenodd\" fill-opacity=\"1\" /><path clip-path=\"url(#clip690)\" d=\"M 0 0 M1429.71 1521.45 L1429.71 1526.98 Q1427.23 1525.71 1424.56 1525.07 Q1421.88 1524.44 1419.02 1524.44 Q1414.66 1524.44 1412.46 1525.77 Q1410.3 1527.11 1410.3 1529.79 Q1410.3 1531.82 1411.86 1533 Q1413.42 1534.15 1418.13 1535.2 L1420.13 1535.64 Q1426.37 1536.98 1428.98 1539.43 Q1431.62 1541.85 1431.62 1546.21 Q1431.62 1551.17 1427.68 1554.07 Q1423.76 1556.97 1416.89 1556.97 Q1414.02 1556.97 1410.9 1556.39 Q1407.82 1555.85 1404.38 1554.74 L1404.38 1548.69 Q1407.62 1550.38 1410.78 1551.24 Q1413.93 1552.07 1417.01 1552.07 Q1421.15 1552.07 1423.38 1550.66 Q1425.61 1549.23 1425.61 1546.65 Q1425.61 1544.27 1423.98 1542.99 Q1422.39 1541.72 1416.95 1540.54 L1414.91 1540.07 Q1409.47 1538.92 1407.05 1536.56 Q1404.63 1534.18 1404.63 1530.04 Q1404.63 1525.01 1408.2 1522.27 Q1411.76 1519.54 1418.32 1519.54 Q1421.56 1519.54 1424.43 1520.01 Q1427.29 1520.49 1429.71 1521.45 Z\" fill=\"#000000\" fill-rule=\"evenodd\" fill-opacity=\"1\" /><polyline clip-path=\"url(#clip692)\" style=\"stroke:#000000; stroke-width:2; stroke-opacity:0.1; fill:none\" points=\"\n",
       "  244.308,1360.29 2352.76,1360.29 \n",
       "  \"/>\n",
       "<polyline clip-path=\"url(#clip692)\" style=\"stroke:#000000; stroke-width:2; stroke-opacity:0.1; fill:none\" points=\"\n",
       "  244.308,1161.28 2352.76,1161.28 \n",
       "  \"/>\n",
       "<polyline clip-path=\"url(#clip692)\" style=\"stroke:#000000; stroke-width:2; stroke-opacity:0.1; fill:none\" points=\"\n",
       "  244.308,962.272 2352.76,962.272 \n",
       "  \"/>\n",
       "<polyline clip-path=\"url(#clip692)\" style=\"stroke:#000000; stroke-width:2; stroke-opacity:0.1; fill:none\" points=\"\n",
       "  244.308,763.263 2352.76,763.263 \n",
       "  \"/>\n",
       "<polyline clip-path=\"url(#clip692)\" style=\"stroke:#000000; stroke-width:2; stroke-opacity:0.1; fill:none\" points=\"\n",
       "  244.308,564.254 2352.76,564.254 \n",
       "  \"/>\n",
       "<polyline clip-path=\"url(#clip692)\" style=\"stroke:#000000; stroke-width:2; stroke-opacity:0.1; fill:none\" points=\"\n",
       "  244.308,365.245 2352.76,365.245 \n",
       "  \"/>\n",
       "<polyline clip-path=\"url(#clip692)\" style=\"stroke:#000000; stroke-width:2; stroke-opacity:0.1; fill:none\" points=\"\n",
       "  244.308,166.235 2352.76,166.235 \n",
       "  \"/>\n",
       "<polyline clip-path=\"url(#clip690)\" style=\"stroke:#000000; stroke-width:4; stroke-opacity:1; fill:none\" points=\"\n",
       "  244.308,1423.18 244.308,123.472 \n",
       "  \"/>\n",
       "<polyline clip-path=\"url(#clip690)\" style=\"stroke:#000000; stroke-width:4; stroke-opacity:1; fill:none\" points=\"\n",
       "  244.308,1360.29 269.609,1360.29 \n",
       "  \"/>\n",
       "<polyline clip-path=\"url(#clip690)\" style=\"stroke:#000000; stroke-width:4; stroke-opacity:1; fill:none\" points=\"\n",
       "  244.308,1161.28 269.609,1161.28 \n",
       "  \"/>\n",
       "<polyline clip-path=\"url(#clip690)\" style=\"stroke:#000000; stroke-width:4; stroke-opacity:1; fill:none\" points=\"\n",
       "  244.308,962.272 269.609,962.272 \n",
       "  \"/>\n",
       "<polyline clip-path=\"url(#clip690)\" style=\"stroke:#000000; stroke-width:4; stroke-opacity:1; fill:none\" points=\"\n",
       "  244.308,763.263 269.609,763.263 \n",
       "  \"/>\n",
       "<polyline clip-path=\"url(#clip690)\" style=\"stroke:#000000; stroke-width:4; stroke-opacity:1; fill:none\" points=\"\n",
       "  244.308,564.254 269.609,564.254 \n",
       "  \"/>\n",
       "<polyline clip-path=\"url(#clip690)\" style=\"stroke:#000000; stroke-width:4; stroke-opacity:1; fill:none\" points=\"\n",
       "  244.308,365.245 269.609,365.245 \n",
       "  \"/>\n",
       "<polyline clip-path=\"url(#clip690)\" style=\"stroke:#000000; stroke-width:4; stroke-opacity:1; fill:none\" points=\"\n",
       "  244.308,166.235 269.609,166.235 \n",
       "  \"/>\n",
       "<path clip-path=\"url(#clip690)\" d=\"M 0 0 M115.195 1380.08 L122.834 1380.08 L122.834 1353.72 L114.523 1355.38 L114.523 1351.13 L122.787 1349.46 L127.463 1349.46 L127.463 1380.08 L135.102 1380.08 L135.102 1384.02 L115.195 1384.02 L115.195 1380.08 Z\" fill=\"#000000\" fill-rule=\"evenodd\" fill-opacity=\"1\" /><path clip-path=\"url(#clip690)\" d=\"M 0 0 M150.171 1352.54 Q146.56 1352.54 144.732 1356.1 Q142.926 1359.64 142.926 1366.77 Q142.926 1373.88 144.732 1377.44 Q146.56 1380.99 150.171 1380.99 Q153.806 1380.99 155.611 1377.44 Q157.44 1373.88 157.44 1366.77 Q157.44 1359.64 155.611 1356.1 Q153.806 1352.54 150.171 1352.54 M150.171 1348.83 Q155.982 1348.83 159.037 1353.44 Q162.116 1358.02 162.116 1366.77 Q162.116 1375.5 159.037 1380.11 Q155.982 1384.69 150.171 1384.69 Q144.361 1384.69 141.283 1380.11 Q138.227 1375.5 138.227 1366.77 Q138.227 1358.02 141.283 1353.44 Q144.361 1348.83 150.171 1348.83 Z\" fill=\"#000000\" fill-rule=\"evenodd\" fill-opacity=\"1\" /><path clip-path=\"url(#clip690)\" d=\"M 0 0 M162.116 1342.93 L186.227 1342.93 L186.227 1346.13 L162.116 1346.13 L162.116 1342.93 Z\" fill=\"#000000\" fill-rule=\"evenodd\" fill-opacity=\"1\" /><path clip-path=\"url(#clip690)\" d=\"M 0 0 M198.941 1341.05 Q196.384 1341.05 194.879 1342.8 Q193.393 1344.55 193.393 1347.6 Q193.393 1350.63 194.879 1352.4 Q196.384 1354.14 198.941 1354.14 Q201.499 1354.14 202.985 1352.4 Q204.49 1350.63 204.49 1347.6 Q204.49 1344.55 202.985 1342.8 Q201.499 1341.05 198.941 1341.05 M206.483 1329.15 L206.483 1332.61 Q205.054 1331.93 203.587 1331.57 Q202.139 1331.22 200.709 1331.22 Q196.948 1331.22 194.954 1333.76 Q192.979 1336.3 192.697 1341.43 Q193.807 1339.79 195.481 1338.93 Q197.155 1338.04 199.167 1338.04 Q203.399 1338.04 205.844 1340.62 Q208.308 1343.18 208.308 1347.6 Q208.308 1351.92 205.75 1354.54 Q203.192 1357.15 198.941 1357.15 Q194.07 1357.15 191.494 1353.43 Q188.917 1349.69 188.917 1342.6 Q188.917 1335.94 192.077 1331.99 Q195.236 1328.02 200.559 1328.02 Q201.988 1328.02 203.436 1328.3 Q204.903 1328.58 206.483 1329.15 Z\" fill=\"#000000\" fill-rule=\"evenodd\" fill-opacity=\"1\" /><path clip-path=\"url(#clip690)\" d=\"M 0 0 M116.135 1181.07 L123.774 1181.07 L123.774 1154.71 L115.464 1156.38 L115.464 1152.12 L123.728 1150.45 L128.404 1150.45 L128.404 1181.07 L136.042 1181.07 L136.042 1185.01 L116.135 1185.01 L116.135 1181.07 Z\" fill=\"#000000\" fill-rule=\"evenodd\" fill-opacity=\"1\" /><path clip-path=\"url(#clip690)\" d=\"M 0 0 M151.112 1153.53 Q147.501 1153.53 145.672 1157.09 Q143.866 1160.63 143.866 1167.76 Q143.866 1174.87 145.672 1178.44 Q147.501 1181.98 151.112 1181.98 Q154.746 1181.98 156.552 1178.44 Q158.38 1174.87 158.38 1167.76 Q158.38 1160.63 156.552 1157.09 Q154.746 1153.53 151.112 1153.53 M151.112 1149.82 Q156.922 1149.82 159.978 1154.43 Q163.056 1159.01 163.056 1167.76 Q163.056 1176.49 159.978 1181.1 Q156.922 1185.68 151.112 1185.68 Q145.302 1185.68 142.223 1181.1 Q139.167 1176.49 139.167 1167.76 Q139.167 1159.01 142.223 1154.43 Q145.302 1149.82 151.112 1149.82 Z\" fill=\"#000000\" fill-rule=\"evenodd\" fill-opacity=\"1\" /><path clip-path=\"url(#clip690)\" d=\"M 0 0 M163.056 1143.93 L187.168 1143.93 L187.168 1147.12 L163.056 1147.12 L163.056 1143.93 Z\" fill=\"#000000\" fill-rule=\"evenodd\" fill-opacity=\"1\" /><path clip-path=\"url(#clip690)\" d=\"M 0 0 M191.324 1129.52 L206.239 1129.52 L206.239 1132.72 L194.804 1132.72 L194.804 1139.6 Q195.631 1139.32 196.459 1139.19 Q197.286 1139.04 198.114 1139.04 Q202.816 1139.04 205.562 1141.61 Q208.308 1144.19 208.308 1148.59 Q208.308 1153.12 205.487 1155.64 Q202.665 1158.14 197.531 1158.14 Q195.763 1158.14 193.92 1157.84 Q192.095 1157.54 190.139 1156.94 L190.139 1153.12 Q191.832 1154.04 193.638 1154.5 Q195.443 1154.95 197.456 1154.95 Q200.709 1154.95 202.609 1153.24 Q204.509 1151.52 204.509 1148.59 Q204.509 1145.66 202.609 1143.94 Q200.709 1142.23 197.456 1142.23 Q195.932 1142.23 194.409 1142.57 Q192.904 1142.91 191.324 1143.62 L191.324 1129.52 Z\" fill=\"#000000\" fill-rule=\"evenodd\" fill-opacity=\"1\" /><path clip-path=\"url(#clip690)\" d=\"M 0 0 M114.931 982.065 L122.57 982.065 L122.57 955.699 L114.26 957.366 L114.26 953.107 L122.524 951.44 L127.2 951.44 L127.2 982.065 L134.839 982.065 L134.839 986 L114.931 986 L114.931 982.065 Z\" fill=\"#000000\" fill-rule=\"evenodd\" fill-opacity=\"1\" /><path clip-path=\"url(#clip690)\" d=\"M 0 0 M149.908 954.519 Q146.297 954.519 144.468 958.083 Q142.663 961.625 142.663 968.755 Q142.663 975.861 144.468 979.426 Q146.297 982.968 149.908 982.968 Q153.542 982.968 155.348 979.426 Q157.177 975.861 157.177 968.755 Q157.177 961.625 155.348 958.083 Q153.542 954.519 149.908 954.519 M149.908 950.815 Q155.718 950.815 158.774 955.421 Q161.852 960.005 161.852 968.755 Q161.852 977.482 158.774 982.088 Q155.718 986.671 149.908 986.671 Q144.098 986.671 141.019 982.088 Q137.964 977.482 137.964 968.755 Q137.964 960.005 141.019 955.421 Q144.098 950.815 149.908 950.815 Z\" fill=\"#000000\" fill-rule=\"evenodd\" fill-opacity=\"1\" /><path clip-path=\"url(#clip690)\" d=\"M 0 0 M161.852 944.916 L185.964 944.916 L185.964 948.114 L161.852 948.114 L161.852 944.916 Z\" fill=\"#000000\" fill-rule=\"evenodd\" fill-opacity=\"1\" /><path clip-path=\"url(#clip690)\" d=\"M 0 0 M200.521 933.82 L190.929 948.81 L200.521 948.81 L200.521 933.82 M199.524 930.51 L204.302 930.51 L204.302 948.81 L208.308 948.81 L208.308 951.969 L204.302 951.969 L204.302 958.59 L200.521 958.59 L200.521 951.969 L187.845 951.969 L187.845 948.302 L199.524 930.51 Z\" fill=\"#000000\" fill-rule=\"evenodd\" fill-opacity=\"1\" /><path clip-path=\"url(#clip690)\" d=\"M 0 0 M115.853 783.056 L123.492 783.056 L123.492 756.69 L115.182 758.357 L115.182 754.097 L123.446 752.431 L128.121 752.431 L128.121 783.056 L135.76 783.056 L135.76 786.991 L115.853 786.991 L115.853 783.056 Z\" fill=\"#000000\" fill-rule=\"evenodd\" fill-opacity=\"1\" /><path clip-path=\"url(#clip690)\" d=\"M 0 0 M150.83 755.509 Q147.219 755.509 145.39 759.074 Q143.584 762.616 143.584 769.745 Q143.584 776.852 145.39 780.417 Q147.219 783.958 150.83 783.958 Q154.464 783.958 156.269 780.417 Q158.098 776.852 158.098 769.745 Q158.098 762.616 156.269 759.074 Q154.464 755.509 150.83 755.509 M150.83 751.806 Q156.64 751.806 159.695 756.412 Q162.774 760.995 162.774 769.745 Q162.774 778.472 159.695 783.079 Q156.64 787.662 150.83 787.662 Q145.02 787.662 141.941 783.079 Q138.885 778.472 138.885 769.745 Q138.885 760.995 141.941 756.412 Q145.02 751.806 150.83 751.806 Z\" fill=\"#000000\" fill-rule=\"evenodd\" fill-opacity=\"1\" /><path clip-path=\"url(#clip690)\" d=\"M 0 0 M162.774 745.907 L186.886 745.907 L186.886 749.104 L162.774 749.104 L162.774 745.907 Z\" fill=\"#000000\" fill-rule=\"evenodd\" fill-opacity=\"1\" /><path clip-path=\"url(#clip690)\" d=\"M 0 0 M202.515 744.44 Q205.242 745.023 206.765 746.866 Q208.308 748.709 208.308 751.418 Q208.308 755.574 205.449 757.85 Q202.59 760.126 197.324 760.126 Q195.556 760.126 193.675 759.768 Q191.813 759.43 189.82 758.734 L189.82 755.066 Q191.4 755.988 193.28 756.458 Q195.161 756.928 197.211 756.928 Q200.785 756.928 202.647 755.518 Q204.527 754.107 204.527 751.418 Q204.527 748.935 202.778 747.543 Q201.048 746.133 197.945 746.133 L194.672 746.133 L194.672 743.011 L198.095 743.011 Q200.897 743.011 202.383 741.901 Q203.869 740.773 203.869 738.666 Q203.869 736.503 202.327 735.356 Q200.803 734.19 197.945 734.19 Q196.384 734.19 194.597 734.528 Q192.81 734.867 190.666 735.582 L190.666 732.196 Q192.829 731.594 194.71 731.293 Q196.609 730.993 198.283 730.993 Q202.609 730.993 205.129 732.967 Q207.649 734.923 207.649 738.271 Q207.649 740.603 206.314 742.221 Q204.979 743.819 202.515 744.44 Z\" fill=\"#000000\" fill-rule=\"evenodd\" fill-opacity=\"1\" /><path clip-path=\"url(#clip690)\" d=\"M 0 0 M116.624 584.046 L124.263 584.046 L124.263 557.681 L115.953 559.347 L115.953 555.088 L124.217 553.421 L128.893 553.421 L128.893 584.046 L136.531 584.046 L136.531 587.981 L116.624 587.981 L116.624 584.046 Z\" fill=\"#000000\" fill-rule=\"evenodd\" fill-opacity=\"1\" /><path clip-path=\"url(#clip690)\" d=\"M 0 0 M151.601 556.5 Q147.99 556.5 146.161 560.065 Q144.355 563.607 144.355 570.736 Q144.355 577.843 146.161 581.407 Q147.99 584.949 151.601 584.949 Q155.235 584.949 157.041 581.407 Q158.869 577.843 158.869 570.736 Q158.869 563.607 157.041 560.065 Q155.235 556.5 151.601 556.5 M151.601 552.796 Q157.411 552.796 160.467 557.403 Q163.545 561.986 163.545 570.736 Q163.545 579.463 160.467 584.069 Q157.411 588.653 151.601 588.653 Q145.791 588.653 142.712 584.069 Q139.656 579.463 139.656 570.736 Q139.656 561.986 142.712 557.403 Q145.791 552.796 151.601 552.796 Z\" fill=\"#000000\" fill-rule=\"evenodd\" fill-opacity=\"1\" /><path clip-path=\"url(#clip690)\" d=\"M 0 0 M163.545 546.898 L187.657 546.898 L187.657 550.095 L163.545 550.095 L163.545 546.898 Z\" fill=\"#000000\" fill-rule=\"evenodd\" fill-opacity=\"1\" /><path clip-path=\"url(#clip690)\" d=\"M 0 0 M195.048 557.374 L208.308 557.374 L208.308 560.571 L190.478 560.571 L190.478 557.374 Q192.641 555.136 196.365 551.374 Q200.107 547.594 201.067 546.503 Q202.891 544.453 203.606 543.042 Q204.339 541.613 204.339 540.24 Q204.339 538.002 202.759 536.591 Q201.198 535.181 198.678 535.181 Q196.891 535.181 194.898 535.801 Q192.923 536.422 190.666 537.682 L190.666 533.845 Q192.961 532.924 194.954 532.453 Q196.948 531.983 198.603 531.983 Q202.966 531.983 205.562 534.165 Q208.157 536.347 208.157 539.995 Q208.157 541.726 207.499 543.287 Q206.859 544.829 205.148 546.935 Q204.678 547.481 202.158 550.095 Q199.637 552.691 195.048 557.374 Z\" fill=\"#000000\" fill-rule=\"evenodd\" fill-opacity=\"1\" /><path clip-path=\"url(#clip690)\" d=\"M 0 0 M116.323 385.037 L123.962 385.037 L123.962 358.671 L115.652 360.338 L115.652 356.079 L123.916 354.412 L128.592 354.412 L128.592 385.037 L136.231 385.037 L136.231 388.972 L116.323 388.972 L116.323 385.037 Z\" fill=\"#000000\" fill-rule=\"evenodd\" fill-opacity=\"1\" /><path clip-path=\"url(#clip690)\" d=\"M 0 0 M151.3 357.491 Q147.689 357.491 145.86 361.056 Q144.055 364.597 144.055 371.727 Q144.055 378.833 145.86 382.398 Q147.689 385.94 151.3 385.94 Q154.934 385.94 156.74 382.398 Q158.568 378.833 158.568 371.727 Q158.568 364.597 156.74 361.056 Q154.934 357.491 151.3 357.491 M151.3 353.787 Q157.11 353.787 160.166 358.394 Q163.244 362.977 163.244 371.727 Q163.244 380.454 160.166 385.06 Q157.11 389.643 151.3 389.643 Q145.49 389.643 142.411 385.06 Q139.356 380.454 139.356 371.727 Q139.356 362.977 142.411 358.394 Q145.49 353.787 151.3 353.787 Z\" fill=\"#000000\" fill-rule=\"evenodd\" fill-opacity=\"1\" /><path clip-path=\"url(#clip690)\" d=\"M 0 0 M163.244 347.889 L187.356 347.889 L187.356 351.086 L163.244 351.086 L163.244 347.889 Z\" fill=\"#000000\" fill-rule=\"evenodd\" fill-opacity=\"1\" /><path clip-path=\"url(#clip690)\" d=\"M 0 0 M192.133 358.364 L198.34 358.364 L198.34 336.942 L191.588 338.297 L191.588 334.836 L198.302 333.482 L202.101 333.482 L202.101 358.364 L208.308 358.364 L208.308 361.562 L192.133 361.562 L192.133 358.364 Z\" fill=\"#000000\" fill-rule=\"evenodd\" fill-opacity=\"1\" /><path clip-path=\"url(#clip690)\" d=\"M 0 0 M141.977 186.028 L149.616 186.028 L149.616 159.662 L141.306 161.329 L141.306 157.07 L149.57 155.403 L154.245 155.403 L154.245 186.028 L161.884 186.028 L161.884 189.963 L141.977 189.963 L141.977 186.028 Z\" fill=\"#000000\" fill-rule=\"evenodd\" fill-opacity=\"1\" /><path clip-path=\"url(#clip690)\" d=\"M 0 0 M176.954 158.482 Q173.343 158.482 171.514 162.046 Q169.708 165.588 169.708 172.718 Q169.708 179.824 171.514 183.389 Q173.343 186.931 176.954 186.931 Q180.588 186.931 182.393 183.389 Q184.222 179.824 184.222 172.718 Q184.222 165.588 182.393 162.046 Q180.588 158.482 176.954 158.482 M176.954 154.778 Q182.764 154.778 185.819 159.384 Q188.898 163.968 188.898 172.718 Q188.898 181.444 185.819 186.051 Q182.764 190.634 176.954 190.634 Q171.144 190.634 168.065 186.051 Q165.009 181.444 165.009 172.718 Q165.009 163.968 168.065 159.384 Q171.144 154.778 176.954 154.778 Z\" fill=\"#000000\" fill-rule=\"evenodd\" fill-opacity=\"1\" /><path clip-path=\"url(#clip690)\" d=\"M 0 0 M198.603 136.974 Q195.669 136.974 194.183 139.87 Q192.716 142.748 192.716 148.541 Q192.716 154.315 194.183 157.211 Q195.669 160.089 198.603 160.089 Q201.556 160.089 203.023 157.211 Q204.509 154.315 204.509 148.541 Q204.509 142.748 203.023 139.87 Q201.556 136.974 198.603 136.974 M198.603 133.965 Q203.324 133.965 205.806 137.707 Q208.308 141.431 208.308 148.541 Q208.308 155.631 205.806 159.374 Q203.324 163.098 198.603 163.098 Q193.882 163.098 191.381 159.374 Q188.898 155.631 188.898 148.541 Q188.898 141.431 191.381 137.707 Q193.882 133.965 198.603 133.965 Z\" fill=\"#000000\" fill-rule=\"evenodd\" fill-opacity=\"1\" /><path clip-path=\"url(#clip690)\" d=\"M 0 0 M57.8307 875.702 Q57.2578 876.689 57.0032 877.867 Q56.7167 879.013 56.7167 880.413 Q56.7167 885.378 59.9632 888.052 Q63.1779 890.694 69.2253 890.694 L88.0042 890.694 L88.0042 896.582 L52.3562 896.582 L52.3562 890.694 L57.8944 890.694 Q54.6479 888.848 53.0883 885.888 Q51.4968 882.928 51.4968 878.694 Q51.4968 878.09 51.5923 877.358 Q51.656 876.625 51.8151 875.734 L57.8307 875.702 Z\" fill=\"#000000\" fill-rule=\"evenodd\" fill-opacity=\"1\" /><path clip-path=\"url(#clip690)\" d=\"M 0 0 M68.7161 840.5 L71.5806 840.5 L71.5806 867.427 Q77.6281 867.045 80.8109 863.799 Q83.9619 860.52 83.9619 854.696 Q83.9619 851.322 83.1344 848.171 Q82.3069 844.988 80.6518 841.869 L86.1899 841.869 Q87.5267 845.02 88.227 848.33 Q88.9272 851.64 88.9272 855.046 Q88.9272 863.576 83.9619 868.573 Q78.9967 873.538 70.5303 873.538 Q61.7774 873.538 56.6531 868.827 Q51.4968 864.085 51.4968 856.064 Q51.4968 848.871 56.1438 844.701 Q60.7589 840.5 68.7161 840.5 M66.9973 846.357 Q62.1912 846.42 59.3266 849.062 Q56.4621 851.672 56.4621 856.001 Q56.4621 860.902 59.2312 863.862 Q62.0002 866.79 67.0292 867.236 L66.9973 846.357 Z\" fill=\"#000000\" fill-rule=\"evenodd\" fill-opacity=\"1\" /><path clip-path=\"url(#clip690)\" d=\"M 0 0 M53.4065 811.632 L58.9447 811.632 Q57.6716 814.114 57.035 816.788 Q56.3984 819.461 56.3984 822.326 Q56.3984 826.687 57.7352 828.883 Q59.072 831.047 61.7456 831.047 Q63.7826 831.047 64.9603 829.487 Q66.1061 827.928 67.1565 823.217 L67.6021 821.212 Q68.9389 814.974 71.3897 812.364 Q73.8086 809.722 78.1691 809.722 Q83.1344 809.722 86.0308 813.669 Q88.9272 817.584 88.9272 824.459 Q88.9272 827.323 88.3543 830.442 Q87.8132 833.53 86.6992 836.967 L80.6518 836.967 Q82.3387 833.721 83.198 830.57 Q84.0256 827.419 84.0256 824.331 Q84.0256 820.193 82.6251 817.966 Q81.1929 815.738 78.6147 815.738 Q76.2276 815.738 74.9545 817.361 Q73.6813 818.952 72.5037 824.395 L72.0262 826.432 Q70.8804 831.875 68.5251 834.294 Q66.138 836.713 62.0002 836.713 Q56.9713 836.713 54.2341 833.148 Q51.4968 829.583 51.4968 823.026 Q51.4968 819.78 51.9743 816.915 Q52.4517 814.051 53.4065 811.632 Z\" fill=\"#000000\" fill-rule=\"evenodd\" fill-opacity=\"1\" /><path clip-path=\"url(#clip690)\" d=\"M 0 0 M52.3562 803.579 L52.3562 797.723 L88.0042 797.723 L88.0042 803.579 L52.3562 803.579 M38.479 803.579 L38.479 797.723 L45.895 797.723 L45.895 803.579 L38.479 803.579 Z\" fill=\"#000000\" fill-rule=\"evenodd\" fill-opacity=\"1\" /><path clip-path=\"url(#clip690)\" d=\"M 0 0 M57.7671 768.122 L38.479 768.122 L38.479 762.266 L88.0042 762.266 L88.0042 768.122 L82.657 768.122 Q85.8398 769.968 87.3994 772.801 Q88.9272 775.602 88.9272 779.548 Q88.9272 786.01 83.771 790.084 Q78.6147 794.126 70.212 794.126 Q61.8093 794.126 56.6531 790.084 Q51.4968 786.01 51.4968 779.548 Q51.4968 775.602 53.0564 772.801 Q54.5842 769.968 57.7671 768.122 M70.212 788.079 Q76.6732 788.079 80.3653 785.437 Q84.0256 782.763 84.0256 778.116 Q84.0256 773.469 80.3653 770.796 Q76.6732 768.122 70.212 768.122 Q63.7508 768.122 60.0905 770.796 Q56.3984 773.469 56.3984 778.116 Q56.3984 782.763 60.0905 785.437 Q63.7508 788.079 70.212 788.079 Z\" fill=\"#000000\" fill-rule=\"evenodd\" fill-opacity=\"1\" /><path clip-path=\"url(#clip690)\" d=\"M 0 0 M73.9359 756.727 L52.3562 756.727 L52.3562 750.871 L73.7131 750.871 Q78.7739 750.871 81.3202 748.898 Q83.8346 746.924 83.8346 742.977 Q83.8346 738.235 80.8109 735.498 Q77.7872 732.729 72.5673 732.729 L52.3562 732.729 L52.3562 726.872 L88.0042 726.872 L88.0042 732.729 L82.5296 732.729 Q85.7762 734.861 87.3676 737.694 Q88.9272 740.495 88.9272 744.219 Q88.9272 750.362 85.1078 753.545 Q81.2883 756.727 73.9359 756.727 M51.4968 741.991 L51.4968 741.991 Z\" fill=\"#000000\" fill-rule=\"evenodd\" fill-opacity=\"1\" /><path clip-path=\"url(#clip690)\" d=\"M 0 0 M70.0847 704.529 Q70.0847 711.626 71.7079 714.364 Q73.3312 717.101 77.2461 717.101 Q80.3653 717.101 82.2114 715.064 Q84.0256 712.995 84.0256 709.462 Q84.0256 704.592 80.5881 701.664 Q77.1188 698.704 71.3897 698.704 L70.0847 698.704 L70.0847 704.529 M67.6657 692.848 L88.0042 692.848 L88.0042 698.704 L82.5933 698.704 Q85.8398 700.709 87.3994 703.701 Q88.9272 706.693 88.9272 711.022 Q88.9272 716.496 85.8716 719.743 Q82.7843 722.957 77.6281 722.957 Q71.6125 722.957 68.5569 718.947 Q65.5014 714.905 65.5014 706.916 L65.5014 698.704 L64.9285 698.704 Q60.8862 698.704 58.6901 701.378 Q56.4621 704.019 56.4621 708.825 Q56.4621 711.881 57.1941 714.777 Q57.9262 717.674 59.3903 720.347 L53.9795 720.347 Q52.7381 717.133 52.1334 714.109 Q51.4968 711.085 51.4968 708.221 Q51.4968 700.486 55.5072 696.667 Q59.5176 692.848 67.6657 692.848 Z\" fill=\"#000000\" fill-rule=\"evenodd\" fill-opacity=\"1\" /><path clip-path=\"url(#clip690)\" d=\"M 0 0 M38.479 686.705 L38.479 680.848 L88.0042 680.848 L88.0042 686.705 L38.479 686.705 Z\" fill=\"#000000\" fill-rule=\"evenodd\" fill-opacity=\"1\" /><path clip-path=\"url(#clip690)\" d=\"M 0 0 M53.4065 651.98 L58.9447 651.98 Q57.6716 654.462 57.035 657.136 Q56.3984 659.81 56.3984 662.674 Q56.3984 667.035 57.7352 669.231 Q59.072 671.395 61.7456 671.395 Q63.7826 671.395 64.9603 669.836 Q66.1061 668.276 67.1565 663.565 L67.6021 661.56 Q68.9389 655.322 71.3897 652.712 Q73.8086 650.07 78.1691 650.07 Q83.1344 650.07 86.0308 654.017 Q88.9272 657.932 88.9272 664.807 Q88.9272 667.671 88.3543 670.79 Q87.8132 673.878 86.6992 677.315 L80.6518 677.315 Q82.3387 674.069 83.198 670.918 Q84.0256 667.767 84.0256 664.679 Q84.0256 660.542 82.6251 658.314 Q81.1929 656.086 78.6147 656.086 Q76.2276 656.086 74.9545 657.709 Q73.6813 659.3 72.5037 664.743 L72.0262 666.78 Q70.8804 672.223 68.5251 674.642 Q66.138 677.061 62.0002 677.061 Q56.9713 677.061 54.2341 673.496 Q51.4968 669.931 51.4968 663.374 Q51.4968 660.128 51.9743 657.263 Q52.4517 654.399 53.4065 651.98 Z\" fill=\"#000000\" fill-rule=\"evenodd\" fill-opacity=\"1\" /><path clip-path=\"url(#clip690)\" d=\"M 0 0 M551.606 16.7545 L551.606 25.383 Q547.474 21.5346 542.775 19.6307 Q538.116 17.7268 532.85 17.7268 Q522.48 17.7268 516.971 24.0867 Q511.461 30.4061 511.461 42.3968 Q511.461 54.3469 516.971 60.7069 Q522.48 67.0263 532.85 67.0263 Q538.116 67.0263 542.775 65.1223 Q547.474 63.2184 551.606 59.3701 L551.606 67.9175 Q547.312 70.8341 542.491 72.2924 Q537.711 73.7508 532.364 73.7508 Q518.631 73.7508 510.732 65.3654 Q502.833 56.9395 502.833 42.3968 Q502.833 27.8135 510.732 19.4281 Q518.631 11.0023 532.364 11.0023 Q537.792 11.0023 542.572 12.4606 Q547.393 13.8784 551.606 16.7545 Z\" fill=\"#000000\" fill-rule=\"evenodd\" fill-opacity=\"1\" /><path clip-path=\"url(#clip690)\" d=\"M 0 0 M577.005 32.4315 Q571.01 32.4315 567.526 37.1306 Q564.042 41.7891 564.042 49.9314 Q564.042 58.0738 567.485 62.7728 Q570.969 67.4314 577.005 67.4314 Q582.96 67.4314 586.444 62.7323 Q589.927 58.0333 589.927 49.9314 Q589.927 41.8701 586.444 37.1711 Q582.96 32.4315 577.005 32.4315 M577.005 26.1121 Q586.727 26.1121 592.277 32.4315 Q597.827 38.7509 597.827 49.9314 Q597.827 61.0714 592.277 67.4314 Q586.727 73.7508 577.005 73.7508 Q567.242 73.7508 561.693 67.4314 Q556.183 61.0714 556.183 49.9314 Q556.183 38.7509 561.693 32.4315 Q567.242 26.1121 577.005 26.1121 Z\" fill=\"#000000\" fill-rule=\"evenodd\" fill-opacity=\"1\" /><path clip-path=\"url(#clip690)\" d=\"M 0 0 M643.359 45.1919 L643.359 72.576 L635.905 72.576 L635.905 45.4349 Q635.905 38.994 633.394 35.7938 Q630.882 32.5936 625.859 32.5936 Q619.823 32.5936 616.339 36.4419 Q612.855 40.2903 612.855 46.9338 L612.855 72.576 L605.361 72.576 L605.361 27.2059 L612.855 27.2059 L612.855 34.2544 Q615.529 30.163 619.134 28.1376 Q622.78 26.1121 627.52 26.1121 Q635.338 26.1121 639.348 30.9732 Q643.359 35.7938 643.359 45.1919 Z\" fill=\"#000000\" fill-rule=\"evenodd\" fill-opacity=\"1\" /><path clip-path=\"url(#clip690)\" d=\"M 0 0 M645.83 27.2059 L653.729 27.2059 L667.907 65.2844 L682.085 27.2059 L689.985 27.2059 L672.971 72.576 L662.844 72.576 L645.83 27.2059 Z\" fill=\"#000000\" fill-rule=\"evenodd\" fill-opacity=\"1\" /><path clip-path=\"url(#clip690)\" d=\"M 0 0 M736.611 48.0275 L736.611 51.6733 L702.34 51.6733 Q702.826 59.3701 706.958 63.421 Q711.13 67.4314 718.544 67.4314 Q722.838 67.4314 726.848 66.3781 Q730.899 65.3249 734.869 63.2184 L734.869 70.267 Q730.858 71.9684 726.645 72.8596 Q722.432 73.7508 718.098 73.7508 Q707.242 73.7508 700.882 67.4314 Q694.562 61.1119 694.562 50.3365 Q694.562 39.1965 700.558 32.6746 Q706.593 26.1121 716.802 26.1121 Q725.957 26.1121 731.263 32.0264 Q736.611 37.9003 736.611 48.0275 M729.157 45.84 Q729.076 39.7232 725.714 36.0774 Q722.392 32.4315 716.883 32.4315 Q710.644 32.4315 706.877 35.9558 Q703.15 39.4801 702.583 45.8805 L729.157 45.84 Z\" fill=\"#000000\" fill-rule=\"evenodd\" fill-opacity=\"1\" /><path clip-path=\"url(#clip690)\" d=\"M 0 0 M770.719 34.1734 Q769.463 33.4443 767.965 33.1202 Q766.506 32.7556 764.724 32.7556 Q758.404 32.7556 755.002 36.8875 Q751.639 40.9789 751.639 48.6757 L751.639 72.576 L744.145 72.576 L744.145 27.2059 L751.639 27.2059 L751.639 34.2544 Q753.989 30.1225 757.756 28.1376 Q761.524 26.1121 766.911 26.1121 Q767.681 26.1121 768.613 26.2337 Q769.544 26.3147 770.679 26.5172 L770.719 34.1734 Z\" fill=\"#000000\" fill-rule=\"evenodd\" fill-opacity=\"1\" /><path clip-path=\"url(#clip690)\" d=\"M 0 0 M806.934 49.3643 Q806.934 41.2625 803.572 36.8065 Q800.25 32.3505 794.214 32.3505 Q788.219 32.3505 784.857 36.8065 Q781.535 41.2625 781.535 49.3643 Q781.535 57.4256 784.857 61.8816 Q788.219 66.3376 794.214 66.3376 Q800.25 66.3376 803.572 61.8816 Q806.934 57.4256 806.934 49.3643 M814.388 66.9452 Q814.388 78.5308 809.243 84.1616 Q804.099 89.8329 793.485 89.8329 Q789.556 89.8329 786.072 89.2252 Q782.588 88.6581 779.307 87.4428 L779.307 80.1917 Q782.588 81.9741 785.789 82.8248 Q788.989 83.6755 792.311 83.6755 Q799.643 83.6755 803.289 79.8271 Q806.934 76.0193 806.934 68.282 L806.934 64.5957 Q804.625 68.6061 801.02 70.5911 Q797.415 72.576 792.392 72.576 Q784.047 72.576 778.943 66.2161 Q773.838 59.8562 773.838 49.3643 Q773.838 38.832 778.943 32.472 Q784.047 26.1121 792.392 26.1121 Q797.415 26.1121 801.02 28.0971 Q804.625 30.082 806.934 34.0924 L806.934 27.2059 L814.388 27.2059 L814.388 66.9452 Z\" fill=\"#000000\" fill-rule=\"evenodd\" fill-opacity=\"1\" /><path clip-path=\"url(#clip690)\" d=\"M 0 0 M861.014 48.0275 L861.014 51.6733 L826.743 51.6733 Q827.229 59.3701 831.361 63.421 Q835.534 67.4314 842.947 67.4314 Q847.241 67.4314 851.251 66.3781 Q855.302 65.3249 859.272 63.2184 L859.272 70.267 Q855.262 71.9684 851.049 72.8596 Q846.836 73.7508 842.501 73.7508 Q831.645 73.7508 825.285 67.4314 Q818.965 61.1119 818.965 50.3365 Q818.965 39.1965 824.961 32.6746 Q830.997 26.1121 841.205 26.1121 Q850.36 26.1121 855.667 32.0264 Q861.014 37.9003 861.014 48.0275 M853.56 45.84 Q853.479 39.7232 850.117 36.0774 Q846.795 32.4315 841.286 32.4315 Q835.048 32.4315 831.28 35.9558 Q827.553 39.4801 826.986 45.8805 L853.56 45.84 Z\" fill=\"#000000\" fill-rule=\"evenodd\" fill-opacity=\"1\" /><path clip-path=\"url(#clip690)\" d=\"M 0 0 M906.546 45.1919 L906.546 72.576 L899.092 72.576 L899.092 45.4349 Q899.092 38.994 896.581 35.7938 Q894.069 32.5936 889.046 32.5936 Q883.01 32.5936 879.527 36.4419 Q876.043 40.2903 876.043 46.9338 L876.043 72.576 L868.549 72.576 L868.549 27.2059 L876.043 27.2059 L876.043 34.2544 Q878.716 30.163 882.322 28.1376 Q885.967 26.1121 890.707 26.1121 Q898.525 26.1121 902.536 30.9732 Q906.546 35.7938 906.546 45.1919 Z\" fill=\"#000000\" fill-rule=\"evenodd\" fill-opacity=\"1\" /><path clip-path=\"url(#clip690)\" d=\"M 0 0 M947.015 28.9478 L947.015 35.9153 Q943.855 34.1734 940.655 33.3227 Q937.495 32.4315 934.254 32.4315 Q927.003 32.4315 922.993 37.0496 Q918.982 41.6271 918.982 49.9314 Q918.982 58.2358 922.993 62.8538 Q927.003 67.4314 934.254 67.4314 Q937.495 67.4314 940.655 66.5807 Q943.855 65.6895 947.015 63.9476 L947.015 70.8341 Q943.895 72.2924 940.533 73.0216 Q937.211 73.7508 933.444 73.7508 Q923.195 73.7508 917.159 67.3098 Q911.124 60.8689 911.124 49.9314 Q911.124 38.832 917.2 32.472 Q923.317 26.1121 933.93 26.1121 Q937.373 26.1121 940.655 26.8413 Q943.936 27.5299 947.015 28.9478 Z\" fill=\"#000000\" fill-rule=\"evenodd\" fill-opacity=\"1\" /><path clip-path=\"url(#clip690)\" d=\"M 0 0 M993.64 48.0275 L993.64 51.6733 L959.37 51.6733 Q959.856 59.3701 963.988 63.421 Q968.16 67.4314 975.573 67.4314 Q979.867 67.4314 983.878 66.3781 Q987.929 65.3249 991.899 63.2184 L991.899 70.267 Q987.888 71.9684 983.675 72.8596 Q979.462 73.7508 975.128 73.7508 Q964.271 73.7508 957.912 67.4314 Q951.592 61.1119 951.592 50.3365 Q951.592 39.1965 957.587 32.6746 Q963.623 26.1121 973.832 26.1121 Q982.987 26.1121 988.293 32.0264 Q993.64 37.9003 993.64 48.0275 M986.187 45.84 Q986.106 39.7232 982.744 36.0774 Q979.422 32.4315 973.913 32.4315 Q967.674 32.4315 963.907 35.9558 Q960.18 39.4801 959.613 45.8805 L986.187 45.84 Z\" fill=\"#000000\" fill-rule=\"evenodd\" fill-opacity=\"1\" /><path clip-path=\"url(#clip690)\" d=\"M 0 0 M1022.48 27.2059 L1030.38 27.2059 L1044.56 65.2844 L1058.74 27.2059 L1066.64 27.2059 L1049.62 72.576 L1039.5 72.576 L1022.48 27.2059 Z\" fill=\"#000000\" fill-rule=\"evenodd\" fill-opacity=\"1\" /><path clip-path=\"url(#clip690)\" d=\"M 0 0 M1103.38 28.5427 L1103.38 35.5912 Q1100.22 33.9709 1096.82 33.1607 Q1093.41 32.3505 1089.77 32.3505 Q1084.22 32.3505 1081.42 34.0519 Q1078.67 35.7533 1078.67 39.156 Q1078.67 41.7486 1080.65 43.2475 Q1082.64 44.7058 1088.63 46.0426 L1091.19 46.6097 Q1099.13 48.3111 1102.45 51.4303 Q1105.81 54.509 1105.81 60.0587 Q1105.81 66.3781 1100.79 70.0644 Q1095.8 73.7508 1087.05 73.7508 Q1083.41 73.7508 1079.44 73.0216 Q1075.51 72.3329 1071.13 70.9151 L1071.13 63.2184 Q1075.27 65.3654 1079.28 66.4591 Q1083.29 67.5124 1087.22 67.5124 Q1092.48 67.5124 1095.32 65.73 Q1098.15 63.9071 1098.15 60.6258 Q1098.15 57.5877 1096.09 55.9673 Q1094.06 54.3469 1087.14 52.8481 L1084.54 52.2405 Q1077.62 50.7821 1074.54 47.7845 Q1071.46 44.7463 1071.46 39.4801 Q1071.46 33.0797 1076 29.5959 Q1080.53 26.1121 1088.88 26.1121 Q1093.01 26.1121 1096.65 26.7198 Q1100.3 27.3274 1103.38 28.5427 Z\" fill=\"#000000\" fill-rule=\"evenodd\" fill-opacity=\"1\" /><path clip-path=\"url(#clip690)\" d=\"M 0 0 M1140 27.2059 L1147.45 27.2059 L1147.45 72.576 L1140 72.576 L1140 27.2059 M1140 9.54393 L1147.45 9.54393 L1147.45 18.9825 L1140 18.9825 L1140 9.54393 Z\" fill=\"#000000\" fill-rule=\"evenodd\" fill-opacity=\"1\" /><path clip-path=\"url(#clip690)\" d=\"M 0 0 M1162.64 14.324 L1162.64 27.2059 L1178 27.2059 L1178 32.9987 L1162.64 32.9987 L1162.64 57.6282 Q1162.64 63.1779 1164.14 64.7578 Q1165.68 66.3376 1170.34 66.3376 L1178 66.3376 L1178 72.576 L1170.34 72.576 Q1161.71 72.576 1158.43 69.3758 Q1155.15 66.1351 1155.15 57.6282 L1155.15 32.9987 L1149.68 32.9987 L1149.68 27.2059 L1155.15 27.2059 L1155.15 14.324 L1162.64 14.324 Z\" fill=\"#000000\" fill-rule=\"evenodd\" fill-opacity=\"1\" /><path clip-path=\"url(#clip690)\" d=\"M 0 0 M1224.62 48.0275 L1224.62 51.6733 L1190.35 51.6733 Q1190.84 59.3701 1194.97 63.421 Q1199.14 67.4314 1206.56 67.4314 Q1210.85 67.4314 1214.86 66.3781 Q1218.91 65.3249 1222.88 63.2184 L1222.88 70.267 Q1218.87 71.9684 1214.66 72.8596 Q1210.44 73.7508 1206.11 73.7508 Q1195.25 73.7508 1188.89 67.4314 Q1182.57 61.1119 1182.57 50.3365 Q1182.57 39.1965 1188.57 32.6746 Q1194.61 26.1121 1204.81 26.1121 Q1213.97 26.1121 1219.28 32.0264 Q1224.62 37.9003 1224.62 48.0275 M1217.17 45.84 Q1217.09 39.7232 1213.73 36.0774 Q1210.4 32.4315 1204.9 32.4315 Q1198.66 32.4315 1194.89 35.9558 Q1191.16 39.4801 1190.6 45.8805 L1217.17 45.84 Z\" fill=\"#000000\" fill-rule=\"evenodd\" fill-opacity=\"1\" /><path clip-path=\"url(#clip690)\" d=\"M 0 0 M1258.73 34.1734 Q1257.48 33.4443 1255.98 33.1202 Q1254.52 32.7556 1252.74 32.7556 Q1246.42 32.7556 1243.01 36.8875 Q1239.65 40.9789 1239.65 48.6757 L1239.65 72.576 L1232.16 72.576 L1232.16 27.2059 L1239.65 27.2059 L1239.65 34.2544 Q1242 30.1225 1245.77 28.1376 Q1249.54 26.1121 1254.92 26.1121 Q1255.69 26.1121 1256.63 26.2337 Q1257.56 26.3147 1258.69 26.5172 L1258.73 34.1734 Z\" fill=\"#000000\" fill-rule=\"evenodd\" fill-opacity=\"1\" /><path clip-path=\"url(#clip690)\" d=\"M 0 0 M1287.17 49.7694 Q1278.14 49.7694 1274.65 51.8354 Q1271.17 53.9013 1271.17 58.8839 Q1271.17 62.8538 1273.76 65.2034 Q1276.39 67.5124 1280.89 67.5124 Q1287.09 67.5124 1290.81 63.1374 Q1294.58 58.7219 1294.58 51.4303 L1294.58 49.7694 L1287.17 49.7694 M1302.04 46.6907 L1302.04 72.576 L1294.58 72.576 L1294.58 65.6895 Q1292.03 69.8214 1288.22 71.8063 Q1284.41 73.7508 1278.91 73.7508 Q1271.94 73.7508 1267.81 69.8619 Q1263.71 65.9325 1263.71 59.3701 Q1263.71 51.7138 1268.82 47.825 Q1273.96 43.9361 1284.13 43.9361 L1294.58 43.9361 L1294.58 43.2069 Q1294.58 38.0623 1291.18 35.2672 Q1287.82 32.4315 1281.7 32.4315 Q1277.81 32.4315 1274.13 33.3632 Q1270.44 34.295 1267.04 36.1584 L1267.04 29.2718 Q1271.13 27.692 1274.98 26.9223 Q1278.82 26.1121 1282.47 26.1121 Q1292.31 26.1121 1297.17 31.2163 Q1302.04 36.3204 1302.04 46.6907 Z\" fill=\"#000000\" fill-rule=\"evenodd\" fill-opacity=\"1\" /><path clip-path=\"url(#clip690)\" d=\"M 0 0 M1317.23 14.324 L1317.23 27.2059 L1332.58 27.2059 L1332.58 32.9987 L1317.23 32.9987 L1317.23 57.6282 Q1317.23 63.1779 1318.73 64.7578 Q1320.26 66.3376 1324.92 66.3376 L1332.58 66.3376 L1332.58 72.576 L1324.92 72.576 Q1316.3 72.576 1313.01 69.3758 Q1309.73 66.1351 1309.73 57.6282 L1309.73 32.9987 L1304.26 32.9987 L1304.26 27.2059 L1309.73 27.2059 L1309.73 14.324 L1317.23 14.324 Z\" fill=\"#000000\" fill-rule=\"evenodd\" fill-opacity=\"1\" /><path clip-path=\"url(#clip690)\" d=\"M 0 0 M1340.4 27.2059 L1347.85 27.2059 L1347.85 72.576 L1340.4 72.576 L1340.4 27.2059 M1340.4 9.54393 L1347.85 9.54393 L1347.85 18.9825 L1340.4 18.9825 L1340.4 9.54393 Z\" fill=\"#000000\" fill-rule=\"evenodd\" fill-opacity=\"1\" /><path clip-path=\"url(#clip690)\" d=\"M 0 0 M1373.25 32.4315 Q1367.26 32.4315 1363.77 37.1306 Q1360.29 41.7891 1360.29 49.9314 Q1360.29 58.0738 1363.73 62.7728 Q1367.21 67.4314 1373.25 67.4314 Q1379.21 67.4314 1382.69 62.7323 Q1386.17 58.0333 1386.17 49.9314 Q1386.17 41.8701 1382.69 37.1711 Q1379.21 32.4315 1373.25 32.4315 M1373.25 26.1121 Q1382.97 26.1121 1388.52 32.4315 Q1394.07 38.7509 1394.07 49.9314 Q1394.07 61.0714 1388.52 67.4314 Q1382.97 73.7508 1373.25 73.7508 Q1363.49 73.7508 1357.94 67.4314 Q1352.43 61.0714 1352.43 49.9314 Q1352.43 38.7509 1357.94 32.4315 Q1363.49 26.1121 1373.25 26.1121 Z\" fill=\"#000000\" fill-rule=\"evenodd\" fill-opacity=\"1\" /><path clip-path=\"url(#clip690)\" d=\"M 0 0 M1439.6 45.1919 L1439.6 72.576 L1432.15 72.576 L1432.15 45.4349 Q1432.15 38.994 1429.64 35.7938 Q1427.13 32.5936 1422.1 32.5936 Q1416.07 32.5936 1412.59 36.4419 Q1409.1 40.2903 1409.1 46.9338 L1409.1 72.576 L1401.61 72.576 L1401.61 27.2059 L1409.1 27.2059 L1409.1 34.2544 Q1411.77 30.163 1415.38 28.1376 Q1419.03 26.1121 1423.77 26.1121 Q1431.58 26.1121 1435.59 30.9732 Q1439.6 35.7938 1439.6 45.1919 Z\" fill=\"#000000\" fill-rule=\"evenodd\" fill-opacity=\"1\" /><path clip-path=\"url(#clip690)\" d=\"M 0 0 M1449.33 62.2867 L1457.87 62.2867 L1457.87 72.576 L1449.33 72.576 L1449.33 62.2867 M1449.33 29.6769 L1457.87 29.6769 L1457.87 39.9662 L1449.33 39.9662 L1449.33 29.6769 Z\" fill=\"#000000\" fill-rule=\"evenodd\" fill-opacity=\"1\" /><path clip-path=\"url(#clip690)\" d=\"M 0 0 M1528.64 14.0809 L1528.64 22.0612 Q1523.98 19.8332 1519.85 18.7395 Q1515.72 17.6457 1511.87 17.6457 Q1505.19 17.6457 1501.54 20.2383 Q1497.94 22.8309 1497.94 27.611 Q1497.94 31.6214 1500.33 33.6873 Q1502.76 35.7128 1509.48 36.9686 L1514.42 37.9813 Q1523.58 39.7232 1527.91 44.1387 Q1532.29 48.5136 1532.29 55.8863 Q1532.29 64.6767 1526.37 69.2137 Q1520.5 73.7508 1509.12 73.7508 Q1504.82 73.7508 1499.96 72.7785 Q1495.14 71.8063 1489.96 69.9024 L1489.96 61.4765 Q1494.94 64.2716 1499.72 65.6895 Q1504.5 67.1073 1509.12 67.1073 Q1516.13 67.1073 1519.93 64.3527 Q1523.74 61.598 1523.74 56.4939 Q1523.74 52.0379 1520.99 49.5264 Q1518.27 47.0148 1512.03 45.759 L1507.05 44.7868 Q1497.9 42.9639 1493.81 39.075 Q1489.71 35.1862 1489.71 28.2591 Q1489.71 20.2383 1495.34 15.6203 Q1501.02 11.0023 1510.94 11.0023 Q1515.19 11.0023 1519.61 11.7719 Q1524.03 12.5416 1528.64 14.0809 Z\" fill=\"#000000\" fill-rule=\"evenodd\" fill-opacity=\"1\" /><path clip-path=\"url(#clip690)\" d=\"M 0 0 M1557.69 32.4315 Q1551.69 32.4315 1548.21 37.1306 Q1544.73 41.7891 1544.73 49.9314 Q1544.73 58.0738 1548.17 62.7728 Q1551.65 67.4314 1557.69 67.4314 Q1563.64 67.4314 1567.13 62.7323 Q1570.61 58.0333 1570.61 49.9314 Q1570.61 41.8701 1567.13 37.1711 Q1563.64 32.4315 1557.69 32.4315 M1557.69 26.1121 Q1567.41 26.1121 1572.96 32.4315 Q1578.51 38.7509 1578.51 49.9314 Q1578.51 61.0714 1572.96 67.4314 Q1567.41 73.7508 1557.69 73.7508 Q1547.93 73.7508 1542.38 67.4314 Q1536.87 61.0714 1536.87 49.9314 Q1536.87 38.7509 1542.38 32.4315 Q1547.93 26.1121 1557.69 26.1121 Z\" fill=\"#000000\" fill-rule=\"evenodd\" fill-opacity=\"1\" /><path clip-path=\"url(#clip690)\" d=\"M 0 0 M1618.9 49.9314 Q1618.9 41.7081 1615.49 37.0496 Q1612.13 32.3505 1606.22 32.3505 Q1600.3 32.3505 1596.9 37.0496 Q1593.54 41.7081 1593.54 49.9314 Q1593.54 58.1548 1596.9 62.8538 Q1600.3 67.5124 1606.22 67.5124 Q1612.13 67.5124 1615.49 62.8538 Q1618.9 58.1548 1618.9 49.9314 M1593.54 34.0924 Q1595.89 30.0415 1599.45 28.0971 Q1603.06 26.1121 1608.04 26.1121 Q1616.3 26.1121 1621.45 32.6746 Q1626.63 39.2371 1626.63 49.9314 Q1626.63 60.6258 1621.45 67.1883 Q1616.3 73.7508 1608.04 73.7508 Q1603.06 73.7508 1599.45 71.8063 Q1595.89 69.8214 1593.54 65.7705 L1593.54 72.576 L1586.04 72.576 L1586.04 9.54393 L1593.54 9.54393 L1593.54 34.0924 Z\" fill=\"#000000\" fill-rule=\"evenodd\" fill-opacity=\"1\" /><path clip-path=\"url(#clip690)\" d=\"M 0 0 M1660.74 34.1734 Q1659.49 33.4443 1657.99 33.1202 Q1656.53 32.7556 1654.75 32.7556 Q1648.43 32.7556 1645.03 36.8875 Q1641.66 40.9789 1641.66 48.6757 L1641.66 72.576 L1634.17 72.576 L1634.17 27.2059 L1641.66 27.2059 L1641.66 34.2544 Q1644.01 30.1225 1647.78 28.1376 Q1651.55 26.1121 1656.94 26.1121 Q1657.71 26.1121 1658.64 26.2337 Q1659.57 26.3147 1660.7 26.5172 L1660.74 34.1734 Z\" fill=\"#000000\" fill-rule=\"evenodd\" fill-opacity=\"1\" /><path clip-path=\"url(#clip690)\" d=\"M 0 0 M1705.55 48.0275 L1705.55 51.6733 L1671.28 51.6733 Q1671.76 59.3701 1675.89 63.421 Q1680.07 67.4314 1687.48 67.4314 Q1691.77 67.4314 1695.78 66.3781 Q1699.83 65.3249 1703.8 63.2184 L1703.8 70.267 Q1699.79 71.9684 1695.58 72.8596 Q1691.37 73.7508 1687.03 73.7508 Q1676.18 73.7508 1669.82 67.4314 Q1663.5 61.1119 1663.5 50.3365 Q1663.5 39.1965 1669.49 32.6746 Q1675.53 26.1121 1685.74 26.1121 Q1694.89 26.1121 1700.2 32.0264 Q1705.55 37.9003 1705.55 48.0275 M1698.09 45.84 Q1698.01 39.7232 1694.65 36.0774 Q1691.33 32.4315 1685.82 32.4315 Q1679.58 32.4315 1675.81 35.9558 Q1672.09 39.4801 1671.52 45.8805 L1698.09 45.84 Z\" fill=\"#000000\" fill-rule=\"evenodd\" fill-opacity=\"1\" /><path clip-path=\"url(#clip690)\" d=\"M 0 0 M1709.6 46.5287 L1731.43 46.5287 L1731.43 53.1722 L1709.6 53.1722 L1709.6 46.5287 Z\" fill=\"#000000\" fill-rule=\"evenodd\" fill-opacity=\"1\" /><path clip-path=\"url(#clip690)\" d=\"M 0 0 M1768.25 44.2197 Q1770.89 45.1109 1773.36 48.0275 Q1775.87 50.9442 1778.38 56.0483 L1786.69 72.576 L1777.9 72.576 L1770.16 57.061 Q1767.16 50.9847 1764.33 48.9997 Q1761.53 47.0148 1756.67 47.0148 L1747.76 47.0148 L1747.76 72.576 L1739.57 72.576 L1739.57 12.096 L1758.05 12.096 Q1768.42 12.096 1773.52 16.4305 Q1778.62 20.7649 1778.62 29.5149 Q1778.62 35.2267 1775.95 38.994 Q1773.32 42.7613 1768.25 44.2197 M1747.76 18.8205 L1747.76 40.2903 L1758.05 40.2903 Q1763.96 40.2903 1766.96 37.5762 Q1770 34.8216 1770 29.5149 Q1770 24.2082 1766.96 21.5346 Q1763.96 18.8205 1758.05 18.8205 L1747.76 18.8205 Z\" fill=\"#000000\" fill-rule=\"evenodd\" fill-opacity=\"1\" /><path clip-path=\"url(#clip690)\" d=\"M 0 0 M1829.59 48.0275 L1829.59 51.6733 L1795.31 51.6733 Q1795.8 59.3701 1799.93 63.421 Q1804.1 67.4314 1811.52 67.4314 Q1815.81 67.4314 1819.82 66.3781 Q1823.87 65.3249 1827.84 63.2184 L1827.84 70.267 Q1823.83 71.9684 1819.62 72.8596 Q1815.41 73.7508 1811.07 73.7508 Q1800.22 73.7508 1793.86 67.4314 Q1787.54 61.1119 1787.54 50.3365 Q1787.54 39.1965 1793.53 32.6746 Q1799.57 26.1121 1809.78 26.1121 Q1818.93 26.1121 1824.24 32.0264 Q1829.59 37.9003 1829.59 48.0275 M1822.13 45.84 Q1822.05 39.7232 1818.69 36.0774 Q1815.37 32.4315 1809.86 32.4315 Q1803.62 32.4315 1799.85 35.9558 Q1796.12 39.4801 1795.56 45.8805 L1822.13 45.84 Z\" fill=\"#000000\" fill-rule=\"evenodd\" fill-opacity=\"1\" /><path clip-path=\"url(#clip690)\" d=\"M 0 0 M1837.4 9.54393 L1844.86 9.54393 L1844.86 72.576 L1837.4 72.576 L1837.4 9.54393 Z\" fill=\"#000000\" fill-rule=\"evenodd\" fill-opacity=\"1\" /><path clip-path=\"url(#clip690)\" d=\"M 0 0 M1873.29 49.7694 Q1864.26 49.7694 1860.78 51.8354 Q1857.29 53.9013 1857.29 58.8839 Q1857.29 62.8538 1859.89 65.2034 Q1862.52 67.5124 1867.02 67.5124 Q1873.21 67.5124 1876.94 63.1374 Q1880.71 58.7219 1880.71 51.4303 L1880.71 49.7694 L1873.29 49.7694 M1888.16 46.6907 L1888.16 72.576 L1880.71 72.576 L1880.71 65.6895 Q1878.16 69.8214 1874.35 71.8063 Q1870.54 73.7508 1865.03 73.7508 Q1858.06 73.7508 1853.93 69.8619 Q1849.84 65.9325 1849.84 59.3701 Q1849.84 51.7138 1854.94 47.825 Q1860.09 43.9361 1870.26 43.9361 L1880.71 43.9361 L1880.71 43.2069 Q1880.71 38.0623 1877.3 35.2672 Q1873.94 32.4315 1867.83 32.4315 Q1863.94 32.4315 1860.25 33.3632 Q1856.56 34.295 1853.16 36.1584 L1853.16 29.2718 Q1857.25 27.692 1861.1 26.9223 Q1864.95 26.1121 1868.6 26.1121 Q1878.44 26.1121 1883.3 31.2163 Q1888.16 36.3204 1888.16 46.6907 Z\" fill=\"#000000\" fill-rule=\"evenodd\" fill-opacity=\"1\" /><path clip-path=\"url(#clip690)\" d=\"M 0 0 M1895.98 27.2059 L1903.43 27.2059 L1903.43 73.3862 Q1903.43 82.0551 1900.11 85.944 Q1896.83 89.8329 1889.5 89.8329 L1886.66 89.8329 L1886.66 83.5134 L1888.65 83.5134 Q1892.9 83.5134 1894.44 81.5285 Q1895.98 79.5841 1895.98 73.3862 L1895.98 27.2059 M1895.98 9.54393 L1903.43 9.54393 L1903.43 18.9825 L1895.98 18.9825 L1895.98 9.54393 Z\" fill=\"#000000\" fill-rule=\"evenodd\" fill-opacity=\"1\" /><path clip-path=\"url(#clip690)\" d=\"M 0 0 M1931.87 49.7694 Q1922.84 49.7694 1919.35 51.8354 Q1915.87 53.9013 1915.87 58.8839 Q1915.87 62.8538 1918.46 65.2034 Q1921.1 67.5124 1925.59 67.5124 Q1931.79 67.5124 1935.52 63.1374 Q1939.28 58.7219 1939.28 51.4303 L1939.28 49.7694 L1931.87 49.7694 M1946.74 46.6907 L1946.74 72.576 L1939.28 72.576 L1939.28 65.6895 Q1936.73 69.8214 1932.92 71.8063 Q1929.12 73.7508 1923.61 73.7508 Q1916.64 73.7508 1912.51 69.8619 Q1908.42 65.9325 1908.42 59.3701 Q1908.42 51.7138 1913.52 47.825 Q1918.66 43.9361 1928.83 43.9361 L1939.28 43.9361 L1939.28 43.2069 Q1939.28 38.0623 1935.88 35.2672 Q1932.52 32.4315 1926.4 32.4315 Q1922.51 32.4315 1918.83 33.3632 Q1915.14 34.295 1911.74 36.1584 L1911.74 29.2718 Q1915.83 27.692 1919.68 26.9223 Q1923.53 26.1121 1927.17 26.1121 Q1937.02 26.1121 1941.88 31.2163 Q1946.74 36.3204 1946.74 46.6907 Z\" fill=\"#000000\" fill-rule=\"evenodd\" fill-opacity=\"1\" /><path clip-path=\"url(#clip690)\" d=\"M 0 0 M1987.21 28.9478 L1987.21 35.9153 Q1984.05 34.1734 1980.85 33.3227 Q1977.69 32.4315 1974.45 32.4315 Q1967.19 32.4315 1963.18 37.0496 Q1959.17 41.6271 1959.17 49.9314 Q1959.17 58.2358 1963.18 62.8538 Q1967.19 67.4314 1974.45 67.4314 Q1977.69 67.4314 1980.85 66.5807 Q1984.05 65.6895 1987.21 63.9476 L1987.21 70.8341 Q1984.09 72.2924 1980.72 73.0216 Q1977.4 73.7508 1973.64 73.7508 Q1963.39 73.7508 1957.35 67.3098 Q1951.31 60.8689 1951.31 49.9314 Q1951.31 38.832 1957.39 32.472 Q1963.51 26.1121 1974.12 26.1121 Q1977.56 26.1121 1980.85 26.8413 Q1984.13 27.5299 1987.21 28.9478 Z\" fill=\"#000000\" fill-rule=\"evenodd\" fill-opacity=\"1\" /><path clip-path=\"url(#clip690)\" d=\"M 0 0 M1995.02 27.2059 L2002.48 27.2059 L2002.48 72.576 L1995.02 72.576 L1995.02 27.2059 M1995.02 9.54393 L2002.48 9.54393 L2002.48 18.9825 L1995.02 18.9825 L1995.02 9.54393 Z\" fill=\"#000000\" fill-rule=\"evenodd\" fill-opacity=\"1\" /><path clip-path=\"url(#clip690)\" d=\"M 0 0 M2027.88 32.4315 Q2021.88 32.4315 2018.4 37.1306 Q2014.91 41.7891 2014.91 49.9314 Q2014.91 58.0738 2018.36 62.7728 Q2021.84 67.4314 2027.88 67.4314 Q2033.83 67.4314 2037.32 62.7323 Q2040.8 58.0333 2040.8 49.9314 Q2040.8 41.8701 2037.32 37.1711 Q2033.83 32.4315 2027.88 32.4315 M2027.88 26.1121 Q2037.6 26.1121 2043.15 32.4315 Q2048.7 38.7509 2048.7 49.9314 Q2048.7 61.0714 2043.15 67.4314 Q2037.6 73.7508 2027.88 73.7508 Q2018.11 73.7508 2012.56 67.4314 Q2007.06 61.0714 2007.06 49.9314 Q2007.06 38.7509 2012.56 32.4315 Q2018.11 26.1121 2027.88 26.1121 M2033.51 6.22219 L2041.57 6.22219 L2028.36 21.4536 L2022.17 21.4536 L2033.51 6.22219 Z\" fill=\"#000000\" fill-rule=\"evenodd\" fill-opacity=\"1\" /><path clip-path=\"url(#clip690)\" d=\"M 0 0 M2094.23 45.1919 L2094.23 72.576 L2086.78 72.576 L2086.78 45.4349 Q2086.78 38.994 2084.27 35.7938 Q2081.75 32.5936 2076.73 32.5936 Q2070.69 32.5936 2067.21 36.4419 Q2063.73 40.2903 2063.73 46.9338 L2063.73 72.576 L2056.23 72.576 L2056.23 27.2059 L2063.73 27.2059 L2063.73 34.2544 Q2066.4 30.163 2070.01 28.1376 Q2073.65 26.1121 2078.39 26.1121 Q2086.21 26.1121 2090.22 30.9732 Q2094.23 35.7938 2094.23 45.1919 Z\" fill=\"#000000\" fill-rule=\"evenodd\" fill-opacity=\"1\" /><circle clip-path=\"url(#clip692)\" cx=\"303.981\" cy=\"160.256\" r=\"14\" fill=\"#6b0851\" fill-rule=\"evenodd\" fill-opacity=\"1\" stroke=\"#000000\" stroke-opacity=\"1\" stroke-width=\"3.2\"/>\n",
       "<circle clip-path=\"url(#clip692)\" cx=\"469.739\" cy=\"253.47\" r=\"14\" fill=\"#6b0851\" fill-rule=\"evenodd\" fill-opacity=\"1\" stroke=\"#000000\" stroke-opacity=\"1\" stroke-width=\"3.2\"/>\n",
       "<circle clip-path=\"url(#clip692)\" cx=\"635.498\" cy=\"342.086\" r=\"14\" fill=\"#6b0851\" fill-rule=\"evenodd\" fill-opacity=\"1\" stroke=\"#000000\" stroke-opacity=\"1\" stroke-width=\"3.2\"/>\n",
       "<circle clip-path=\"url(#clip692)\" cx=\"801.256\" cy=\"426.608\" r=\"14\" fill=\"#6b0851\" fill-rule=\"evenodd\" fill-opacity=\"1\" stroke=\"#000000\" stroke-opacity=\"1\" stroke-width=\"3.2\"/>\n",
       "<circle clip-path=\"url(#clip692)\" cx=\"967.015\" cy=\"508.683\" r=\"14\" fill=\"#6b0851\" fill-rule=\"evenodd\" fill-opacity=\"1\" stroke=\"#000000\" stroke-opacity=\"1\" stroke-width=\"3.2\"/>\n",
       "<circle clip-path=\"url(#clip692)\" cx=\"1132.77\" cy=\"656.209\" r=\"14\" fill=\"#6b0851\" fill-rule=\"evenodd\" fill-opacity=\"1\" stroke=\"#000000\" stroke-opacity=\"1\" stroke-width=\"3.2\"/>\n",
       "<circle clip-path=\"url(#clip692)\" cx=\"1298.53\" cy=\"766.398\" r=\"14\" fill=\"#6b0851\" fill-rule=\"evenodd\" fill-opacity=\"1\" stroke=\"#000000\" stroke-opacity=\"1\" stroke-width=\"3.2\"/>\n",
       "<circle clip-path=\"url(#clip692)\" cx=\"1464.29\" cy=\"875.797\" r=\"14\" fill=\"#6b0851\" fill-rule=\"evenodd\" fill-opacity=\"1\" stroke=\"#000000\" stroke-opacity=\"1\" stroke-width=\"3.2\"/>\n",
       "<circle clip-path=\"url(#clip692)\" cx=\"1630.05\" cy=\"971.739\" r=\"14\" fill=\"#6b0851\" fill-rule=\"evenodd\" fill-opacity=\"1\" stroke=\"#000000\" stroke-opacity=\"1\" stroke-width=\"3.2\"/>\n",
       "<circle clip-path=\"url(#clip692)\" cx=\"1795.81\" cy=\"1051.79\" r=\"14\" fill=\"#6b0851\" fill-rule=\"evenodd\" fill-opacity=\"1\" stroke=\"#000000\" stroke-opacity=\"1\" stroke-width=\"3.2\"/>\n",
       "<circle clip-path=\"url(#clip692)\" cx=\"1961.57\" cy=\"1158.5\" r=\"14\" fill=\"#6b0851\" fill-rule=\"evenodd\" fill-opacity=\"1\" stroke=\"#000000\" stroke-opacity=\"1\" stroke-width=\"3.2\"/>\n",
       "<circle clip-path=\"url(#clip692)\" cx=\"2127.32\" cy=\"1266.29\" r=\"14\" fill=\"#6b0851\" fill-rule=\"evenodd\" fill-opacity=\"1\" stroke=\"#000000\" stroke-opacity=\"1\" stroke-width=\"3.2\"/>\n",
       "<circle clip-path=\"url(#clip692)\" cx=\"2293.08\" cy=\"1386.4\" r=\"14\" fill=\"#6b0851\" fill-rule=\"evenodd\" fill-opacity=\"1\" stroke=\"#000000\" stroke-opacity=\"1\" stroke-width=\"3.2\"/>\n",
       "<polyline clip-path=\"url(#clip692)\" style=\"stroke:#6b0851; stroke-width:4; stroke-opacity:1; fill:none\" points=\"\n",
       "  303.981,160.256 469.739,253.47 635.498,342.086 801.256,426.608 967.015,508.683 1132.77,656.209 1298.53,766.398 1464.29,875.797 1630.05,971.739 1795.81,1051.79 \n",
       "  1961.57,1158.5 2127.32,1266.29 2293.08,1386.4 \n",
       "  \"/>\n",
       "</svg>\n"
      ]
     },
     "execution_count": 17,
     "metadata": {},
     "output_type": "execute_result"
    }
   ],
   "source": [
    "scatter(histSRS, markersize=4, c=\"#6b0851\", leg=false)\n",
    "plot!(histSRS, color=\"#6b0851\", leg=false )\n",
    "plot!(xaxis=(\"iterations\") , yaxis = (\"residuals\", :log))\n",
    "plot!(title=\"Convergence vs iteration: Sobre-Relajación\")"
   ]
  },
  {
   "cell_type": "markdown",
   "id": "74ef9746",
   "metadata": {},
   "source": [
    "### ******** Algoritmo de Gauss - Seidel ********"
   ]
  },
  {
   "cell_type": "code",
   "execution_count": 18,
   "id": "9a8c1dbe",
   "metadata": {},
   "outputs": [],
   "source": [
    "SolGS,histGS = GSJul(A,b,x0,e,itermax);"
   ]
  },
  {
   "cell_type": "markdown",
   "id": "65d886e1",
   "metadata": {},
   "source": [
    "#### Solución"
   ]
  },
  {
   "cell_type": "code",
   "execution_count": 19,
   "id": "f9406494",
   "metadata": {},
   "outputs": [
    {
     "data": {
      "text/plain": [
       "6-element Array{Float64,1}:\n",
       " 1.0000002137455963\n",
       " 1.0000002688269807\n",
       " 1.0000002052803891\n",
       " 1.000000079328917\n",
       " 0.9999999631217477\n",
       " 0.9999999520829831"
      ]
     },
     "execution_count": 19,
     "metadata": {},
     "output_type": "execute_result"
    }
   ],
   "source": [
    "SolGS"
   ]
  },
  {
   "cell_type": "markdown",
   "id": "6c16afd9",
   "metadata": {},
   "source": [
    "#### Precisión vs Iteraciones"
   ]
  },
  {
   "cell_type": "code",
   "execution_count": 20,
   "id": "25c6b5c8",
   "metadata": {},
   "outputs": [
    {
     "data": {
      "image/svg+xml": [
       "<?xml version=\"1.0\" encoding=\"utf-8\"?>\n",
       "<svg xmlns=\"http://www.w3.org/2000/svg\" xmlns:xlink=\"http://www.w3.org/1999/xlink\" width=\"600\" height=\"400\" viewBox=\"0 0 2400 1600\">\n",
       "<defs>\n",
       "  <clipPath id=\"clip730\">\n",
       "    <rect x=\"0\" y=\"0\" width=\"2400\" height=\"1600\"/>\n",
       "  </clipPath>\n",
       "</defs>\n",
       "<path clip-path=\"url(#clip730)\" d=\"\n",
       "M0 1600 L2400 1600 L2400 0 L0 0  Z\n",
       "  \" fill=\"#ffffff\" fill-rule=\"evenodd\" fill-opacity=\"1\"/>\n",
       "<defs>\n",
       "  <clipPath id=\"clip731\">\n",
       "    <rect x=\"480\" y=\"0\" width=\"1681\" height=\"1600\"/>\n",
       "  </clipPath>\n",
       "</defs>\n",
       "<path clip-path=\"url(#clip730)\" d=\"\n",
       "M244.308 1423.18 L2352.76 1423.18 L2352.76 123.472 L244.308 123.472  Z\n",
       "  \" fill=\"#ffffff\" fill-rule=\"evenodd\" fill-opacity=\"1\"/>\n",
       "<defs>\n",
       "  <clipPath id=\"clip732\">\n",
       "    <rect x=\"244\" y=\"123\" width=\"2109\" height=\"1301\"/>\n",
       "  </clipPath>\n",
       "</defs>\n",
       "<polyline clip-path=\"url(#clip732)\" style=\"stroke:#000000; stroke-width:2; stroke-opacity:0.1; fill:none\" points=\"\n",
       "  569.194,1423.18 569.194,123.472 \n",
       "  \"/>\n",
       "<polyline clip-path=\"url(#clip732)\" style=\"stroke:#000000; stroke-width:2; stroke-opacity:0.1; fill:none\" points=\"\n",
       "  967.015,1423.18 967.015,123.472 \n",
       "  \"/>\n",
       "<polyline clip-path=\"url(#clip732)\" style=\"stroke:#000000; stroke-width:2; stroke-opacity:0.1; fill:none\" points=\"\n",
       "  1364.84,1423.18 1364.84,123.472 \n",
       "  \"/>\n",
       "<polyline clip-path=\"url(#clip732)\" style=\"stroke:#000000; stroke-width:2; stroke-opacity:0.1; fill:none\" points=\"\n",
       "  1762.66,1423.18 1762.66,123.472 \n",
       "  \"/>\n",
       "<polyline clip-path=\"url(#clip732)\" style=\"stroke:#000000; stroke-width:2; stroke-opacity:0.1; fill:none\" points=\"\n",
       "  2160.48,1423.18 2160.48,123.472 \n",
       "  \"/>\n",
       "<polyline clip-path=\"url(#clip730)\" style=\"stroke:#000000; stroke-width:4; stroke-opacity:1; fill:none\" points=\"\n",
       "  244.308,1423.18 2352.76,1423.18 \n",
       "  \"/>\n",
       "<polyline clip-path=\"url(#clip730)\" style=\"stroke:#000000; stroke-width:4; stroke-opacity:1; fill:none\" points=\"\n",
       "  569.194,1423.18 569.194,1407.58 \n",
       "  \"/>\n",
       "<polyline clip-path=\"url(#clip730)\" style=\"stroke:#000000; stroke-width:4; stroke-opacity:1; fill:none\" points=\"\n",
       "  967.015,1423.18 967.015,1407.58 \n",
       "  \"/>\n",
       "<polyline clip-path=\"url(#clip730)\" style=\"stroke:#000000; stroke-width:4; stroke-opacity:1; fill:none\" points=\"\n",
       "  1364.84,1423.18 1364.84,1407.58 \n",
       "  \"/>\n",
       "<polyline clip-path=\"url(#clip730)\" style=\"stroke:#000000; stroke-width:4; stroke-opacity:1; fill:none\" points=\"\n",
       "  1762.66,1423.18 1762.66,1407.58 \n",
       "  \"/>\n",
       "<polyline clip-path=\"url(#clip730)\" style=\"stroke:#000000; stroke-width:4; stroke-opacity:1; fill:none\" points=\"\n",
       "  2160.48,1423.18 2160.48,1407.58 \n",
       "  \"/>\n",
       "<path clip-path=\"url(#clip730)\" d=\"M 0 0 M573.442 1465.22 Q576.798 1465.94 578.673 1468.2 Q580.572 1470.47 580.572 1473.81 Q580.572 1478.92 577.053 1481.72 Q573.535 1484.52 567.053 1484.52 Q564.877 1484.52 562.562 1484.08 Q560.271 1483.67 557.817 1482.81 L557.817 1478.3 Q559.762 1479.43 562.076 1480.01 Q564.391 1480.59 566.914 1480.59 Q571.312 1480.59 573.604 1478.85 Q575.919 1477.12 575.919 1473.81 Q575.919 1470.75 573.766 1469.04 Q571.636 1467.3 567.817 1467.3 L563.789 1467.3 L563.789 1463.46 L568.002 1463.46 Q571.451 1463.46 573.28 1462.09 Q575.109 1460.7 575.109 1458.11 Q575.109 1455.45 573.211 1454.04 Q571.336 1452.6 567.817 1452.6 Q565.896 1452.6 563.697 1453.02 Q561.498 1453.44 558.859 1454.31 L558.859 1450.15 Q561.521 1449.41 563.836 1449.04 Q566.174 1448.67 568.234 1448.67 Q573.558 1448.67 576.66 1451.1 Q579.761 1453.5 579.761 1457.63 Q579.761 1460.5 578.118 1462.49 Q576.474 1464.45 573.442 1465.22 Z\" fill=\"#000000\" fill-rule=\"evenodd\" fill-opacity=\"1\" /><path clip-path=\"url(#clip730)\" d=\"M 0 0 M967.42 1464.71 Q964.272 1464.71 962.42 1466.86 Q960.591 1469.01 960.591 1472.76 Q960.591 1476.49 962.42 1478.67 Q964.272 1480.82 967.42 1480.82 Q970.568 1480.82 972.397 1478.67 Q974.249 1476.49 974.249 1472.76 Q974.249 1469.01 972.397 1466.86 Q970.568 1464.71 967.42 1464.71 M976.702 1450.06 L976.702 1454.31 Q974.943 1453.48 973.137 1453.04 Q971.355 1452.6 969.596 1452.6 Q964.966 1452.6 962.512 1455.73 Q960.082 1458.85 959.735 1465.17 Q961.1 1463.16 963.161 1462.09 Q965.221 1461 967.698 1461 Q972.906 1461 975.915 1464.18 Q978.948 1467.32 978.948 1472.76 Q978.948 1478.09 975.799 1481.31 Q972.651 1484.52 967.42 1484.52 Q961.425 1484.52 958.253 1479.94 Q955.082 1475.33 955.082 1466.61 Q955.082 1458.41 958.971 1453.55 Q962.86 1448.67 969.411 1448.67 Q971.17 1448.67 972.952 1449.01 Q974.758 1449.36 976.702 1450.06 Z\" fill=\"#000000\" fill-rule=\"evenodd\" fill-opacity=\"1\" /><path clip-path=\"url(#clip730)\" d=\"M 0 0 M1355.14 1483.13 L1355.14 1478.88 Q1356.9 1479.71 1358.7 1480.15 Q1360.51 1480.59 1362.24 1480.59 Q1366.87 1480.59 1369.3 1477.49 Q1371.76 1474.36 1372.1 1468.02 Q1370.76 1470.01 1368.7 1471.07 Q1366.64 1472.14 1364.14 1472.14 Q1358.96 1472.14 1355.92 1469.01 Q1352.91 1465.87 1352.91 1460.43 Q1352.91 1455.1 1356.06 1451.88 Q1359.21 1448.67 1364.44 1448.67 Q1370.44 1448.67 1373.59 1453.27 Q1376.76 1457.86 1376.76 1466.61 Q1376.76 1474.78 1372.87 1479.66 Q1369 1484.52 1362.45 1484.52 Q1360.69 1484.52 1358.89 1484.18 Q1357.08 1483.83 1355.14 1483.13 M1364.44 1468.48 Q1367.59 1468.48 1369.42 1466.33 Q1371.27 1464.18 1371.27 1460.43 Q1371.27 1456.7 1369.42 1454.55 Q1367.59 1452.37 1364.44 1452.37 Q1361.29 1452.37 1359.44 1454.55 Q1357.61 1456.7 1357.61 1460.43 Q1357.61 1464.18 1359.44 1466.33 Q1361.29 1468.48 1364.44 1468.48 Z\" fill=\"#000000\" fill-rule=\"evenodd\" fill-opacity=\"1\" /><path clip-path=\"url(#clip730)\" d=\"M 0 0 M1740.33 1479.92 L1747.97 1479.92 L1747.97 1453.55 L1739.66 1455.22 L1739.66 1450.96 L1747.92 1449.29 L1752.6 1449.29 L1752.6 1479.92 L1760.24 1479.92 L1760.24 1483.85 L1740.33 1483.85 L1740.33 1479.92 Z\" fill=\"#000000\" fill-rule=\"evenodd\" fill-opacity=\"1\" /><path clip-path=\"url(#clip730)\" d=\"M 0 0 M1769.33 1479.92 L1785.65 1479.92 L1785.65 1483.85 L1763.71 1483.85 L1763.71 1479.92 Q1766.37 1477.16 1770.95 1472.53 Q1775.56 1467.88 1776.74 1466.54 Q1778.99 1464.01 1779.87 1462.28 Q1780.77 1460.52 1780.77 1458.83 Q1780.77 1456.07 1778.82 1454.34 Q1776.9 1452.6 1773.8 1452.6 Q1771.6 1452.6 1769.15 1453.37 Q1766.72 1454.13 1763.94 1455.68 L1763.94 1450.96 Q1766.76 1449.82 1769.22 1449.25 Q1771.67 1448.67 1773.71 1448.67 Q1779.08 1448.67 1782.27 1451.35 Q1785.47 1454.04 1785.47 1458.53 Q1785.47 1460.66 1784.66 1462.58 Q1783.87 1464.48 1781.76 1467.07 Q1781.19 1467.74 1778.08 1470.96 Q1774.98 1474.15 1769.33 1479.92 Z\" fill=\"#000000\" fill-rule=\"evenodd\" fill-opacity=\"1\" /><path clip-path=\"url(#clip730)\" d=\"M 0 0 M2137.85 1479.92 L2145.49 1479.92 L2145.49 1453.55 L2137.18 1455.22 L2137.18 1450.96 L2145.44 1449.29 L2150.12 1449.29 L2150.12 1479.92 L2157.76 1479.92 L2157.76 1483.85 L2137.85 1483.85 L2137.85 1479.92 Z\" fill=\"#000000\" fill-rule=\"evenodd\" fill-opacity=\"1\" /><path clip-path=\"url(#clip730)\" d=\"M 0 0 M2162.87 1449.29 L2181.23 1449.29 L2181.23 1453.23 L2167.15 1453.23 L2167.15 1461.7 Q2168.17 1461.35 2169.19 1461.19 Q2170.21 1461 2171.23 1461 Q2177.02 1461 2180.39 1464.18 Q2183.77 1467.35 2183.77 1472.76 Q2183.77 1478.34 2180.3 1481.44 Q2176.83 1484.52 2170.51 1484.52 Q2168.33 1484.52 2166.07 1484.15 Q2163.82 1483.78 2161.41 1483.04 L2161.41 1478.34 Q2163.5 1479.48 2165.72 1480.03 Q2167.94 1480.59 2170.42 1480.59 Q2174.42 1480.59 2176.76 1478.48 Q2179.1 1476.38 2179.1 1472.76 Q2179.1 1469.15 2176.76 1467.05 Q2174.42 1464.94 2170.42 1464.94 Q2168.54 1464.94 2166.67 1465.36 Q2164.82 1465.77 2162.87 1466.65 L2162.87 1449.29 Z\" fill=\"#000000\" fill-rule=\"evenodd\" fill-opacity=\"1\" /><path clip-path=\"url(#clip730)\" d=\"M 0 0 M1165.44 1520.4 L1171.3 1520.4 L1171.3 1556.04 L1165.44 1556.04 L1165.44 1520.4 M1165.44 1506.52 L1171.3 1506.52 L1171.3 1513.93 L1165.44 1513.93 L1165.44 1506.52 Z\" fill=\"#000000\" fill-rule=\"evenodd\" fill-opacity=\"1\" /><path clip-path=\"url(#clip730)\" d=\"M 0 0 M1183.23 1510.27 L1183.23 1520.4 L1195.3 1520.4 L1195.3 1524.95 L1183.23 1524.95 L1183.23 1544.3 Q1183.23 1548.66 1184.41 1549.9 Q1185.62 1551.14 1189.28 1551.14 L1195.3 1551.14 L1195.3 1556.04 L1189.28 1556.04 Q1182.5 1556.04 1179.92 1553.53 Q1177.34 1550.98 1177.34 1544.3 L1177.34 1524.95 L1173.05 1524.95 L1173.05 1520.4 L1177.34 1520.4 L1177.34 1510.27 L1183.23 1510.27 Z\" fill=\"#000000\" fill-rule=\"evenodd\" fill-opacity=\"1\" /><path clip-path=\"url(#clip730)\" d=\"M 0 0 M1231.93 1536.76 L1231.93 1539.62 L1205 1539.62 Q1205.39 1545.67 1208.63 1548.85 Q1211.91 1552 1217.74 1552 Q1221.11 1552 1224.26 1551.17 Q1227.44 1550.35 1230.56 1548.69 L1230.56 1554.23 Q1227.41 1555.57 1224.1 1556.27 Q1220.79 1556.97 1217.38 1556.97 Q1208.85 1556.97 1203.86 1552 Q1198.89 1547.04 1198.89 1538.57 Q1198.89 1529.82 1203.6 1524.69 Q1208.35 1519.54 1216.37 1519.54 Q1223.56 1519.54 1227.73 1524.18 Q1231.93 1528.8 1231.93 1536.76 M1226.07 1535.04 Q1226.01 1530.23 1223.37 1527.37 Q1220.76 1524.5 1216.43 1524.5 Q1211.53 1524.5 1208.57 1527.27 Q1205.64 1530.04 1205.19 1535.07 L1226.07 1535.04 Z\" fill=\"#000000\" fill-rule=\"evenodd\" fill-opacity=\"1\" /><path clip-path=\"url(#clip730)\" d=\"M 0 0 M1258.73 1525.87 Q1257.74 1525.3 1256.57 1525.04 Q1255.42 1524.76 1254.02 1524.76 Q1249.05 1524.76 1246.38 1528 Q1243.74 1531.22 1243.74 1537.27 L1243.74 1556.04 L1237.85 1556.04 L1237.85 1520.4 L1243.74 1520.4 L1243.74 1525.93 Q1245.59 1522.69 1248.55 1521.13 Q1251.51 1519.54 1255.74 1519.54 Q1256.34 1519.54 1257.08 1519.63 Q1257.81 1519.7 1258.7 1519.85 L1258.73 1525.87 Z\" fill=\"#000000\" fill-rule=\"evenodd\" fill-opacity=\"1\" /><path clip-path=\"url(#clip730)\" d=\"M 0 0 M1281.07 1538.12 Q1273.98 1538.12 1271.24 1539.75 Q1268.5 1541.37 1268.5 1545.29 Q1268.5 1548.4 1270.54 1550.25 Q1272.61 1552.07 1276.14 1552.07 Q1281.01 1552.07 1283.94 1548.63 Q1286.9 1545.16 1286.9 1539.43 L1286.9 1538.12 L1281.07 1538.12 M1292.75 1535.71 L1292.75 1556.04 L1286.9 1556.04 L1286.9 1550.63 Q1284.89 1553.88 1281.9 1555.44 Q1278.91 1556.97 1274.58 1556.97 Q1269.11 1556.97 1265.86 1553.91 Q1262.65 1550.82 1262.65 1545.67 Q1262.65 1539.65 1266.66 1536.6 Q1270.7 1533.54 1278.69 1533.54 L1286.9 1533.54 L1286.9 1532.97 Q1286.9 1528.93 1284.22 1526.73 Q1281.58 1524.5 1276.78 1524.5 Q1273.72 1524.5 1270.83 1525.23 Q1267.93 1525.97 1265.26 1527.43 L1265.26 1522.02 Q1268.47 1520.78 1271.49 1520.17 Q1274.52 1519.54 1277.38 1519.54 Q1285.12 1519.54 1288.94 1523.55 Q1292.75 1527.56 1292.75 1535.71 Z\" fill=\"#000000\" fill-rule=\"evenodd\" fill-opacity=\"1\" /><path clip-path=\"url(#clip730)\" d=\"M 0 0 M1304.69 1510.27 L1304.69 1520.4 L1316.75 1520.4 L1316.75 1524.95 L1304.69 1524.95 L1304.69 1544.3 Q1304.69 1548.66 1305.87 1549.9 Q1307.08 1551.14 1310.74 1551.14 L1316.75 1551.14 L1316.75 1556.04 L1310.74 1556.04 Q1303.96 1556.04 1301.38 1553.53 Q1298.8 1550.98 1298.8 1544.3 L1298.8 1524.95 L1294.51 1524.95 L1294.51 1520.4 L1298.8 1520.4 L1298.8 1510.27 L1304.69 1510.27 Z\" fill=\"#000000\" fill-rule=\"evenodd\" fill-opacity=\"1\" /><path clip-path=\"url(#clip730)\" d=\"M 0 0 M1322.9 1520.4 L1328.75 1520.4 L1328.75 1556.04 L1322.9 1556.04 L1322.9 1520.4 M1322.9 1506.52 L1328.75 1506.52 L1328.75 1513.93 L1322.9 1513.93 L1322.9 1506.52 Z\" fill=\"#000000\" fill-rule=\"evenodd\" fill-opacity=\"1\" /><path clip-path=\"url(#clip730)\" d=\"M 0 0 M1348.71 1524.5 Q1344 1524.5 1341.26 1528.19 Q1338.52 1531.85 1338.52 1538.25 Q1338.52 1544.65 1341.23 1548.34 Q1343.97 1552 1348.71 1552 Q1353.39 1552 1356.13 1548.31 Q1358.86 1544.62 1358.86 1538.25 Q1358.86 1531.92 1356.13 1528.23 Q1353.39 1524.5 1348.71 1524.5 M1348.71 1519.54 Q1356.35 1519.54 1360.71 1524.5 Q1365.07 1529.47 1365.07 1538.25 Q1365.07 1547 1360.71 1552 Q1356.35 1556.97 1348.71 1556.97 Q1341.04 1556.97 1336.68 1552 Q1332.35 1547 1332.35 1538.25 Q1332.35 1529.47 1336.68 1524.5 Q1341.04 1519.54 1348.71 1519.54 Z\" fill=\"#000000\" fill-rule=\"evenodd\" fill-opacity=\"1\" /><path clip-path=\"url(#clip730)\" d=\"M 0 0 M1400.84 1534.53 L1400.84 1556.04 L1394.99 1556.04 L1394.99 1534.72 Q1394.99 1529.66 1393.01 1527.14 Q1391.04 1524.63 1387.09 1524.63 Q1382.35 1524.63 1379.61 1527.65 Q1376.88 1530.68 1376.88 1535.9 L1376.88 1556.04 L1370.99 1556.04 L1370.99 1520.4 L1376.88 1520.4 L1376.88 1525.93 Q1378.98 1522.72 1381.81 1521.13 Q1384.68 1519.54 1388.4 1519.54 Q1394.54 1519.54 1397.69 1523.36 Q1400.84 1527.14 1400.84 1534.53 Z\" fill=\"#000000\" fill-rule=\"evenodd\" fill-opacity=\"1\" /><path clip-path=\"url(#clip730)\" d=\"M 0 0 M1429.71 1521.45 L1429.71 1526.98 Q1427.23 1525.71 1424.56 1525.07 Q1421.88 1524.44 1419.02 1524.44 Q1414.66 1524.44 1412.46 1525.77 Q1410.3 1527.11 1410.3 1529.79 Q1410.3 1531.82 1411.86 1533 Q1413.42 1534.15 1418.13 1535.2 L1420.13 1535.64 Q1426.37 1536.98 1428.98 1539.43 Q1431.62 1541.85 1431.62 1546.21 Q1431.62 1551.17 1427.68 1554.07 Q1423.76 1556.97 1416.89 1556.97 Q1414.02 1556.97 1410.9 1556.39 Q1407.82 1555.85 1404.38 1554.74 L1404.38 1548.69 Q1407.62 1550.38 1410.78 1551.24 Q1413.93 1552.07 1417.01 1552.07 Q1421.15 1552.07 1423.38 1550.66 Q1425.61 1549.23 1425.61 1546.65 Q1425.61 1544.27 1423.98 1542.99 Q1422.39 1541.72 1416.95 1540.54 L1414.91 1540.07 Q1409.47 1538.92 1407.05 1536.56 Q1404.63 1534.18 1404.63 1530.04 Q1404.63 1525.01 1408.2 1522.27 Q1411.76 1519.54 1418.32 1519.54 Q1421.56 1519.54 1424.43 1520.01 Q1427.29 1520.49 1429.71 1521.45 Z\" fill=\"#000000\" fill-rule=\"evenodd\" fill-opacity=\"1\" /><polyline clip-path=\"url(#clip732)\" style=\"stroke:#000000; stroke-width:2; stroke-opacity:0.1; fill:none\" points=\"\n",
       "  244.308,1340.33 2352.76,1340.33 \n",
       "  \"/>\n",
       "<polyline clip-path=\"url(#clip732)\" style=\"stroke:#000000; stroke-width:2; stroke-opacity:0.1; fill:none\" points=\"\n",
       "  244.308,1146.8 2352.76,1146.8 \n",
       "  \"/>\n",
       "<polyline clip-path=\"url(#clip732)\" style=\"stroke:#000000; stroke-width:2; stroke-opacity:0.1; fill:none\" points=\"\n",
       "  244.308,953.265 2352.76,953.265 \n",
       "  \"/>\n",
       "<polyline clip-path=\"url(#clip732)\" style=\"stroke:#000000; stroke-width:2; stroke-opacity:0.1; fill:none\" points=\"\n",
       "  244.308,759.733 2352.76,759.733 \n",
       "  \"/>\n",
       "<polyline clip-path=\"url(#clip732)\" style=\"stroke:#000000; stroke-width:2; stroke-opacity:0.1; fill:none\" points=\"\n",
       "  244.308,566.201 2352.76,566.201 \n",
       "  \"/>\n",
       "<polyline clip-path=\"url(#clip732)\" style=\"stroke:#000000; stroke-width:2; stroke-opacity:0.1; fill:none\" points=\"\n",
       "  244.308,372.669 2352.76,372.669 \n",
       "  \"/>\n",
       "<polyline clip-path=\"url(#clip732)\" style=\"stroke:#000000; stroke-width:2; stroke-opacity:0.1; fill:none\" points=\"\n",
       "  244.308,179.137 2352.76,179.137 \n",
       "  \"/>\n",
       "<polyline clip-path=\"url(#clip730)\" style=\"stroke:#000000; stroke-width:4; stroke-opacity:1; fill:none\" points=\"\n",
       "  244.308,1423.18 244.308,123.472 \n",
       "  \"/>\n",
       "<polyline clip-path=\"url(#clip730)\" style=\"stroke:#000000; stroke-width:4; stroke-opacity:1; fill:none\" points=\"\n",
       "  244.308,1340.33 269.609,1340.33 \n",
       "  \"/>\n",
       "<polyline clip-path=\"url(#clip730)\" style=\"stroke:#000000; stroke-width:4; stroke-opacity:1; fill:none\" points=\"\n",
       "  244.308,1146.8 269.609,1146.8 \n",
       "  \"/>\n",
       "<polyline clip-path=\"url(#clip730)\" style=\"stroke:#000000; stroke-width:4; stroke-opacity:1; fill:none\" points=\"\n",
       "  244.308,953.265 269.609,953.265 \n",
       "  \"/>\n",
       "<polyline clip-path=\"url(#clip730)\" style=\"stroke:#000000; stroke-width:4; stroke-opacity:1; fill:none\" points=\"\n",
       "  244.308,759.733 269.609,759.733 \n",
       "  \"/>\n",
       "<polyline clip-path=\"url(#clip730)\" style=\"stroke:#000000; stroke-width:4; stroke-opacity:1; fill:none\" points=\"\n",
       "  244.308,566.201 269.609,566.201 \n",
       "  \"/>\n",
       "<polyline clip-path=\"url(#clip730)\" style=\"stroke:#000000; stroke-width:4; stroke-opacity:1; fill:none\" points=\"\n",
       "  244.308,372.669 269.609,372.669 \n",
       "  \"/>\n",
       "<polyline clip-path=\"url(#clip730)\" style=\"stroke:#000000; stroke-width:4; stroke-opacity:1; fill:none\" points=\"\n",
       "  244.308,179.137 269.609,179.137 \n",
       "  \"/>\n",
       "<path clip-path=\"url(#clip730)\" d=\"M 0 0 M115.195 1360.12 L122.834 1360.12 L122.834 1333.76 L114.523 1335.42 L114.523 1331.16 L122.787 1329.5 L127.463 1329.5 L127.463 1360.12 L135.102 1360.12 L135.102 1364.06 L115.195 1364.06 L115.195 1360.12 Z\" fill=\"#000000\" fill-rule=\"evenodd\" fill-opacity=\"1\" /><path clip-path=\"url(#clip730)\" d=\"M 0 0 M150.171 1332.58 Q146.56 1332.58 144.732 1336.14 Q142.926 1339.68 142.926 1346.81 Q142.926 1353.92 144.732 1357.48 Q146.56 1361.02 150.171 1361.02 Q153.806 1361.02 155.611 1357.48 Q157.44 1353.92 157.44 1346.81 Q157.44 1339.68 155.611 1336.14 Q153.806 1332.58 150.171 1332.58 M150.171 1328.87 Q155.982 1328.87 159.037 1333.48 Q162.116 1338.06 162.116 1346.81 Q162.116 1355.54 159.037 1360.14 Q155.982 1364.73 150.171 1364.73 Q144.361 1364.73 141.283 1360.14 Q138.227 1355.54 138.227 1346.81 Q138.227 1338.06 141.283 1333.48 Q144.361 1328.87 150.171 1328.87 Z\" fill=\"#000000\" fill-rule=\"evenodd\" fill-opacity=\"1\" /><path clip-path=\"url(#clip730)\" d=\"M 0 0 M162.116 1322.97 L186.227 1322.97 L186.227 1326.17 L162.116 1326.17 L162.116 1322.97 Z\" fill=\"#000000\" fill-rule=\"evenodd\" fill-opacity=\"1\" /><path clip-path=\"url(#clip730)\" d=\"M 0 0 M198.941 1321.09 Q196.384 1321.09 194.879 1322.84 Q193.393 1324.59 193.393 1327.64 Q193.393 1330.67 194.879 1332.43 Q196.384 1334.18 198.941 1334.18 Q201.499 1334.18 202.985 1332.43 Q204.49 1330.67 204.49 1327.64 Q204.49 1324.59 202.985 1322.84 Q201.499 1321.09 198.941 1321.09 M206.483 1309.19 L206.483 1312.65 Q205.054 1311.97 203.587 1311.61 Q202.139 1311.26 200.709 1311.26 Q196.948 1311.26 194.954 1313.79 Q192.979 1316.33 192.697 1321.47 Q193.807 1319.83 195.481 1318.97 Q197.155 1318.08 199.167 1318.08 Q203.399 1318.08 205.844 1320.66 Q208.308 1323.22 208.308 1327.64 Q208.308 1331.96 205.75 1334.58 Q203.192 1337.19 198.941 1337.19 Q194.07 1337.19 191.494 1333.47 Q188.917 1329.72 188.917 1322.63 Q188.917 1315.98 192.077 1312.03 Q195.236 1308.06 200.559 1308.06 Q201.988 1308.06 203.436 1308.34 Q204.903 1308.62 206.483 1309.19 Z\" fill=\"#000000\" fill-rule=\"evenodd\" fill-opacity=\"1\" /><path clip-path=\"url(#clip730)\" d=\"M 0 0 M116.135 1166.59 L123.774 1166.59 L123.774 1140.22 L115.464 1141.89 L115.464 1137.63 L123.728 1135.96 L128.404 1135.96 L128.404 1166.59 L136.042 1166.59 L136.042 1170.52 L116.135 1170.52 L116.135 1166.59 Z\" fill=\"#000000\" fill-rule=\"evenodd\" fill-opacity=\"1\" /><path clip-path=\"url(#clip730)\" d=\"M 0 0 M151.112 1139.04 Q147.501 1139.04 145.672 1142.61 Q143.866 1146.15 143.866 1153.28 Q143.866 1160.39 145.672 1163.95 Q147.501 1167.49 151.112 1167.49 Q154.746 1167.49 156.552 1163.95 Q158.38 1160.39 158.38 1153.28 Q158.38 1146.15 156.552 1142.61 Q154.746 1139.04 151.112 1139.04 M151.112 1135.34 Q156.922 1135.34 159.978 1139.95 Q163.056 1144.53 163.056 1153.28 Q163.056 1162.01 159.978 1166.61 Q156.922 1171.2 151.112 1171.2 Q145.302 1171.2 142.223 1166.61 Q139.167 1162.01 139.167 1153.28 Q139.167 1144.53 142.223 1139.95 Q145.302 1135.34 151.112 1135.34 Z\" fill=\"#000000\" fill-rule=\"evenodd\" fill-opacity=\"1\" /><path clip-path=\"url(#clip730)\" d=\"M 0 0 M163.056 1129.44 L187.168 1129.44 L187.168 1132.64 L163.056 1132.64 L163.056 1129.44 Z\" fill=\"#000000\" fill-rule=\"evenodd\" fill-opacity=\"1\" /><path clip-path=\"url(#clip730)\" d=\"M 0 0 M191.324 1115.03 L206.239 1115.03 L206.239 1118.23 L194.804 1118.23 L194.804 1125.12 Q195.631 1124.83 196.459 1124.7 Q197.286 1124.55 198.114 1124.55 Q202.816 1124.55 205.562 1127.13 Q208.308 1129.7 208.308 1134.11 Q208.308 1138.64 205.487 1141.16 Q202.665 1143.66 197.531 1143.66 Q195.763 1143.66 193.92 1143.36 Q192.095 1143.06 190.139 1142.46 L190.139 1138.64 Q191.832 1139.56 193.638 1140.01 Q195.443 1140.46 197.456 1140.46 Q200.709 1140.46 202.609 1138.75 Q204.509 1137.04 204.509 1134.11 Q204.509 1131.17 202.609 1129.46 Q200.709 1127.75 197.456 1127.75 Q195.932 1127.75 194.409 1128.09 Q192.904 1128.43 191.324 1129.14 L191.324 1115.03 Z\" fill=\"#000000\" fill-rule=\"evenodd\" fill-opacity=\"1\" /><path clip-path=\"url(#clip730)\" d=\"M 0 0 M114.931 973.057 L122.57 973.057 L122.57 946.692 L114.26 948.358 L114.26 944.099 L122.524 942.433 L127.2 942.433 L127.2 973.057 L134.839 973.057 L134.839 976.993 L114.931 976.993 L114.931 973.057 Z\" fill=\"#000000\" fill-rule=\"evenodd\" fill-opacity=\"1\" /><path clip-path=\"url(#clip730)\" d=\"M 0 0 M149.908 945.511 Q146.297 945.511 144.468 949.076 Q142.663 952.618 142.663 959.747 Q142.663 966.854 144.468 970.419 Q146.297 973.96 149.908 973.96 Q153.542 973.96 155.348 970.419 Q157.177 966.854 157.177 959.747 Q157.177 952.618 155.348 949.076 Q153.542 945.511 149.908 945.511 M149.908 941.808 Q155.718 941.808 158.774 946.414 Q161.852 950.997 161.852 959.747 Q161.852 968.474 158.774 973.081 Q155.718 977.664 149.908 977.664 Q144.098 977.664 141.019 973.081 Q137.964 968.474 137.964 959.747 Q137.964 950.997 141.019 946.414 Q144.098 941.808 149.908 941.808 Z\" fill=\"#000000\" fill-rule=\"evenodd\" fill-opacity=\"1\" /><path clip-path=\"url(#clip730)\" d=\"M 0 0 M161.852 935.909 L185.964 935.909 L185.964 939.106 L161.852 939.106 L161.852 935.909 Z\" fill=\"#000000\" fill-rule=\"evenodd\" fill-opacity=\"1\" /><path clip-path=\"url(#clip730)\" d=\"M 0 0 M200.521 924.812 L190.929 939.802 L200.521 939.802 L200.521 924.812 M199.524 921.502 L204.302 921.502 L204.302 939.802 L208.308 939.802 L208.308 942.962 L204.302 942.962 L204.302 949.582 L200.521 949.582 L200.521 942.962 L187.845 942.962 L187.845 939.294 L199.524 921.502 Z\" fill=\"#000000\" fill-rule=\"evenodd\" fill-opacity=\"1\" /><path clip-path=\"url(#clip730)\" d=\"M 0 0 M115.853 779.525 L123.492 779.525 L123.492 753.16 L115.182 754.827 L115.182 750.567 L123.446 748.901 L128.121 748.901 L128.121 779.525 L135.76 779.525 L135.76 783.461 L115.853 783.461 L115.853 779.525 Z\" fill=\"#000000\" fill-rule=\"evenodd\" fill-opacity=\"1\" /><path clip-path=\"url(#clip730)\" d=\"M 0 0 M150.83 751.979 Q147.219 751.979 145.39 755.544 Q143.584 759.086 143.584 766.215 Q143.584 773.322 145.39 776.887 Q147.219 780.428 150.83 780.428 Q154.464 780.428 156.269 776.887 Q158.098 773.322 158.098 766.215 Q158.098 759.086 156.269 755.544 Q154.464 751.979 150.83 751.979 M150.83 748.276 Q156.64 748.276 159.695 752.882 Q162.774 757.465 162.774 766.215 Q162.774 774.942 159.695 779.549 Q156.64 784.132 150.83 784.132 Q145.02 784.132 141.941 779.549 Q138.885 774.942 138.885 766.215 Q138.885 757.465 141.941 752.882 Q145.02 748.276 150.83 748.276 Z\" fill=\"#000000\" fill-rule=\"evenodd\" fill-opacity=\"1\" /><path clip-path=\"url(#clip730)\" d=\"M 0 0 M162.774 742.377 L186.886 742.377 L186.886 745.574 L162.774 745.574 L162.774 742.377 Z\" fill=\"#000000\" fill-rule=\"evenodd\" fill-opacity=\"1\" /><path clip-path=\"url(#clip730)\" d=\"M 0 0 M202.515 740.91 Q205.242 741.493 206.765 743.336 Q208.308 745.179 208.308 747.888 Q208.308 752.044 205.449 754.32 Q202.59 756.596 197.324 756.596 Q195.556 756.596 193.675 756.238 Q191.813 755.9 189.82 755.204 L189.82 751.536 Q191.4 752.458 193.28 752.928 Q195.161 753.398 197.211 753.398 Q200.785 753.398 202.647 751.988 Q204.527 750.577 204.527 747.888 Q204.527 745.405 202.778 744.013 Q201.048 742.603 197.945 742.603 L194.672 742.603 L194.672 739.481 L198.095 739.481 Q200.897 739.481 202.383 738.371 Q203.869 737.242 203.869 735.136 Q203.869 732.973 202.327 731.826 Q200.803 730.66 197.945 730.66 Q196.384 730.66 194.597 730.998 Q192.81 731.337 190.666 732.051 L190.666 728.666 Q192.829 728.064 194.71 727.763 Q196.609 727.462 198.283 727.462 Q202.609 727.462 205.129 729.437 Q207.649 731.393 207.649 734.741 Q207.649 737.073 206.314 738.691 Q204.979 740.289 202.515 740.91 Z\" fill=\"#000000\" fill-rule=\"evenodd\" fill-opacity=\"1\" /><path clip-path=\"url(#clip730)\" d=\"M 0 0 M116.624 585.993 L124.263 585.993 L124.263 559.628 L115.953 561.295 L115.953 557.035 L124.217 555.369 L128.893 555.369 L128.893 585.993 L136.531 585.993 L136.531 589.929 L116.624 589.929 L116.624 585.993 Z\" fill=\"#000000\" fill-rule=\"evenodd\" fill-opacity=\"1\" /><path clip-path=\"url(#clip730)\" d=\"M 0 0 M151.601 558.447 Q147.99 558.447 146.161 562.012 Q144.355 565.554 144.355 572.683 Q144.355 579.79 146.161 583.355 Q147.99 586.896 151.601 586.896 Q155.235 586.896 157.041 583.355 Q158.869 579.79 158.869 572.683 Q158.869 565.554 157.041 562.012 Q155.235 558.447 151.601 558.447 M151.601 554.744 Q157.411 554.744 160.467 559.35 Q163.545 563.933 163.545 572.683 Q163.545 581.41 160.467 586.017 Q157.411 590.6 151.601 590.6 Q145.791 590.6 142.712 586.017 Q139.656 581.41 139.656 572.683 Q139.656 563.933 142.712 559.35 Q145.791 554.744 151.601 554.744 Z\" fill=\"#000000\" fill-rule=\"evenodd\" fill-opacity=\"1\" /><path clip-path=\"url(#clip730)\" d=\"M 0 0 M163.545 548.845 L187.657 548.845 L187.657 552.042 L163.545 552.042 L163.545 548.845 Z\" fill=\"#000000\" fill-rule=\"evenodd\" fill-opacity=\"1\" /><path clip-path=\"url(#clip730)\" d=\"M 0 0 M195.048 559.321 L208.308 559.321 L208.308 562.518 L190.478 562.518 L190.478 559.321 Q192.641 557.083 196.365 553.321 Q200.107 549.541 201.067 548.45 Q202.891 546.4 203.606 544.989 Q204.339 543.56 204.339 542.187 Q204.339 539.949 202.759 538.538 Q201.198 537.128 198.678 537.128 Q196.891 537.128 194.898 537.748 Q192.923 538.369 190.666 539.629 L190.666 535.792 Q192.961 534.871 194.954 534.401 Q196.948 533.93 198.603 533.93 Q202.966 533.93 205.562 536.112 Q208.157 538.294 208.157 541.943 Q208.157 543.673 207.499 545.234 Q206.859 546.776 205.148 548.883 Q204.678 549.428 202.158 552.042 Q199.637 554.638 195.048 559.321 Z\" fill=\"#000000\" fill-rule=\"evenodd\" fill-opacity=\"1\" /><path clip-path=\"url(#clip730)\" d=\"M 0 0 M116.323 392.461 L123.962 392.461 L123.962 366.096 L115.652 367.763 L115.652 363.503 L123.916 361.837 L128.592 361.837 L128.592 392.461 L136.231 392.461 L136.231 396.397 L116.323 396.397 L116.323 392.461 Z\" fill=\"#000000\" fill-rule=\"evenodd\" fill-opacity=\"1\" /><path clip-path=\"url(#clip730)\" d=\"M 0 0 M151.3 364.915 Q147.689 364.915 145.86 368.48 Q144.055 372.022 144.055 379.151 Q144.055 386.258 145.86 389.823 Q147.689 393.364 151.3 393.364 Q154.934 393.364 156.74 389.823 Q158.568 386.258 158.568 379.151 Q158.568 372.022 156.74 368.48 Q154.934 364.915 151.3 364.915 M151.3 361.212 Q157.11 361.212 160.166 365.818 Q163.244 370.401 163.244 379.151 Q163.244 387.878 160.166 392.485 Q157.11 397.068 151.3 397.068 Q145.49 397.068 142.411 392.485 Q139.356 387.878 139.356 379.151 Q139.356 370.401 142.411 365.818 Q145.49 361.212 151.3 361.212 Z\" fill=\"#000000\" fill-rule=\"evenodd\" fill-opacity=\"1\" /><path clip-path=\"url(#clip730)\" d=\"M 0 0 M163.244 355.313 L187.356 355.313 L187.356 358.51 L163.244 358.51 L163.244 355.313 Z\" fill=\"#000000\" fill-rule=\"evenodd\" fill-opacity=\"1\" /><path clip-path=\"url(#clip730)\" d=\"M 0 0 M192.133 365.789 L198.34 365.789 L198.34 344.367 L191.588 345.721 L191.588 342.26 L198.302 340.906 L202.101 340.906 L202.101 365.789 L208.308 365.789 L208.308 368.986 L192.133 368.986 L192.133 365.789 Z\" fill=\"#000000\" fill-rule=\"evenodd\" fill-opacity=\"1\" /><path clip-path=\"url(#clip730)\" d=\"M 0 0 M141.977 198.929 L149.616 198.929 L149.616 172.564 L141.306 174.231 L141.306 169.971 L149.57 168.305 L154.245 168.305 L154.245 198.929 L161.884 198.929 L161.884 202.865 L141.977 202.865 L141.977 198.929 Z\" fill=\"#000000\" fill-rule=\"evenodd\" fill-opacity=\"1\" /><path clip-path=\"url(#clip730)\" d=\"M 0 0 M176.954 171.383 Q173.343 171.383 171.514 174.948 Q169.708 178.49 169.708 185.619 Q169.708 192.726 171.514 196.291 Q173.343 199.832 176.954 199.832 Q180.588 199.832 182.393 196.291 Q184.222 192.726 184.222 185.619 Q184.222 178.49 182.393 174.948 Q180.588 171.383 176.954 171.383 M176.954 167.68 Q182.764 167.68 185.819 172.286 Q188.898 176.869 188.898 185.619 Q188.898 194.346 185.819 198.953 Q182.764 203.536 176.954 203.536 Q171.144 203.536 168.065 198.953 Q165.009 194.346 165.009 185.619 Q165.009 176.869 168.065 172.286 Q171.144 167.68 176.954 167.68 Z\" fill=\"#000000\" fill-rule=\"evenodd\" fill-opacity=\"1\" /><path clip-path=\"url(#clip730)\" d=\"M 0 0 M198.603 149.876 Q195.669 149.876 194.183 152.772 Q192.716 155.65 192.716 161.442 Q192.716 167.216 194.183 170.113 Q195.669 172.99 198.603 172.99 Q201.556 172.99 203.023 170.113 Q204.509 167.216 204.509 161.442 Q204.509 155.65 203.023 152.772 Q201.556 149.876 198.603 149.876 M198.603 146.866 Q203.324 146.866 205.806 150.609 Q208.308 154.333 208.308 161.442 Q208.308 168.533 205.806 172.276 Q203.324 176 198.603 176 Q193.882 176 191.381 172.276 Q188.898 168.533 188.898 161.442 Q188.898 154.333 191.381 150.609 Q193.882 146.866 198.603 146.866 Z\" fill=\"#000000\" fill-rule=\"evenodd\" fill-opacity=\"1\" /><path clip-path=\"url(#clip730)\" d=\"M 0 0 M57.8307 875.702 Q57.2578 876.689 57.0032 877.867 Q56.7167 879.013 56.7167 880.413 Q56.7167 885.378 59.9632 888.052 Q63.1779 890.694 69.2253 890.694 L88.0042 890.694 L88.0042 896.582 L52.3562 896.582 L52.3562 890.694 L57.8944 890.694 Q54.6479 888.848 53.0883 885.888 Q51.4968 882.928 51.4968 878.694 Q51.4968 878.09 51.5923 877.358 Q51.656 876.625 51.8151 875.734 L57.8307 875.702 Z\" fill=\"#000000\" fill-rule=\"evenodd\" fill-opacity=\"1\" /><path clip-path=\"url(#clip730)\" d=\"M 0 0 M68.7161 840.5 L71.5806 840.5 L71.5806 867.427 Q77.6281 867.045 80.8109 863.799 Q83.9619 860.52 83.9619 854.696 Q83.9619 851.322 83.1344 848.171 Q82.3069 844.988 80.6518 841.869 L86.1899 841.869 Q87.5267 845.02 88.227 848.33 Q88.9272 851.64 88.9272 855.046 Q88.9272 863.576 83.9619 868.573 Q78.9967 873.538 70.5303 873.538 Q61.7774 873.538 56.6531 868.827 Q51.4968 864.085 51.4968 856.064 Q51.4968 848.871 56.1438 844.701 Q60.7589 840.5 68.7161 840.5 M66.9973 846.357 Q62.1912 846.42 59.3266 849.062 Q56.4621 851.672 56.4621 856.001 Q56.4621 860.902 59.2312 863.862 Q62.0002 866.79 67.0292 867.236 L66.9973 846.357 Z\" fill=\"#000000\" fill-rule=\"evenodd\" fill-opacity=\"1\" /><path clip-path=\"url(#clip730)\" d=\"M 0 0 M53.4065 811.632 L58.9447 811.632 Q57.6716 814.114 57.035 816.788 Q56.3984 819.461 56.3984 822.326 Q56.3984 826.687 57.7352 828.883 Q59.072 831.047 61.7456 831.047 Q63.7826 831.047 64.9603 829.487 Q66.1061 827.928 67.1565 823.217 L67.6021 821.212 Q68.9389 814.974 71.3897 812.364 Q73.8086 809.722 78.1691 809.722 Q83.1344 809.722 86.0308 813.669 Q88.9272 817.584 88.9272 824.459 Q88.9272 827.323 88.3543 830.442 Q87.8132 833.53 86.6992 836.967 L80.6518 836.967 Q82.3387 833.721 83.198 830.57 Q84.0256 827.419 84.0256 824.331 Q84.0256 820.193 82.6251 817.966 Q81.1929 815.738 78.6147 815.738 Q76.2276 815.738 74.9545 817.361 Q73.6813 818.952 72.5037 824.395 L72.0262 826.432 Q70.8804 831.875 68.5251 834.294 Q66.138 836.713 62.0002 836.713 Q56.9713 836.713 54.2341 833.148 Q51.4968 829.583 51.4968 823.026 Q51.4968 819.78 51.9743 816.915 Q52.4517 814.051 53.4065 811.632 Z\" fill=\"#000000\" fill-rule=\"evenodd\" fill-opacity=\"1\" /><path clip-path=\"url(#clip730)\" d=\"M 0 0 M52.3562 803.579 L52.3562 797.723 L88.0042 797.723 L88.0042 803.579 L52.3562 803.579 M38.479 803.579 L38.479 797.723 L45.895 797.723 L45.895 803.579 L38.479 803.579 Z\" fill=\"#000000\" fill-rule=\"evenodd\" fill-opacity=\"1\" /><path clip-path=\"url(#clip730)\" d=\"M 0 0 M57.7671 768.122 L38.479 768.122 L38.479 762.266 L88.0042 762.266 L88.0042 768.122 L82.657 768.122 Q85.8398 769.968 87.3994 772.801 Q88.9272 775.602 88.9272 779.548 Q88.9272 786.01 83.771 790.084 Q78.6147 794.126 70.212 794.126 Q61.8093 794.126 56.6531 790.084 Q51.4968 786.01 51.4968 779.548 Q51.4968 775.602 53.0564 772.801 Q54.5842 769.968 57.7671 768.122 M70.212 788.079 Q76.6732 788.079 80.3653 785.437 Q84.0256 782.763 84.0256 778.116 Q84.0256 773.469 80.3653 770.796 Q76.6732 768.122 70.212 768.122 Q63.7508 768.122 60.0905 770.796 Q56.3984 773.469 56.3984 778.116 Q56.3984 782.763 60.0905 785.437 Q63.7508 788.079 70.212 788.079 Z\" fill=\"#000000\" fill-rule=\"evenodd\" fill-opacity=\"1\" /><path clip-path=\"url(#clip730)\" d=\"M 0 0 M73.9359 756.727 L52.3562 756.727 L52.3562 750.871 L73.7131 750.871 Q78.7739 750.871 81.3202 748.898 Q83.8346 746.924 83.8346 742.977 Q83.8346 738.235 80.8109 735.498 Q77.7872 732.729 72.5673 732.729 L52.3562 732.729 L52.3562 726.872 L88.0042 726.872 L88.0042 732.729 L82.5296 732.729 Q85.7762 734.861 87.3676 737.694 Q88.9272 740.495 88.9272 744.219 Q88.9272 750.362 85.1078 753.545 Q81.2883 756.727 73.9359 756.727 M51.4968 741.991 L51.4968 741.991 Z\" fill=\"#000000\" fill-rule=\"evenodd\" fill-opacity=\"1\" /><path clip-path=\"url(#clip730)\" d=\"M 0 0 M70.0847 704.529 Q70.0847 711.626 71.7079 714.364 Q73.3312 717.101 77.2461 717.101 Q80.3653 717.101 82.2114 715.064 Q84.0256 712.995 84.0256 709.462 Q84.0256 704.592 80.5881 701.664 Q77.1188 698.704 71.3897 698.704 L70.0847 698.704 L70.0847 704.529 M67.6657 692.848 L88.0042 692.848 L88.0042 698.704 L82.5933 698.704 Q85.8398 700.709 87.3994 703.701 Q88.9272 706.693 88.9272 711.022 Q88.9272 716.496 85.8716 719.743 Q82.7843 722.957 77.6281 722.957 Q71.6125 722.957 68.5569 718.947 Q65.5014 714.905 65.5014 706.916 L65.5014 698.704 L64.9285 698.704 Q60.8862 698.704 58.6901 701.378 Q56.4621 704.019 56.4621 708.825 Q56.4621 711.881 57.1941 714.777 Q57.9262 717.674 59.3903 720.347 L53.9795 720.347 Q52.7381 717.133 52.1334 714.109 Q51.4968 711.085 51.4968 708.221 Q51.4968 700.486 55.5072 696.667 Q59.5176 692.848 67.6657 692.848 Z\" fill=\"#000000\" fill-rule=\"evenodd\" fill-opacity=\"1\" /><path clip-path=\"url(#clip730)\" d=\"M 0 0 M38.479 686.705 L38.479 680.848 L88.0042 680.848 L88.0042 686.705 L38.479 686.705 Z\" fill=\"#000000\" fill-rule=\"evenodd\" fill-opacity=\"1\" /><path clip-path=\"url(#clip730)\" d=\"M 0 0 M53.4065 651.98 L58.9447 651.98 Q57.6716 654.462 57.035 657.136 Q56.3984 659.81 56.3984 662.674 Q56.3984 667.035 57.7352 669.231 Q59.072 671.395 61.7456 671.395 Q63.7826 671.395 64.9603 669.836 Q66.1061 668.276 67.1565 663.565 L67.6021 661.56 Q68.9389 655.322 71.3897 652.712 Q73.8086 650.07 78.1691 650.07 Q83.1344 650.07 86.0308 654.017 Q88.9272 657.932 88.9272 664.807 Q88.9272 667.671 88.3543 670.79 Q87.8132 673.878 86.6992 677.315 L80.6518 677.315 Q82.3387 674.069 83.198 670.918 Q84.0256 667.767 84.0256 664.679 Q84.0256 660.542 82.6251 658.314 Q81.1929 656.086 78.6147 656.086 Q76.2276 656.086 74.9545 657.709 Q73.6813 659.3 72.5037 664.743 L72.0262 666.78 Q70.8804 672.223 68.5251 674.642 Q66.138 677.061 62.0002 677.061 Q56.9713 677.061 54.2341 673.496 Q51.4968 669.931 51.4968 663.374 Q51.4968 660.128 51.9743 657.263 Q52.4517 654.399 53.4065 651.98 Z\" fill=\"#000000\" fill-rule=\"evenodd\" fill-opacity=\"1\" /><path clip-path=\"url(#clip730)\" d=\"M 0 0 M596.713 16.7545 L596.713 25.383 Q592.581 21.5346 587.882 19.6307 Q583.223 17.7268 577.957 17.7268 Q567.587 17.7268 562.077 24.0867 Q556.568 30.4061 556.568 42.3968 Q556.568 54.3469 562.077 60.7069 Q567.587 67.0263 577.957 67.0263 Q583.223 67.0263 587.882 65.1223 Q592.581 63.2184 596.713 59.3701 L596.713 67.9175 Q592.419 70.8341 587.598 72.2924 Q582.818 73.7508 577.471 73.7508 Q563.738 73.7508 555.839 65.3654 Q547.94 56.9395 547.94 42.3968 Q547.94 27.8135 555.839 19.4281 Q563.738 11.0023 577.471 11.0023 Q582.899 11.0023 587.679 12.4606 Q592.5 13.8784 596.713 16.7545 Z\" fill=\"#000000\" fill-rule=\"evenodd\" fill-opacity=\"1\" /><path clip-path=\"url(#clip730)\" d=\"M 0 0 M622.112 32.4315 Q616.116 32.4315 612.633 37.1306 Q609.149 41.7891 609.149 49.9314 Q609.149 58.0738 612.592 62.7728 Q616.076 67.4314 622.112 67.4314 Q628.067 67.4314 631.55 62.7323 Q635.034 58.0333 635.034 49.9314 Q635.034 41.8701 631.55 37.1711 Q628.067 32.4315 622.112 32.4315 M622.112 26.1121 Q631.834 26.1121 637.384 32.4315 Q642.933 38.7509 642.933 49.9314 Q642.933 61.0714 637.384 67.4314 Q631.834 73.7508 622.112 73.7508 Q612.349 73.7508 606.799 67.4314 Q601.29 61.0714 601.29 49.9314 Q601.29 38.7509 606.799 32.4315 Q612.349 26.1121 622.112 26.1121 Z\" fill=\"#000000\" fill-rule=\"evenodd\" fill-opacity=\"1\" /><path clip-path=\"url(#clip730)\" d=\"M 0 0 M688.466 45.1919 L688.466 72.576 L681.012 72.576 L681.012 45.4349 Q681.012 38.994 678.5 35.7938 Q675.989 32.5936 670.966 32.5936 Q664.93 32.5936 661.446 36.4419 Q657.962 40.2903 657.962 46.9338 L657.962 72.576 L650.468 72.576 L650.468 27.2059 L657.962 27.2059 L657.962 34.2544 Q660.636 30.163 664.241 28.1376 Q667.887 26.1121 672.627 26.1121 Q680.445 26.1121 684.455 30.9732 Q688.466 35.7938 688.466 45.1919 Z\" fill=\"#000000\" fill-rule=\"evenodd\" fill-opacity=\"1\" /><path clip-path=\"url(#clip730)\" d=\"M 0 0 M690.937 27.2059 L698.836 27.2059 L713.014 65.2844 L727.192 27.2059 L735.092 27.2059 L718.078 72.576 L707.95 72.576 L690.937 27.2059 Z\" fill=\"#000000\" fill-rule=\"evenodd\" fill-opacity=\"1\" /><path clip-path=\"url(#clip730)\" d=\"M 0 0 M781.717 48.0275 L781.717 51.6733 L747.447 51.6733 Q747.933 59.3701 752.065 63.421 Q756.237 67.4314 763.65 67.4314 Q767.944 67.4314 771.955 66.3781 Q776.006 65.3249 779.976 63.2184 L779.976 70.267 Q775.965 71.9684 771.752 72.8596 Q767.539 73.7508 763.205 73.7508 Q752.348 73.7508 745.988 67.4314 Q739.669 61.1119 739.669 50.3365 Q739.669 39.1965 745.664 32.6746 Q751.7 26.1121 761.909 26.1121 Q771.064 26.1121 776.37 32.0264 Q781.717 37.9003 781.717 48.0275 M774.264 45.84 Q774.183 39.7232 770.821 36.0774 Q767.499 32.4315 761.99 32.4315 Q755.751 32.4315 751.984 35.9558 Q748.257 39.4801 747.69 45.8805 L774.264 45.84 Z\" fill=\"#000000\" fill-rule=\"evenodd\" fill-opacity=\"1\" /><path clip-path=\"url(#clip730)\" d=\"M 0 0 M815.826 34.1734 Q814.57 33.4443 813.071 33.1202 Q811.613 32.7556 809.831 32.7556 Q803.511 32.7556 800.109 36.8875 Q796.746 40.9789 796.746 48.6757 L796.746 72.576 L789.252 72.576 L789.252 27.2059 L796.746 27.2059 L796.746 34.2544 Q799.096 30.1225 802.863 28.1376 Q806.63 26.1121 812.018 26.1121 Q812.788 26.1121 813.72 26.2337 Q814.651 26.3147 815.786 26.5172 L815.826 34.1734 Z\" fill=\"#000000\" fill-rule=\"evenodd\" fill-opacity=\"1\" /><path clip-path=\"url(#clip730)\" d=\"M 0 0 M852.041 49.3643 Q852.041 41.2625 848.679 36.8065 Q845.357 32.3505 839.321 32.3505 Q833.326 32.3505 829.964 36.8065 Q826.642 41.2625 826.642 49.3643 Q826.642 57.4256 829.964 61.8816 Q833.326 66.3376 839.321 66.3376 Q845.357 66.3376 848.679 61.8816 Q852.041 57.4256 852.041 49.3643 M859.495 66.9452 Q859.495 78.5308 854.35 84.1616 Q849.205 89.8329 838.592 89.8329 Q834.663 89.8329 831.179 89.2252 Q827.695 88.6581 824.414 87.4428 L824.414 80.1917 Q827.695 81.9741 830.895 82.8248 Q834.096 83.6755 837.417 83.6755 Q844.75 83.6755 848.395 79.8271 Q852.041 76.0193 852.041 68.282 L852.041 64.5957 Q849.732 68.6061 846.127 70.5911 Q842.522 72.576 837.498 72.576 Q829.154 72.576 824.049 66.2161 Q818.945 59.8562 818.945 49.3643 Q818.945 38.832 824.049 32.472 Q829.154 26.1121 837.498 26.1121 Q842.522 26.1121 846.127 28.0971 Q849.732 30.082 852.041 34.0924 L852.041 27.2059 L859.495 27.2059 L859.495 66.9452 Z\" fill=\"#000000\" fill-rule=\"evenodd\" fill-opacity=\"1\" /><path clip-path=\"url(#clip730)\" d=\"M 0 0 M906.121 48.0275 L906.121 51.6733 L871.85 51.6733 Q872.336 59.3701 876.468 63.421 Q880.641 67.4314 888.054 67.4314 Q892.348 67.4314 896.358 66.3781 Q900.409 65.3249 904.379 63.2184 L904.379 70.267 Q900.368 71.9684 896.155 72.8596 Q891.943 73.7508 887.608 73.7508 Q876.752 73.7508 870.392 67.4314 Q864.072 61.1119 864.072 50.3365 Q864.072 39.1965 870.068 32.6746 Q876.104 26.1121 886.312 26.1121 Q895.467 26.1121 900.774 32.0264 Q906.121 37.9003 906.121 48.0275 M898.667 45.84 Q898.586 39.7232 895.224 36.0774 Q891.902 32.4315 886.393 32.4315 Q880.154 32.4315 876.387 35.9558 Q872.66 39.4801 872.093 45.8805 L898.667 45.84 Z\" fill=\"#000000\" fill-rule=\"evenodd\" fill-opacity=\"1\" /><path clip-path=\"url(#clip730)\" d=\"M 0 0 M951.653 45.1919 L951.653 72.576 L944.199 72.576 L944.199 45.4349 Q944.199 38.994 941.688 35.7938 Q939.176 32.5936 934.153 32.5936 Q928.117 32.5936 924.633 36.4419 Q921.15 40.2903 921.15 46.9338 L921.15 72.576 L913.655 72.576 L913.655 27.2059 L921.15 27.2059 L921.15 34.2544 Q923.823 30.163 927.428 28.1376 Q931.074 26.1121 935.814 26.1121 Q943.632 26.1121 947.642 30.9732 Q951.653 35.7938 951.653 45.1919 Z\" fill=\"#000000\" fill-rule=\"evenodd\" fill-opacity=\"1\" /><path clip-path=\"url(#clip730)\" d=\"M 0 0 M992.121 28.9478 L992.121 35.9153 Q988.962 34.1734 985.761 33.3227 Q982.602 32.4315 979.361 32.4315 Q972.11 32.4315 968.1 37.0496 Q964.089 41.6271 964.089 49.9314 Q964.089 58.2358 968.1 62.8538 Q972.11 67.4314 979.361 67.4314 Q982.602 67.4314 985.761 66.5807 Q988.962 65.6895 992.121 63.9476 L992.121 70.8341 Q989.002 72.2924 985.64 73.0216 Q982.318 73.7508 978.551 73.7508 Q968.302 73.7508 962.266 67.3098 Q956.23 60.8689 956.23 49.9314 Q956.23 38.832 962.307 32.472 Q968.424 26.1121 979.037 26.1121 Q982.48 26.1121 985.761 26.8413 Q989.043 27.5299 992.121 28.9478 Z\" fill=\"#000000\" fill-rule=\"evenodd\" fill-opacity=\"1\" /><path clip-path=\"url(#clip730)\" d=\"M 0 0 M1038.75 48.0275 L1038.75 51.6733 L1004.48 51.6733 Q1004.96 59.3701 1009.09 63.421 Q1013.27 67.4314 1020.68 67.4314 Q1024.97 67.4314 1028.98 66.3781 Q1033.04 65.3249 1037.01 63.2184 L1037.01 70.267 Q1033 71.9684 1028.78 72.8596 Q1024.57 73.7508 1020.23 73.7508 Q1009.38 73.7508 1003.02 67.4314 Q996.699 61.1119 996.699 50.3365 Q996.699 39.1965 1002.69 32.6746 Q1008.73 26.1121 1018.94 26.1121 Q1028.09 26.1121 1033.4 32.0264 Q1038.75 37.9003 1038.75 48.0275 M1031.29 45.84 Q1031.21 39.7232 1027.85 36.0774 Q1024.53 32.4315 1019.02 32.4315 Q1012.78 32.4315 1009.01 35.9558 Q1005.29 39.4801 1004.72 45.8805 L1031.29 45.84 Z\" fill=\"#000000\" fill-rule=\"evenodd\" fill-opacity=\"1\" /><path clip-path=\"url(#clip730)\" d=\"M 0 0 M1067.59 27.2059 L1075.49 27.2059 L1089.67 65.2844 L1103.85 27.2059 L1111.74 27.2059 L1094.73 72.576 L1084.6 72.576 L1067.59 27.2059 Z\" fill=\"#000000\" fill-rule=\"evenodd\" fill-opacity=\"1\" /><path clip-path=\"url(#clip730)\" d=\"M 0 0 M1148.49 28.5427 L1148.49 35.5912 Q1145.33 33.9709 1141.92 33.1607 Q1138.52 32.3505 1134.88 32.3505 Q1129.33 32.3505 1126.53 34.0519 Q1123.78 35.7533 1123.78 39.156 Q1123.78 41.7486 1125.76 43.2475 Q1127.75 44.7058 1133.74 46.0426 L1136.29 46.6097 Q1144.23 48.3111 1147.55 51.4303 Q1150.92 54.509 1150.92 60.0587 Q1150.92 66.3781 1145.89 70.0644 Q1140.91 73.7508 1132.16 73.7508 Q1128.52 73.7508 1124.55 73.0216 Q1120.62 72.3329 1116.24 70.9151 L1116.24 63.2184 Q1120.37 65.3654 1124.38 66.4591 Q1128.39 67.5124 1132.32 67.5124 Q1137.59 67.5124 1140.43 65.73 Q1143.26 63.9071 1143.26 60.6258 Q1143.26 57.5877 1141.19 55.9673 Q1139.17 54.3469 1132.24 52.8481 L1129.65 52.2405 Q1122.72 50.7821 1119.64 47.7845 Q1116.57 44.7463 1116.57 39.4801 Q1116.57 33.0797 1121.1 29.5959 Q1125.64 26.1121 1133.98 26.1121 Q1138.12 26.1121 1141.76 26.7198 Q1145.41 27.3274 1148.49 28.5427 Z\" fill=\"#000000\" fill-rule=\"evenodd\" fill-opacity=\"1\" /><path clip-path=\"url(#clip730)\" d=\"M 0 0 M1185.11 27.2059 L1192.56 27.2059 L1192.56 72.576 L1185.11 72.576 L1185.11 27.2059 M1185.11 9.54393 L1192.56 9.54393 L1192.56 18.9825 L1185.11 18.9825 L1185.11 9.54393 Z\" fill=\"#000000\" fill-rule=\"evenodd\" fill-opacity=\"1\" /><path clip-path=\"url(#clip730)\" d=\"M 0 0 M1207.75 14.324 L1207.75 27.2059 L1223.1 27.2059 L1223.1 32.9987 L1207.75 32.9987 L1207.75 57.6282 Q1207.75 63.1779 1209.25 64.7578 Q1210.79 66.3376 1215.45 66.3376 L1223.1 66.3376 L1223.1 72.576 L1215.45 72.576 Q1206.82 72.576 1203.54 69.3758 Q1200.26 66.1351 1200.26 57.6282 L1200.26 32.9987 L1194.79 32.9987 L1194.79 27.2059 L1200.26 27.2059 L1200.26 14.324 L1207.75 14.324 Z\" fill=\"#000000\" fill-rule=\"evenodd\" fill-opacity=\"1\" /><path clip-path=\"url(#clip730)\" d=\"M 0 0 M1269.73 48.0275 L1269.73 51.6733 L1235.46 51.6733 Q1235.95 59.3701 1240.08 63.421 Q1244.25 67.4314 1251.66 67.4314 Q1255.96 67.4314 1259.97 66.3781 Q1264.02 65.3249 1267.99 63.2184 L1267.99 70.267 Q1263.98 71.9684 1259.76 72.8596 Q1255.55 73.7508 1251.22 73.7508 Q1240.36 73.7508 1234 67.4314 Q1227.68 61.1119 1227.68 50.3365 Q1227.68 39.1965 1233.68 32.6746 Q1239.71 26.1121 1249.92 26.1121 Q1259.08 26.1121 1264.38 32.0264 Q1269.73 37.9003 1269.73 48.0275 M1262.28 45.84 Q1262.2 39.7232 1258.83 36.0774 Q1255.51 32.4315 1250 32.4315 Q1243.76 32.4315 1240 35.9558 Q1236.27 39.4801 1235.7 45.8805 L1262.28 45.84 Z\" fill=\"#000000\" fill-rule=\"evenodd\" fill-opacity=\"1\" /><path clip-path=\"url(#clip730)\" d=\"M 0 0 M1303.84 34.1734 Q1302.58 33.4443 1301.08 33.1202 Q1299.63 32.7556 1297.84 32.7556 Q1291.52 32.7556 1288.12 36.8875 Q1284.76 40.9789 1284.76 48.6757 L1284.76 72.576 L1277.26 72.576 L1277.26 27.2059 L1284.76 27.2059 L1284.76 34.2544 Q1287.11 30.1225 1290.88 28.1376 Q1294.64 26.1121 1300.03 26.1121 Q1300.8 26.1121 1301.73 26.2337 Q1302.66 26.3147 1303.8 26.5172 L1303.84 34.1734 Z\" fill=\"#000000\" fill-rule=\"evenodd\" fill-opacity=\"1\" /><path clip-path=\"url(#clip730)\" d=\"M 0 0 M1332.28 49.7694 Q1323.24 49.7694 1319.76 51.8354 Q1316.27 53.9013 1316.27 58.8839 Q1316.27 62.8538 1318.87 65.2034 Q1321.5 67.5124 1326 67.5124 Q1332.19 67.5124 1335.92 63.1374 Q1339.69 58.7219 1339.69 51.4303 L1339.69 49.7694 L1332.28 49.7694 M1347.14 46.6907 L1347.14 72.576 L1339.69 72.576 L1339.69 65.6895 Q1337.14 69.8214 1333.33 71.8063 Q1329.52 73.7508 1324.01 73.7508 Q1317.04 73.7508 1312.91 69.8619 Q1308.82 65.9325 1308.82 59.3701 Q1308.82 51.7138 1313.93 47.825 Q1319.07 43.9361 1329.24 43.9361 L1339.69 43.9361 L1339.69 43.2069 Q1339.69 38.0623 1336.29 35.2672 Q1332.92 32.4315 1326.81 32.4315 Q1322.92 32.4315 1319.23 33.3632 Q1315.55 34.295 1312.14 36.1584 L1312.14 29.2718 Q1316.23 27.692 1320.08 26.9223 Q1323.93 26.1121 1327.58 26.1121 Q1337.42 26.1121 1342.28 31.2163 Q1347.14 36.3204 1347.14 46.6907 Z\" fill=\"#000000\" fill-rule=\"evenodd\" fill-opacity=\"1\" /><path clip-path=\"url(#clip730)\" d=\"M 0 0 M1362.33 14.324 L1362.33 27.2059 L1377.69 27.2059 L1377.69 32.9987 L1362.33 32.9987 L1362.33 57.6282 Q1362.33 63.1779 1363.83 64.7578 Q1365.37 66.3376 1370.03 66.3376 L1377.69 66.3376 L1377.69 72.576 L1370.03 72.576 Q1361.4 72.576 1358.12 69.3758 Q1354.84 66.1351 1354.84 57.6282 L1354.84 32.9987 L1349.37 32.9987 L1349.37 27.2059 L1354.84 27.2059 L1354.84 14.324 L1362.33 14.324 Z\" fill=\"#000000\" fill-rule=\"evenodd\" fill-opacity=\"1\" /><path clip-path=\"url(#clip730)\" d=\"M 0 0 M1385.5 27.2059 L1392.96 27.2059 L1392.96 72.576 L1385.5 72.576 L1385.5 27.2059 M1385.5 9.54393 L1392.96 9.54393 L1392.96 18.9825 L1385.5 18.9825 L1385.5 9.54393 Z\" fill=\"#000000\" fill-rule=\"evenodd\" fill-opacity=\"1\" /><path clip-path=\"url(#clip730)\" d=\"M 0 0 M1418.36 32.4315 Q1412.36 32.4315 1408.88 37.1306 Q1405.39 41.7891 1405.39 49.9314 Q1405.39 58.0738 1408.84 62.7728 Q1412.32 67.4314 1418.36 67.4314 Q1424.31 67.4314 1427.8 62.7323 Q1431.28 58.0333 1431.28 49.9314 Q1431.28 41.8701 1427.8 37.1711 Q1424.31 32.4315 1418.36 32.4315 M1418.36 26.1121 Q1428.08 26.1121 1433.63 32.4315 Q1439.18 38.7509 1439.18 49.9314 Q1439.18 61.0714 1433.63 67.4314 Q1428.08 73.7508 1418.36 73.7508 Q1408.59 73.7508 1403.05 67.4314 Q1397.54 61.0714 1397.54 49.9314 Q1397.54 38.7509 1403.05 32.4315 Q1408.59 26.1121 1418.36 26.1121 Z\" fill=\"#000000\" fill-rule=\"evenodd\" fill-opacity=\"1\" /><path clip-path=\"url(#clip730)\" d=\"M 0 0 M1484.71 45.1919 L1484.71 72.576 L1477.26 72.576 L1477.26 45.4349 Q1477.26 38.994 1474.75 35.7938 Q1472.23 32.5936 1467.21 32.5936 Q1461.18 32.5936 1457.69 36.4419 Q1454.21 40.2903 1454.21 46.9338 L1454.21 72.576 L1446.71 72.576 L1446.71 27.2059 L1454.21 27.2059 L1454.21 34.2544 Q1456.88 30.163 1460.49 28.1376 Q1464.13 26.1121 1468.87 26.1121 Q1476.69 26.1121 1480.7 30.9732 Q1484.71 35.7938 1484.71 45.1919 Z\" fill=\"#000000\" fill-rule=\"evenodd\" fill-opacity=\"1\" /><path clip-path=\"url(#clip730)\" d=\"M 0 0 M1494.43 62.2867 L1502.98 62.2867 L1502.98 72.576 L1494.43 72.576 L1494.43 62.2867 M1494.43 29.6769 L1502.98 29.6769 L1502.98 39.9662 L1494.43 39.9662 L1494.43 29.6769 Z\" fill=\"#000000\" fill-rule=\"evenodd\" fill-opacity=\"1\" /><path clip-path=\"url(#clip730)\" d=\"M 0 0 M1578.73 63.9476 L1578.73 47.7034 L1565.36 47.7034 L1565.36 40.9789 L1586.83 40.9789 L1586.83 66.9452 Q1582.1 70.3075 1576.38 72.0494 Q1570.67 73.7508 1564.19 73.7508 Q1550.01 73.7508 1541.99 65.4869 Q1534.01 57.1826 1534.01 42.3968 Q1534.01 27.5705 1541.99 19.3066 Q1550.01 11.0023 1564.19 11.0023 Q1570.1 11.0023 1575.41 12.4606 Q1580.76 13.9189 1585.25 16.7545 L1585.25 25.464 Q1580.72 21.6156 1575.61 19.6712 Q1570.51 17.7268 1564.88 17.7268 Q1553.78 17.7268 1548.19 23.9246 Q1542.64 30.1225 1542.64 42.3968 Q1542.64 54.6305 1548.19 60.8284 Q1553.78 67.0263 1564.88 67.0263 Q1569.21 67.0263 1572.62 66.2971 Q1576.02 65.5274 1578.73 63.9476 Z\" fill=\"#000000\" fill-rule=\"evenodd\" fill-opacity=\"1\" /><path clip-path=\"url(#clip730)\" d=\"M 0 0 M1615.27 49.7694 Q1606.24 49.7694 1602.75 51.8354 Q1599.27 53.9013 1599.27 58.8839 Q1599.27 62.8538 1601.86 65.2034 Q1604.5 67.5124 1608.99 67.5124 Q1615.19 67.5124 1618.92 63.1374 Q1622.69 58.7219 1622.69 51.4303 L1622.69 49.7694 L1615.27 49.7694 M1630.14 46.6907 L1630.14 72.576 L1622.69 72.576 L1622.69 65.6895 Q1620.13 69.8214 1616.33 71.8063 Q1612.52 73.7508 1607.01 73.7508 Q1600.04 73.7508 1595.91 69.8619 Q1591.82 65.9325 1591.82 59.3701 Q1591.82 51.7138 1596.92 47.825 Q1602.07 43.9361 1612.23 43.9361 L1622.69 43.9361 L1622.69 43.2069 Q1622.69 38.0623 1619.28 35.2672 Q1615.92 32.4315 1609.8 32.4315 Q1605.91 32.4315 1602.23 33.3632 Q1598.54 34.295 1595.14 36.1584 L1595.14 29.2718 Q1599.23 27.692 1603.08 26.9223 Q1606.93 26.1121 1610.57 26.1121 Q1620.42 26.1121 1625.28 31.2163 Q1630.14 36.3204 1630.14 46.6907 Z\" fill=\"#000000\" fill-rule=\"evenodd\" fill-opacity=\"1\" /><path clip-path=\"url(#clip730)\" d=\"M 0 0 M1637.19 54.671 L1637.19 27.2059 L1644.64 27.2059 L1644.64 54.3874 Q1644.64 60.8284 1647.15 64.0691 Q1649.66 67.2693 1654.69 67.2693 Q1660.72 67.2693 1664.21 63.421 Q1667.73 59.5726 1667.73 52.9291 L1667.73 27.2059 L1675.18 27.2059 L1675.18 72.576 L1667.73 72.576 L1667.73 65.6084 Q1665.02 69.7404 1661.41 71.7658 Q1657.85 73.7508 1653.11 73.7508 Q1645.29 73.7508 1641.24 68.8897 Q1637.19 64.0286 1637.19 54.671 M1655.94 26.1121 L1655.94 26.1121 Z\" fill=\"#000000\" fill-rule=\"evenodd\" fill-opacity=\"1\" /><path clip-path=\"url(#clip730)\" d=\"M 0 0 M1711.93 28.5427 L1711.93 35.5912 Q1708.77 33.9709 1705.36 33.1607 Q1701.96 32.3505 1698.32 32.3505 Q1692.77 32.3505 1689.97 34.0519 Q1687.22 35.7533 1687.22 39.156 Q1687.22 41.7486 1689.2 43.2475 Q1691.19 44.7058 1697.18 46.0426 L1699.73 46.6097 Q1707.67 48.3111 1710.99 51.4303 Q1714.36 54.509 1714.36 60.0587 Q1714.36 66.3781 1709.33 70.0644 Q1704.35 73.7508 1695.6 73.7508 Q1691.96 73.7508 1687.99 73.0216 Q1684.06 72.3329 1679.68 70.9151 L1679.68 63.2184 Q1683.81 65.3654 1687.82 66.4591 Q1691.83 67.5124 1695.76 67.5124 Q1701.03 67.5124 1703.87 65.73 Q1706.7 63.9071 1706.7 60.6258 Q1706.7 57.5877 1704.63 55.9673 Q1702.61 54.3469 1695.68 52.8481 L1693.09 52.2405 Q1686.16 50.7821 1683.08 47.7845 Q1680.01 44.7463 1680.01 39.4801 Q1680.01 33.0797 1684.54 29.5959 Q1689.08 26.1121 1697.42 26.1121 Q1701.56 26.1121 1705.2 26.7198 Q1708.85 27.3274 1711.93 28.5427 Z\" fill=\"#000000\" fill-rule=\"evenodd\" fill-opacity=\"1\" /><path clip-path=\"url(#clip730)\" d=\"M 0 0 M1751.1 28.5427 L1751.1 35.5912 Q1747.94 33.9709 1744.54 33.1607 Q1741.13 32.3505 1737.49 32.3505 Q1731.94 32.3505 1729.14 34.0519 Q1726.39 35.7533 1726.39 39.156 Q1726.39 41.7486 1728.37 43.2475 Q1730.36 44.7058 1736.35 46.0426 L1738.91 46.6097 Q1746.85 48.3111 1750.17 51.4303 Q1753.53 54.509 1753.53 60.0587 Q1753.53 66.3781 1748.51 70.0644 Q1743.52 73.7508 1734.77 73.7508 Q1731.13 73.7508 1727.16 73.0216 Q1723.23 72.3329 1718.85 70.9151 L1718.85 63.2184 Q1722.99 65.3654 1727 66.4591 Q1731.01 67.5124 1734.94 67.5124 Q1740.2 67.5124 1743.04 65.73 Q1745.87 63.9071 1745.87 60.6258 Q1745.87 57.5877 1743.81 55.9673 Q1741.78 54.3469 1734.85 52.8481 L1732.26 52.2405 Q1725.34 50.7821 1722.26 47.7845 Q1719.18 44.7463 1719.18 39.4801 Q1719.18 33.0797 1723.71 29.5959 Q1728.25 26.1121 1736.6 26.1121 Q1740.73 26.1121 1744.37 26.7198 Q1748.02 27.3274 1751.1 28.5427 Z\" fill=\"#000000\" fill-rule=\"evenodd\" fill-opacity=\"1\" /><path clip-path=\"url(#clip730)\" d=\"M 0 0 M1783.95 46.5287 L1805.79 46.5287 L1805.79 53.1722 L1783.95 53.1722 L1783.95 46.5287 Z\" fill=\"#000000\" fill-rule=\"evenodd\" fill-opacity=\"1\" /><path clip-path=\"url(#clip730)\" d=\"M 0 0 M1876.56 14.0809 L1876.56 22.0612 Q1871.9 19.8332 1867.76 18.7395 Q1863.63 17.6457 1859.78 17.6457 Q1853.1 17.6457 1849.45 20.2383 Q1845.85 22.8309 1845.85 27.611 Q1845.85 31.6214 1848.24 33.6873 Q1850.67 35.7128 1857.39 36.9686 L1862.34 37.9813 Q1871.49 39.7232 1875.83 44.1387 Q1880.2 48.5136 1880.2 55.8863 Q1880.2 64.6767 1874.29 69.2137 Q1868.41 73.7508 1857.03 73.7508 Q1852.74 73.7508 1847.87 72.7785 Q1843.05 71.8063 1837.87 69.9024 L1837.87 61.4765 Q1842.85 64.2716 1847.63 65.6895 Q1852.41 67.1073 1857.03 67.1073 Q1864.04 67.1073 1867.85 64.3527 Q1871.65 61.598 1871.65 56.4939 Q1871.65 52.0379 1868.9 49.5264 Q1866.19 47.0148 1859.95 45.759 L1854.96 44.7868 Q1845.81 42.9639 1841.72 39.075 Q1837.63 35.1862 1837.63 28.2591 Q1837.63 20.2383 1843.26 15.6203 Q1848.93 11.0023 1858.85 11.0023 Q1863.11 11.0023 1867.52 11.7719 Q1871.94 12.5416 1876.56 14.0809 Z\" fill=\"#000000\" fill-rule=\"evenodd\" fill-opacity=\"1\" /><path clip-path=\"url(#clip730)\" d=\"M 0 0 M1926.83 48.0275 L1926.83 51.6733 L1892.56 51.6733 Q1893.04 59.3701 1897.17 63.421 Q1901.35 67.4314 1908.76 67.4314 Q1913.05 67.4314 1917.06 66.3781 Q1921.12 65.3249 1925.09 63.2184 L1925.09 70.267 Q1921.07 71.9684 1916.86 72.8596 Q1912.65 73.7508 1908.31 73.7508 Q1897.46 73.7508 1891.1 67.4314 Q1884.78 61.1119 1884.78 50.3365 Q1884.78 39.1965 1890.77 32.6746 Q1896.81 26.1121 1907.02 26.1121 Q1916.17 26.1121 1921.48 32.0264 Q1926.83 37.9003 1926.83 48.0275 M1919.37 45.84 Q1919.29 39.7232 1915.93 36.0774 Q1912.61 32.4315 1907.1 32.4315 Q1900.86 32.4315 1897.09 35.9558 Q1893.37 39.4801 1892.8 45.8805 L1919.37 45.84 Z\" fill=\"#000000\" fill-rule=\"evenodd\" fill-opacity=\"1\" /><path clip-path=\"url(#clip730)\" d=\"M 0 0 M1934.65 27.2059 L1942.1 27.2059 L1942.1 72.576 L1934.65 72.576 L1934.65 27.2059 M1934.65 9.54393 L1942.1 9.54393 L1942.1 18.9825 L1934.65 18.9825 L1934.65 9.54393 Z\" fill=\"#000000\" fill-rule=\"evenodd\" fill-opacity=\"1\" /><path clip-path=\"url(#clip730)\" d=\"M 0 0 M1979.77 34.0924 L1979.77 9.54393 L1987.23 9.54393 L1987.23 72.576 L1979.77 72.576 L1979.77 65.7705 Q1977.42 69.8214 1973.82 71.8063 Q1970.25 73.7508 1965.23 73.7508 Q1957.01 73.7508 1951.82 67.1883 Q1946.68 60.6258 1946.68 49.9314 Q1946.68 39.2371 1951.82 32.6746 Q1957.01 26.1121 1965.23 26.1121 Q1970.25 26.1121 1973.82 28.0971 Q1977.42 30.0415 1979.77 34.0924 M1954.37 49.9314 Q1954.37 58.1548 1957.74 62.8538 Q1961.14 67.5124 1967.05 67.5124 Q1972.97 67.5124 1976.37 62.8538 Q1979.77 58.1548 1979.77 49.9314 Q1979.77 41.7081 1976.37 37.0496 Q1972.97 32.3505 1967.05 32.3505 Q1961.14 32.3505 1957.74 37.0496 Q1954.37 41.7081 1954.37 49.9314 Z\" fill=\"#000000\" fill-rule=\"evenodd\" fill-opacity=\"1\" /><path clip-path=\"url(#clip730)\" d=\"M 0 0 M2033.85 48.0275 L2033.85 51.6733 L1999.58 51.6733 Q2000.07 59.3701 2004.2 63.421 Q2008.37 67.4314 2015.78 67.4314 Q2020.08 67.4314 2024.09 66.3781 Q2028.14 65.3249 2032.11 63.2184 L2032.11 70.267 Q2028.1 71.9684 2023.89 72.8596 Q2019.67 73.7508 2015.34 73.7508 Q2004.48 73.7508 1998.12 67.4314 Q1991.8 61.1119 1991.8 50.3365 Q1991.8 39.1965 1997.8 32.6746 Q2003.83 26.1121 2014.04 26.1121 Q2023.2 26.1121 2028.5 32.0264 Q2033.85 37.9003 2033.85 48.0275 M2026.4 45.84 Q2026.32 39.7232 2022.95 36.0774 Q2019.63 32.4315 2014.12 32.4315 Q2007.89 32.4315 2004.12 35.9558 Q2000.39 39.4801 1999.82 45.8805 L2026.4 45.84 Z\" fill=\"#000000\" fill-rule=\"evenodd\" fill-opacity=\"1\" /><path clip-path=\"url(#clip730)\" d=\"M 0 0 M2041.67 9.54393 L2049.12 9.54393 L2049.12 72.576 L2041.67 72.576 L2041.67 9.54393 Z\" fill=\"#000000\" fill-rule=\"evenodd\" fill-opacity=\"1\" /><circle clip-path=\"url(#clip732)\" cx=\"303.981\" cy=\"160.256\" r=\"14\" fill=\"#6b0851\" fill-rule=\"evenodd\" fill-opacity=\"1\" stroke=\"#000000\" stroke-opacity=\"1\" stroke-width=\"3.2\"/>\n",
       "<circle clip-path=\"url(#clip732)\" cx=\"436.588\" cy=\"244.185\" r=\"14\" fill=\"#6b0851\" fill-rule=\"evenodd\" fill-opacity=\"1\" stroke=\"#000000\" stroke-opacity=\"1\" stroke-width=\"3.2\"/>\n",
       "<circle clip-path=\"url(#clip732)\" cx=\"569.194\" cy=\"323.399\" r=\"14\" fill=\"#6b0851\" fill-rule=\"evenodd\" fill-opacity=\"1\" stroke=\"#000000\" stroke-opacity=\"1\" stroke-width=\"3.2\"/>\n",
       "<circle clip-path=\"url(#clip732)\" cx=\"701.801\" cy=\"402.228\" r=\"14\" fill=\"#6b0851\" fill-rule=\"evenodd\" fill-opacity=\"1\" stroke=\"#000000\" stroke-opacity=\"1\" stroke-width=\"3.2\"/>\n",
       "<circle clip-path=\"url(#clip732)\" cx=\"834.408\" cy=\"475.323\" r=\"14\" fill=\"#6b0851\" fill-rule=\"evenodd\" fill-opacity=\"1\" stroke=\"#000000\" stroke-opacity=\"1\" stroke-width=\"3.2\"/>\n",
       "<circle clip-path=\"url(#clip732)\" cx=\"967.015\" cy=\"550.249\" r=\"14\" fill=\"#6b0851\" fill-rule=\"evenodd\" fill-opacity=\"1\" stroke=\"#000000\" stroke-opacity=\"1\" stroke-width=\"3.2\"/>\n",
       "<circle clip-path=\"url(#clip732)\" cx=\"1099.62\" cy=\"628.293\" r=\"14\" fill=\"#6b0851\" fill-rule=\"evenodd\" fill-opacity=\"1\" stroke=\"#000000\" stroke-opacity=\"1\" stroke-width=\"3.2\"/>\n",
       "<circle clip-path=\"url(#clip732)\" cx=\"1232.23\" cy=\"708.902\" r=\"14\" fill=\"#6b0851\" fill-rule=\"evenodd\" fill-opacity=\"1\" stroke=\"#000000\" stroke-opacity=\"1\" stroke-width=\"3.2\"/>\n",
       "<circle clip-path=\"url(#clip732)\" cx=\"1364.84\" cy=\"792.508\" r=\"14\" fill=\"#6b0851\" fill-rule=\"evenodd\" fill-opacity=\"1\" stroke=\"#000000\" stroke-opacity=\"1\" stroke-width=\"3.2\"/>\n",
       "<circle clip-path=\"url(#clip732)\" cx=\"1497.44\" cy=\"879.719\" r=\"14\" fill=\"#6b0851\" fill-rule=\"evenodd\" fill-opacity=\"1\" stroke=\"#000000\" stroke-opacity=\"1\" stroke-width=\"3.2\"/>\n",
       "<circle clip-path=\"url(#clip732)\" cx=\"1630.05\" cy=\"969.904\" r=\"14\" fill=\"#6b0851\" fill-rule=\"evenodd\" fill-opacity=\"1\" stroke=\"#000000\" stroke-opacity=\"1\" stroke-width=\"3.2\"/>\n",
       "<circle clip-path=\"url(#clip732)\" cx=\"1762.66\" cy=\"1061.38\" r=\"14\" fill=\"#6b0851\" fill-rule=\"evenodd\" fill-opacity=\"1\" stroke=\"#000000\" stroke-opacity=\"1\" stroke-width=\"3.2\"/>\n",
       "<circle clip-path=\"url(#clip732)\" cx=\"1895.26\" cy=\"1150.96\" r=\"14\" fill=\"#6b0851\" fill-rule=\"evenodd\" fill-opacity=\"1\" stroke=\"#000000\" stroke-opacity=\"1\" stroke-width=\"3.2\"/>\n",
       "<circle clip-path=\"url(#clip732)\" cx=\"2027.87\" cy=\"1234.84\" r=\"14\" fill=\"#6b0851\" fill-rule=\"evenodd\" fill-opacity=\"1\" stroke=\"#000000\" stroke-opacity=\"1\" stroke-width=\"3.2\"/>\n",
       "<circle clip-path=\"url(#clip732)\" cx=\"2160.48\" cy=\"1312.22\" r=\"14\" fill=\"#6b0851\" fill-rule=\"evenodd\" fill-opacity=\"1\" stroke=\"#000000\" stroke-opacity=\"1\" stroke-width=\"3.2\"/>\n",
       "<circle clip-path=\"url(#clip732)\" cx=\"2293.08\" cy=\"1386.4\" r=\"14\" fill=\"#6b0851\" fill-rule=\"evenodd\" fill-opacity=\"1\" stroke=\"#000000\" stroke-opacity=\"1\" stroke-width=\"3.2\"/>\n",
       "<polyline clip-path=\"url(#clip732)\" style=\"stroke:#6b0851; stroke-width:4; stroke-opacity:1; fill:none\" points=\"\n",
       "  303.981,160.256 436.588,244.185 569.194,323.399 701.801,402.228 834.408,475.323 967.015,550.249 1099.62,628.293 1232.23,708.902 1364.84,792.508 1497.44,879.719 \n",
       "  1630.05,969.904 1762.66,1061.38 1895.26,1150.96 2027.87,1234.84 2160.48,1312.22 2293.08,1386.4 \n",
       "  \"/>\n",
       "</svg>\n"
      ]
     },
     "execution_count": 20,
     "metadata": {},
     "output_type": "execute_result"
    }
   ],
   "source": [
    "scatter(histGS, markersize=4, c=\"#6b0851\", leg=false)\n",
    "plot!(histGS, color=\"#6b0851\", leg=false )\n",
    "plot!(xaxis=(\"iterations\") , yaxis = (\"residuals\", :log))\n",
    "plot!(title=\"Convergence vs iteration: Gauss - Seidel\")"
   ]
  },
  {
   "cell_type": "markdown",
   "id": "4d5edbff",
   "metadata": {},
   "source": [
    "### ******** Algoritmo del Gradiente Conjugado ********"
   ]
  },
  {
   "cell_type": "code",
   "execution_count": 21,
   "id": "b891211e",
   "metadata": {},
   "outputs": [],
   "source": [
    "SolGC,histGC = GCJul(A,b,x0,e);"
   ]
  },
  {
   "cell_type": "markdown",
   "id": "93393e9e",
   "metadata": {},
   "source": [
    "#### Solución por el método de Gradiente Conjugado"
   ]
  },
  {
   "cell_type": "code",
   "execution_count": 22,
   "id": "f8e2ad65",
   "metadata": {},
   "outputs": [
    {
     "data": {
      "text/plain": [
       "6-element Array{Float64,1}:\n",
       " 1.0\n",
       " 1.0\n",
       " 0.9999999999999998\n",
       " 0.9999999999999998\n",
       " 1.0\n",
       " 0.9999999999999999"
      ]
     },
     "execution_count": 22,
     "metadata": {},
     "output_type": "execute_result"
    }
   ],
   "source": [
    "SolGC"
   ]
  },
  {
   "cell_type": "markdown",
   "id": "e41acad0",
   "metadata": {},
   "source": [
    "##### Precisión vs Iteraciones"
   ]
  },
  {
   "cell_type": "code",
   "execution_count": 23,
   "id": "42246874",
   "metadata": {},
   "outputs": [
    {
     "data": {
      "image/svg+xml": [
       "<?xml version=\"1.0\" encoding=\"utf-8\"?>\n",
       "<svg xmlns=\"http://www.w3.org/2000/svg\" xmlns:xlink=\"http://www.w3.org/1999/xlink\" width=\"600\" height=\"400\" viewBox=\"0 0 2400 1600\">\n",
       "<defs>\n",
       "  <clipPath id=\"clip770\">\n",
       "    <rect x=\"0\" y=\"0\" width=\"2400\" height=\"1600\"/>\n",
       "  </clipPath>\n",
       "</defs>\n",
       "<path clip-path=\"url(#clip770)\" d=\"\n",
       "M0 1600 L2400 1600 L2400 0 L0 0  Z\n",
       "  \" fill=\"#ffffff\" fill-rule=\"evenodd\" fill-opacity=\"1\"/>\n",
       "<defs>\n",
       "  <clipPath id=\"clip771\">\n",
       "    <rect x=\"480\" y=\"0\" width=\"1681\" height=\"1600\"/>\n",
       "  </clipPath>\n",
       "</defs>\n",
       "<path clip-path=\"url(#clip770)\" d=\"\n",
       "M264.865 1423.18 L2352.76 1423.18 L2352.76 123.472 L264.865 123.472  Z\n",
       "  \" fill=\"#ffffff\" fill-rule=\"evenodd\" fill-opacity=\"1\"/>\n",
       "<defs>\n",
       "  <clipPath id=\"clip772\">\n",
       "    <rect x=\"264\" y=\"123\" width=\"2089\" height=\"1301\"/>\n",
       "  </clipPath>\n",
       "</defs>\n",
       "<polyline clip-path=\"url(#clip772)\" style=\"stroke:#000000; stroke-width:2; stroke-opacity:0.1; fill:none\" points=\"\n",
       "  323.956,1423.18 323.956,123.472 \n",
       "  \"/>\n",
       "<polyline clip-path=\"url(#clip772)\" style=\"stroke:#000000; stroke-width:2; stroke-opacity:0.1; fill:none\" points=\"\n",
       "  652.241,1423.18 652.241,123.472 \n",
       "  \"/>\n",
       "<polyline clip-path=\"url(#clip772)\" style=\"stroke:#000000; stroke-width:2; stroke-opacity:0.1; fill:none\" points=\"\n",
       "  980.525,1423.18 980.525,123.472 \n",
       "  \"/>\n",
       "<polyline clip-path=\"url(#clip772)\" style=\"stroke:#000000; stroke-width:2; stroke-opacity:0.1; fill:none\" points=\"\n",
       "  1308.81,1423.18 1308.81,123.472 \n",
       "  \"/>\n",
       "<polyline clip-path=\"url(#clip772)\" style=\"stroke:#000000; stroke-width:2; stroke-opacity:0.1; fill:none\" points=\"\n",
       "  1637.1,1423.18 1637.1,123.472 \n",
       "  \"/>\n",
       "<polyline clip-path=\"url(#clip772)\" style=\"stroke:#000000; stroke-width:2; stroke-opacity:0.1; fill:none\" points=\"\n",
       "  1965.38,1423.18 1965.38,123.472 \n",
       "  \"/>\n",
       "<polyline clip-path=\"url(#clip772)\" style=\"stroke:#000000; stroke-width:2; stroke-opacity:0.1; fill:none\" points=\"\n",
       "  2293.66,1423.18 2293.66,123.472 \n",
       "  \"/>\n",
       "<polyline clip-path=\"url(#clip770)\" style=\"stroke:#000000; stroke-width:4; stroke-opacity:1; fill:none\" points=\"\n",
       "  264.865,1423.18 2352.76,1423.18 \n",
       "  \"/>\n",
       "<polyline clip-path=\"url(#clip770)\" style=\"stroke:#000000; stroke-width:4; stroke-opacity:1; fill:none\" points=\"\n",
       "  323.956,1423.18 323.956,1407.58 \n",
       "  \"/>\n",
       "<polyline clip-path=\"url(#clip770)\" style=\"stroke:#000000; stroke-width:4; stroke-opacity:1; fill:none\" points=\"\n",
       "  652.241,1423.18 652.241,1407.58 \n",
       "  \"/>\n",
       "<polyline clip-path=\"url(#clip770)\" style=\"stroke:#000000; stroke-width:4; stroke-opacity:1; fill:none\" points=\"\n",
       "  980.525,1423.18 980.525,1407.58 \n",
       "  \"/>\n",
       "<polyline clip-path=\"url(#clip770)\" style=\"stroke:#000000; stroke-width:4; stroke-opacity:1; fill:none\" points=\"\n",
       "  1308.81,1423.18 1308.81,1407.58 \n",
       "  \"/>\n",
       "<polyline clip-path=\"url(#clip770)\" style=\"stroke:#000000; stroke-width:4; stroke-opacity:1; fill:none\" points=\"\n",
       "  1637.1,1423.18 1637.1,1407.58 \n",
       "  \"/>\n",
       "<polyline clip-path=\"url(#clip770)\" style=\"stroke:#000000; stroke-width:4; stroke-opacity:1; fill:none\" points=\"\n",
       "  1965.38,1423.18 1965.38,1407.58 \n",
       "  \"/>\n",
       "<polyline clip-path=\"url(#clip770)\" style=\"stroke:#000000; stroke-width:4; stroke-opacity:1; fill:none\" points=\"\n",
       "  2293.66,1423.18 2293.66,1407.58 \n",
       "  \"/>\n",
       "<path clip-path=\"url(#clip770)\" d=\"M 0 0 M314.338 1479.92 L321.977 1479.92 L321.977 1453.55 L313.667 1455.22 L313.667 1450.96 L321.93 1449.29 L326.606 1449.29 L326.606 1479.92 L334.245 1479.92 L334.245 1483.85 L314.338 1483.85 L314.338 1479.92 Z\" fill=\"#000000\" fill-rule=\"evenodd\" fill-opacity=\"1\" /><path clip-path=\"url(#clip770)\" d=\"M 0 0 M646.893 1479.92 L663.213 1479.92 L663.213 1483.85 L641.268 1483.85 L641.268 1479.92 Q643.931 1477.16 648.514 1472.53 Q653.12 1467.88 654.301 1466.54 Q656.546 1464.01 657.426 1462.28 Q658.329 1460.52 658.329 1458.83 Q658.329 1456.07 656.384 1454.34 Q654.463 1452.6 651.361 1452.6 Q649.162 1452.6 646.708 1453.37 Q644.278 1454.13 641.5 1455.68 L641.5 1450.96 Q644.324 1449.82 646.778 1449.25 Q649.231 1448.67 651.268 1448.67 Q656.639 1448.67 659.833 1451.35 Q663.028 1454.04 663.028 1458.53 Q663.028 1460.66 662.217 1462.58 Q661.43 1464.48 659.324 1467.07 Q658.745 1467.74 655.643 1470.96 Q652.542 1474.15 646.893 1479.92 Z\" fill=\"#000000\" fill-rule=\"evenodd\" fill-opacity=\"1\" /><path clip-path=\"url(#clip770)\" d=\"M 0 0 M984.773 1465.22 Q988.13 1465.94 990.005 1468.2 Q991.903 1470.47 991.903 1473.81 Q991.903 1478.92 988.384 1481.72 Q984.866 1484.52 978.384 1484.52 Q976.208 1484.52 973.894 1484.08 Q971.602 1483.67 969.148 1482.81 L969.148 1478.3 Q971.093 1479.43 973.407 1480.01 Q975.722 1480.59 978.245 1480.59 Q982.643 1480.59 984.935 1478.85 Q987.25 1477.12 987.25 1473.81 Q987.25 1470.75 985.097 1469.04 Q982.968 1467.3 979.148 1467.3 L975.12 1467.3 L975.12 1463.46 L979.333 1463.46 Q982.782 1463.46 984.611 1462.09 Q986.44 1460.7 986.44 1458.11 Q986.44 1455.45 984.542 1454.04 Q982.667 1452.6 979.148 1452.6 Q977.227 1452.6 975.028 1453.02 Q972.829 1453.44 970.19 1454.31 L970.19 1450.15 Q972.852 1449.41 975.167 1449.04 Q977.505 1448.67 979.565 1448.67 Q984.889 1448.67 987.991 1451.1 Q991.093 1453.5 991.093 1457.63 Q991.093 1460.5 989.449 1462.49 Q987.805 1464.45 984.773 1465.22 Z\" fill=\"#000000\" fill-rule=\"evenodd\" fill-opacity=\"1\" /><path clip-path=\"url(#clip770)\" d=\"M 0 0 M1311.82 1453.37 L1300.01 1471.81 L1311.82 1471.81 L1311.82 1453.37 M1310.59 1449.29 L1316.47 1449.29 L1316.47 1471.81 L1321.4 1471.81 L1321.4 1475.7 L1316.47 1475.7 L1316.47 1483.85 L1311.82 1483.85 L1311.82 1475.7 L1296.22 1475.7 L1296.22 1471.19 L1310.59 1449.29 Z\" fill=\"#000000\" fill-rule=\"evenodd\" fill-opacity=\"1\" /><path clip-path=\"url(#clip770)\" d=\"M 0 0 M1627.37 1449.29 L1645.73 1449.29 L1645.73 1453.23 L1631.66 1453.23 L1631.66 1461.7 Q1632.67 1461.35 1633.69 1461.19 Q1634.71 1461 1635.73 1461 Q1641.52 1461 1644.9 1464.18 Q1648.28 1467.35 1648.28 1472.76 Q1648.28 1478.34 1644.8 1481.44 Q1641.33 1484.52 1635.01 1484.52 Q1632.84 1484.52 1630.57 1484.15 Q1628.32 1483.78 1625.91 1483.04 L1625.91 1478.34 Q1628 1479.48 1630.22 1480.03 Q1632.44 1480.59 1634.92 1480.59 Q1638.92 1480.59 1641.26 1478.48 Q1643.6 1476.38 1643.6 1472.76 Q1643.6 1469.15 1641.26 1467.05 Q1638.92 1464.94 1634.92 1464.94 Q1633.04 1464.94 1631.17 1465.36 Q1629.32 1465.77 1627.37 1466.65 L1627.37 1449.29 Z\" fill=\"#000000\" fill-rule=\"evenodd\" fill-opacity=\"1\" /><path clip-path=\"url(#clip770)\" d=\"M 0 0 M1965.78 1464.71 Q1962.64 1464.71 1960.78 1466.86 Q1958.96 1469.01 1958.96 1472.76 Q1958.96 1476.49 1960.78 1478.67 Q1962.64 1480.82 1965.78 1480.82 Q1968.93 1480.82 1970.76 1478.67 Q1972.61 1476.49 1972.61 1472.76 Q1972.61 1469.01 1970.76 1466.86 Q1968.93 1464.71 1965.78 1464.71 M1975.07 1450.06 L1975.07 1454.31 Q1973.31 1453.48 1971.5 1453.04 Q1969.72 1452.6 1967.96 1452.6 Q1963.33 1452.6 1960.88 1455.73 Q1958.45 1458.85 1958.1 1465.17 Q1959.47 1463.16 1961.53 1462.09 Q1963.59 1461 1966.06 1461 Q1971.27 1461 1974.28 1464.18 Q1977.31 1467.32 1977.31 1472.76 Q1977.31 1478.09 1974.16 1481.31 Q1971.02 1484.52 1965.78 1484.52 Q1959.79 1484.52 1956.62 1479.94 Q1953.45 1475.33 1953.45 1466.61 Q1953.45 1458.41 1957.34 1453.55 Q1961.22 1448.67 1967.78 1448.67 Q1969.53 1448.67 1971.32 1449.01 Q1973.12 1449.36 1975.07 1450.06 Z\" fill=\"#000000\" fill-rule=\"evenodd\" fill-opacity=\"1\" /><path clip-path=\"url(#clip770)\" d=\"M 0 0 M2282.55 1449.29 L2304.78 1449.29 L2304.78 1451.28 L2292.23 1483.85 L2287.35 1483.85 L2299.15 1453.23 L2282.55 1453.23 L2282.55 1449.29 Z\" fill=\"#000000\" fill-rule=\"evenodd\" fill-opacity=\"1\" /><path clip-path=\"url(#clip770)\" d=\"M 0 0 M1175.72 1520.4 L1181.58 1520.4 L1181.58 1556.04 L1175.72 1556.04 L1175.72 1520.4 M1175.72 1506.52 L1181.58 1506.52 L1181.58 1513.93 L1175.72 1513.93 L1175.72 1506.52 Z\" fill=\"#000000\" fill-rule=\"evenodd\" fill-opacity=\"1\" /><path clip-path=\"url(#clip770)\" d=\"M 0 0 M1193.51 1510.27 L1193.51 1520.4 L1205.57 1520.4 L1205.57 1524.95 L1193.51 1524.95 L1193.51 1544.3 Q1193.51 1548.66 1194.69 1549.9 Q1195.9 1551.14 1199.56 1551.14 L1205.57 1551.14 L1205.57 1556.04 L1199.56 1556.04 Q1192.78 1556.04 1190.2 1553.53 Q1187.62 1550.98 1187.62 1544.3 L1187.62 1524.95 L1183.33 1524.95 L1183.33 1520.4 L1187.62 1520.4 L1187.62 1510.27 L1193.51 1510.27 Z\" fill=\"#000000\" fill-rule=\"evenodd\" fill-opacity=\"1\" /><path clip-path=\"url(#clip770)\" d=\"M 0 0 M1242.21 1536.76 L1242.21 1539.62 L1215.28 1539.62 Q1215.66 1545.67 1218.91 1548.85 Q1222.19 1552 1228.01 1552 Q1231.39 1552 1234.54 1551.17 Q1237.72 1550.35 1240.84 1548.69 L1240.84 1554.23 Q1237.69 1555.57 1234.38 1556.27 Q1231.07 1556.97 1227.66 1556.97 Q1219.13 1556.97 1214.14 1552 Q1209.17 1547.04 1209.17 1538.57 Q1209.17 1529.82 1213.88 1524.69 Q1218.62 1519.54 1226.64 1519.54 Q1233.84 1519.54 1238.01 1524.18 Q1242.21 1528.8 1242.21 1536.76 M1236.35 1535.04 Q1236.29 1530.23 1233.65 1527.37 Q1231.04 1524.5 1226.71 1524.5 Q1221.81 1524.5 1218.85 1527.27 Q1215.92 1530.04 1215.47 1535.07 L1236.35 1535.04 Z\" fill=\"#000000\" fill-rule=\"evenodd\" fill-opacity=\"1\" /><path clip-path=\"url(#clip770)\" d=\"M 0 0 M1269.01 1525.87 Q1268.02 1525.3 1266.84 1525.04 Q1265.7 1524.76 1264.3 1524.76 Q1259.33 1524.76 1256.66 1528 Q1254.02 1531.22 1254.02 1537.27 L1254.02 1556.04 L1248.13 1556.04 L1248.13 1520.4 L1254.02 1520.4 L1254.02 1525.93 Q1255.86 1522.69 1258.82 1521.13 Q1261.78 1519.54 1266.02 1519.54 Q1266.62 1519.54 1267.35 1519.63 Q1268.09 1519.7 1268.98 1519.85 L1269.01 1525.87 Z\" fill=\"#000000\" fill-rule=\"evenodd\" fill-opacity=\"1\" /><path clip-path=\"url(#clip770)\" d=\"M 0 0 M1291.35 1538.12 Q1284.25 1538.12 1281.52 1539.75 Q1278.78 1541.37 1278.78 1545.29 Q1278.78 1548.4 1280.82 1550.25 Q1282.89 1552.07 1286.42 1552.07 Q1291.29 1552.07 1294.22 1548.63 Q1297.18 1545.16 1297.18 1539.43 L1297.18 1538.12 L1291.35 1538.12 M1303.03 1535.71 L1303.03 1556.04 L1297.18 1556.04 L1297.18 1550.63 Q1295.17 1553.88 1292.18 1555.44 Q1289.19 1556.97 1284.86 1556.97 Q1279.38 1556.97 1276.14 1553.91 Q1272.92 1550.82 1272.92 1545.67 Q1272.92 1539.65 1276.93 1536.6 Q1280.98 1533.54 1288.97 1533.54 L1297.18 1533.54 L1297.18 1532.97 Q1297.18 1528.93 1294.5 1526.73 Q1291.86 1524.5 1287.06 1524.5 Q1284 1524.5 1281.1 1525.23 Q1278.21 1525.97 1275.53 1527.43 L1275.53 1522.02 Q1278.75 1520.78 1281.77 1520.17 Q1284.8 1519.54 1287.66 1519.54 Q1295.39 1519.54 1299.21 1523.55 Q1303.03 1527.56 1303.03 1535.71 Z\" fill=\"#000000\" fill-rule=\"evenodd\" fill-opacity=\"1\" /><path clip-path=\"url(#clip770)\" d=\"M 0 0 M1314.97 1510.27 L1314.97 1520.4 L1327.03 1520.4 L1327.03 1524.95 L1314.97 1524.95 L1314.97 1544.3 Q1314.97 1548.66 1316.15 1549.9 Q1317.36 1551.14 1321.02 1551.14 L1327.03 1551.14 L1327.03 1556.04 L1321.02 1556.04 Q1314.24 1556.04 1311.66 1553.53 Q1309.08 1550.98 1309.08 1544.3 L1309.08 1524.95 L1304.78 1524.95 L1304.78 1520.4 L1309.08 1520.4 L1309.08 1510.27 L1314.97 1510.27 Z\" fill=\"#000000\" fill-rule=\"evenodd\" fill-opacity=\"1\" /><path clip-path=\"url(#clip770)\" d=\"M 0 0 M1333.17 1520.4 L1339.03 1520.4 L1339.03 1556.04 L1333.17 1556.04 L1333.17 1520.4 M1333.17 1506.52 L1339.03 1506.52 L1339.03 1513.93 L1333.17 1513.93 L1333.17 1506.52 Z\" fill=\"#000000\" fill-rule=\"evenodd\" fill-opacity=\"1\" /><path clip-path=\"url(#clip770)\" d=\"M 0 0 M1358.99 1524.5 Q1354.28 1524.5 1351.54 1528.19 Q1348.8 1531.85 1348.8 1538.25 Q1348.8 1544.65 1351.51 1548.34 Q1354.25 1552 1358.99 1552 Q1363.67 1552 1366.4 1548.31 Q1369.14 1544.62 1369.14 1538.25 Q1369.14 1531.92 1366.4 1528.23 Q1363.67 1524.5 1358.99 1524.5 M1358.99 1519.54 Q1366.63 1519.54 1370.99 1524.5 Q1375.35 1529.47 1375.35 1538.25 Q1375.35 1547 1370.99 1552 Q1366.63 1556.97 1358.99 1556.97 Q1351.32 1556.97 1346.96 1552 Q1342.63 1547 1342.63 1538.25 Q1342.63 1529.47 1346.96 1524.5 Q1351.32 1519.54 1358.99 1519.54 Z\" fill=\"#000000\" fill-rule=\"evenodd\" fill-opacity=\"1\" /><path clip-path=\"url(#clip770)\" d=\"M 0 0 M1411.12 1534.53 L1411.12 1556.04 L1405.27 1556.04 L1405.27 1534.72 Q1405.27 1529.66 1403.29 1527.14 Q1401.32 1524.63 1397.37 1524.63 Q1392.63 1524.63 1389.89 1527.65 Q1387.16 1530.68 1387.16 1535.9 L1387.16 1556.04 L1381.27 1556.04 L1381.27 1520.4 L1387.16 1520.4 L1387.16 1525.93 Q1389.26 1522.72 1392.09 1521.13 Q1394.95 1519.54 1398.68 1519.54 Q1404.82 1519.54 1407.97 1523.36 Q1411.12 1527.14 1411.12 1534.53 Z\" fill=\"#000000\" fill-rule=\"evenodd\" fill-opacity=\"1\" /><path clip-path=\"url(#clip770)\" d=\"M 0 0 M1439.99 1521.45 L1439.99 1526.98 Q1437.51 1525.71 1434.84 1525.07 Q1432.16 1524.44 1429.3 1524.44 Q1424.94 1524.44 1422.74 1525.77 Q1420.58 1527.11 1420.58 1529.79 Q1420.58 1531.82 1422.14 1533 Q1423.7 1534.15 1428.41 1535.2 L1430.41 1535.64 Q1436.65 1536.98 1439.26 1539.43 Q1441.9 1541.85 1441.9 1546.21 Q1441.9 1551.17 1437.95 1554.07 Q1434.04 1556.97 1427.16 1556.97 Q1424.3 1556.97 1421.18 1556.39 Q1418.09 1555.85 1414.66 1554.74 L1414.66 1548.69 Q1417.9 1550.38 1421.05 1551.24 Q1424.2 1552.07 1427.29 1552.07 Q1431.43 1552.07 1433.66 1550.66 Q1435.89 1549.23 1435.89 1546.65 Q1435.89 1544.27 1434.26 1542.99 Q1432.67 1541.72 1427.23 1540.54 L1425.19 1540.07 Q1419.75 1538.92 1417.33 1536.56 Q1414.91 1534.18 1414.91 1530.04 Q1414.91 1525.01 1418.48 1522.27 Q1422.04 1519.54 1428.6 1519.54 Q1431.84 1519.54 1434.71 1520.01 Q1437.57 1520.49 1439.99 1521.45 Z\" fill=\"#000000\" fill-rule=\"evenodd\" fill-opacity=\"1\" /><polyline clip-path=\"url(#clip772)\" style=\"stroke:#000000; stroke-width:2; stroke-opacity:0.1; fill:none\" points=\"\n",
       "  264.865,1190.89 2352.76,1190.89 \n",
       "  \"/>\n",
       "<polyline clip-path=\"url(#clip772)\" style=\"stroke:#000000; stroke-width:2; stroke-opacity:0.1; fill:none\" points=\"\n",
       "  264.865,861.394 2352.76,861.394 \n",
       "  \"/>\n",
       "<polyline clip-path=\"url(#clip772)\" style=\"stroke:#000000; stroke-width:2; stroke-opacity:0.1; fill:none\" points=\"\n",
       "  264.865,531.893 2352.76,531.893 \n",
       "  \"/>\n",
       "<polyline clip-path=\"url(#clip772)\" style=\"stroke:#000000; stroke-width:2; stroke-opacity:0.1; fill:none\" points=\"\n",
       "  264.865,202.391 2352.76,202.391 \n",
       "  \"/>\n",
       "<polyline clip-path=\"url(#clip770)\" style=\"stroke:#000000; stroke-width:4; stroke-opacity:1; fill:none\" points=\"\n",
       "  264.865,1423.18 264.865,123.472 \n",
       "  \"/>\n",
       "<polyline clip-path=\"url(#clip770)\" style=\"stroke:#000000; stroke-width:4; stroke-opacity:1; fill:none\" points=\"\n",
       "  264.865,1190.89 289.919,1190.89 \n",
       "  \"/>\n",
       "<polyline clip-path=\"url(#clip770)\" style=\"stroke:#000000; stroke-width:4; stroke-opacity:1; fill:none\" points=\"\n",
       "  264.865,861.394 289.919,861.394 \n",
       "  \"/>\n",
       "<polyline clip-path=\"url(#clip770)\" style=\"stroke:#000000; stroke-width:4; stroke-opacity:1; fill:none\" points=\"\n",
       "  264.865,531.893 289.919,531.893 \n",
       "  \"/>\n",
       "<polyline clip-path=\"url(#clip770)\" style=\"stroke:#000000; stroke-width:4; stroke-opacity:1; fill:none\" points=\"\n",
       "  264.865,202.391 289.919,202.391 \n",
       "  \"/>\n",
       "<path clip-path=\"url(#clip770)\" d=\"M 0 0 M115.74 1210.69 L123.379 1210.69 L123.379 1184.32 L115.069 1185.99 L115.069 1181.73 L123.333 1180.06 L128.009 1180.06 L128.009 1210.69 L135.647 1210.69 L135.647 1214.62 L115.74 1214.62 L115.74 1210.69 Z\" fill=\"#000000\" fill-rule=\"evenodd\" fill-opacity=\"1\" /><path clip-path=\"url(#clip770)\" d=\"M 0 0 M150.717 1183.14 Q147.106 1183.14 145.277 1186.71 Q143.472 1190.25 143.472 1197.38 Q143.472 1204.48 145.277 1208.05 Q147.106 1211.59 150.717 1211.59 Q154.351 1211.59 156.157 1208.05 Q157.985 1204.48 157.985 1197.38 Q157.985 1190.25 156.157 1186.71 Q154.351 1183.14 150.717 1183.14 M150.717 1179.44 Q156.527 1179.44 159.583 1184.04 Q162.661 1188.63 162.661 1197.38 Q162.661 1206.1 159.583 1210.71 Q156.527 1215.29 150.717 1215.29 Q144.907 1215.29 141.828 1210.71 Q138.772 1206.1 138.772 1197.38 Q138.772 1188.63 141.828 1184.04 Q144.907 1179.44 150.717 1179.44 Z\" fill=\"#000000\" fill-rule=\"evenodd\" fill-opacity=\"1\" /><path clip-path=\"url(#clip770)\" d=\"M 0 0 M162.661 1173.54 L186.773 1173.54 L186.773 1176.74 L162.661 1176.74 L162.661 1173.54 Z\" fill=\"#000000\" fill-rule=\"evenodd\" fill-opacity=\"1\" /><path clip-path=\"url(#clip770)\" d=\"M 0 0 M191.55 1184.01 L197.757 1184.01 L197.757 1162.59 L191.005 1163.95 L191.005 1160.49 L197.719 1159.13 L201.518 1159.13 L201.518 1184.01 L207.725 1184.01 L207.725 1187.21 L191.55 1187.21 L191.55 1184.01 Z\" fill=\"#000000\" fill-rule=\"evenodd\" fill-opacity=\"1\" /><path clip-path=\"url(#clip770)\" d=\"M 0 0 M211.881 1159.13 L226.796 1159.13 L226.796 1162.33 L215.361 1162.33 L215.361 1169.21 Q216.188 1168.93 217.016 1168.8 Q217.843 1168.65 218.671 1168.65 Q223.373 1168.65 226.119 1171.23 Q228.865 1173.8 228.865 1178.2 Q228.865 1182.74 226.043 1185.26 Q223.222 1187.76 218.088 1187.76 Q216.32 1187.76 214.477 1187.46 Q212.652 1187.16 210.696 1186.55 L210.696 1182.74 Q212.389 1183.66 214.195 1184.11 Q216 1184.56 218.012 1184.56 Q221.266 1184.56 223.166 1182.85 Q225.065 1181.14 225.065 1178.2 Q225.065 1175.27 223.166 1173.56 Q221.266 1171.85 218.012 1171.85 Q216.489 1171.85 214.966 1172.18 Q213.461 1172.52 211.881 1173.24 L211.881 1159.13 Z\" fill=\"#000000\" fill-rule=\"evenodd\" fill-opacity=\"1\" /><path clip-path=\"url(#clip770)\" d=\"M 0 0 M114.931 881.186 L122.57 881.186 L122.57 854.821 L114.26 856.487 L114.26 852.228 L122.524 850.561 L127.2 850.561 L127.2 881.186 L134.839 881.186 L134.839 885.121 L114.931 885.121 L114.931 881.186 Z\" fill=\"#000000\" fill-rule=\"evenodd\" fill-opacity=\"1\" /><path clip-path=\"url(#clip770)\" d=\"M 0 0 M149.908 853.64 Q146.297 853.64 144.468 857.205 Q142.663 860.746 142.663 867.876 Q142.663 874.982 144.468 878.547 Q146.297 882.089 149.908 882.089 Q153.542 882.089 155.348 878.547 Q157.177 874.982 157.177 867.876 Q157.177 860.746 155.348 857.205 Q153.542 853.64 149.908 853.64 M149.908 849.936 Q155.718 849.936 158.774 854.543 Q161.852 859.126 161.852 867.876 Q161.852 876.603 158.774 881.209 Q155.718 885.793 149.908 885.793 Q144.098 885.793 141.019 881.209 Q137.964 876.603 137.964 867.876 Q137.964 859.126 141.019 854.543 Q144.098 849.936 149.908 849.936 Z\" fill=\"#000000\" fill-rule=\"evenodd\" fill-opacity=\"1\" /><path clip-path=\"url(#clip770)\" d=\"M 0 0 M161.852 844.038 L185.964 844.038 L185.964 847.235 L161.852 847.235 L161.852 844.038 Z\" fill=\"#000000\" fill-rule=\"evenodd\" fill-opacity=\"1\" /><path clip-path=\"url(#clip770)\" d=\"M 0 0 M190.741 854.514 L196.948 854.514 L196.948 833.092 L190.196 834.446 L190.196 830.985 L196.91 829.631 L200.709 829.631 L200.709 854.514 L206.916 854.514 L206.916 857.711 L190.741 857.711 L190.741 854.514 Z\" fill=\"#000000\" fill-rule=\"evenodd\" fill-opacity=\"1\" /><path clip-path=\"url(#clip770)\" d=\"M 0 0 M219.16 832.132 Q216.226 832.132 214.74 835.029 Q213.273 837.906 213.273 843.699 Q213.273 849.473 214.74 852.369 Q216.226 855.247 219.16 855.247 Q222.113 855.247 223.58 852.369 Q225.065 849.473 225.065 843.699 Q225.065 837.906 223.58 835.029 Q222.113 832.132 219.16 832.132 M219.16 829.123 Q223.881 829.123 226.363 832.866 Q228.865 836.59 228.865 843.699 Q228.865 850.79 226.363 854.532 Q223.881 858.256 219.16 858.256 Q214.439 858.256 211.938 854.532 Q209.455 850.79 209.455 843.699 Q209.455 836.59 211.938 832.866 Q214.439 829.123 219.16 829.123 Z\" fill=\"#000000\" fill-rule=\"evenodd\" fill-opacity=\"1\" /><path clip-path=\"url(#clip770)\" d=\"M 0 0 M136.692 551.685 L144.331 551.685 L144.331 525.319 L136.021 526.986 L136.021 522.727 L144.285 521.06 L148.96 521.06 L148.96 551.685 L156.599 551.685 L156.599 555.62 L136.692 555.62 L136.692 551.685 Z\" fill=\"#000000\" fill-rule=\"evenodd\" fill-opacity=\"1\" /><path clip-path=\"url(#clip770)\" d=\"M 0 0 M171.669 524.139 Q168.058 524.139 166.229 527.704 Q164.423 531.245 164.423 538.375 Q164.423 545.481 166.229 549.046 Q168.058 552.588 171.669 552.588 Q175.303 552.588 177.108 549.046 Q178.937 545.481 178.937 538.375 Q178.937 531.245 177.108 527.704 Q175.303 524.139 171.669 524.139 M171.669 520.435 Q177.479 520.435 180.534 525.042 Q183.613 529.625 183.613 538.375 Q183.613 547.102 180.534 551.708 Q177.479 556.291 171.669 556.291 Q165.859 556.291 162.78 551.708 Q159.724 547.102 159.724 538.375 Q159.724 529.625 162.78 525.042 Q165.859 520.435 171.669 520.435 Z\" fill=\"#000000\" fill-rule=\"evenodd\" fill-opacity=\"1\" /><path clip-path=\"url(#clip770)\" d=\"M 0 0 M183.613 514.536 L207.725 514.536 L207.725 517.734 L183.613 517.734 L183.613 514.536 Z\" fill=\"#000000\" fill-rule=\"evenodd\" fill-opacity=\"1\" /><path clip-path=\"url(#clip770)\" d=\"M 0 0 M211.881 500.13 L226.796 500.13 L226.796 503.327 L215.361 503.327 L215.361 510.211 Q216.188 509.929 217.016 509.797 Q217.843 509.646 218.671 509.646 Q223.373 509.646 226.119 512.223 Q228.865 514.8 228.865 519.201 Q228.865 523.733 226.043 526.254 Q223.222 528.755 218.088 528.755 Q216.32 528.755 214.477 528.454 Q212.652 528.153 210.696 527.551 L210.696 523.733 Q212.389 524.655 214.195 525.106 Q216 525.558 218.012 525.558 Q221.266 525.558 223.166 523.846 Q225.065 522.135 225.065 519.201 Q225.065 516.267 223.166 514.555 Q221.266 512.844 218.012 512.844 Q216.489 512.844 214.966 513.182 Q213.461 513.521 211.881 514.236 L211.881 500.13 Z\" fill=\"#000000\" fill-rule=\"evenodd\" fill-opacity=\"1\" /><path clip-path=\"url(#clip770)\" d=\"M 0 0 M162.534 222.184 L170.173 222.184 L170.173 195.818 L161.863 197.485 L161.863 193.226 L170.126 191.559 L174.802 191.559 L174.802 222.184 L182.441 222.184 L182.441 226.119 L162.534 226.119 L162.534 222.184 Z\" fill=\"#000000\" fill-rule=\"evenodd\" fill-opacity=\"1\" /><path clip-path=\"url(#clip770)\" d=\"M 0 0 M197.511 194.638 Q193.899 194.638 192.071 198.202 Q190.265 201.744 190.265 208.874 Q190.265 215.98 192.071 219.545 Q193.899 223.087 197.511 223.087 Q201.145 223.087 202.95 219.545 Q204.779 215.98 204.779 208.874 Q204.779 201.744 202.95 198.202 Q201.145 194.638 197.511 194.638 M197.511 190.934 Q203.321 190.934 206.376 195.54 Q209.455 200.124 209.455 208.874 Q209.455 217.601 206.376 222.207 Q203.321 226.79 197.511 226.79 Q191.7 226.79 188.622 222.207 Q185.566 217.601 185.566 208.874 Q185.566 200.124 188.622 195.54 Q191.7 190.934 197.511 190.934 Z\" fill=\"#000000\" fill-rule=\"evenodd\" fill-opacity=\"1\" /><path clip-path=\"url(#clip770)\" d=\"M 0 0 M219.16 173.13 Q216.226 173.13 214.74 176.026 Q213.273 178.904 213.273 184.697 Q213.273 190.471 214.74 193.367 Q216.226 196.245 219.16 196.245 Q222.113 196.245 223.58 193.367 Q225.065 190.471 225.065 184.697 Q225.065 178.904 223.58 176.026 Q222.113 173.13 219.16 173.13 M219.16 170.121 Q223.881 170.121 226.363 173.864 Q228.865 177.587 228.865 184.697 Q228.865 191.787 226.363 195.53 Q223.881 199.254 219.16 199.254 Q214.439 199.254 211.938 195.53 Q209.455 191.787 209.455 184.697 Q209.455 177.587 211.938 173.864 Q214.439 170.121 219.16 170.121 Z\" fill=\"#000000\" fill-rule=\"evenodd\" fill-opacity=\"1\" /><path clip-path=\"url(#clip770)\" d=\"M 0 0 M57.8307 875.702 Q57.2578 876.689 57.0032 877.867 Q56.7167 879.013 56.7167 880.413 Q56.7167 885.378 59.9632 888.052 Q63.1779 890.694 69.2253 890.694 L88.0042 890.694 L88.0042 896.582 L52.3562 896.582 L52.3562 890.694 L57.8944 890.694 Q54.6479 888.848 53.0883 885.888 Q51.4968 882.928 51.4968 878.694 Q51.4968 878.09 51.5923 877.358 Q51.656 876.625 51.8151 875.734 L57.8307 875.702 Z\" fill=\"#000000\" fill-rule=\"evenodd\" fill-opacity=\"1\" /><path clip-path=\"url(#clip770)\" d=\"M 0 0 M68.7161 840.5 L71.5806 840.5 L71.5806 867.427 Q77.6281 867.045 80.8109 863.799 Q83.9619 860.52 83.9619 854.696 Q83.9619 851.322 83.1344 848.171 Q82.3069 844.988 80.6518 841.869 L86.1899 841.869 Q87.5267 845.02 88.227 848.33 Q88.9272 851.64 88.9272 855.046 Q88.9272 863.576 83.9619 868.573 Q78.9967 873.538 70.5303 873.538 Q61.7774 873.538 56.6531 868.827 Q51.4968 864.085 51.4968 856.064 Q51.4968 848.871 56.1438 844.701 Q60.7589 840.5 68.7161 840.5 M66.9973 846.357 Q62.1912 846.42 59.3266 849.062 Q56.4621 851.672 56.4621 856.001 Q56.4621 860.902 59.2312 863.862 Q62.0002 866.79 67.0292 867.236 L66.9973 846.357 Z\" fill=\"#000000\" fill-rule=\"evenodd\" fill-opacity=\"1\" /><path clip-path=\"url(#clip770)\" d=\"M 0 0 M53.4065 811.632 L58.9447 811.632 Q57.6716 814.114 57.035 816.788 Q56.3984 819.461 56.3984 822.326 Q56.3984 826.687 57.7352 828.883 Q59.072 831.047 61.7456 831.047 Q63.7826 831.047 64.9603 829.487 Q66.1061 827.928 67.1565 823.217 L67.6021 821.212 Q68.9389 814.974 71.3897 812.364 Q73.8086 809.722 78.1691 809.722 Q83.1344 809.722 86.0308 813.669 Q88.9272 817.584 88.9272 824.459 Q88.9272 827.323 88.3543 830.442 Q87.8132 833.53 86.6992 836.967 L80.6518 836.967 Q82.3387 833.721 83.198 830.57 Q84.0256 827.419 84.0256 824.331 Q84.0256 820.193 82.6251 817.966 Q81.1929 815.738 78.6147 815.738 Q76.2276 815.738 74.9545 817.361 Q73.6813 818.952 72.5037 824.395 L72.0262 826.432 Q70.8804 831.875 68.5251 834.294 Q66.138 836.713 62.0002 836.713 Q56.9713 836.713 54.2341 833.148 Q51.4968 829.583 51.4968 823.026 Q51.4968 819.78 51.9743 816.915 Q52.4517 814.051 53.4065 811.632 Z\" fill=\"#000000\" fill-rule=\"evenodd\" fill-opacity=\"1\" /><path clip-path=\"url(#clip770)\" d=\"M 0 0 M52.3562 803.579 L52.3562 797.723 L88.0042 797.723 L88.0042 803.579 L52.3562 803.579 M38.479 803.579 L38.479 797.723 L45.895 797.723 L45.895 803.579 L38.479 803.579 Z\" fill=\"#000000\" fill-rule=\"evenodd\" fill-opacity=\"1\" /><path clip-path=\"url(#clip770)\" d=\"M 0 0 M57.7671 768.122 L38.479 768.122 L38.479 762.266 L88.0042 762.266 L88.0042 768.122 L82.657 768.122 Q85.8398 769.968 87.3994 772.801 Q88.9272 775.602 88.9272 779.548 Q88.9272 786.01 83.771 790.084 Q78.6147 794.126 70.212 794.126 Q61.8093 794.126 56.6531 790.084 Q51.4968 786.01 51.4968 779.548 Q51.4968 775.602 53.0564 772.801 Q54.5842 769.968 57.7671 768.122 M70.212 788.079 Q76.6732 788.079 80.3653 785.437 Q84.0256 782.763 84.0256 778.116 Q84.0256 773.469 80.3653 770.796 Q76.6732 768.122 70.212 768.122 Q63.7508 768.122 60.0905 770.796 Q56.3984 773.469 56.3984 778.116 Q56.3984 782.763 60.0905 785.437 Q63.7508 788.079 70.212 788.079 Z\" fill=\"#000000\" fill-rule=\"evenodd\" fill-opacity=\"1\" /><path clip-path=\"url(#clip770)\" d=\"M 0 0 M73.9359 756.727 L52.3562 756.727 L52.3562 750.871 L73.7131 750.871 Q78.7739 750.871 81.3202 748.898 Q83.8346 746.924 83.8346 742.977 Q83.8346 738.235 80.8109 735.498 Q77.7872 732.729 72.5673 732.729 L52.3562 732.729 L52.3562 726.872 L88.0042 726.872 L88.0042 732.729 L82.5296 732.729 Q85.7762 734.861 87.3676 737.694 Q88.9272 740.495 88.9272 744.219 Q88.9272 750.362 85.1078 753.545 Q81.2883 756.727 73.9359 756.727 M51.4968 741.991 L51.4968 741.991 Z\" fill=\"#000000\" fill-rule=\"evenodd\" fill-opacity=\"1\" /><path clip-path=\"url(#clip770)\" d=\"M 0 0 M70.0847 704.529 Q70.0847 711.626 71.7079 714.364 Q73.3312 717.101 77.2461 717.101 Q80.3653 717.101 82.2114 715.064 Q84.0256 712.995 84.0256 709.462 Q84.0256 704.592 80.5881 701.664 Q77.1188 698.704 71.3897 698.704 L70.0847 698.704 L70.0847 704.529 M67.6657 692.848 L88.0042 692.848 L88.0042 698.704 L82.5933 698.704 Q85.8398 700.709 87.3994 703.701 Q88.9272 706.693 88.9272 711.022 Q88.9272 716.496 85.8716 719.743 Q82.7843 722.957 77.6281 722.957 Q71.6125 722.957 68.5569 718.947 Q65.5014 714.905 65.5014 706.916 L65.5014 698.704 L64.9285 698.704 Q60.8862 698.704 58.6901 701.378 Q56.4621 704.019 56.4621 708.825 Q56.4621 711.881 57.1941 714.777 Q57.9262 717.674 59.3903 720.347 L53.9795 720.347 Q52.7381 717.133 52.1334 714.109 Q51.4968 711.085 51.4968 708.221 Q51.4968 700.486 55.5072 696.667 Q59.5176 692.848 67.6657 692.848 Z\" fill=\"#000000\" fill-rule=\"evenodd\" fill-opacity=\"1\" /><path clip-path=\"url(#clip770)\" d=\"M 0 0 M38.479 686.705 L38.479 680.848 L88.0042 680.848 L88.0042 686.705 L38.479 686.705 Z\" fill=\"#000000\" fill-rule=\"evenodd\" fill-opacity=\"1\" /><path clip-path=\"url(#clip770)\" d=\"M 0 0 M53.4065 651.98 L58.9447 651.98 Q57.6716 654.462 57.035 657.136 Q56.3984 659.81 56.3984 662.674 Q56.3984 667.035 57.7352 669.231 Q59.072 671.395 61.7456 671.395 Q63.7826 671.395 64.9603 669.836 Q66.1061 668.276 67.1565 663.565 L67.6021 661.56 Q68.9389 655.322 71.3897 652.712 Q73.8086 650.07 78.1691 650.07 Q83.1344 650.07 86.0308 654.017 Q88.9272 657.932 88.9272 664.807 Q88.9272 667.671 88.3543 670.79 Q87.8132 673.878 86.6992 677.315 L80.6518 677.315 Q82.3387 674.069 83.198 670.918 Q84.0256 667.767 84.0256 664.679 Q84.0256 660.542 82.6251 658.314 Q81.1929 656.086 78.6147 656.086 Q76.2276 656.086 74.9545 657.709 Q73.6813 659.3 72.5037 664.743 L72.0262 666.78 Q70.8804 672.223 68.5251 674.642 Q66.138 677.061 62.0002 677.061 Q56.9713 677.061 54.2341 673.496 Q51.4968 669.931 51.4968 663.374 Q51.4968 660.128 51.9743 657.263 Q52.4517 654.399 53.4065 651.98 Z\" fill=\"#000000\" fill-rule=\"evenodd\" fill-opacity=\"1\" /><path clip-path=\"url(#clip770)\" d=\"M 0 0 M478.739 16.7545 L478.739 25.383 Q474.608 21.5346 469.908 19.6307 Q465.25 17.7268 459.984 17.7268 Q449.613 17.7268 444.104 24.0867 Q438.595 30.4061 438.595 42.3968 Q438.595 54.3469 444.104 60.7069 Q449.613 67.0263 459.984 67.0263 Q465.25 67.0263 469.908 65.1223 Q474.608 63.2184 478.739 59.3701 L478.739 67.9175 Q474.445 70.8341 469.625 72.2924 Q464.845 73.7508 459.498 73.7508 Q445.765 73.7508 437.866 65.3654 Q429.967 56.9395 429.967 42.3968 Q429.967 27.8135 437.866 19.4281 Q445.765 11.0023 459.498 11.0023 Q464.926 11.0023 469.706 12.4606 Q474.527 13.8784 478.739 16.7545 Z\" fill=\"#000000\" fill-rule=\"evenodd\" fill-opacity=\"1\" /><path clip-path=\"url(#clip770)\" d=\"M 0 0 M504.139 32.4315 Q498.143 32.4315 494.66 37.1306 Q491.176 41.7891 491.176 49.9314 Q491.176 58.0738 494.619 62.7728 Q498.103 67.4314 504.139 67.4314 Q510.093 67.4314 513.577 62.7323 Q517.061 58.0333 517.061 49.9314 Q517.061 41.8701 513.577 37.1711 Q510.093 32.4315 504.139 32.4315 M504.139 26.1121 Q513.861 26.1121 519.411 32.4315 Q524.96 38.7509 524.96 49.9314 Q524.96 61.0714 519.411 67.4314 Q513.861 73.7508 504.139 73.7508 Q494.376 73.7508 488.826 67.4314 Q483.317 61.0714 483.317 49.9314 Q483.317 38.7509 488.826 32.4315 Q494.376 26.1121 504.139 26.1121 Z\" fill=\"#000000\" fill-rule=\"evenodd\" fill-opacity=\"1\" /><path clip-path=\"url(#clip770)\" d=\"M 0 0 M570.492 45.1919 L570.492 72.576 L563.039 72.576 L563.039 45.4349 Q563.039 38.994 560.527 35.7938 Q558.016 32.5936 552.993 32.5936 Q546.957 32.5936 543.473 36.4419 Q539.989 40.2903 539.989 46.9338 L539.989 72.576 L532.495 72.576 L532.495 27.2059 L539.989 27.2059 L539.989 34.2544 Q542.663 30.163 546.268 28.1376 Q549.914 26.1121 554.653 26.1121 Q562.472 26.1121 566.482 30.9732 Q570.492 35.7938 570.492 45.1919 Z\" fill=\"#000000\" fill-rule=\"evenodd\" fill-opacity=\"1\" /><path clip-path=\"url(#clip770)\" d=\"M 0 0 M572.963 27.2059 L580.863 27.2059 L595.041 65.2844 L609.219 27.2059 L617.118 27.2059 L600.105 72.576 L589.977 72.576 L572.963 27.2059 Z\" fill=\"#000000\" fill-rule=\"evenodd\" fill-opacity=\"1\" /><path clip-path=\"url(#clip770)\" d=\"M 0 0 M663.744 48.0275 L663.744 51.6733 L629.474 51.6733 Q629.96 59.3701 634.092 63.421 Q638.264 67.4314 645.677 67.4314 Q649.971 67.4314 653.982 66.3781 Q658.032 65.3249 662.002 63.2184 L662.002 70.267 Q657.992 71.9684 653.779 72.8596 Q649.566 73.7508 645.232 73.7508 Q634.375 73.7508 628.015 67.4314 Q621.696 61.1119 621.696 50.3365 Q621.696 39.1965 627.691 32.6746 Q633.727 26.1121 643.935 26.1121 Q653.09 26.1121 658.397 32.0264 Q663.744 37.9003 663.744 48.0275 M656.291 45.84 Q656.21 39.7232 652.847 36.0774 Q649.526 32.4315 644.016 32.4315 Q637.778 32.4315 634.011 35.9558 Q630.284 39.4801 629.717 45.8805 L656.291 45.84 Z\" fill=\"#000000\" fill-rule=\"evenodd\" fill-opacity=\"1\" /><path clip-path=\"url(#clip770)\" d=\"M 0 0 M697.853 34.1734 Q696.597 33.4443 695.098 33.1202 Q693.64 32.7556 691.858 32.7556 Q685.538 32.7556 682.135 36.8875 Q678.773 40.9789 678.773 48.6757 L678.773 72.576 L671.279 72.576 L671.279 27.2059 L678.773 27.2059 L678.773 34.2544 Q681.123 30.1225 684.89 28.1376 Q688.657 26.1121 694.045 26.1121 Q694.815 26.1121 695.746 26.2337 Q696.678 26.3147 697.812 26.5172 L697.853 34.1734 Z\" fill=\"#000000\" fill-rule=\"evenodd\" fill-opacity=\"1\" /><path clip-path=\"url(#clip770)\" d=\"M 0 0 M734.068 49.3643 Q734.068 41.2625 730.706 36.8065 Q727.384 32.3505 721.348 32.3505 Q715.353 32.3505 711.991 36.8065 Q708.669 41.2625 708.669 49.3643 Q708.669 57.4256 711.991 61.8816 Q715.353 66.3376 721.348 66.3376 Q727.384 66.3376 730.706 61.8816 Q734.068 57.4256 734.068 49.3643 M741.522 66.9452 Q741.522 78.5308 736.377 84.1616 Q731.232 89.8329 720.619 89.8329 Q716.69 89.8329 713.206 89.2252 Q709.722 88.6581 706.441 87.4428 L706.441 80.1917 Q709.722 81.9741 712.922 82.8248 Q716.122 83.6755 719.444 83.6755 Q726.776 83.6755 730.422 79.8271 Q734.068 76.0193 734.068 68.282 L734.068 64.5957 Q731.759 68.6061 728.154 70.5911 Q724.548 72.576 719.525 72.576 Q711.18 72.576 706.076 66.2161 Q700.972 59.8562 700.972 49.3643 Q700.972 38.832 706.076 32.472 Q711.18 26.1121 719.525 26.1121 Q724.548 26.1121 728.154 28.0971 Q731.759 30.082 734.068 34.0924 L734.068 27.2059 L741.522 27.2059 L741.522 66.9452 Z\" fill=\"#000000\" fill-rule=\"evenodd\" fill-opacity=\"1\" /><path clip-path=\"url(#clip770)\" d=\"M 0 0 M788.148 48.0275 L788.148 51.6733 L753.877 51.6733 Q754.363 59.3701 758.495 63.421 Q762.667 67.4314 770.08 67.4314 Q774.374 67.4314 778.385 66.3781 Q782.436 65.3249 786.406 63.2184 L786.406 70.267 Q782.395 71.9684 778.182 72.8596 Q773.969 73.7508 769.635 73.7508 Q758.778 73.7508 752.419 67.4314 Q746.099 61.1119 746.099 50.3365 Q746.099 39.1965 752.094 32.6746 Q758.13 26.1121 768.339 26.1121 Q777.494 26.1121 782.8 32.0264 Q788.148 37.9003 788.148 48.0275 M780.694 45.84 Q780.613 39.7232 777.251 36.0774 Q773.929 32.4315 768.42 32.4315 Q762.181 32.4315 758.414 35.9558 Q754.687 39.4801 754.12 45.8805 L780.694 45.84 Z\" fill=\"#000000\" fill-rule=\"evenodd\" fill-opacity=\"1\" /><path clip-path=\"url(#clip770)\" d=\"M 0 0 M833.68 45.1919 L833.68 72.576 L826.226 72.576 L826.226 45.4349 Q826.226 38.994 823.714 35.7938 Q821.203 32.5936 816.18 32.5936 Q810.144 32.5936 806.66 36.4419 Q803.176 40.2903 803.176 46.9338 L803.176 72.576 L795.682 72.576 L795.682 27.2059 L803.176 27.2059 L803.176 34.2544 Q805.85 30.163 809.455 28.1376 Q813.101 26.1121 817.841 26.1121 Q825.659 26.1121 829.669 30.9732 Q833.68 35.7938 833.68 45.1919 Z\" fill=\"#000000\" fill-rule=\"evenodd\" fill-opacity=\"1\" /><path clip-path=\"url(#clip770)\" d=\"M 0 0 M874.148 28.9478 L874.148 35.9153 Q870.989 34.1734 867.788 33.3227 Q864.629 32.4315 861.388 32.4315 Q854.137 32.4315 850.126 37.0496 Q846.116 41.6271 846.116 49.9314 Q846.116 58.2358 850.126 62.8538 Q854.137 67.4314 861.388 67.4314 Q864.629 67.4314 867.788 66.5807 Q870.989 65.6895 874.148 63.9476 L874.148 70.8341 Q871.029 72.2924 867.667 73.0216 Q864.345 73.7508 860.578 73.7508 Q850.329 73.7508 844.293 67.3098 Q838.257 60.8689 838.257 49.9314 Q838.257 38.832 844.334 32.472 Q850.45 26.1121 861.064 26.1121 Q864.507 26.1121 867.788 26.8413 Q871.07 27.5299 874.148 28.9478 Z\" fill=\"#000000\" fill-rule=\"evenodd\" fill-opacity=\"1\" /><path clip-path=\"url(#clip770)\" d=\"M 0 0 M920.774 48.0275 L920.774 51.6733 L886.503 51.6733 Q886.99 59.3701 891.122 63.421 Q895.294 67.4314 902.707 67.4314 Q907.001 67.4314 911.011 66.3781 Q915.062 65.3249 919.032 63.2184 L919.032 70.267 Q915.022 71.9684 910.809 72.8596 Q906.596 73.7508 902.261 73.7508 Q891.405 73.7508 885.045 67.4314 Q878.726 61.1119 878.726 50.3365 Q878.726 39.1965 884.721 32.6746 Q890.757 26.1121 900.965 26.1121 Q910.12 26.1121 915.427 32.0264 Q920.774 37.9003 920.774 48.0275 M913.32 45.84 Q913.239 39.7232 909.877 36.0774 Q906.555 32.4315 901.046 32.4315 Q894.808 32.4315 891.04 35.9558 Q887.314 39.4801 886.747 45.8805 L913.32 45.84 Z\" fill=\"#000000\" fill-rule=\"evenodd\" fill-opacity=\"1\" /><path clip-path=\"url(#clip770)\" d=\"M 0 0 M949.617 27.2059 L957.516 27.2059 L971.694 65.2844 L985.872 27.2059 L993.771 27.2059 L976.758 72.576 L966.63 72.576 L949.617 27.2059 Z\" fill=\"#000000\" fill-rule=\"evenodd\" fill-opacity=\"1\" /><path clip-path=\"url(#clip770)\" d=\"M 0 0 M1030.51 28.5427 L1030.51 35.5912 Q1027.35 33.9709 1023.95 33.1607 Q1020.55 32.3505 1016.9 32.3505 Q1011.35 32.3505 1008.56 34.0519 Q1005.8 35.7533 1005.8 39.156 Q1005.8 41.7486 1007.79 43.2475 Q1009.77 44.7058 1015.77 46.0426 L1018.32 46.6097 Q1026.26 48.3111 1029.58 51.4303 Q1032.94 54.509 1032.94 60.0587 Q1032.94 66.3781 1027.92 70.0644 Q1022.94 73.7508 1014.19 73.7508 Q1010.54 73.7508 1006.57 73.0216 Q1002.64 72.3329 998.268 70.9151 L998.268 63.2184 Q1002.4 65.3654 1006.41 66.4591 Q1010.42 67.5124 1014.35 67.5124 Q1019.62 67.5124 1022.45 65.73 Q1025.29 63.9071 1025.29 60.6258 Q1025.29 57.5877 1023.22 55.9673 Q1021.2 54.3469 1014.27 52.8481 L1011.68 52.2405 Q1004.75 50.7821 1001.67 47.7845 Q998.592 44.7463 998.592 39.4801 Q998.592 33.0797 1003.13 29.5959 Q1007.67 26.1121 1016.01 26.1121 Q1020.14 26.1121 1023.79 26.7198 Q1027.43 27.3274 1030.51 28.5427 Z\" fill=\"#000000\" fill-rule=\"evenodd\" fill-opacity=\"1\" /><path clip-path=\"url(#clip770)\" d=\"M 0 0 M1067.13 27.2059 L1074.59 27.2059 L1074.59 72.576 L1067.13 72.576 L1067.13 27.2059 M1067.13 9.54393 L1074.59 9.54393 L1074.59 18.9825 L1067.13 18.9825 L1067.13 9.54393 Z\" fill=\"#000000\" fill-rule=\"evenodd\" fill-opacity=\"1\" /><path clip-path=\"url(#clip770)\" d=\"M 0 0 M1089.78 14.324 L1089.78 27.2059 L1105.13 27.2059 L1105.13 32.9987 L1089.78 32.9987 L1089.78 57.6282 Q1089.78 63.1779 1091.28 64.7578 Q1092.82 66.3376 1097.47 66.3376 L1105.13 66.3376 L1105.13 72.576 L1097.47 72.576 Q1088.85 72.576 1085.56 69.3758 Q1082.28 66.1351 1082.28 57.6282 L1082.28 32.9987 L1076.81 32.9987 L1076.81 27.2059 L1082.28 27.2059 L1082.28 14.324 L1089.78 14.324 Z\" fill=\"#000000\" fill-rule=\"evenodd\" fill-opacity=\"1\" /><path clip-path=\"url(#clip770)\" d=\"M 0 0 M1151.76 48.0275 L1151.76 51.6733 L1117.49 51.6733 Q1117.97 59.3701 1122.1 63.421 Q1126.28 67.4314 1133.69 67.4314 Q1137.98 67.4314 1141.99 66.3781 Q1146.04 65.3249 1150.01 63.2184 L1150.01 70.267 Q1146 71.9684 1141.79 72.8596 Q1137.58 73.7508 1133.24 73.7508 Q1122.39 73.7508 1116.03 67.4314 Q1109.71 61.1119 1109.71 50.3365 Q1109.71 39.1965 1115.7 32.6746 Q1121.74 26.1121 1131.95 26.1121 Q1141.1 26.1121 1146.41 32.0264 Q1151.76 37.9003 1151.76 48.0275 M1144.3 45.84 Q1144.22 39.7232 1140.86 36.0774 Q1137.54 32.4315 1132.03 32.4315 Q1125.79 32.4315 1122.02 35.9558 Q1118.3 39.4801 1117.73 45.8805 L1144.3 45.84 Z\" fill=\"#000000\" fill-rule=\"evenodd\" fill-opacity=\"1\" /><path clip-path=\"url(#clip770)\" d=\"M 0 0 M1185.87 34.1734 Q1184.61 33.4443 1183.11 33.1202 Q1181.65 32.7556 1179.87 32.7556 Q1173.55 32.7556 1170.15 36.8875 Q1166.79 40.9789 1166.79 48.6757 L1166.79 72.576 L1159.29 72.576 L1159.29 27.2059 L1166.79 27.2059 L1166.79 34.2544 Q1169.14 30.1225 1172.9 28.1376 Q1176.67 26.1121 1182.06 26.1121 Q1182.83 26.1121 1183.76 26.2337 Q1184.69 26.3147 1185.82 26.5172 L1185.87 34.1734 Z\" fill=\"#000000\" fill-rule=\"evenodd\" fill-opacity=\"1\" /><path clip-path=\"url(#clip770)\" d=\"M 0 0 M1214.3 49.7694 Q1205.27 49.7694 1201.79 51.8354 Q1198.3 53.9013 1198.3 58.8839 Q1198.3 62.8538 1200.89 65.2034 Q1203.53 67.5124 1208.02 67.5124 Q1214.22 67.5124 1217.95 63.1374 Q1221.72 58.7219 1221.72 51.4303 L1221.72 49.7694 L1214.3 49.7694 M1229.17 46.6907 L1229.17 72.576 L1221.72 72.576 L1221.72 65.6895 Q1219.16 69.8214 1215.36 71.8063 Q1211.55 73.7508 1206.04 73.7508 Q1199.07 73.7508 1194.94 69.8619 Q1190.85 65.9325 1190.85 59.3701 Q1190.85 51.7138 1195.95 47.825 Q1201.1 43.9361 1211.26 43.9361 L1221.72 43.9361 L1221.72 43.2069 Q1221.72 38.0623 1218.31 35.2672 Q1214.95 32.4315 1208.83 32.4315 Q1204.95 32.4315 1201.26 33.3632 Q1197.57 34.295 1194.17 36.1584 L1194.17 29.2718 Q1198.26 27.692 1202.11 26.9223 Q1205.96 26.1121 1209.6 26.1121 Q1219.45 26.1121 1224.31 31.2163 Q1229.17 36.3204 1229.17 46.6907 Z\" fill=\"#000000\" fill-rule=\"evenodd\" fill-opacity=\"1\" /><path clip-path=\"url(#clip770)\" d=\"M 0 0 M1244.36 14.324 L1244.36 27.2059 L1259.71 27.2059 L1259.71 32.9987 L1244.36 32.9987 L1244.36 57.6282 Q1244.36 63.1779 1245.86 64.7578 Q1247.4 66.3376 1252.06 66.3376 L1259.71 66.3376 L1259.71 72.576 L1252.06 72.576 Q1243.43 72.576 1240.15 69.3758 Q1236.87 66.1351 1236.87 57.6282 L1236.87 32.9987 L1231.4 32.9987 L1231.4 27.2059 L1236.87 27.2059 L1236.87 14.324 L1244.36 14.324 Z\" fill=\"#000000\" fill-rule=\"evenodd\" fill-opacity=\"1\" /><path clip-path=\"url(#clip770)\" d=\"M 0 0 M1267.53 27.2059 L1274.99 27.2059 L1274.99 72.576 L1267.53 72.576 L1267.53 27.2059 M1267.53 9.54393 L1274.99 9.54393 L1274.99 18.9825 L1267.53 18.9825 L1267.53 9.54393 Z\" fill=\"#000000\" fill-rule=\"evenodd\" fill-opacity=\"1\" /><path clip-path=\"url(#clip770)\" d=\"M 0 0 M1300.38 32.4315 Q1294.39 32.4315 1290.91 37.1306 Q1287.42 41.7891 1287.42 49.9314 Q1287.42 58.0738 1290.86 62.7728 Q1294.35 67.4314 1300.38 67.4314 Q1306.34 67.4314 1309.82 62.7323 Q1313.31 58.0333 1313.31 49.9314 Q1313.31 41.8701 1309.82 37.1711 Q1306.34 32.4315 1300.38 32.4315 M1300.38 26.1121 Q1310.11 26.1121 1315.66 32.4315 Q1321.21 38.7509 1321.21 49.9314 Q1321.21 61.0714 1315.66 67.4314 Q1310.11 73.7508 1300.38 73.7508 Q1290.62 73.7508 1285.07 67.4314 Q1279.56 61.0714 1279.56 49.9314 Q1279.56 38.7509 1285.07 32.4315 Q1290.62 26.1121 1300.38 26.1121 Z\" fill=\"#000000\" fill-rule=\"evenodd\" fill-opacity=\"1\" /><path clip-path=\"url(#clip770)\" d=\"M 0 0 M1366.74 45.1919 L1366.74 72.576 L1359.28 72.576 L1359.28 45.4349 Q1359.28 38.994 1356.77 35.7938 Q1354.26 32.5936 1349.24 32.5936 Q1343.2 32.5936 1339.72 36.4419 Q1336.23 40.2903 1336.23 46.9338 L1336.23 72.576 L1328.74 72.576 L1328.74 27.2059 L1336.23 27.2059 L1336.23 34.2544 Q1338.91 30.163 1342.51 28.1376 Q1346.16 26.1121 1350.9 26.1121 Q1358.72 26.1121 1362.73 30.9732 Q1366.74 35.7938 1366.74 45.1919 Z\" fill=\"#000000\" fill-rule=\"evenodd\" fill-opacity=\"1\" /><path clip-path=\"url(#clip770)\" d=\"M 0 0 M1376.46 62.2867 L1385.01 62.2867 L1385.01 72.576 L1376.46 72.576 L1376.46 62.2867 M1376.46 29.6769 L1385.01 29.6769 L1385.01 39.9662 L1376.46 39.9662 L1376.46 29.6769 Z\" fill=\"#000000\" fill-rule=\"evenodd\" fill-opacity=\"1\" /><path clip-path=\"url(#clip770)\" d=\"M 0 0 M1460.76 63.9476 L1460.76 47.7034 L1447.39 47.7034 L1447.39 40.9789 L1468.86 40.9789 L1468.86 66.9452 Q1464.12 70.3075 1458.41 72.0494 Q1452.7 73.7508 1446.22 73.7508 Q1432.04 73.7508 1424.02 65.4869 Q1416.04 57.1826 1416.04 42.3968 Q1416.04 27.5705 1424.02 19.3066 Q1432.04 11.0023 1446.22 11.0023 Q1452.13 11.0023 1457.44 12.4606 Q1462.79 13.9189 1467.28 16.7545 L1467.28 25.464 Q1462.74 21.6156 1457.64 19.6712 Q1452.54 17.7268 1446.91 17.7268 Q1435.81 17.7268 1430.22 23.9246 Q1424.67 30.1225 1424.67 42.3968 Q1424.67 54.6305 1430.22 60.8284 Q1435.81 67.0263 1446.91 67.0263 Q1451.24 67.0263 1454.64 66.2971 Q1458.05 65.5274 1460.76 63.9476 Z\" fill=\"#000000\" fill-rule=\"evenodd\" fill-opacity=\"1\" /><path clip-path=\"url(#clip770)\" d=\"M 0 0 M1502.97 34.1734 Q1501.71 33.4443 1500.22 33.1202 Q1498.76 32.7556 1496.97 32.7556 Q1490.66 32.7556 1487.25 36.8875 Q1483.89 40.9789 1483.89 48.6757 L1483.89 72.576 L1476.4 72.576 L1476.4 27.2059 L1483.89 27.2059 L1483.89 34.2544 Q1486.24 30.1225 1490.01 28.1376 Q1493.77 26.1121 1499.16 26.1121 Q1499.93 26.1121 1500.86 26.2337 Q1501.8 26.3147 1502.93 26.5172 L1502.97 34.1734 Z\" fill=\"#000000\" fill-rule=\"evenodd\" fill-opacity=\"1\" /><path clip-path=\"url(#clip770)\" d=\"M 0 0 M1531.41 49.7694 Q1522.37 49.7694 1518.89 51.8354 Q1515.41 53.9013 1515.41 58.8839 Q1515.41 62.8538 1518 65.2034 Q1520.63 67.5124 1525.13 67.5124 Q1531.33 67.5124 1535.05 63.1374 Q1538.82 58.7219 1538.82 51.4303 L1538.82 49.7694 L1531.41 49.7694 M1546.27 46.6907 L1546.27 72.576 L1538.82 72.576 L1538.82 65.6895 Q1536.27 69.8214 1532.46 71.8063 Q1528.65 73.7508 1523.14 73.7508 Q1516.18 73.7508 1512.04 69.8619 Q1507.95 65.9325 1507.95 59.3701 Q1507.95 51.7138 1513.06 47.825 Q1518.2 43.9361 1528.37 43.9361 L1538.82 43.9361 L1538.82 43.2069 Q1538.82 38.0623 1535.42 35.2672 Q1532.06 32.4315 1525.94 32.4315 Q1522.05 32.4315 1518.36 33.3632 Q1514.68 34.295 1511.27 36.1584 L1511.27 29.2718 Q1515.37 27.692 1519.21 26.9223 Q1523.06 26.1121 1526.71 26.1121 Q1536.55 26.1121 1541.41 31.2163 Q1546.27 36.3204 1546.27 46.6907 Z\" fill=\"#000000\" fill-rule=\"evenodd\" fill-opacity=\"1\" /><path clip-path=\"url(#clip770)\" d=\"M 0 0 M1583.95 34.0924 L1583.95 9.54393 L1591.4 9.54393 L1591.4 72.576 L1583.95 72.576 L1583.95 65.7705 Q1581.6 69.8214 1577.99 71.8063 Q1574.43 73.7508 1569.4 73.7508 Q1561.18 73.7508 1556 67.1883 Q1550.85 60.6258 1550.85 49.9314 Q1550.85 39.2371 1556 32.6746 Q1561.18 26.1121 1569.4 26.1121 Q1574.43 26.1121 1577.99 28.0971 Q1581.6 30.0415 1583.95 34.0924 M1558.55 49.9314 Q1558.55 58.1548 1561.91 62.8538 Q1565.31 67.5124 1571.23 67.5124 Q1577.14 67.5124 1580.54 62.8538 Q1583.95 58.1548 1583.95 49.9314 Q1583.95 41.7081 1580.54 37.0496 Q1577.14 32.3505 1571.23 32.3505 Q1565.31 32.3505 1561.91 37.0496 Q1558.55 41.7081 1558.55 49.9314 Z\" fill=\"#000000\" fill-rule=\"evenodd\" fill-opacity=\"1\" /><path clip-path=\"url(#clip770)\" d=\"M 0 0 M1599.22 27.2059 L1606.67 27.2059 L1606.67 72.576 L1599.22 72.576 L1599.22 27.2059 M1599.22 9.54393 L1606.67 9.54393 L1606.67 18.9825 L1599.22 18.9825 L1599.22 9.54393 Z\" fill=\"#000000\" fill-rule=\"evenodd\" fill-opacity=\"1\" /><path clip-path=\"url(#clip770)\" d=\"M 0 0 M1653.3 48.0275 L1653.3 51.6733 L1619.03 51.6733 Q1619.51 59.3701 1623.65 63.421 Q1627.82 67.4314 1635.23 67.4314 Q1639.53 67.4314 1643.54 66.3781 Q1647.59 65.3249 1651.56 63.2184 L1651.56 70.267 Q1647.55 71.9684 1643.33 72.8596 Q1639.12 73.7508 1634.79 73.7508 Q1623.93 73.7508 1617.57 67.4314 Q1611.25 61.1119 1611.25 50.3365 Q1611.25 39.1965 1617.25 32.6746 Q1623.28 26.1121 1633.49 26.1121 Q1642.65 26.1121 1647.95 32.0264 Q1653.3 37.9003 1653.3 48.0275 M1645.85 45.84 Q1645.76 39.7232 1642.4 36.0774 Q1639.08 32.4315 1633.57 32.4315 Q1627.33 32.4315 1623.57 35.9558 Q1619.84 39.4801 1619.27 45.8805 L1645.85 45.84 Z\" fill=\"#000000\" fill-rule=\"evenodd\" fill-opacity=\"1\" /><path clip-path=\"url(#clip770)\" d=\"M 0 0 M1698.83 45.1919 L1698.83 72.576 L1691.38 72.576 L1691.38 45.4349 Q1691.38 38.994 1688.87 35.7938 Q1686.35 32.5936 1681.33 32.5936 Q1675.3 32.5936 1671.81 36.4419 Q1668.33 40.2903 1668.33 46.9338 L1668.33 72.576 L1660.83 72.576 L1660.83 27.2059 L1668.33 27.2059 L1668.33 34.2544 Q1671 30.163 1674.61 28.1376 Q1678.25 26.1121 1682.99 26.1121 Q1690.81 26.1121 1694.82 30.9732 Q1698.83 35.7938 1698.83 45.1919 Z\" fill=\"#000000\" fill-rule=\"evenodd\" fill-opacity=\"1\" /><path clip-path=\"url(#clip770)\" d=\"M 0 0 M1714.02 14.324 L1714.02 27.2059 L1729.38 27.2059 L1729.38 32.9987 L1714.02 32.9987 L1714.02 57.6282 Q1714.02 63.1779 1715.52 64.7578 Q1717.06 66.3376 1721.72 66.3376 L1729.38 66.3376 L1729.38 72.576 L1721.72 72.576 Q1713.09 72.576 1709.81 69.3758 Q1706.53 66.1351 1706.53 57.6282 L1706.53 32.9987 L1701.06 32.9987 L1701.06 27.2059 L1706.53 27.2059 L1706.53 14.324 L1714.02 14.324 Z\" fill=\"#000000\" fill-rule=\"evenodd\" fill-opacity=\"1\" /><path clip-path=\"url(#clip770)\" d=\"M 0 0 M1776 48.0275 L1776 51.6733 L1741.73 51.6733 Q1742.22 59.3701 1746.35 63.421 Q1750.52 67.4314 1757.93 67.4314 Q1762.23 67.4314 1766.24 66.3781 Q1770.29 65.3249 1774.26 63.2184 L1774.26 70.267 Q1770.25 71.9684 1766.04 72.8596 Q1761.82 73.7508 1757.49 73.7508 Q1746.63 73.7508 1740.27 67.4314 Q1733.95 61.1119 1733.95 50.3365 Q1733.95 39.1965 1739.95 32.6746 Q1745.98 26.1121 1756.19 26.1121 Q1765.35 26.1121 1770.65 32.0264 Q1776 37.9003 1776 48.0275 M1768.55 45.84 Q1768.47 39.7232 1765.1 36.0774 Q1761.78 32.4315 1756.27 32.4315 Q1750.03 32.4315 1746.27 35.9558 Q1742.54 39.4801 1741.97 45.8805 L1768.55 45.84 Z\" fill=\"#000000\" fill-rule=\"evenodd\" fill-opacity=\"1\" /><path clip-path=\"url(#clip770)\" d=\"M 0 0 M1855.8 16.7545 L1855.8 25.383 Q1851.67 21.5346 1846.97 19.6307 Q1842.31 17.7268 1837.05 17.7268 Q1826.68 17.7268 1821.17 24.0867 Q1815.66 30.4061 1815.66 42.3968 Q1815.66 54.3469 1821.17 60.7069 Q1826.68 67.0263 1837.05 67.0263 Q1842.31 67.0263 1846.97 65.1223 Q1851.67 63.2184 1855.8 59.3701 L1855.8 67.9175 Q1851.51 70.8341 1846.69 72.2924 Q1841.91 73.7508 1836.56 73.7508 Q1822.83 73.7508 1814.93 65.3654 Q1807.03 56.9395 1807.03 42.3968 Q1807.03 27.8135 1814.93 19.4281 Q1822.83 11.0023 1836.56 11.0023 Q1841.99 11.0023 1846.77 12.4606 Q1851.59 13.8784 1855.8 16.7545 Z\" fill=\"#000000\" fill-rule=\"evenodd\" fill-opacity=\"1\" /><path clip-path=\"url(#clip770)\" d=\"M 0 0 M1881.2 32.4315 Q1875.21 32.4315 1871.72 37.1306 Q1868.24 41.7891 1868.24 49.9314 Q1868.24 58.0738 1871.68 62.7728 Q1875.17 67.4314 1881.2 67.4314 Q1887.16 67.4314 1890.64 62.7323 Q1894.13 58.0333 1894.13 49.9314 Q1894.13 41.8701 1890.64 37.1711 Q1887.16 32.4315 1881.2 32.4315 M1881.2 26.1121 Q1890.93 26.1121 1896.47 32.4315 Q1902.02 38.7509 1902.02 49.9314 Q1902.02 61.0714 1896.47 67.4314 Q1890.93 73.7508 1881.2 73.7508 Q1871.44 73.7508 1865.89 67.4314 Q1860.38 61.0714 1860.38 49.9314 Q1860.38 38.7509 1865.89 32.4315 Q1871.44 26.1121 1881.2 26.1121 Z\" fill=\"#000000\" fill-rule=\"evenodd\" fill-opacity=\"1\" /><path clip-path=\"url(#clip770)\" d=\"M 0 0 M1947.56 45.1919 L1947.56 72.576 L1940.1 72.576 L1940.1 45.4349 Q1940.1 38.994 1937.59 35.7938 Q1935.08 32.5936 1930.06 32.5936 Q1924.02 32.5936 1920.54 36.4419 Q1917.05 40.2903 1917.05 46.9338 L1917.05 72.576 L1909.56 72.576 L1909.56 27.2059 L1917.05 27.2059 L1917.05 34.2544 Q1919.73 30.163 1923.33 28.1376 Q1926.98 26.1121 1931.72 26.1121 Q1939.54 26.1121 1943.55 30.9732 Q1947.56 35.7938 1947.56 45.1919 Z\" fill=\"#000000\" fill-rule=\"evenodd\" fill-opacity=\"1\" /><path clip-path=\"url(#clip770)\" d=\"M 0 0 M1955.38 27.2059 L1962.83 27.2059 L1962.83 73.3862 Q1962.83 82.0551 1959.51 85.944 Q1956.23 89.8329 1948.89 89.8329 L1946.06 89.8329 L1946.06 83.5134 L1948.04 83.5134 Q1952.3 83.5134 1953.84 81.5285 Q1955.38 79.5841 1955.38 73.3862 L1955.38 27.2059 M1955.38 9.54393 L1962.83 9.54393 L1962.83 18.9825 L1955.38 18.9825 L1955.38 9.54393 Z\" fill=\"#000000\" fill-rule=\"evenodd\" fill-opacity=\"1\" /><path clip-path=\"url(#clip770)\" d=\"M 0 0 M1969.88 54.671 L1969.88 27.2059 L1977.33 27.2059 L1977.33 54.3874 Q1977.33 60.8284 1979.84 64.0691 Q1982.35 67.2693 1987.38 67.2693 Q1993.41 67.2693 1996.9 63.421 Q2000.42 59.5726 2000.42 52.9291 L2000.42 27.2059 L2007.87 27.2059 L2007.87 72.576 L2000.42 72.576 L2000.42 65.6084 Q1997.71 69.7404 1994.1 71.7658 Q1990.54 73.7508 1985.8 73.7508 Q1977.98 73.7508 1973.93 68.8897 Q1969.88 64.0286 1969.88 54.671 M1988.63 26.1121 L1988.63 26.1121 Z\" fill=\"#000000\" fill-rule=\"evenodd\" fill-opacity=\"1\" /><path clip-path=\"url(#clip770)\" d=\"M 0 0 M2045.55 49.3643 Q2045.55 41.2625 2042.19 36.8065 Q2038.86 32.3505 2032.83 32.3505 Q2026.83 32.3505 2023.47 36.8065 Q2020.15 41.2625 2020.15 49.3643 Q2020.15 57.4256 2023.47 61.8816 Q2026.83 66.3376 2032.83 66.3376 Q2038.86 66.3376 2042.19 61.8816 Q2045.55 57.4256 2045.55 49.3643 M2053 66.9452 Q2053 78.5308 2047.86 84.1616 Q2042.71 89.8329 2032.1 89.8329 Q2028.17 89.8329 2024.69 89.2252 Q2021.2 88.6581 2017.92 87.4428 L2017.92 80.1917 Q2021.2 81.9741 2024.4 82.8248 Q2027.6 83.6755 2030.92 83.6755 Q2038.26 83.6755 2041.9 79.8271 Q2045.55 76.0193 2045.55 68.282 L2045.55 64.5957 Q2043.24 68.6061 2039.63 70.5911 Q2036.03 72.576 2031.01 72.576 Q2022.66 72.576 2017.56 66.2161 Q2012.45 59.8562 2012.45 49.3643 Q2012.45 38.832 2017.56 32.472 Q2022.66 26.1121 2031.01 26.1121 Q2036.03 26.1121 2039.63 28.0971 Q2043.24 30.082 2045.55 34.0924 L2045.55 27.2059 L2053 27.2059 L2053 66.9452 Z\" fill=\"#000000\" fill-rule=\"evenodd\" fill-opacity=\"1\" /><path clip-path=\"url(#clip770)\" d=\"M 0 0 M2081.44 49.7694 Q2072.41 49.7694 2068.92 51.8354 Q2065.44 53.9013 2065.44 58.8839 Q2065.44 62.8538 2068.03 65.2034 Q2070.66 67.5124 2075.16 67.5124 Q2081.36 67.5124 2085.09 63.1374 Q2088.85 58.7219 2088.85 51.4303 L2088.85 49.7694 L2081.44 49.7694 M2096.31 46.6907 L2096.31 72.576 L2088.85 72.576 L2088.85 65.6895 Q2086.3 69.8214 2082.49 71.8063 Q2078.68 73.7508 2073.18 73.7508 Q2066.21 73.7508 2062.08 69.8619 Q2057.98 65.9325 2057.98 59.3701 Q2057.98 51.7138 2063.09 47.825 Q2068.23 43.9361 2078.4 43.9361 L2088.85 43.9361 L2088.85 43.2069 Q2088.85 38.0623 2085.45 35.2672 Q2082.09 32.4315 2075.97 32.4315 Q2072.08 32.4315 2068.4 33.3632 Q2064.71 34.295 2061.31 36.1584 L2061.31 29.2718 Q2065.4 27.692 2069.25 26.9223 Q2073.09 26.1121 2076.74 26.1121 Q2086.58 26.1121 2091.44 31.2163 Q2096.31 36.3204 2096.31 46.6907 Z\" fill=\"#000000\" fill-rule=\"evenodd\" fill-opacity=\"1\" /><path clip-path=\"url(#clip770)\" d=\"M 0 0 M2133.98 34.0924 L2133.98 9.54393 L2141.43 9.54393 L2141.43 72.576 L2133.98 72.576 L2133.98 65.7705 Q2131.63 69.8214 2128.02 71.8063 Q2124.46 73.7508 2119.44 73.7508 Q2111.21 73.7508 2106.03 67.1883 Q2100.88 60.6258 2100.88 49.9314 Q2100.88 39.2371 2106.03 32.6746 Q2111.21 26.1121 2119.44 26.1121 Q2124.46 26.1121 2128.02 28.0971 Q2131.63 30.0415 2133.98 34.0924 M2108.58 49.9314 Q2108.58 58.1548 2111.94 62.8538 Q2115.35 67.5124 2121.26 67.5124 Q2127.17 67.5124 2130.58 62.8538 Q2133.98 58.1548 2133.98 49.9314 Q2133.98 41.7081 2130.58 37.0496 Q2127.17 32.3505 2121.26 32.3505 Q2115.35 32.3505 2111.94 37.0496 Q2108.58 41.7081 2108.58 49.9314 Z\" fill=\"#000000\" fill-rule=\"evenodd\" fill-opacity=\"1\" /><path clip-path=\"url(#clip770)\" d=\"M 0 0 M2166.83 32.4315 Q2160.84 32.4315 2157.35 37.1306 Q2153.87 41.7891 2153.87 49.9314 Q2153.87 58.0738 2157.31 62.7728 Q2160.8 67.4314 2166.83 67.4314 Q2172.79 67.4314 2176.27 62.7323 Q2179.75 58.0333 2179.75 49.9314 Q2179.75 41.8701 2176.27 37.1711 Q2172.79 32.4315 2166.83 32.4315 M2166.83 26.1121 Q2176.55 26.1121 2182.1 32.4315 Q2187.65 38.7509 2187.65 49.9314 Q2187.65 61.0714 2182.1 67.4314 Q2176.55 73.7508 2166.83 73.7508 Q2157.07 73.7508 2151.52 67.4314 Q2146.01 61.0714 2146.01 49.9314 Q2146.01 38.7509 2151.52 32.4315 Q2157.07 26.1121 2166.83 26.1121 Z\" fill=\"#000000\" fill-rule=\"evenodd\" fill-opacity=\"1\" /><circle clip-path=\"url(#clip772)\" cx=\"323.956\" cy=\"160.256\" r=\"14\" fill=\"#6b0851\" fill-rule=\"evenodd\" fill-opacity=\"1\" stroke=\"#000000\" stroke-opacity=\"1\" stroke-width=\"3.2\"/>\n",
       "<circle clip-path=\"url(#clip772)\" cx=\"652.241\" cy=\"185.157\" r=\"14\" fill=\"#6b0851\" fill-rule=\"evenodd\" fill-opacity=\"1\" stroke=\"#000000\" stroke-opacity=\"1\" stroke-width=\"3.2\"/>\n",
       "<circle clip-path=\"url(#clip772)\" cx=\"980.525\" cy=\"208.829\" r=\"14\" fill=\"#6b0851\" fill-rule=\"evenodd\" fill-opacity=\"1\" stroke=\"#000000\" stroke-opacity=\"1\" stroke-width=\"3.2\"/>\n",
       "<circle clip-path=\"url(#clip772)\" cx=\"1308.81\" cy=\"1234.77\" r=\"14\" fill=\"#6b0851\" fill-rule=\"evenodd\" fill-opacity=\"1\" stroke=\"#000000\" stroke-opacity=\"1\" stroke-width=\"3.2\"/>\n",
       "<circle clip-path=\"url(#clip772)\" cx=\"1637.1\" cy=\"1266.18\" r=\"14\" fill=\"#6b0851\" fill-rule=\"evenodd\" fill-opacity=\"1\" stroke=\"#000000\" stroke-opacity=\"1\" stroke-width=\"3.2\"/>\n",
       "<circle clip-path=\"url(#clip772)\" cx=\"1965.38\" cy=\"1296.71\" r=\"14\" fill=\"#6b0851\" fill-rule=\"evenodd\" fill-opacity=\"1\" stroke=\"#000000\" stroke-opacity=\"1\" stroke-width=\"3.2\"/>\n",
       "<circle clip-path=\"url(#clip772)\" cx=\"2293.66\" cy=\"1386.4\" r=\"14\" fill=\"#6b0851\" fill-rule=\"evenodd\" fill-opacity=\"1\" stroke=\"#000000\" stroke-opacity=\"1\" stroke-width=\"3.2\"/>\n",
       "<polyline clip-path=\"url(#clip772)\" style=\"stroke:#6b0851; stroke-width:4; stroke-opacity:1; fill:none\" points=\"\n",
       "  323.956,160.256 652.241,185.157 980.525,208.829 1308.81,1234.77 1637.1,1266.18 1965.38,1296.71 2293.66,1386.4 \n",
       "  \"/>\n",
       "</svg>\n"
      ]
     },
     "execution_count": 23,
     "metadata": {},
     "output_type": "execute_result"
    }
   ],
   "source": [
    "scatter(histGC, markersize=4, c=\"#6b0851\", leg=false)\n",
    "plot!(histGC, color=\"#6b0851\", leg=false )\n",
    "plot!(xaxis=(\"iterations\") , yaxis = (\"residuals\", :log))\n",
    "plot!(title=\"Convergence vs iteration: Gradiente Conjugado\")"
   ]
  }
 ],
 "metadata": {
  "kernelspec": {
   "display_name": "Julia 1.4.1",
   "language": "julia",
   "name": "julia-1.4"
  },
  "language_info": {
   "file_extension": ".jl",
   "mimetype": "application/julia",
   "name": "julia",
   "version": "1.4.1"
  }
 },
 "nbformat": 4,
 "nbformat_minor": 5
}
